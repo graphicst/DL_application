{
 "cells": [
  {
   "cell_type": "code",
   "execution_count": 1,
   "id": "c724f03d-0811-426c-8e28-7f9e3d33160f",
   "metadata": {},
   "outputs": [],
   "source": [
    "import numpy as np\n",
    "import pandas as pd\n",
    "import matplotlib.pyplot as plt\n",
    "import seaborn as sns\n",
    "from sklearn.metrics import f1_score, classification_report"
   ]
  },
  {
   "cell_type": "code",
   "execution_count": 2,
   "id": "2e806824-83de-43dc-9b0a-6082cbede0a6",
   "metadata": {},
   "outputs": [
    {
     "data": {
      "text/html": [
       "<div>\n",
       "<style scoped>\n",
       "    .dataframe tbody tr th:only-of-type {\n",
       "        vertical-align: middle;\n",
       "    }\n",
       "\n",
       "    .dataframe tbody tr th {\n",
       "        vertical-align: top;\n",
       "    }\n",
       "\n",
       "    .dataframe thead th {\n",
       "        text-align: right;\n",
       "    }\n",
       "</style>\n",
       "<table border=\"1\" class=\"dataframe\">\n",
       "  <thead>\n",
       "    <tr style=\"text-align: right;\">\n",
       "      <th></th>\n",
       "      <th>id</th>\n",
       "      <th>Sex</th>\n",
       "      <th>Length</th>\n",
       "      <th>Diameter</th>\n",
       "      <th>Height</th>\n",
       "      <th>Whole_weight</th>\n",
       "      <th>Shucked_weight</th>\n",
       "      <th>Viscera_weight</th>\n",
       "      <th>Shell_weight</th>\n",
       "      <th>Rings</th>\n",
       "    </tr>\n",
       "  </thead>\n",
       "  <tbody>\n",
       "    <tr>\n",
       "      <th>0</th>\n",
       "      <td>0</td>\n",
       "      <td>M</td>\n",
       "      <td>0.455</td>\n",
       "      <td>0.365</td>\n",
       "      <td>0.095</td>\n",
       "      <td>0.5140</td>\n",
       "      <td>0.2245</td>\n",
       "      <td>0.1010</td>\n",
       "      <td>0.1500</td>\n",
       "      <td>15</td>\n",
       "    </tr>\n",
       "    <tr>\n",
       "      <th>1</th>\n",
       "      <td>1</td>\n",
       "      <td>M</td>\n",
       "      <td>0.350</td>\n",
       "      <td>0.265</td>\n",
       "      <td>0.090</td>\n",
       "      <td>0.2255</td>\n",
       "      <td>0.0995</td>\n",
       "      <td>0.0485</td>\n",
       "      <td>0.0700</td>\n",
       "      <td>7</td>\n",
       "    </tr>\n",
       "    <tr>\n",
       "      <th>2</th>\n",
       "      <td>2</td>\n",
       "      <td>F</td>\n",
       "      <td>0.530</td>\n",
       "      <td>0.420</td>\n",
       "      <td>0.135</td>\n",
       "      <td>0.6770</td>\n",
       "      <td>0.2565</td>\n",
       "      <td>0.1415</td>\n",
       "      <td>0.2100</td>\n",
       "      <td>9</td>\n",
       "    </tr>\n",
       "    <tr>\n",
       "      <th>3</th>\n",
       "      <td>3</td>\n",
       "      <td>M</td>\n",
       "      <td>0.440</td>\n",
       "      <td>0.365</td>\n",
       "      <td>0.125</td>\n",
       "      <td>0.5160</td>\n",
       "      <td>0.2155</td>\n",
       "      <td>0.1140</td>\n",
       "      <td>0.1550</td>\n",
       "      <td>10</td>\n",
       "    </tr>\n",
       "    <tr>\n",
       "      <th>4</th>\n",
       "      <td>4</td>\n",
       "      <td>I</td>\n",
       "      <td>0.330</td>\n",
       "      <td>0.255</td>\n",
       "      <td>0.080</td>\n",
       "      <td>0.2050</td>\n",
       "      <td>0.0895</td>\n",
       "      <td>0.0395</td>\n",
       "      <td>0.0550</td>\n",
       "      <td>7</td>\n",
       "    </tr>\n",
       "    <tr>\n",
       "      <th>...</th>\n",
       "      <td>...</td>\n",
       "      <td>...</td>\n",
       "      <td>...</td>\n",
       "      <td>...</td>\n",
       "      <td>...</td>\n",
       "      <td>...</td>\n",
       "      <td>...</td>\n",
       "      <td>...</td>\n",
       "      <td>...</td>\n",
       "      <td>...</td>\n",
       "    </tr>\n",
       "    <tr>\n",
       "      <th>4172</th>\n",
       "      <td>4172</td>\n",
       "      <td>F</td>\n",
       "      <td>0.565</td>\n",
       "      <td>0.450</td>\n",
       "      <td>0.165</td>\n",
       "      <td>0.8870</td>\n",
       "      <td>0.3700</td>\n",
       "      <td>0.2390</td>\n",
       "      <td>0.2490</td>\n",
       "      <td>11</td>\n",
       "    </tr>\n",
       "    <tr>\n",
       "      <th>4173</th>\n",
       "      <td>4173</td>\n",
       "      <td>M</td>\n",
       "      <td>0.590</td>\n",
       "      <td>0.440</td>\n",
       "      <td>0.135</td>\n",
       "      <td>0.9660</td>\n",
       "      <td>0.4390</td>\n",
       "      <td>0.2145</td>\n",
       "      <td>0.2605</td>\n",
       "      <td>10</td>\n",
       "    </tr>\n",
       "    <tr>\n",
       "      <th>4174</th>\n",
       "      <td>4174</td>\n",
       "      <td>M</td>\n",
       "      <td>0.600</td>\n",
       "      <td>0.475</td>\n",
       "      <td>0.205</td>\n",
       "      <td>1.1760</td>\n",
       "      <td>0.5255</td>\n",
       "      <td>0.2875</td>\n",
       "      <td>0.3080</td>\n",
       "      <td>9</td>\n",
       "    </tr>\n",
       "    <tr>\n",
       "      <th>4175</th>\n",
       "      <td>4175</td>\n",
       "      <td>F</td>\n",
       "      <td>0.625</td>\n",
       "      <td>0.485</td>\n",
       "      <td>0.150</td>\n",
       "      <td>1.0945</td>\n",
       "      <td>0.5310</td>\n",
       "      <td>0.2610</td>\n",
       "      <td>0.2960</td>\n",
       "      <td>10</td>\n",
       "    </tr>\n",
       "    <tr>\n",
       "      <th>4176</th>\n",
       "      <td>4176</td>\n",
       "      <td>M</td>\n",
       "      <td>0.710</td>\n",
       "      <td>0.555</td>\n",
       "      <td>0.195</td>\n",
       "      <td>1.9485</td>\n",
       "      <td>0.9455</td>\n",
       "      <td>0.3765</td>\n",
       "      <td>0.4950</td>\n",
       "      <td>12</td>\n",
       "    </tr>\n",
       "  </tbody>\n",
       "</table>\n",
       "<p>4177 rows × 10 columns</p>\n",
       "</div>"
      ],
      "text/plain": [
       "        id Sex  Length  Diameter  Height  Whole_weight  Shucked_weight  \\\n",
       "0        0   M   0.455     0.365   0.095        0.5140          0.2245   \n",
       "1        1   M   0.350     0.265   0.090        0.2255          0.0995   \n",
       "2        2   F   0.530     0.420   0.135        0.6770          0.2565   \n",
       "3        3   M   0.440     0.365   0.125        0.5160          0.2155   \n",
       "4        4   I   0.330     0.255   0.080        0.2050          0.0895   \n",
       "...    ...  ..     ...       ...     ...           ...             ...   \n",
       "4172  4172   F   0.565     0.450   0.165        0.8870          0.3700   \n",
       "4173  4173   M   0.590     0.440   0.135        0.9660          0.4390   \n",
       "4174  4174   M   0.600     0.475   0.205        1.1760          0.5255   \n",
       "4175  4175   F   0.625     0.485   0.150        1.0945          0.5310   \n",
       "4176  4176   M   0.710     0.555   0.195        1.9485          0.9455   \n",
       "\n",
       "      Viscera_weight  Shell_weight  Rings  \n",
       "0             0.1010        0.1500     15  \n",
       "1             0.0485        0.0700      7  \n",
       "2             0.1415        0.2100      9  \n",
       "3             0.1140        0.1550     10  \n",
       "4             0.0395        0.0550      7  \n",
       "...              ...           ...    ...  \n",
       "4172          0.2390        0.2490     11  \n",
       "4173          0.2145        0.2605     10  \n",
       "4174          0.2875        0.3080      9  \n",
       "4175          0.2610        0.2960     10  \n",
       "4176          0.3765        0.4950     12  \n",
       "\n",
       "[4177 rows x 10 columns]"
      ]
     },
     "execution_count": 2,
     "metadata": {},
     "output_type": "execute_result"
    }
   ],
   "source": [
    "df = pd.read_csv(\"C:/AI_study/abalone.csv\")\n",
    "df"
   ]
  },
  {
   "cell_type": "code",
   "execution_count": 3,
   "id": "395475ae-fab1-47b3-8b4d-c213116446eb",
   "metadata": {},
   "outputs": [
    {
     "name": "stdout",
     "output_type": "stream",
     "text": [
      "<class 'pandas.core.frame.DataFrame'>\n",
      "RangeIndex: 4177 entries, 0 to 4176\n",
      "Data columns (total 10 columns):\n",
      " #   Column          Non-Null Count  Dtype  \n",
      "---  ------          --------------  -----  \n",
      " 0   id              4177 non-null   int64  \n",
      " 1   Sex             4177 non-null   object \n",
      " 2   Length          4177 non-null   float64\n",
      " 3   Diameter        4177 non-null   float64\n",
      " 4   Height          4177 non-null   float64\n",
      " 5   Whole_weight    4177 non-null   float64\n",
      " 6   Shucked_weight  4177 non-null   float64\n",
      " 7   Viscera_weight  4177 non-null   float64\n",
      " 8   Shell_weight    4177 non-null   float64\n",
      " 9   Rings           4177 non-null   int64  \n",
      "dtypes: float64(7), int64(2), object(1)\n",
      "memory usage: 326.5+ KB\n"
     ]
    }
   ],
   "source": [
    "# 데이터 정보 확인\n",
    "df.info()"
   ]
  },
  {
   "cell_type": "code",
   "execution_count": 4,
   "id": "5a9c3dab-25df-439e-8178-a9851d287a1a",
   "metadata": {},
   "outputs": [
    {
     "data": {
      "text/plain": [
       "M    1528\n",
       "I    1342\n",
       "F    1307\n",
       "Name: Sex, dtype: int64"
      ]
     },
     "execution_count": 4,
     "metadata": {},
     "output_type": "execute_result"
    }
   ],
   "source": [
    "df['Sex'].value_counts()"
   ]
  },
  {
   "cell_type": "markdown",
   "id": "96072c89-9468-47d3-9ddb-c04237884dba",
   "metadata": {},
   "source": [
    "## Features\n",
    "- id: id\n",
    "- Sex: 성별 M(수컷), F(암컷), I(유아기)\n",
    "- Length: 길이(앞에서 뒤까지, mm)\n",
    "- Diameter: 지름(길이에 수직인 방향, mm)\n",
    "- Height: 높이(껍질 포함, mm)\n",
    "- Whole_weight: 전체 무게(껍질 포함, g)\n",
    "- Shucked_weight: 무게(껍질 제거, g)\n",
    "- Viscera_weight: 전복 내장 무게(g)\n",
    "- Shell_weight: 건조 후 껍질 무게(g)\n",
    "- Rings: 나선(전복의 나이 추정, 나이 = Rings + 1.5) - label"
   ]
  },
  {
   "cell_type": "markdown",
   "id": "4651d133-fc08-4b94-ac8f-c21b15aa2de5",
   "metadata": {},
   "source": [
    "- 현재 Features 중 id의 경우는 단순히 0 ~ 4176까지 나열한 것이므로 필요 없음\n",
    "- Sex의 경우 object형으로 M, F, I를 값으로 가지기 때문에 EDA하고 모델에 넣기 위해 Label Encoding이 필요"
   ]
  },
  {
   "cell_type": "code",
   "execution_count": 5,
   "id": "e4d00c61-15e4-49ed-93a0-60c562e029fe",
   "metadata": {},
   "outputs": [
    {
     "data": {
      "text/html": [
       "<div>\n",
       "<style scoped>\n",
       "    .dataframe tbody tr th:only-of-type {\n",
       "        vertical-align: middle;\n",
       "    }\n",
       "\n",
       "    .dataframe tbody tr th {\n",
       "        vertical-align: top;\n",
       "    }\n",
       "\n",
       "    .dataframe thead th {\n",
       "        text-align: right;\n",
       "    }\n",
       "</style>\n",
       "<table border=\"1\" class=\"dataframe\">\n",
       "  <thead>\n",
       "    <tr style=\"text-align: right;\">\n",
       "      <th></th>\n",
       "      <th>Sex</th>\n",
       "      <th>Length</th>\n",
       "      <th>Diameter</th>\n",
       "      <th>Height</th>\n",
       "      <th>Whole_weight</th>\n",
       "      <th>Shucked_weight</th>\n",
       "      <th>Viscera_weight</th>\n",
       "      <th>Shell_weight</th>\n",
       "      <th>Rings</th>\n",
       "    </tr>\n",
       "  </thead>\n",
       "  <tbody>\n",
       "    <tr>\n",
       "      <th>0</th>\n",
       "      <td>M</td>\n",
       "      <td>0.455</td>\n",
       "      <td>0.365</td>\n",
       "      <td>0.095</td>\n",
       "      <td>0.5140</td>\n",
       "      <td>0.2245</td>\n",
       "      <td>0.1010</td>\n",
       "      <td>0.1500</td>\n",
       "      <td>15</td>\n",
       "    </tr>\n",
       "    <tr>\n",
       "      <th>1</th>\n",
       "      <td>M</td>\n",
       "      <td>0.350</td>\n",
       "      <td>0.265</td>\n",
       "      <td>0.090</td>\n",
       "      <td>0.2255</td>\n",
       "      <td>0.0995</td>\n",
       "      <td>0.0485</td>\n",
       "      <td>0.0700</td>\n",
       "      <td>7</td>\n",
       "    </tr>\n",
       "    <tr>\n",
       "      <th>2</th>\n",
       "      <td>F</td>\n",
       "      <td>0.530</td>\n",
       "      <td>0.420</td>\n",
       "      <td>0.135</td>\n",
       "      <td>0.6770</td>\n",
       "      <td>0.2565</td>\n",
       "      <td>0.1415</td>\n",
       "      <td>0.2100</td>\n",
       "      <td>9</td>\n",
       "    </tr>\n",
       "    <tr>\n",
       "      <th>3</th>\n",
       "      <td>M</td>\n",
       "      <td>0.440</td>\n",
       "      <td>0.365</td>\n",
       "      <td>0.125</td>\n",
       "      <td>0.5160</td>\n",
       "      <td>0.2155</td>\n",
       "      <td>0.1140</td>\n",
       "      <td>0.1550</td>\n",
       "      <td>10</td>\n",
       "    </tr>\n",
       "    <tr>\n",
       "      <th>4</th>\n",
       "      <td>I</td>\n",
       "      <td>0.330</td>\n",
       "      <td>0.255</td>\n",
       "      <td>0.080</td>\n",
       "      <td>0.2050</td>\n",
       "      <td>0.0895</td>\n",
       "      <td>0.0395</td>\n",
       "      <td>0.0550</td>\n",
       "      <td>7</td>\n",
       "    </tr>\n",
       "    <tr>\n",
       "      <th>...</th>\n",
       "      <td>...</td>\n",
       "      <td>...</td>\n",
       "      <td>...</td>\n",
       "      <td>...</td>\n",
       "      <td>...</td>\n",
       "      <td>...</td>\n",
       "      <td>...</td>\n",
       "      <td>...</td>\n",
       "      <td>...</td>\n",
       "    </tr>\n",
       "    <tr>\n",
       "      <th>4172</th>\n",
       "      <td>F</td>\n",
       "      <td>0.565</td>\n",
       "      <td>0.450</td>\n",
       "      <td>0.165</td>\n",
       "      <td>0.8870</td>\n",
       "      <td>0.3700</td>\n",
       "      <td>0.2390</td>\n",
       "      <td>0.2490</td>\n",
       "      <td>11</td>\n",
       "    </tr>\n",
       "    <tr>\n",
       "      <th>4173</th>\n",
       "      <td>M</td>\n",
       "      <td>0.590</td>\n",
       "      <td>0.440</td>\n",
       "      <td>0.135</td>\n",
       "      <td>0.9660</td>\n",
       "      <td>0.4390</td>\n",
       "      <td>0.2145</td>\n",
       "      <td>0.2605</td>\n",
       "      <td>10</td>\n",
       "    </tr>\n",
       "    <tr>\n",
       "      <th>4174</th>\n",
       "      <td>M</td>\n",
       "      <td>0.600</td>\n",
       "      <td>0.475</td>\n",
       "      <td>0.205</td>\n",
       "      <td>1.1760</td>\n",
       "      <td>0.5255</td>\n",
       "      <td>0.2875</td>\n",
       "      <td>0.3080</td>\n",
       "      <td>9</td>\n",
       "    </tr>\n",
       "    <tr>\n",
       "      <th>4175</th>\n",
       "      <td>F</td>\n",
       "      <td>0.625</td>\n",
       "      <td>0.485</td>\n",
       "      <td>0.150</td>\n",
       "      <td>1.0945</td>\n",
       "      <td>0.5310</td>\n",
       "      <td>0.2610</td>\n",
       "      <td>0.2960</td>\n",
       "      <td>10</td>\n",
       "    </tr>\n",
       "    <tr>\n",
       "      <th>4176</th>\n",
       "      <td>M</td>\n",
       "      <td>0.710</td>\n",
       "      <td>0.555</td>\n",
       "      <td>0.195</td>\n",
       "      <td>1.9485</td>\n",
       "      <td>0.9455</td>\n",
       "      <td>0.3765</td>\n",
       "      <td>0.4950</td>\n",
       "      <td>12</td>\n",
       "    </tr>\n",
       "  </tbody>\n",
       "</table>\n",
       "<p>4177 rows × 9 columns</p>\n",
       "</div>"
      ],
      "text/plain": [
       "     Sex  Length  Diameter  Height  Whole_weight  Shucked_weight  \\\n",
       "0      M   0.455     0.365   0.095        0.5140          0.2245   \n",
       "1      M   0.350     0.265   0.090        0.2255          0.0995   \n",
       "2      F   0.530     0.420   0.135        0.6770          0.2565   \n",
       "3      M   0.440     0.365   0.125        0.5160          0.2155   \n",
       "4      I   0.330     0.255   0.080        0.2050          0.0895   \n",
       "...   ..     ...       ...     ...           ...             ...   \n",
       "4172   F   0.565     0.450   0.165        0.8870          0.3700   \n",
       "4173   M   0.590     0.440   0.135        0.9660          0.4390   \n",
       "4174   M   0.600     0.475   0.205        1.1760          0.5255   \n",
       "4175   F   0.625     0.485   0.150        1.0945          0.5310   \n",
       "4176   M   0.710     0.555   0.195        1.9485          0.9455   \n",
       "\n",
       "      Viscera_weight  Shell_weight  Rings  \n",
       "0             0.1010        0.1500     15  \n",
       "1             0.0485        0.0700      7  \n",
       "2             0.1415        0.2100      9  \n",
       "3             0.1140        0.1550     10  \n",
       "4             0.0395        0.0550      7  \n",
       "...              ...           ...    ...  \n",
       "4172          0.2390        0.2490     11  \n",
       "4173          0.2145        0.2605     10  \n",
       "4174          0.2875        0.3080      9  \n",
       "4175          0.2610        0.2960     10  \n",
       "4176          0.3765        0.4950     12  \n",
       "\n",
       "[4177 rows x 9 columns]"
      ]
     },
     "execution_count": 5,
     "metadata": {},
     "output_type": "execute_result"
    }
   ],
   "source": [
    "# 필요 없는 Feature인 id 제거\n",
    "df = df.drop('id', axis=1)\n",
    "df"
   ]
  },
  {
   "cell_type": "code",
   "execution_count": 6,
   "id": "2860d8f5-bdc3-46fa-b374-e1f54131075f",
   "metadata": {},
   "outputs": [
    {
     "data": {
      "image/png": "[encoded data removed]",
      "text/plain": [
       "<Figure size 432x288 with 1 Axes>"
      ]
     },
     "metadata": {
      "needs_background": "light"
     },
     "output_type": "display_data"
    }
   ],
   "source": [
    "# Sex 분포 시각화\n",
    "sns.countplot(data=df, x=\"Sex\", hue=\"Sex\", palette=[\"#1f77b4\", \"#ff7f0e\", \"#2ca02c\"])\n",
    "plt.xlabel(\"Sex\")\n",
    "plt.ylabel(\"Count\")\n",
    "plt.title(\"Sex Distribution\")\n",
    "\n",
    "plt.show()"
   ]
  },
  {
   "cell_type": "code",
   "execution_count": 7,
   "id": "1946b1b7-e95c-4c46-acb1-e6c02b316239",
   "metadata": {},
   "outputs": [
    {
     "name": "stdout",
     "output_type": "stream",
     "text": [
      "      Sex_encoded  Length  Diameter  Height  Whole_weight  Shucked_weight  \\\n",
      "0               2   0.455     0.365   0.095        0.5140          0.2245   \n",
      "1               2   0.350     0.265   0.090        0.2255          0.0995   \n",
      "2               0   0.530     0.420   0.135        0.6770          0.2565   \n",
      "3               2   0.440     0.365   0.125        0.5160          0.2155   \n",
      "4               1   0.330     0.255   0.080        0.2050          0.0895   \n",
      "...           ...     ...       ...     ...           ...             ...   \n",
      "4172            0   0.565     0.450   0.165        0.8870          0.3700   \n",
      "4173            2   0.590     0.440   0.135        0.9660          0.4390   \n",
      "4174            2   0.600     0.475   0.205        1.1760          0.5255   \n",
      "4175            0   0.625     0.485   0.150        1.0945          0.5310   \n",
      "4176            2   0.710     0.555   0.195        1.9485          0.9455   \n",
      "\n",
      "      Viscera_weight  Shell_weight  Rings  \n",
      "0             0.1010        0.1500     15  \n",
      "1             0.0485        0.0700      7  \n",
      "2             0.1415        0.2100      9  \n",
      "3             0.1140        0.1550     10  \n",
      "4             0.0395        0.0550      7  \n",
      "...              ...           ...    ...  \n",
      "4172          0.2390        0.2490     11  \n",
      "4173          0.2145        0.2605     10  \n",
      "4174          0.2875        0.3080      9  \n",
      "4175          0.2610        0.2960     10  \n",
      "4176          0.3765        0.4950     12  \n",
      "\n",
      "[4177 rows x 9 columns]\n"
     ]
    }
   ],
   "source": [
    "# Sex 피처에 Label Encoding 적용\n",
    "\n",
    "from sklearn.preprocessing import LabelEncoder\n",
    "\n",
    "# LabelEncoder 객체 생성\n",
    "le = LabelEncoder()\n",
    "\n",
    "df['Sex_encoded'] = le.fit_transform(df['Sex'])\n",
    "\n",
    "df = df.drop('Sex', axis=1)\n",
    "df.insert(0, 'Sex_encoded', df.pop('Sex_encoded'))\n",
    "\n",
    "# 결과 확인\n",
    "print(df)"
   ]
  },
  {
   "cell_type": "code",
   "execution_count": 8,
   "id": "3e0da515-1f39-40b6-a2a4-80ecdd59fbef",
   "metadata": {},
   "outputs": [
    {
     "data": {
      "text/html": [
       "<div>\n",
       "<style scoped>\n",
       "    .dataframe tbody tr th:only-of-type {\n",
       "        vertical-align: middle;\n",
       "    }\n",
       "\n",
       "    .dataframe tbody tr th {\n",
       "        vertical-align: top;\n",
       "    }\n",
       "\n",
       "    .dataframe thead th {\n",
       "        text-align: right;\n",
       "    }\n",
       "</style>\n",
       "<table border=\"1\" class=\"dataframe\">\n",
       "  <thead>\n",
       "    <tr style=\"text-align: right;\">\n",
       "      <th></th>\n",
       "      <th>Sex_encoded</th>\n",
       "      <th>Length</th>\n",
       "      <th>Diameter</th>\n",
       "      <th>Height</th>\n",
       "      <th>Whole_weight</th>\n",
       "      <th>Shucked_weight</th>\n",
       "      <th>Viscera_weight</th>\n",
       "      <th>Shell_weight</th>\n",
       "      <th>Rings</th>\n",
       "    </tr>\n",
       "  </thead>\n",
       "  <tbody>\n",
       "    <tr>\n",
       "      <th>count</th>\n",
       "      <td>4177.000000</td>\n",
       "      <td>4177.000000</td>\n",
       "      <td>4177.000000</td>\n",
       "      <td>4177.000000</td>\n",
       "      <td>4177.000000</td>\n",
       "      <td>4177.000000</td>\n",
       "      <td>4177.000000</td>\n",
       "      <td>4177.000000</td>\n",
       "      <td>4177.000000</td>\n",
       "    </tr>\n",
       "    <tr>\n",
       "      <th>mean</th>\n",
       "      <td>1.052909</td>\n",
       "      <td>0.523992</td>\n",
       "      <td>0.407881</td>\n",
       "      <td>0.139516</td>\n",
       "      <td>0.828742</td>\n",
       "      <td>0.359367</td>\n",
       "      <td>0.180594</td>\n",
       "      <td>0.238831</td>\n",
       "      <td>9.933684</td>\n",
       "    </tr>\n",
       "    <tr>\n",
       "      <th>std</th>\n",
       "      <td>0.822240</td>\n",
       "      <td>0.120093</td>\n",
       "      <td>0.099240</td>\n",
       "      <td>0.041827</td>\n",
       "      <td>0.490389</td>\n",
       "      <td>0.221963</td>\n",
       "      <td>0.109614</td>\n",
       "      <td>0.139203</td>\n",
       "      <td>3.224169</td>\n",
       "    </tr>\n",
       "    <tr>\n",
       "      <th>min</th>\n",
       "      <td>0.000000</td>\n",
       "      <td>0.075000</td>\n",
       "      <td>0.055000</td>\n",
       "      <td>0.000000</td>\n",
       "      <td>0.002000</td>\n",
       "      <td>0.001000</td>\n",
       "      <td>0.000500</td>\n",
       "      <td>0.001500</td>\n",
       "      <td>1.000000</td>\n",
       "    </tr>\n",
       "    <tr>\n",
       "      <th>25%</th>\n",
       "      <td>0.000000</td>\n",
       "      <td>0.450000</td>\n",
       "      <td>0.350000</td>\n",
       "      <td>0.115000</td>\n",
       "      <td>0.441500</td>\n",
       "      <td>0.186000</td>\n",
       "      <td>0.093500</td>\n",
       "      <td>0.130000</td>\n",
       "      <td>8.000000</td>\n",
       "    </tr>\n",
       "    <tr>\n",
       "      <th>50%</th>\n",
       "      <td>1.000000</td>\n",
       "      <td>0.545000</td>\n",
       "      <td>0.425000</td>\n",
       "      <td>0.140000</td>\n",
       "      <td>0.799500</td>\n",
       "      <td>0.336000</td>\n",
       "      <td>0.171000</td>\n",
       "      <td>0.234000</td>\n",
       "      <td>9.000000</td>\n",
       "    </tr>\n",
       "    <tr>\n",
       "      <th>75%</th>\n",
       "      <td>2.000000</td>\n",
       "      <td>0.615000</td>\n",
       "      <td>0.480000</td>\n",
       "      <td>0.165000</td>\n",
       "      <td>1.153000</td>\n",
       "      <td>0.502000</td>\n",
       "      <td>0.253000</td>\n",
       "      <td>0.329000</td>\n",
       "      <td>11.000000</td>\n",
       "    </tr>\n",
       "    <tr>\n",
       "      <th>max</th>\n",
       "      <td>2.000000</td>\n",
       "      <td>0.815000</td>\n",
       "      <td>0.650000</td>\n",
       "      <td>1.130000</td>\n",
       "      <td>2.825500</td>\n",
       "      <td>1.488000</td>\n",
       "      <td>0.760000</td>\n",
       "      <td>1.005000</td>\n",
       "      <td>29.000000</td>\n",
       "    </tr>\n",
       "  </tbody>\n",
       "</table>\n",
       "</div>"
      ],
      "text/plain": [
       "       Sex_encoded       Length     Diameter       Height  Whole_weight  \\\n",
       "count  4177.000000  4177.000000  4177.000000  4177.000000   4177.000000   \n",
       "mean      1.052909     0.523992     0.407881     0.139516      0.828742   \n",
       "std       0.822240     0.120093     0.099240     0.041827      0.490389   \n",
       "min       0.000000     0.075000     0.055000     0.000000      0.002000   \n",
       "25%       0.000000     0.450000     0.350000     0.115000      0.441500   \n",
       "50%       1.000000     0.545000     0.425000     0.140000      0.799500   \n",
       "75%       2.000000     0.615000     0.480000     0.165000      1.153000   \n",
       "max       2.000000     0.815000     0.650000     1.130000      2.825500   \n",
       "\n",
       "       Shucked_weight  Viscera_weight  Shell_weight        Rings  \n",
       "count     4177.000000     4177.000000   4177.000000  4177.000000  \n",
       "mean         0.359367        0.180594      0.238831     9.933684  \n",
       "std          0.221963        0.109614      0.139203     3.224169  \n",
       "min          0.001000        0.000500      0.001500     1.000000  \n",
       "25%          0.186000        0.093500      0.130000     8.000000  \n",
       "50%          0.336000        0.171000      0.234000     9.000000  \n",
       "75%          0.502000        0.253000      0.329000    11.000000  \n",
       "max          1.488000        0.760000      1.005000    29.000000  "
      ]
     },
     "execution_count": 8,
     "metadata": {},
     "output_type": "execute_result"
    }
   ],
   "source": [
    "df.describe()"
   ]
  },
  {
   "cell_type": "code",
   "execution_count": 9,
   "id": "37284abe-23f2-43ac-8eda-9a6d1c0f7c78",
   "metadata": {},
   "outputs": [
    {
     "data": {
      "text/plain": [
       "Sex_encoded       0\n",
       "Length            0\n",
       "Diameter          0\n",
       "Height            0\n",
       "Whole_weight      0\n",
       "Shucked_weight    0\n",
       "Viscera_weight    0\n",
       "Shell_weight      0\n",
       "Rings             0\n",
       "dtype: int64"
      ]
     },
     "execution_count": 9,
     "metadata": {},
     "output_type": "execute_result"
    }
   ],
   "source": [
    "# 데이터 결측치 확인\n",
    "df.isnull().sum()"
   ]
  },
  {
   "cell_type": "code",
   "execution_count": 10,
   "id": "8cf81fcc-8739-4185-b4bb-075328e651c0",
   "metadata": {},
   "outputs": [
    {
     "data": {
      "text/plain": [
       "9     689\n",
       "10    634\n",
       "8     568\n",
       "11    487\n",
       "7     391\n",
       "12    267\n",
       "6     259\n",
       "13    203\n",
       "14    126\n",
       "5     115\n",
       "15    103\n",
       "16     67\n",
       "17     58\n",
       "4      57\n",
       "18     42\n",
       "19     32\n",
       "20     26\n",
       "3      15\n",
       "21     14\n",
       "23      9\n",
       "22      6\n",
       "24      2\n",
       "27      2\n",
       "1       1\n",
       "25      1\n",
       "2       1\n",
       "26      1\n",
       "29      1\n",
       "Name: Rings, dtype: int64"
      ]
     },
     "execution_count": 10,
     "metadata": {},
     "output_type": "execute_result"
    }
   ],
   "source": [
    "df['Rings'].value_counts()"
   ]
  },
  {
   "cell_type": "code",
   "execution_count": 11,
   "id": "c3fe8aba-a5f4-4d6e-b2b0-9e4d72e267ae",
   "metadata": {},
   "outputs": [
    {
     "data": {
      "image/png": "[encoded data removed]",
      "text/plain": [
       "<Figure size 720x720 with 1 Axes>"
      ]
     },
     "metadata": {
      "needs_background": "light"
     },
     "output_type": "display_data"
    }
   ],
   "source": [
    "#상관관계 히트맵 생성\n",
    "#상관 관계 행렬\n",
    "df_corr=df.corr()\n",
    "\n",
    "#히트맵\n",
    "plt.figure(figsize=(10,10))\n",
    "sns.set(font_scale=0.8)\n",
    "sns.heatmap(df_corr, annot=True, cbar=False)\n",
    "plt.show()"
   ]
  },
  {
   "cell_type": "markdown",
   "id": "ef07d096-9905-4250-a932-5e925cd44907",
   "metadata": {},
   "source": [
    "## Target인 Rings와 가장 높은 상관 관계를 맺는 feature\n",
    "- Shell_weight(0.63)"
   ]
  },
  {
   "cell_type": "markdown",
   "id": "e166e69f-d616-499b-a63e-b498538e74c6",
   "metadata": {},
   "source": [
    "## Target인 Rings와 비교적 낮은 상관 관계를 맺는 features\n",
    "- Sex_encoded(-0.035)\n",
    "- Shucked_weight(0.42)\n",
    "- Visvera_weight(0.5)"
   ]
  },
  {
   "cell_type": "markdown",
   "id": "3b9b49f4-9c35-47ae-8bc6-61cf85f4149d",
   "metadata": {},
   "source": [
    "- Sex_encoded의 경우 매우 낮은 상관 관계를 갖고 있기 때문에 추후에 삭제 가능 "
   ]
  },
  {
   "cell_type": "code",
   "execution_count": 12,
   "id": "1bd8fecb-57eb-4be6-a12d-acebd3cf9b0b",
   "metadata": {},
   "outputs": [
    {
     "data": {
      "text/plain": [
       "array([[<AxesSubplot:title={'center':'Sex_encoded'}>,\n",
       "        <AxesSubplot:title={'center':'Length'}>,\n",
       "        <AxesSubplot:title={'center':'Diameter'}>],\n",
       "       [<AxesSubplot:title={'center':'Height'}>,\n",
       "        <AxesSubplot:title={'center':'Whole_weight'}>,\n",
       "        <AxesSubplot:title={'center':'Shucked_weight'}>],\n",
       "       [<AxesSubplot:title={'center':'Viscera_weight'}>,\n",
       "        <AxesSubplot:title={'center':'Shell_weight'}>,\n",
       "        <AxesSubplot:title={'center':'Rings'}>]], dtype=object)"
      ]
     },
     "execution_count": 12,
     "metadata": {},
     "output_type": "execute_result"
    },
    {
     "data": {
      "image/png": "[encoded data removed]",
      "text/plain": [
       "<Figure size 864x576 with 9 Axes>"
      ]
     },
     "metadata": {},
     "output_type": "display_data"
    }
   ],
   "source": [
    "df.hist(bins=50, figsize=(12, 8))"
   ]
  },
  {
   "cell_type": "code",
   "execution_count": 13,
   "id": "dddacf8d-eaeb-43f6-af98-44f3944cd5b2",
   "metadata": {},
   "outputs": [
    {
     "data": {
      "image/png": "[encoded data removed]",
      "text/plain": [
       "<Figure size 432x288 with 1 Axes>"
      ]
     },
     "metadata": {},
     "output_type": "display_data"
    }
   ],
   "source": [
    "# Rings와 Shell_weight 관계\n",
    "plt.scatter(df['Rings'], df['Shell_weight'])\n",
    "plt.xlabel('Rings')\n",
    "plt.ylabel('Shell_weight')\n",
    "\n",
    "plt.show()"
   ]
  },
  {
   "cell_type": "code",
   "execution_count": 14,
   "id": "c7a8ca15-e4d1-4c39-8a1f-79aba93902eb",
   "metadata": {},
   "outputs": [
    {
     "name": "stdout",
     "output_type": "stream",
     "text": [
      "Sex_encoded       1307\n",
      "Length               0\n",
      "Diameter             0\n",
      "Height               2\n",
      "Whole_weight         0\n",
      "Shucked_weight       0\n",
      "Viscera_weight       0\n",
      "Shell_weight         0\n",
      "Rings                0\n",
      "dtype: int64\n"
     ]
    }
   ],
   "source": [
    "# 각 열에서 0인 값의 개수를 확인\n",
    "zero_values_count = (df == 0).sum()\n",
    "\n",
    "# 결과 출력\n",
    "print(zero_values_count)"
   ]
  },
  {
   "cell_type": "markdown",
   "id": "e495ccc2-e4a2-4cd1-84b9-d5c7ecd745b8",
   "metadata": {},
   "source": [
    "#### Height(높이)가 0 값이 나오는 것은 이상치로 판단"
   ]
  },
  {
   "cell_type": "code",
   "execution_count": 15,
   "id": "2632f365-757f-47d4-b00e-ab3028aa79e3",
   "metadata": {},
   "outputs": [
    {
     "name": "stdout",
     "output_type": "stream",
     "text": [
      "제거 전 데이터 개수:  4177\n",
      "제거 후 데이터 개수:  4175\n"
     ]
    }
   ],
   "source": [
    "# 이상치의 개수가 적은 Glucose, BloodPressure, BMI의 경우 이상치 제거\n",
    "print(\"제거 전 데이터 개수: \", len(df))\n",
    "df = df[(df['Height'] != 0)]\n",
    "print(\"제거 후 데이터 개수: \", len(df))"
   ]
  },
  {
   "cell_type": "markdown",
   "id": "18b23df8-426c-454b-974c-81312311aa97",
   "metadata": {},
   "source": [
    "2개의 데이터 제거"
   ]
  },
  {
   "cell_type": "code",
   "execution_count": 16,
   "id": "195874eb-4dea-44b0-b0fa-ef0f112643bb",
   "metadata": {},
   "outputs": [
    {
     "data": {
      "image/png": "[encoded data removed]",
      "text/plain": [
       "<Figure size 432x288 with 1 Axes>"
      ]
     },
     "metadata": {},
     "output_type": "display_data"
    }
   ],
   "source": [
    "# Rings 시각화\n",
    "sns.countplot(data = df, x=\"Rings\")\n",
    "plt.xlabel(\"Rings\")\n",
    "plt.ylabel(\"Count\")\n",
    "plt.title(\"Abalone\")\n",
    "\n",
    "plt.show()"
   ]
  },
  {
   "cell_type": "code",
   "execution_count": 17,
   "id": "f32354eb-b052-49fa-b4a7-77e73f7c72f7",
   "metadata": {},
   "outputs": [
    {
     "data": {
      "text/plain": [
       "0       15\n",
       "1        7\n",
       "2        9\n",
       "3       10\n",
       "4        7\n",
       "        ..\n",
       "4172    11\n",
       "4173    10\n",
       "4174     9\n",
       "4175    10\n",
       "4176    12\n",
       "Name: Rings, Length: 4175, dtype: int64"
      ]
     },
     "execution_count": 17,
     "metadata": {},
     "output_type": "execute_result"
    }
   ],
   "source": [
    "y = df['Rings']\n",
    "y"
   ]
  },
  {
   "cell_type": "code",
   "execution_count": 18,
   "id": "76a01fe6-7d43-44bb-a5ff-13bb9d745a37",
   "metadata": {},
   "outputs": [
    {
     "data": {
      "text/html": [
       "<div>\n",
       "<style scoped>\n",
       "    .dataframe tbody tr th:only-of-type {\n",
       "        vertical-align: middle;\n",
       "    }\n",
       "\n",
       "    .dataframe tbody tr th {\n",
       "        vertical-align: top;\n",
       "    }\n",
       "\n",
       "    .dataframe thead th {\n",
       "        text-align: right;\n",
       "    }\n",
       "</style>\n",
       "<table border=\"1\" class=\"dataframe\">\n",
       "  <thead>\n",
       "    <tr style=\"text-align: right;\">\n",
       "      <th></th>\n",
       "      <th>Sex_encoded</th>\n",
       "      <th>Length</th>\n",
       "      <th>Diameter</th>\n",
       "      <th>Height</th>\n",
       "      <th>Whole_weight</th>\n",
       "      <th>Shucked_weight</th>\n",
       "      <th>Viscera_weight</th>\n",
       "      <th>Shell_weight</th>\n",
       "    </tr>\n",
       "  </thead>\n",
       "  <tbody>\n",
       "    <tr>\n",
       "      <th>0</th>\n",
       "      <td>2</td>\n",
       "      <td>0.455</td>\n",
       "      <td>0.365</td>\n",
       "      <td>0.095</td>\n",
       "      <td>0.5140</td>\n",
       "      <td>0.2245</td>\n",
       "      <td>0.1010</td>\n",
       "      <td>0.1500</td>\n",
       "    </tr>\n",
       "    <tr>\n",
       "      <th>1</th>\n",
       "      <td>2</td>\n",
       "      <td>0.350</td>\n",
       "      <td>0.265</td>\n",
       "      <td>0.090</td>\n",
       "      <td>0.2255</td>\n",
       "      <td>0.0995</td>\n",
       "      <td>0.0485</td>\n",
       "      <td>0.0700</td>\n",
       "    </tr>\n",
       "    <tr>\n",
       "      <th>2</th>\n",
       "      <td>0</td>\n",
       "      <td>0.530</td>\n",
       "      <td>0.420</td>\n",
       "      <td>0.135</td>\n",
       "      <td>0.6770</td>\n",
       "      <td>0.2565</td>\n",
       "      <td>0.1415</td>\n",
       "      <td>0.2100</td>\n",
       "    </tr>\n",
       "    <tr>\n",
       "      <th>3</th>\n",
       "      <td>2</td>\n",
       "      <td>0.440</td>\n",
       "      <td>0.365</td>\n",
       "      <td>0.125</td>\n",
       "      <td>0.5160</td>\n",
       "      <td>0.2155</td>\n",
       "      <td>0.1140</td>\n",
       "      <td>0.1550</td>\n",
       "    </tr>\n",
       "    <tr>\n",
       "      <th>4</th>\n",
       "      <td>1</td>\n",
       "      <td>0.330</td>\n",
       "      <td>0.255</td>\n",
       "      <td>0.080</td>\n",
       "      <td>0.2050</td>\n",
       "      <td>0.0895</td>\n",
       "      <td>0.0395</td>\n",
       "      <td>0.0550</td>\n",
       "    </tr>\n",
       "    <tr>\n",
       "      <th>...</th>\n",
       "      <td>...</td>\n",
       "      <td>...</td>\n",
       "      <td>...</td>\n",
       "      <td>...</td>\n",
       "      <td>...</td>\n",
       "      <td>...</td>\n",
       "      <td>...</td>\n",
       "      <td>...</td>\n",
       "    </tr>\n",
       "    <tr>\n",
       "      <th>4172</th>\n",
       "      <td>0</td>\n",
       "      <td>0.565</td>\n",
       "      <td>0.450</td>\n",
       "      <td>0.165</td>\n",
       "      <td>0.8870</td>\n",
       "      <td>0.3700</td>\n",
       "      <td>0.2390</td>\n",
       "      <td>0.2490</td>\n",
       "    </tr>\n",
       "    <tr>\n",
       "      <th>4173</th>\n",
       "      <td>2</td>\n",
       "      <td>0.590</td>\n",
       "      <td>0.440</td>\n",
       "      <td>0.135</td>\n",
       "      <td>0.9660</td>\n",
       "      <td>0.4390</td>\n",
       "      <td>0.2145</td>\n",
       "      <td>0.2605</td>\n",
       "    </tr>\n",
       "    <tr>\n",
       "      <th>4174</th>\n",
       "      <td>2</td>\n",
       "      <td>0.600</td>\n",
       "      <td>0.475</td>\n",
       "      <td>0.205</td>\n",
       "      <td>1.1760</td>\n",
       "      <td>0.5255</td>\n",
       "      <td>0.2875</td>\n",
       "      <td>0.3080</td>\n",
       "    </tr>\n",
       "    <tr>\n",
       "      <th>4175</th>\n",
       "      <td>0</td>\n",
       "      <td>0.625</td>\n",
       "      <td>0.485</td>\n",
       "      <td>0.150</td>\n",
       "      <td>1.0945</td>\n",
       "      <td>0.5310</td>\n",
       "      <td>0.2610</td>\n",
       "      <td>0.2960</td>\n",
       "    </tr>\n",
       "    <tr>\n",
       "      <th>4176</th>\n",
       "      <td>2</td>\n",
       "      <td>0.710</td>\n",
       "      <td>0.555</td>\n",
       "      <td>0.195</td>\n",
       "      <td>1.9485</td>\n",
       "      <td>0.9455</td>\n",
       "      <td>0.3765</td>\n",
       "      <td>0.4950</td>\n",
       "    </tr>\n",
       "  </tbody>\n",
       "</table>\n",
       "<p>4175 rows × 8 columns</p>\n",
       "</div>"
      ],
      "text/plain": [
       "      Sex_encoded  Length  Diameter  Height  Whole_weight  Shucked_weight  \\\n",
       "0               2   0.455     0.365   0.095        0.5140          0.2245   \n",
       "1               2   0.350     0.265   0.090        0.2255          0.0995   \n",
       "2               0   0.530     0.420   0.135        0.6770          0.2565   \n",
       "3               2   0.440     0.365   0.125        0.5160          0.2155   \n",
       "4               1   0.330     0.255   0.080        0.2050          0.0895   \n",
       "...           ...     ...       ...     ...           ...             ...   \n",
       "4172            0   0.565     0.450   0.165        0.8870          0.3700   \n",
       "4173            2   0.590     0.440   0.135        0.9660          0.4390   \n",
       "4174            2   0.600     0.475   0.205        1.1760          0.5255   \n",
       "4175            0   0.625     0.485   0.150        1.0945          0.5310   \n",
       "4176            2   0.710     0.555   0.195        1.9485          0.9455   \n",
       "\n",
       "      Viscera_weight  Shell_weight  \n",
       "0             0.1010        0.1500  \n",
       "1             0.0485        0.0700  \n",
       "2             0.1415        0.2100  \n",
       "3             0.1140        0.1550  \n",
       "4             0.0395        0.0550  \n",
       "...              ...           ...  \n",
       "4172          0.2390        0.2490  \n",
       "4173          0.2145        0.2605  \n",
       "4174          0.2875        0.3080  \n",
       "4175          0.2610        0.2960  \n",
       "4176          0.3765        0.4950  \n",
       "\n",
       "[4175 rows x 8 columns]"
      ]
     },
     "execution_count": 18,
     "metadata": {},
     "output_type": "execute_result"
    }
   ],
   "source": [
    "X = df.drop('Rings', axis=1)\n",
    "X"
   ]
  },
  {
   "cell_type": "code",
   "execution_count": 19,
   "id": "b252c2dd-5d89-48cb-8be4-aaea30c8832b",
   "metadata": {},
   "outputs": [
    {
     "data": {
      "text/plain": [
       "((3340, 8), (835, 8), (3340,), (835,))"
      ]
     },
     "execution_count": 19,
     "metadata": {},
     "output_type": "execute_result"
    }
   ],
   "source": [
    "from sklearn.model_selection import train_test_split\n",
    "\n",
    "X_train, X_test, y_train, y_test = train_test_split(X, y, test_size=0.2, random_state=32)\n",
    "\n",
    "X_train.shape, X_test.shape, y_train.shape, y_test.shape"
   ]
  },
  {
   "cell_type": "code",
   "execution_count": 20,
   "id": "6d563ed5-9f6d-4e8f-b97f-e02cbb1eb9dd",
   "metadata": {},
   "outputs": [],
   "source": [
    "# 표준화 StandardScaler \n",
    "from sklearn.preprocessing import StandardScaler\n",
    "\n",
    "ss = StandardScaler()\n",
    "ss.fit(X_train)\n",
    "train_scaled = ss.transform(X_train)\n",
    "test_scaled = ss.transform(X_test)"
   ]
  },
  {
   "cell_type": "markdown",
   "id": "e0dd8df5-e4a1-4f79-971b-cbdc2685a980",
   "metadata": {},
   "source": [
    "## RandomizedSearchCV를 사용해서 하이퍼 파라미터 튜닝"
   ]
  },
  {
   "cell_type": "markdown",
   "id": "2e206f83",
   "metadata": {},
   "source": [
    "## ML_DecisionTreeRegressor"
   ]
  },
  {
   "cell_type": "code",
   "execution_count": 21,
   "id": "8034ff37-6156-4efd-873e-dd08d1cea11d",
   "metadata": {},
   "outputs": [
    {
     "name": "stdout",
     "output_type": "stream",
     "text": [
      "Fitting 5 folds for each of 100 candidates, totalling 500 fits\n",
      "최적의 하이퍼파라미터:  {'max_depth': 6, 'min_samples_leaf': 8, 'min_samples_split': 9}\n",
      "최적의 MSE:  5.480258118455512\n"
     ]
    }
   ],
   "source": [
    "from sklearn.model_selection import RandomizedSearchCV\n",
    "from sklearn.tree import DecisionTreeRegressor\n",
    "from sklearn.metrics import make_scorer, mean_squared_error\n",
    "from scipy.stats import randint\n",
    "\n",
    "# 1. 하이퍼파라미터 범위를 randint로 설정\n",
    "param_dist = {\n",
    "    'max_depth': randint(3, 11),           # 3부터 10까지의 랜덤 값\n",
    "    'min_samples_split': randint(2, 11),   # 2부터 10까지의 랜덤 값\n",
    "    'min_samples_leaf': randint(1, 11)     # 1부터 10까지의 랜덤 값\n",
    "}\n",
    "\n",
    "# MSE 스코어를 사용하여 랜덤 서치 수행\n",
    "mse_scorer = make_scorer(mean_squared_error, greater_is_better=False)\n",
    "\n",
    "# 2. RandomizedSearchCV 설정\n",
    "clf_dt = DecisionTreeRegressor()\n",
    "random_search = RandomizedSearchCV(estimator=clf_dt, param_distributions=param_dist, n_iter=100, cv=5, scoring=mse_scorer, n_jobs=-1, verbose=2, random_state=42)\n",
    "\n",
    "# 모델 학습 및 랜덤 서치 수행\n",
    "random_search.fit(train_scaled, y_train)\n",
    "\n",
    "# 최적의 하이퍼파라미터 출력\n",
    "print(\"최적의 하이퍼파라미터: \", random_search.best_params_)\n",
    "\n",
    "# 최적의 하이퍼파라미터로 평가된 평균 MSE 출력\n",
    "print(\"최적의 MSE: \", -random_search.best_score_)"
   ]
  },
  {
   "cell_type": "code",
   "execution_count": 22,
   "id": "27d9ed1a-9f76-4e2c-a2b8-9ad31aad1ea7",
   "metadata": {},
   "outputs": [
    {
     "name": "stdout",
     "output_type": "stream",
     "text": [
      "교차 검증 성능 (MSE, 각 폴드): [5.81060711 5.65799744 5.34154541 5.311914   5.30025683]\n",
      "평균 MSE: 5.484464157420421\n"
     ]
    }
   ],
   "source": [
    "from sklearn.model_selection import cross_val_score\n",
    "\n",
    "# 3. 최적의 하이퍼파라미터로 모델 평가\n",
    "best_clf_dt = random_search.best_estimator_\n",
    "\n",
    "# MSE 스코어로 K-Fold 교차 검증 (K=5)\n",
    "scores = cross_val_score(best_clf_dt, train_scaled, y_train, cv=5, scoring=mse_scorer)\n",
    "\n",
    "# 각 폴드에서의 성능 및 평균 성능 출력\n",
    "print(\"교차 검증 성능 (MSE, 각 폴드):\", -scores)\n",
    "print(\"평균 MSE:\", -scores.mean())"
   ]
  },
  {
   "cell_type": "code",
   "execution_count": 23,
   "id": "4ac967c0-a812-4481-8598-8d4549cbe18c",
   "metadata": {},
   "outputs": [
    {
     "data": {
      "image/png": "[encoded data removed]",
      "text/plain": [
       "<Figure size 432x288 with 1 Axes>"
      ]
     },
     "metadata": {},
     "output_type": "display_data"
    },
    {
     "name": "stdout",
     "output_type": "stream",
     "text": [
      "Mean MSE across folds: 5.484464157420421\n"
     ]
    }
   ],
   "source": [
    "# 교차 검증 결과 시각화 (MSE를 음수 값으로 변환했으므로, -scores 사용)\n",
    "plt.plot(range(1, 6), -scores, marker='o', linestyle='--')\n",
    "plt.title('Decision Tree Cross-Validation MSE')\n",
    "plt.xlabel('Fold')\n",
    "plt.ylabel('Mean Squared Error (MSE)')\n",
    "plt.ylim([0, max(-scores) + 10])  # Y축을 0부터 최대 MSE 값 + 약간의 여유로 설정\n",
    "plt.show()\n",
    "\n",
    "# 평균 MSE 출력 (평균 MSE는 음수로 계산된 값을 다시 양수로 변환)\n",
    "print(f\"Mean MSE across folds: {-scores.mean()}\")"
   ]
  },
  {
   "cell_type": "code",
   "execution_count": 24,
   "id": "8c4ac8c7-7b29-4ac8-8de1-19b96cee5f05",
   "metadata": {},
   "outputs": [
    {
     "name": "stdout",
     "output_type": "stream",
     "text": [
      "\n",
      "--- Decision Tree Regressor ---\n",
      "Mean Squared Error (MSE): 5.383921470079721\n",
      "Mean Absolute Error (MAE): 1.6334570881277848\n",
      "R² Score: 0.488806451154871\n"
     ]
    }
   ],
   "source": [
    "from sklearn.metrics import mean_squared_error, mean_absolute_error, r2_score\n",
    "\n",
    "# 회귀 모델 예측\n",
    "y_pred_reg = best_clf_dt.predict(test_scaled)\n",
    "\n",
    "# MSE, MAE, R² 스코어 계산\n",
    "mse = mean_squared_error(y_test, y_pred_reg)\n",
    "mae = mean_absolute_error(y_test, y_pred_reg)\n",
    "r2 = r2_score(y_test, y_pred_reg)\n",
    "\n",
    "# 결과 출력\n",
    "print(\"\\n--- Decision Tree Regressor ---\")\n",
    "print(f\"Mean Squared Error (MSE): {mse}\")\n",
    "print(f\"Mean Absolute Error (MAE): {mae}\")\n",
    "print(f\"R² Score: {r2}\")"
   ]
  },
  {
   "cell_type": "code",
   "execution_count": 25,
   "id": "621b9753",
   "metadata": {},
   "outputs": [
    {
     "data": {
      "image/png": "[encoded data removed]",
      "text/plain": [
       "<Figure size 576x432 with 1 Axes>"
      ]
     },
     "metadata": {},
     "output_type": "display_data"
    }
   ],
   "source": [
    "import matplotlib.pyplot as plt\n",
    "\n",
    "# 회귀 모델의 예측 값과 실제 값\n",
    "y_pred = best_clf_dt.predict(test_scaled)  # 예측 값\n",
    "y_test = y_test  # 실제 값\n",
    "\n",
    "# 산점도 그리기\n",
    "plt.figure(figsize=(8, 6))\n",
    "plt.scatter(y_test, y_pred, alpha=0.5)\n",
    "plt.plot([min(y_test), max(y_test)], [min(y_test), max(y_test)], color='red', linestyle='--')  # 대각선 기준선\n",
    "plt.xlabel('Actual Values')\n",
    "plt.ylabel('Predicted Values')\n",
    "plt.title('Actual vs Predicted Values')\n",
    "plt.show()"
   ]
  },
  {
   "cell_type": "markdown",
   "id": "7b42ca2f",
   "metadata": {},
   "source": [
    "## ML_LinearRegression"
   ]
  },
  {
   "cell_type": "code",
   "execution_count": 26,
   "id": "a845b4a7",
   "metadata": {},
   "outputs": [
    {
     "name": "stdout",
     "output_type": "stream",
     "text": [
      "Fitting 5 folds for each of 4 candidates, totalling 20 fits\n",
      "최적의 하이퍼파라미터:  {'n_jobs': None, 'fit_intercept': True}\n",
      "최적의 MSE:  5.066916534254136\n"
     ]
    },
    {
     "name": "stderr",
     "output_type": "stream",
     "text": [
      "C:\\Users\\User\\.conda\\envs\\test01\\lib\\site-packages\\sklearn\\model_selection\\_search.py:289: UserWarning: The total space of parameters 4 is smaller than n_iter=5. Running 4 iterations. For exhaustive searches, use GridSearchCV.\n",
      "  % (grid_size, self.n_iter, grid_size), UserWarning)\n"
     ]
    }
   ],
   "source": [
    "from sklearn.linear_model import LinearRegression\n",
    "from sklearn.model_selection import RandomizedSearchCV\n",
    "from sklearn.metrics import make_scorer, mean_squared_error\n",
    "\n",
    "# 1. 하이퍼파라미터 분포 정의 (랜덤 탐색을 위한 범위 설정)\n",
    "param_dist = {\n",
    "    'fit_intercept': [True, False],  # 절편 포함 여부\n",
    "    'n_jobs': [None, -1]             # 병렬 처리 설정\n",
    "}\n",
    "\n",
    "# 2. MSE 스코어 설정 (회귀 문제이므로 Mean Squared Error를 사용)\n",
    "mse_scorer = make_scorer(mean_squared_error, greater_is_better=False)\n",
    "\n",
    "# 3. RandomizedSearchCV 설정 (LinearRegression 모델 사용)\n",
    "clf_lr = LinearRegression()\n",
    "random_search = RandomizedSearchCV(estimator=clf_lr, param_distributions=param_dist, n_iter=5, cv=5, scoring=mse_scorer, n_jobs=-1, verbose=2, random_state=42)\n",
    "\n",
    "# 4. 모델 학습 및 랜덤 서치 수행\n",
    "random_search.fit(train_scaled, y_train)\n",
    "\n",
    "# 5. 최적의 하이퍼파라미터 출력\n",
    "print(\"최적의 하이퍼파라미터: \", random_search.best_params_)\n",
    "\n",
    "# 6. 최적의 하이퍼파라미터로 평가된 평균 MSE 출력\n",
    "print(\"최적의 MSE: \", -random_search.best_score_)"
   ]
  },
  {
   "cell_type": "code",
   "execution_count": 27,
   "id": "bc0ecd9f",
   "metadata": {},
   "outputs": [
    {
     "name": "stdout",
     "output_type": "stream",
     "text": [
      "교차 검증 성능 (MSE, 각 폴드): [4.96151068 4.80546614 5.38017302 5.63659838 4.55083446]\n",
      "평균 MSE: 5.066916534254136\n"
     ]
    }
   ],
   "source": [
    "# 3. 최적의 하이퍼파라미터로 최적의 모델 평가\n",
    "best_clf_lr = random_search.best_estimator_\n",
    "\n",
    "# MSE 스코어로 K-Fold 교차 검증 (K=5)\n",
    "scores = cross_val_score(best_clf_lr, train_scaled, y_train, cv=5, scoring=mse_scorer)\n",
    "\n",
    "# 각 폴드에서의 성능 및 평균 성능 출력\n",
    "print(\"교차 검증 성능 (MSE, 각 폴드):\", -scores)\n",
    "print(\"평균 MSE:\", -scores.mean())"
   ]
  },
  {
   "cell_type": "code",
   "execution_count": 28,
   "id": "10bca620",
   "metadata": {},
   "outputs": [
    {
     "data": {
      "image/png": "[encoded data removed]",
      "text/plain": [
       "<Figure size 432x288 with 1 Axes>"
      ]
     },
     "metadata": {},
     "output_type": "display_data"
    },
    {
     "name": "stdout",
     "output_type": "stream",
     "text": [
      "Mean MSE across folds: 5.066916534254136\n"
     ]
    }
   ],
   "source": [
    "# 교차 검증 결과 시각화 (MSE를 음수 값으로 변환했으므로, -scores 사용)\n",
    "plt.plot(range(1, 6), -scores, marker='o', linestyle='--')\n",
    "plt.title('Linear Regression Cross-Validation MSE')\n",
    "plt.xlabel('Fold')\n",
    "plt.ylabel('Mean Squared Error (MSE)')\n",
    "plt.ylim([0, max(-scores) + 10])  # Y축을 0부터 최대 MSE 값 + 약간의 여유로 설정\n",
    "plt.show()\n",
    "\n",
    "# 평균 MSE 출력 (평균 MSE는 음수로 계산된 값을 다시 양수로 변환)\n",
    "print(f\"Mean MSE across folds: {-scores.mean()}\")"
   ]
  },
  {
   "cell_type": "code",
   "execution_count": 29,
   "id": "9f1bee37",
   "metadata": {},
   "outputs": [
    {
     "name": "stdout",
     "output_type": "stream",
     "text": [
      "\n",
      "--- Linear Regression Regressor ---\n",
      "Mean Squared Error (MSE): 4.956816654953827\n",
      "Mean Absolute Error (MAE): 1.6165142290739496\n",
      "R² Score: 0.5293592763374819\n"
     ]
    }
   ],
   "source": [
    "from sklearn.metrics import mean_squared_error, mean_absolute_error, r2_score\n",
    "\n",
    "# 회귀 모델 예측\n",
    "y_pred_reg = best_clf_lr.predict(test_scaled)\n",
    "\n",
    "# MSE, MAE, R² 스코어 계산\n",
    "mse = mean_squared_error(y_test, y_pred_reg)\n",
    "mae = mean_absolute_error(y_test, y_pred_reg)\n",
    "r2 = r2_score(y_test, y_pred_reg)\n",
    "\n",
    "# 결과 출력\n",
    "print(\"\\n--- Linear Regression Regressor ---\")\n",
    "print(f\"Mean Squared Error (MSE): {mse}\")\n",
    "print(f\"Mean Absolute Error (MAE): {mae}\")\n",
    "print(f\"R² Score: {r2}\")"
   ]
  },
  {
   "cell_type": "code",
   "execution_count": 30,
   "id": "37fdfb37",
   "metadata": {},
   "outputs": [
    {
     "data": {
      "image/png": "[encoded data removed]",
      "text/plain": [
       "<Figure size 576x432 with 1 Axes>"
      ]
     },
     "metadata": {},
     "output_type": "display_data"
    }
   ],
   "source": [
    "import matplotlib.pyplot as plt\n",
    "\n",
    "# 회귀 모델의 예측 값과 실제 값\n",
    "y_pred = best_clf_lr.predict(test_scaled)  # 예측 값\n",
    "y_test = y_test  # 실제 값\n",
    "\n",
    "# 산점도 그리기\n",
    "plt.figure(figsize=(8, 6))\n",
    "plt.scatter(y_test, y_pred, alpha=0.5)\n",
    "plt.plot([min(y_test), max(y_test)], [min(y_test), max(y_test)], color='red', linestyle='--')  # 대각선 기준선\n",
    "plt.xlabel('Actual Values')\n",
    "plt.ylabel('Predicted Values')\n",
    "plt.title('Actual vs Predicted Values')\n",
    "plt.show()"
   ]
  },
  {
   "cell_type": "markdown",
   "id": "24ab76eb",
   "metadata": {},
   "source": [
    "## ML_SVR"
   ]
  },
  {
   "cell_type": "code",
   "execution_count": 31,
   "id": "fda06dca",
   "metadata": {},
   "outputs": [
    {
     "name": "stdout",
     "output_type": "stream",
     "text": [
      "Fitting 5 folds for each of 100 candidates, totalling 500 fits\n",
      "최적의 하이퍼파라미터:  {'C': 7.39606178338064, 'degree': 3, 'epsilon': 0.8972127425763265, 'gamma': 'scale', 'kernel': 'rbf'}\n",
      "최적의 MSE:  4.560781672001369\n"
     ]
    }
   ],
   "source": [
    "from sklearn.svm import SVR\n",
    "from sklearn.model_selection import RandomizedSearchCV\n",
    "from sklearn.metrics import make_scorer, mean_squared_error\n",
    "from scipy.stats import uniform\n",
    "\n",
    "# 1. 하이퍼파라미터 분포 정의 (랜덤 탐색을 위한 범위 설정)\n",
    "param_dist = {\n",
    "    'C': uniform(0.1, 10),              # 규제 강도 (C)\n",
    "    'epsilon': uniform(0.01, 1),        # 허용 오차 (epsilon)\n",
    "    'kernel': ['linear', 'poly', 'rbf', 'sigmoid'],  # 커널 함수 선택\n",
    "    'degree': [2, 3, 4],                # 다항 커널의 차수 (poly 커널에만 해당)\n",
    "    'gamma': ['scale', 'auto']          # 커널 계수 (rbf, poly, sigmoid에만 해당)\n",
    "}\n",
    "\n",
    "# 2. MSE 스코어 설정 (회귀 문제이므로 Mean Squared Error를 사용)\n",
    "mse_scorer = make_scorer(mean_squared_error, greater_is_better=False)\n",
    "\n",
    "# 3. RandomizedSearchCV 설정 (SVR 모델 사용)\n",
    "clf_svr = SVR()\n",
    "random_search = RandomizedSearchCV(estimator=clf_svr, param_distributions=param_dist, n_iter=100, cv=5, scoring=mse_scorer, n_jobs=-1, verbose=2, random_state=42)\n",
    "\n",
    "# 4. 모델 학습 및 랜덤 서치 수행\n",
    "random_search.fit(train_scaled, y_train)\n",
    "\n",
    "# 5. 최적의 하이퍼파라미터 출력\n",
    "print(\"최적의 하이퍼파라미터: \", random_search.best_params_)\n",
    "\n",
    "# 6. 최적의 하이퍼파라미터로 평가된 평균 MSE 출력\n",
    "print(\"최적의 MSE: \", -random_search.best_score_)"
   ]
  },
  {
   "cell_type": "code",
   "execution_count": 32,
   "id": "de6c7a85",
   "metadata": {},
   "outputs": [
    {
     "name": "stdout",
     "output_type": "stream",
     "text": [
      "교차 검증 성능 (MSE, 각 폴드): [4.73193969 4.68834336 4.92769926 4.26906881 4.18685723]\n",
      "평균 MSE: 4.560781672001369\n"
     ]
    }
   ],
   "source": [
    "# 3. 최적의 하이퍼파라미터로 최적의 모델 평가\n",
    "best_clf_svr = random_search.best_estimator_\n",
    "\n",
    "# MSE 스코어로 K-Fold 교차 검증 (K=5)\n",
    "scores = cross_val_score(best_clf_svr, train_scaled, y_train, cv=5, scoring=mse_scorer)\n",
    "\n",
    "# 각 폴드에서의 성능 및 평균 성능 출력\n",
    "print(\"교차 검증 성능 (MSE, 각 폴드):\", -scores)\n",
    "print(\"평균 MSE:\", -scores.mean())"
   ]
  },
  {
   "cell_type": "code",
   "execution_count": 33,
   "id": "f0390f83",
   "metadata": {},
   "outputs": [
    {
     "data": {
      "image/png": "[encoded data removed]",
      "text/plain": [
       "<Figure size 432x288 with 1 Axes>"
      ]
     },
     "metadata": {},
     "output_type": "display_data"
    },
    {
     "name": "stdout",
     "output_type": "stream",
     "text": [
      "Mean MSE across folds: 4.560781672001369\n"
     ]
    }
   ],
   "source": [
    "# 교차 검증 결과 시각화 (MSE를 음수 값으로 변환했으므로, -scores 사용)\n",
    "plt.plot(range(1, 6), -scores, marker='o', linestyle='--')\n",
    "plt.title('SVR Cross-Validation MSE')\n",
    "plt.xlabel('Fold')\n",
    "plt.ylabel('Mean Squared Error (MSE)')\n",
    "plt.ylim([0, max(-scores) + 10])  # Y축을 0부터 최대 MSE 값 + 약간의 여유로 설정\n",
    "plt.show()\n",
    "\n",
    "# 평균 MSE 출력 (평균 MSE는 음수로 계산된 값을 다시 양수로 변환)\n",
    "print(f\"Mean MSE across folds: {-scores.mean()}\")"
   ]
  },
  {
   "cell_type": "code",
   "execution_count": 34,
   "id": "6c8ff168",
   "metadata": {},
   "outputs": [
    {
     "name": "stdout",
     "output_type": "stream",
     "text": [
      "\n",
      "--- SVR Regressor ---\n",
      "Mean Squared Error (MSE): 4.857122472453556\n",
      "Mean Absolute Error (MAE): 1.4963484507204141\n",
      "R² Score: 0.538825057596504\n"
     ]
    }
   ],
   "source": [
    "from sklearn.metrics import mean_squared_error, mean_absolute_error, r2_score\n",
    "\n",
    "# 회귀 모델 예측\n",
    "y_pred_reg = best_clf_svr.predict(test_scaled)\n",
    "\n",
    "# MSE, MAE, R² 스코어 계산\n",
    "mse = mean_squared_error(y_test, y_pred_reg)\n",
    "mae = mean_absolute_error(y_test, y_pred_reg)\n",
    "r2 = r2_score(y_test, y_pred_reg)\n",
    "\n",
    "# 결과 출력\n",
    "print(\"\\n--- SVR Regressor ---\")\n",
    "print(f\"Mean Squared Error (MSE): {mse}\")\n",
    "print(f\"Mean Absolute Error (MAE): {mae}\")\n",
    "print(f\"R² Score: {r2}\")"
   ]
  },
  {
   "cell_type": "code",
   "execution_count": 35,
   "id": "6813bbec",
   "metadata": {},
   "outputs": [
    {
     "data": {
      "image/png": "[encoded data removed]",
      "text/plain": [
       "<Figure size 576x432 with 1 Axes>"
      ]
     },
     "metadata": {},
     "output_type": "display_data"
    }
   ],
   "source": [
    "import matplotlib.pyplot as plt\n",
    "\n",
    "# 회귀 모델의 예측 값과 실제 값\n",
    "y_pred = best_clf_svr.predict(test_scaled)  # 예측 값\n",
    "y_test = y_test  # 실제 값\n",
    "\n",
    "# 산점도 그리기\n",
    "plt.figure(figsize=(8, 6))\n",
    "plt.scatter(y_test, y_pred, alpha=0.5)\n",
    "plt.plot([min(y_test), max(y_test)], [min(y_test), max(y_test)], color='red', linestyle='--')  # 대각선 기준선\n",
    "plt.xlabel('Actual Values')\n",
    "plt.ylabel('Predicted Values')\n",
    "plt.title('Actual vs Predicted Values')\n",
    "plt.show()"
   ]
  },
  {
   "cell_type": "markdown",
   "id": "d4f52f24",
   "metadata": {},
   "source": [
    "## ML_RandomForest"
   ]
  },
  {
   "cell_type": "code",
   "execution_count": 36,
   "id": "a58a2b0f",
   "metadata": {},
   "outputs": [
    {
     "name": "stdout",
     "output_type": "stream",
     "text": [
      "Fitting 5 folds for each of 100 candidates, totalling 500 fits\n",
      "최적의 하이퍼파라미터:  {'bootstrap': True, 'max_depth': 18, 'max_features': 'log2', 'min_samples_leaf': 3, 'min_samples_split': 15, 'n_estimators': 207}\n",
      "최적의 MSE:  4.569534127908533\n"
     ]
    }
   ],
   "source": [
    "from sklearn.ensemble import RandomForestRegressor\n",
    "from sklearn.model_selection import RandomizedSearchCV\n",
    "from sklearn.metrics import make_scorer, mean_squared_error\n",
    "from scipy.stats import randint, uniform\n",
    "\n",
    "# 1. 하이퍼파라미터 분포 정의 (랜덤 탐색을 위한 범위 설정)\n",
    "param_dist = {\n",
    "    'n_estimators': randint(50, 500),       # 트리의 개수\n",
    "    'max_depth': randint(3, 20),            # 트리의 최대 깊이\n",
    "    'min_samples_split': randint(2, 20),    # 노드를 분할하기 위한 최소 샘플 수\n",
    "    'min_samples_leaf': randint(1, 10),     # 리프 노드가 되기 위한 최소 샘플 수\n",
    "    'max_features': ['auto', 'sqrt', 'log2'], # 각 트리에서 고려할 최대 특성 수\n",
    "    'bootstrap': [True, False],             # 부트스트랩 샘플링 여부\n",
    "}\n",
    "\n",
    "# 2. MSE 스코어 설정 (회귀 문제이므로 Mean Squared Error를 사용)\n",
    "mse_scorer = make_scorer(mean_squared_error, greater_is_better=False)\n",
    "\n",
    "# 3. RandomizedSearchCV 설정 (RandomForestRegressor 모델 사용)\n",
    "clf_rf = RandomForestRegressor(random_state=42)\n",
    "random_search = RandomizedSearchCV(estimator=clf_rf, param_distributions=param_dist, n_iter=100, cv=5, scoring=mse_scorer, n_jobs=-1, verbose=2, random_state=42)\n",
    "\n",
    "# 4. 모델 학습 및 랜덤 서치 수행\n",
    "random_search.fit(train_scaled, y_train)\n",
    "\n",
    "# 5. 최적의 하이퍼파라미터 출력\n",
    "print(\"최적의 하이퍼파라미터: \", random_search.best_params_)\n",
    "\n",
    "# 6. 최적의 하이퍼파라미터로 평가된 평균 MSE 출력\n",
    "print(\"최적의 MSE: \", -random_search.best_score_)"
   ]
  },
  {
   "cell_type": "code",
   "execution_count": 37,
   "id": "ad3b5e35",
   "metadata": {},
   "outputs": [
    {
     "name": "stdout",
     "output_type": "stream",
     "text": [
      "교차 검증 성능 (MSE, 각 폴드): [4.98218505 4.58684394 4.67426216 4.42643426 4.17794523]\n",
      "평균 MSE: 4.569534127908533\n"
     ]
    }
   ],
   "source": [
    "# 3. 최적의 하이퍼파라미터로 최적의 모델 평가\n",
    "best_clf_rf = random_search.best_estimator_\n",
    "\n",
    "# MSE 스코어로 K-Fold 교차 검증 (K=5)\n",
    "scores = cross_val_score(best_clf_rf, train_scaled, y_train, cv=5, scoring=mse_scorer)\n",
    "\n",
    "# 각 폴드에서의 성능 및 평균 성능 출력\n",
    "print(\"교차 검증 성능 (MSE, 각 폴드):\", -scores)\n",
    "print(\"평균 MSE:\", -scores.mean())"
   ]
  },
  {
   "cell_type": "code",
   "execution_count": 38,
   "id": "89ca5d55",
   "metadata": {},
   "outputs": [
    {
     "data": {
      "image/png": "[encoded data removed]",
      "text/plain": [
       "<Figure size 432x288 with 1 Axes>"
      ]
     },
     "metadata": {},
     "output_type": "display_data"
    },
    {
     "name": "stdout",
     "output_type": "stream",
     "text": [
      "Mean MSE across folds: 4.569534127908533\n"
     ]
    }
   ],
   "source": [
    "# 교차 검증 결과 시각화 (MSE를 음수 값으로 변환했으므로, -scores 사용)\n",
    "plt.plot(range(1, 6), -scores, marker='o', linestyle='--')\n",
    "plt.title('Random Forest Cross-Validation MSE')\n",
    "plt.xlabel('Fold')\n",
    "plt.ylabel('Mean Squared Error (MSE)')\n",
    "plt.ylim([0, max(-scores) + 10])  # Y축을 0부터 최대 MSE 값 + 약간의 여유로 설정\n",
    "plt.show()\n",
    "\n",
    "# 평균 MSE 출력 (평균 MSE는 음수로 계산된 값을 다시 양수로 변환)\n",
    "print(f\"Mean MSE across folds: {-scores.mean()}\")"
   ]
  },
  {
   "cell_type": "code",
   "execution_count": 39,
   "id": "bec26a31",
   "metadata": {},
   "outputs": [
    {
     "name": "stdout",
     "output_type": "stream",
     "text": [
      "\n",
      "--- Random Forest Regressor ---\n",
      "Mean Squared Error (MSE): 4.723849988404894\n",
      "Mean Absolute Error (MAE): 1.5151253128016149\n",
      "R² Score: 0.5514790374999725\n"
     ]
    }
   ],
   "source": [
    "from sklearn.metrics import mean_squared_error, mean_absolute_error, r2_score\n",
    "\n",
    "# 회귀 모델 예측\n",
    "y_pred_reg = best_clf_rf.predict(test_scaled)\n",
    "\n",
    "# MSE, MAE, R² 스코어 계산\n",
    "mse = mean_squared_error(y_test, y_pred_reg)\n",
    "mae = mean_absolute_error(y_test, y_pred_reg)\n",
    "r2 = r2_score(y_test, y_pred_reg)\n",
    "\n",
    "# 결과 출력\n",
    "print(\"\\n--- Random Forest Regressor ---\")\n",
    "print(f\"Mean Squared Error (MSE): {mse}\")\n",
    "print(f\"Mean Absolute Error (MAE): {mae}\")\n",
    "print(f\"R² Score: {r2}\")"
   ]
  }
 ],
 "metadata": {
  "kernelspec": {
   "display_name": "Python 3",
   "language": "python",
   "name": "python3"
  },
  "language_info": {
   "codemirror_mode": {
    "name": "ipython",
    "version": 3
   },
   "file_extension": ".py",
   "mimetype": "text/x-python",
   "name": "python",
   "nbconvert_exporter": "python",
   "pygments_lexer": "ipython3",
   "version": "3.6.13"
  }
 },
 "nbformat": 4,
 "nbformat_minor": 5
}
