{
 "cells": [
  {
   "cell_type": "code",
   "execution_count": 1,
   "id": "62e2f48c",
   "metadata": {},
   "outputs": [],
   "source": [
    "# url = \"http://archive.ics.uci.edu/ml/machine-learning-databases/auto-mpg/auto-mpg.data\"\n",
    "\n",
    "\n",
    "# columns = ['mpg', 'cylinders', 'displacement', 'horsepower', 'weight', 'acceleration', 'model year', 'origin']\n",
    "\n",
    "\n",
    "#  df = pd.read_csv(url, delim_whitespace=True, names=columns, na_values='?') \n",
    "\n",
    " \n",
    "# # 결측값 처리 (horsepower 컬럼에 결측값 존재)\n",
    "# df = df.dropna()\n",
    "\n",
    "# 해당 소스를 활용하여 연비(Mile per gallen)를 예측 \n",
    "\n",
    "# mse를 구하라\n",
    "\n",
    "\n",
    "# 1. ML (RF, DT, LR)\n",
    "\n",
    "# 2. FCNN\n",
    "\n",
    "# 3. 순환데이터로 변환후 CNN\n",
    "\n",
    "\n",
    "# 각 단계별 검사후 다음단계 진행"
   ]
  },
  {
   "cell_type": "code",
   "execution_count": 2,
   "id": "e5c9641c",
   "metadata": {},
   "outputs": [],
   "source": [
    "import numpy as np\n",
    "import pandas as pd\n",
    "import matplotlib.pyplot as plt\n",
    "import seaborn as sns\n",
    "from sklearn.metrics import f1_score, classification_report\n",
    "from tensorflow.keras.models import Sequential\n",
    "from tensorflow.keras.layers import Conv1D, Dense, Dropout, Flatten, Reshape, LSTM, Conv1D, MaxPooling1D, Bidirectional, ConvLSTM1D"
   ]
  },
  {
   "cell_type": "code",
   "execution_count": 3,
   "id": "354d6854",
   "metadata": {},
   "outputs": [
    {
     "data": {
      "text/html": [
       "<div>\n",
       "<style scoped>\n",
       "    .dataframe tbody tr th:only-of-type {\n",
       "        vertical-align: middle;\n",
       "    }\n",
       "\n",
       "    .dataframe tbody tr th {\n",
       "        vertical-align: top;\n",
       "    }\n",
       "\n",
       "    .dataframe thead th {\n",
       "        text-align: right;\n",
       "    }\n",
       "</style>\n",
       "<table border=\"1\" class=\"dataframe\">\n",
       "  <thead>\n",
       "    <tr style=\"text-align: right;\">\n",
       "      <th></th>\n",
       "      <th>mpg</th>\n",
       "      <th>cylinders</th>\n",
       "      <th>displacement</th>\n",
       "      <th>horsepower</th>\n",
       "      <th>weight</th>\n",
       "      <th>acceleration</th>\n",
       "      <th>model year</th>\n",
       "      <th>origin</th>\n",
       "      <th>car name</th>\n",
       "    </tr>\n",
       "  </thead>\n",
       "  <tbody>\n",
       "    <tr>\n",
       "      <th>0</th>\n",
       "      <td>18.0</td>\n",
       "      <td>8</td>\n",
       "      <td>307.0</td>\n",
       "      <td>130.0</td>\n",
       "      <td>3504.0</td>\n",
       "      <td>12.0</td>\n",
       "      <td>70</td>\n",
       "      <td>1</td>\n",
       "      <td>chevrolet chevelle malibu</td>\n",
       "    </tr>\n",
       "    <tr>\n",
       "      <th>1</th>\n",
       "      <td>15.0</td>\n",
       "      <td>8</td>\n",
       "      <td>350.0</td>\n",
       "      <td>165.0</td>\n",
       "      <td>3693.0</td>\n",
       "      <td>11.5</td>\n",
       "      <td>70</td>\n",
       "      <td>1</td>\n",
       "      <td>buick skylark 320</td>\n",
       "    </tr>\n",
       "    <tr>\n",
       "      <th>2</th>\n",
       "      <td>18.0</td>\n",
       "      <td>8</td>\n",
       "      <td>318.0</td>\n",
       "      <td>150.0</td>\n",
       "      <td>3436.0</td>\n",
       "      <td>11.0</td>\n",
       "      <td>70</td>\n",
       "      <td>1</td>\n",
       "      <td>plymouth satellite</td>\n",
       "    </tr>\n",
       "    <tr>\n",
       "      <th>3</th>\n",
       "      <td>16.0</td>\n",
       "      <td>8</td>\n",
       "      <td>304.0</td>\n",
       "      <td>150.0</td>\n",
       "      <td>3433.0</td>\n",
       "      <td>12.0</td>\n",
       "      <td>70</td>\n",
       "      <td>1</td>\n",
       "      <td>amc rebel sst</td>\n",
       "    </tr>\n",
       "    <tr>\n",
       "      <th>4</th>\n",
       "      <td>17.0</td>\n",
       "      <td>8</td>\n",
       "      <td>302.0</td>\n",
       "      <td>140.0</td>\n",
       "      <td>3449.0</td>\n",
       "      <td>10.5</td>\n",
       "      <td>70</td>\n",
       "      <td>1</td>\n",
       "      <td>ford torino</td>\n",
       "    </tr>\n",
       "    <tr>\n",
       "      <th>...</th>\n",
       "      <td>...</td>\n",
       "      <td>...</td>\n",
       "      <td>...</td>\n",
       "      <td>...</td>\n",
       "      <td>...</td>\n",
       "      <td>...</td>\n",
       "      <td>...</td>\n",
       "      <td>...</td>\n",
       "      <td>...</td>\n",
       "    </tr>\n",
       "    <tr>\n",
       "      <th>393</th>\n",
       "      <td>27.0</td>\n",
       "      <td>4</td>\n",
       "      <td>140.0</td>\n",
       "      <td>86.0</td>\n",
       "      <td>2790.0</td>\n",
       "      <td>15.6</td>\n",
       "      <td>82</td>\n",
       "      <td>1</td>\n",
       "      <td>ford mustang gl</td>\n",
       "    </tr>\n",
       "    <tr>\n",
       "      <th>394</th>\n",
       "      <td>44.0</td>\n",
       "      <td>4</td>\n",
       "      <td>97.0</td>\n",
       "      <td>52.0</td>\n",
       "      <td>2130.0</td>\n",
       "      <td>24.6</td>\n",
       "      <td>82</td>\n",
       "      <td>2</td>\n",
       "      <td>vw pickup</td>\n",
       "    </tr>\n",
       "    <tr>\n",
       "      <th>395</th>\n",
       "      <td>32.0</td>\n",
       "      <td>4</td>\n",
       "      <td>135.0</td>\n",
       "      <td>84.0</td>\n",
       "      <td>2295.0</td>\n",
       "      <td>11.6</td>\n",
       "      <td>82</td>\n",
       "      <td>1</td>\n",
       "      <td>dodge rampage</td>\n",
       "    </tr>\n",
       "    <tr>\n",
       "      <th>396</th>\n",
       "      <td>28.0</td>\n",
       "      <td>4</td>\n",
       "      <td>120.0</td>\n",
       "      <td>79.0</td>\n",
       "      <td>2625.0</td>\n",
       "      <td>18.6</td>\n",
       "      <td>82</td>\n",
       "      <td>1</td>\n",
       "      <td>ford ranger</td>\n",
       "    </tr>\n",
       "    <tr>\n",
       "      <th>397</th>\n",
       "      <td>31.0</td>\n",
       "      <td>4</td>\n",
       "      <td>119.0</td>\n",
       "      <td>82.0</td>\n",
       "      <td>2720.0</td>\n",
       "      <td>19.4</td>\n",
       "      <td>82</td>\n",
       "      <td>1</td>\n",
       "      <td>chevy s-10</td>\n",
       "    </tr>\n",
       "  </tbody>\n",
       "</table>\n",
       "<p>398 rows × 9 columns</p>\n",
       "</div>"
      ],
      "text/plain": [
       "      mpg  cylinders  displacement  horsepower  weight  acceleration  \\\n",
       "0    18.0          8         307.0       130.0  3504.0          12.0   \n",
       "1    15.0          8         350.0       165.0  3693.0          11.5   \n",
       "2    18.0          8         318.0       150.0  3436.0          11.0   \n",
       "3    16.0          8         304.0       150.0  3433.0          12.0   \n",
       "4    17.0          8         302.0       140.0  3449.0          10.5   \n",
       "..    ...        ...           ...         ...     ...           ...   \n",
       "393  27.0          4         140.0        86.0  2790.0          15.6   \n",
       "394  44.0          4          97.0        52.0  2130.0          24.6   \n",
       "395  32.0          4         135.0        84.0  2295.0          11.6   \n",
       "396  28.0          4         120.0        79.0  2625.0          18.6   \n",
       "397  31.0          4         119.0        82.0  2720.0          19.4   \n",
       "\n",
       "     model year  origin                   car name  \n",
       "0            70       1  chevrolet chevelle malibu  \n",
       "1            70       1          buick skylark 320  \n",
       "2            70       1         plymouth satellite  \n",
       "3            70       1              amc rebel sst  \n",
       "4            70       1                ford torino  \n",
       "..          ...     ...                        ...  \n",
       "393          82       1            ford mustang gl  \n",
       "394          82       2                  vw pickup  \n",
       "395          82       1              dodge rampage  \n",
       "396          82       1                ford ranger  \n",
       "397          82       1                 chevy s-10  \n",
       "\n",
       "[398 rows x 9 columns]"
      ]
     },
     "execution_count": 3,
     "metadata": {},
     "output_type": "execute_result"
    }
   ],
   "source": [
    "columns = ['mpg', 'cylinders', 'displacement', 'horsepower', 'weight', 'acceleration', 'model year', 'origin', 'car name']\n",
    "\n",
    "\n",
    "df = pd.read_csv(\"http://archive.ics.uci.edu/ml/machine-learning-databases/auto-mpg/auto-mpg.data\", delim_whitespace=True, names=columns, na_values='?') \n",
    "\n",
    "df"
   ]
  },
  {
   "cell_type": "code",
   "execution_count": 4,
   "id": "c813add0",
   "metadata": {},
   "outputs": [
    {
     "data": {
      "text/plain": [
       "mpg             0\n",
       "cylinders       0\n",
       "displacement    0\n",
       "horsepower      6\n",
       "weight          0\n",
       "acceleration    0\n",
       "model year      0\n",
       "origin          0\n",
       "car name        0\n",
       "dtype: int64"
      ]
     },
     "execution_count": 4,
     "metadata": {},
     "output_type": "execute_result"
    }
   ],
   "source": [
    "df.isnull().sum()"
   ]
  },
  {
   "cell_type": "code",
   "execution_count": 5,
   "id": "8929a865",
   "metadata": {},
   "outputs": [],
   "source": [
    "df = df.dropna()"
   ]
  },
  {
   "cell_type": "code",
   "execution_count": 6,
   "id": "95b422a6",
   "metadata": {},
   "outputs": [
    {
     "data": {
      "text/plain": [
       "mpg             0\n",
       "cylinders       0\n",
       "displacement    0\n",
       "horsepower      0\n",
       "weight          0\n",
       "acceleration    0\n",
       "model year      0\n",
       "origin          0\n",
       "car name        0\n",
       "dtype: int64"
      ]
     },
     "execution_count": 6,
     "metadata": {},
     "output_type": "execute_result"
    }
   ],
   "source": [
    "df.isnull().sum()"
   ]
  },
  {
   "cell_type": "code",
   "execution_count": 7,
   "id": "59776c91",
   "metadata": {},
   "outputs": [],
   "source": [
    "df= df.drop('car name', axis =1)"
   ]
  },
  {
   "cell_type": "markdown",
   "id": "8d4b4f41",
   "metadata": {},
   "source": [
    "# 1. ML (RF, DT, LR)"
   ]
  },
  {
   "cell_type": "code",
   "execution_count": 8,
   "id": "8769eb2e",
   "metadata": {},
   "outputs": [
    {
     "data": {
      "text/plain": [
       "0      18.0\n",
       "1      15.0\n",
       "2      18.0\n",
       "3      16.0\n",
       "4      17.0\n",
       "       ... \n",
       "393    27.0\n",
       "394    44.0\n",
       "395    32.0\n",
       "396    28.0\n",
       "397    31.0\n",
       "Name: mpg, Length: 392, dtype: float64"
      ]
     },
     "execution_count": 8,
     "metadata": {},
     "output_type": "execute_result"
    }
   ],
   "source": [
    "y = df['mpg']\n",
    "y"
   ]
  },
  {
   "cell_type": "code",
   "execution_count": 9,
   "id": "58f7701f",
   "metadata": {},
   "outputs": [
    {
     "data": {
      "text/html": [
       "<div>\n",
       "<style scoped>\n",
       "    .dataframe tbody tr th:only-of-type {\n",
       "        vertical-align: middle;\n",
       "    }\n",
       "\n",
       "    .dataframe tbody tr th {\n",
       "        vertical-align: top;\n",
       "    }\n",
       "\n",
       "    .dataframe thead th {\n",
       "        text-align: right;\n",
       "    }\n",
       "</style>\n",
       "<table border=\"1\" class=\"dataframe\">\n",
       "  <thead>\n",
       "    <tr style=\"text-align: right;\">\n",
       "      <th></th>\n",
       "      <th>cylinders</th>\n",
       "      <th>displacement</th>\n",
       "      <th>horsepower</th>\n",
       "      <th>weight</th>\n",
       "      <th>acceleration</th>\n",
       "      <th>model year</th>\n",
       "      <th>origin</th>\n",
       "    </tr>\n",
       "  </thead>\n",
       "  <tbody>\n",
       "    <tr>\n",
       "      <th>0</th>\n",
       "      <td>8</td>\n",
       "      <td>307.0</td>\n",
       "      <td>130.0</td>\n",
       "      <td>3504.0</td>\n",
       "      <td>12.0</td>\n",
       "      <td>70</td>\n",
       "      <td>1</td>\n",
       "    </tr>\n",
       "    <tr>\n",
       "      <th>1</th>\n",
       "      <td>8</td>\n",
       "      <td>350.0</td>\n",
       "      <td>165.0</td>\n",
       "      <td>3693.0</td>\n",
       "      <td>11.5</td>\n",
       "      <td>70</td>\n",
       "      <td>1</td>\n",
       "    </tr>\n",
       "    <tr>\n",
       "      <th>2</th>\n",
       "      <td>8</td>\n",
       "      <td>318.0</td>\n",
       "      <td>150.0</td>\n",
       "      <td>3436.0</td>\n",
       "      <td>11.0</td>\n",
       "      <td>70</td>\n",
       "      <td>1</td>\n",
       "    </tr>\n",
       "    <tr>\n",
       "      <th>3</th>\n",
       "      <td>8</td>\n",
       "      <td>304.0</td>\n",
       "      <td>150.0</td>\n",
       "      <td>3433.0</td>\n",
       "      <td>12.0</td>\n",
       "      <td>70</td>\n",
       "      <td>1</td>\n",
       "    </tr>\n",
       "    <tr>\n",
       "      <th>4</th>\n",
       "      <td>8</td>\n",
       "      <td>302.0</td>\n",
       "      <td>140.0</td>\n",
       "      <td>3449.0</td>\n",
       "      <td>10.5</td>\n",
       "      <td>70</td>\n",
       "      <td>1</td>\n",
       "    </tr>\n",
       "    <tr>\n",
       "      <th>...</th>\n",
       "      <td>...</td>\n",
       "      <td>...</td>\n",
       "      <td>...</td>\n",
       "      <td>...</td>\n",
       "      <td>...</td>\n",
       "      <td>...</td>\n",
       "      <td>...</td>\n",
       "    </tr>\n",
       "    <tr>\n",
       "      <th>393</th>\n",
       "      <td>4</td>\n",
       "      <td>140.0</td>\n",
       "      <td>86.0</td>\n",
       "      <td>2790.0</td>\n",
       "      <td>15.6</td>\n",
       "      <td>82</td>\n",
       "      <td>1</td>\n",
       "    </tr>\n",
       "    <tr>\n",
       "      <th>394</th>\n",
       "      <td>4</td>\n",
       "      <td>97.0</td>\n",
       "      <td>52.0</td>\n",
       "      <td>2130.0</td>\n",
       "      <td>24.6</td>\n",
       "      <td>82</td>\n",
       "      <td>2</td>\n",
       "    </tr>\n",
       "    <tr>\n",
       "      <th>395</th>\n",
       "      <td>4</td>\n",
       "      <td>135.0</td>\n",
       "      <td>84.0</td>\n",
       "      <td>2295.0</td>\n",
       "      <td>11.6</td>\n",
       "      <td>82</td>\n",
       "      <td>1</td>\n",
       "    </tr>\n",
       "    <tr>\n",
       "      <th>396</th>\n",
       "      <td>4</td>\n",
       "      <td>120.0</td>\n",
       "      <td>79.0</td>\n",
       "      <td>2625.0</td>\n",
       "      <td>18.6</td>\n",
       "      <td>82</td>\n",
       "      <td>1</td>\n",
       "    </tr>\n",
       "    <tr>\n",
       "      <th>397</th>\n",
       "      <td>4</td>\n",
       "      <td>119.0</td>\n",
       "      <td>82.0</td>\n",
       "      <td>2720.0</td>\n",
       "      <td>19.4</td>\n",
       "      <td>82</td>\n",
       "      <td>1</td>\n",
       "    </tr>\n",
       "  </tbody>\n",
       "</table>\n",
       "<p>392 rows × 7 columns</p>\n",
       "</div>"
      ],
      "text/plain": [
       "     cylinders  displacement  horsepower  weight  acceleration  model year  \\\n",
       "0            8         307.0       130.0  3504.0          12.0          70   \n",
       "1            8         350.0       165.0  3693.0          11.5          70   \n",
       "2            8         318.0       150.0  3436.0          11.0          70   \n",
       "3            8         304.0       150.0  3433.0          12.0          70   \n",
       "4            8         302.0       140.0  3449.0          10.5          70   \n",
       "..         ...           ...         ...     ...           ...         ...   \n",
       "393          4         140.0        86.0  2790.0          15.6          82   \n",
       "394          4          97.0        52.0  2130.0          24.6          82   \n",
       "395          4         135.0        84.0  2295.0          11.6          82   \n",
       "396          4         120.0        79.0  2625.0          18.6          82   \n",
       "397          4         119.0        82.0  2720.0          19.4          82   \n",
       "\n",
       "     origin  \n",
       "0         1  \n",
       "1         1  \n",
       "2         1  \n",
       "3         1  \n",
       "4         1  \n",
       "..      ...  \n",
       "393       1  \n",
       "394       2  \n",
       "395       1  \n",
       "396       1  \n",
       "397       1  \n",
       "\n",
       "[392 rows x 7 columns]"
      ]
     },
     "execution_count": 9,
     "metadata": {},
     "output_type": "execute_result"
    }
   ],
   "source": [
    "X = df.drop('mpg', axis=1)\n",
    "X"
   ]
  },
  {
   "cell_type": "code",
   "execution_count": 10,
   "id": "935f104c",
   "metadata": {},
   "outputs": [
    {
     "data": {
      "text/plain": [
       "((313, 7), (79, 7), (313,), (79,))"
      ]
     },
     "execution_count": 10,
     "metadata": {},
     "output_type": "execute_result"
    }
   ],
   "source": [
    "from sklearn.model_selection import train_test_split\n",
    "\n",
    "X_train, X_test, y_train, y_test = train_test_split(X, y, test_size=0.2, random_state=32)\n",
    "\n",
    "X_train.shape, X_test.shape, y_train.shape, y_test.shape"
   ]
  },
  {
   "cell_type": "code",
   "execution_count": 11,
   "id": "942fdfe0",
   "metadata": {},
   "outputs": [
    {
     "name": "stdout",
     "output_type": "stream",
     "text": [
      "[20.  29.  26.  36.  17.6 32.9 25.  22.3 13.  20.2 26.  31.  39.  26.\n",
      " 15.  26.8 37.  12.  12.  15.  27.5 26.  17.5 22.5 31.  27.  20.2 24.\n",
      " 18.  13.  18.2 18.5 30.  15.  22.3 21.  21.5 15.  30.9 32.9 19.  18.6\n",
      " 22.3 18.  37.  36.  22.3 36.1 27.  24.  26.  22.  24.  22.  32.3 15.\n",
      " 27.5 30.  32.7 23.  21.   9.  19.  32.  28.  30.9 15.  13.  17.5 23.\n",
      " 32.  32.8 43.4 29.  29.5 29.  22.  23.  25. ]\n",
      "1.0\n"
     ]
    }
   ],
   "source": [
    "from sklearn.metrics import mean_squared_error\n",
    "\n",
    "from sklearn.tree import DecisionTreeRegressor\n",
    "\n",
    "clf_dt = DecisionTreeRegressor()\n",
    "clf_dt.fit(X_train, y_train)\n",
    "\n",
    "pred_dt = clf_dt.predict(X_test)\n",
    "\n",
    "print(pred_dt)\n",
    "print(clf_dt.score(X_train, y_train))"
   ]
  },
  {
   "cell_type": "code",
   "execution_count": 12,
   "id": "c667eddd",
   "metadata": {},
   "outputs": [
    {
     "name": "stdout",
     "output_type": "stream",
     "text": [
      "평균제곱근오차 17.913670886075952\n"
     ]
    }
   ],
   "source": [
    "mse = mean_squared_error(pred_dt, y_test)\n",
    "print('평균제곱근오차', mse)"
   ]
  },
  {
   "cell_type": "code",
   "execution_count": 13,
   "id": "2fa9046d",
   "metadata": {},
   "outputs": [
    {
     "name": "stdout",
     "output_type": "stream",
     "text": [
      "[18.748 29.369 24.381 33.566 19.915 31.342 25.322 27.9   13.86  20.86\n",
      " 25.029 34.163 35.988 29.591 16.31  26.437 36.379 12.4   12.27  13.67\n",
      " 24.444 24.755 17.241 21.295 30.035 27.408 20.978 26.204 20.86  12.73\n",
      " 17.891 18.753 33.238 14.02  24.578 21.46  22.465 14.22  26.392 29.659\n",
      " 18.195 21.021 30.076 18.286 37.543 33.692 26.786 35.043 28.063 25.145\n",
      " 27.595 18.857 24.344 22.11  39.85  14.33  24.095 30.581 28.491 25.15\n",
      " 19.306 13.31  20.65  30.166 27.079 25.585 14.747 14.905 17.195 26.765\n",
      " 31.861 36.033 33.286 30.456 33.45  28.503 18.253 24.98  22.223]\n",
      "0.984637202315632\n"
     ]
    }
   ],
   "source": [
    "from sklearn.ensemble import RandomForestRegressor\n",
    "from sklearn.model_selection import RandomizedSearchCV\n",
    "from sklearn.metrics import make_scorer, mean_squared_error\n",
    "from scipy.stats import randint, uniform\n",
    "\n",
    "clf_rf = RandomForestRegressor(random_state=42)\n",
    "clf_rf.fit(X_train, y_train)\n",
    "\n",
    "pred_rf = clf_rf.predict(X_test)\n",
    "\n",
    "print(pred_rf)\n",
    "print(clf_rf.score(X_train, y_train))"
   ]
  },
  {
   "cell_type": "code",
   "execution_count": 14,
   "id": "fbfc6187",
   "metadata": {},
   "outputs": [
    {
     "name": "stdout",
     "output_type": "stream",
     "text": [
      "평균제곱근오차 10.640604329113929\n"
     ]
    }
   ],
   "source": [
    "mse = mean_squared_error(pred_rf, y_test)\n",
    "print('평균제곱근오차', mse)"
   ]
  },
  {
   "cell_type": "code",
   "execution_count": 15,
   "id": "6d661219",
   "metadata": {},
   "outputs": [
    {
     "name": "stdout",
     "output_type": "stream",
     "text": [
      "[20.  29.  26.  36.  17.6 32.9 25.  22.3 13.  20.2 26.  31.  39.  26.\n",
      " 15.  26.8 37.  12.  12.  15.  27.5 26.  17.5 22.5 31.  27.  20.2 24.\n",
      " 18.  13.  18.2 18.5 30.  15.  22.3 21.  21.5 15.  30.9 32.9 19.  18.6\n",
      " 22.3 18.  37.  36.  22.3 36.1 27.  24.  26.  22.  24.  22.  32.3 15.\n",
      " 27.5 30.  32.7 23.  21.   9.  19.  32.  28.  30.9 15.  13.  17.5 23.\n",
      " 32.  32.8 43.4 29.  29.5 29.  22.  23.  25. ]\n",
      "0.8287380851972168\n"
     ]
    }
   ],
   "source": [
    "from sklearn.linear_model import LinearRegression\n",
    "from sklearn.model_selection import RandomizedSearchCV\n",
    "from sklearn.metrics import make_scorer, mean_squared_error\n",
    "\n",
    "from sklearn.metrics import mean_squared_error\n",
    "from sklearn.metrics import confusion_matrix\n",
    "\n",
    "from sklearn.tree import DecisionTreeRegressor\n",
    "\n",
    "clf_lr = LinearRegression()\n",
    "clf_lr.fit(X_train, y_train)\n",
    "\n",
    "pred_lr = clf_lr.predict(X_test)\n",
    "\n",
    "print(pred_dt)\n",
    "print(clf_lr.score(X_train, y_train))"
   ]
  },
  {
   "cell_type": "code",
   "execution_count": 16,
   "id": "a69504ba",
   "metadata": {},
   "outputs": [
    {
     "name": "stdout",
     "output_type": "stream",
     "text": [
      "평균제곱근오차 11.929209769157861\n"
     ]
    }
   ],
   "source": [
    "mse = mean_squared_error(pred_lr, y_test)\n",
    "print('평균제곱근오차', mse)"
   ]
  },
  {
   "cell_type": "markdown",
   "id": "6a2f9af4",
   "metadata": {},
   "source": [
    "## FCNN"
   ]
  },
  {
   "cell_type": "code",
   "execution_count": 17,
   "id": "cdf86bfd",
   "metadata": {},
   "outputs": [],
   "source": [
    "X_train, X_test, y_train, y_test = train_test_split(X, y, test_size=0.2, random_state=42)"
   ]
  },
  {
   "cell_type": "code",
   "execution_count": 18,
   "id": "c68f4a3b",
   "metadata": {},
   "outputs": [
    {
     "name": "stdout",
     "output_type": "stream",
     "text": [
      "Model: \"sequential\"\n",
      "_________________________________________________________________\n",
      "Layer (type)                 Output Shape              Param #   \n",
      "=================================================================\n",
      "dense (Dense)                (None, 32)                256       \n",
      "_________________________________________________________________\n",
      "dense_1 (Dense)              (None, 64)                2112      \n",
      "_________________________________________________________________\n",
      "dense_2 (Dense)              (None, 1)                 65        \n",
      "=================================================================\n",
      "Total params: 2,433\n",
      "Trainable params: 2,433\n",
      "Non-trainable params: 0\n",
      "_________________________________________________________________\n"
     ]
    }
   ],
   "source": [
    "# Model 3\n",
    "model = Sequential()\n",
    "\n",
    "model.add(Dense(32, input_shape=(X_train.shape[1],), activation='relu'))\n",
    "\n",
    "\n",
    "model.add(Dense(64, activation='relu'))\n",
    "\n",
    "model.add(Dense(1))\n",
    "\n",
    "model.compile(loss='mean_squared_error', optimizer='adam', metrics=['mean_squared_error'])  # 회귀에서는 MSE 사용\n",
    "model.summary()\n"
   ]
  },
  {
   "cell_type": "code",
   "execution_count": 19,
   "id": "6bf62754",
   "metadata": {},
   "outputs": [
    {
     "name": "stdout",
     "output_type": "stream",
     "text": [
      "Epoch 1/50\n",
      "9/9 [==============================] - 0s 14ms/step - loss: 11234.8096 - mean_squared_error: 11234.8096 - val_loss: 7187.5781 - val_mean_squared_error: 7187.5781\n",
      "Epoch 2/50\n",
      "9/9 [==============================] - 0s 3ms/step - loss: 2962.5637 - mean_squared_error: 2962.5637 - val_loss: 1888.2559 - val_mean_squared_error: 1888.2559\n",
      "Epoch 3/50\n",
      "9/9 [==============================] - 0s 3ms/step - loss: 1761.6587 - mean_squared_error: 1761.6587 - val_loss: 159.8093 - val_mean_squared_error: 159.8093\n",
      "Epoch 4/50\n",
      "9/9 [==============================] - 0s 2ms/step - loss: 732.2015 - mean_squared_error: 732.2015 - val_loss: 145.8633 - val_mean_squared_error: 145.8633\n",
      "Epoch 5/50\n",
      "9/9 [==============================] - 0s 2ms/step - loss: 336.9748 - mean_squared_error: 336.9748 - val_loss: 215.8085 - val_mean_squared_error: 215.8085\n",
      "Epoch 6/50\n",
      "9/9 [==============================] - 0s 2ms/step - loss: 160.7183 - mean_squared_error: 160.7183 - val_loss: 162.2264 - val_mean_squared_error: 162.2264\n",
      "Epoch 7/50\n",
      "9/9 [==============================] - 0s 2ms/step - loss: 135.4973 - mean_squared_error: 135.4973 - val_loss: 100.4759 - val_mean_squared_error: 100.4759\n",
      "Epoch 8/50\n",
      "9/9 [==============================] - 0s 2ms/step - loss: 115.6942 - mean_squared_error: 115.6942 - val_loss: 91.1807 - val_mean_squared_error: 91.1807\n",
      "Epoch 9/50\n",
      "9/9 [==============================] - 0s 2ms/step - loss: 106.2497 - mean_squared_error: 106.2497 - val_loss: 77.9138 - val_mean_squared_error: 77.9138\n",
      "Epoch 10/50\n",
      "9/9 [==============================] - 0s 4ms/step - loss: 106.0095 - mean_squared_error: 106.0095 - val_loss: 76.2356 - val_mean_squared_error: 76.2356\n",
      "Epoch 11/50\n",
      "9/9 [==============================] - 0s 2ms/step - loss: 100.6801 - mean_squared_error: 100.6801 - val_loss: 75.4067 - val_mean_squared_error: 75.4067\n",
      "Epoch 12/50\n",
      "9/9 [==============================] - 0s 2ms/step - loss: 99.2598 - mean_squared_error: 99.2598 - val_loss: 75.0282 - val_mean_squared_error: 75.0282\n",
      "Epoch 13/50\n",
      "9/9 [==============================] - 0s 3ms/step - loss: 97.6507 - mean_squared_error: 97.6507 - val_loss: 74.8115 - val_mean_squared_error: 74.8115\n",
      "Epoch 14/50\n",
      "9/9 [==============================] - 0s 1ms/step - loss: 97.7281 - mean_squared_error: 97.7281 - val_loss: 74.8946 - val_mean_squared_error: 74.8946\n",
      "Epoch 15/50\n",
      "9/9 [==============================] - 0s 2ms/step - loss: 96.5455 - mean_squared_error: 96.5455 - val_loss: 75.3630 - val_mean_squared_error: 75.3630\n",
      "Epoch 16/50\n",
      "9/9 [==============================] - 0s 2ms/step - loss: 96.9898 - mean_squared_error: 96.9898 - val_loss: 74.6842 - val_mean_squared_error: 74.6842\n",
      "Epoch 17/50\n",
      "9/9 [==============================] - 0s 3ms/step - loss: 97.4236 - mean_squared_error: 97.4236 - val_loss: 81.6503 - val_mean_squared_error: 81.6503\n",
      "Epoch 18/50\n",
      "9/9 [==============================] - 0s 3ms/step - loss: 100.7911 - mean_squared_error: 100.7911 - val_loss: 78.2696 - val_mean_squared_error: 78.2696\n",
      "Epoch 19/50\n",
      "9/9 [==============================] - 0s 2ms/step - loss: 97.6397 - mean_squared_error: 97.6397 - val_loss: 77.4848 - val_mean_squared_error: 77.4848\n",
      "Epoch 20/50\n",
      "9/9 [==============================] - 0s 2ms/step - loss: 96.4696 - mean_squared_error: 96.4696 - val_loss: 74.9505 - val_mean_squared_error: 74.9505\n",
      "Epoch 21/50\n",
      "9/9 [==============================] - 0s 2ms/step - loss: 93.9672 - mean_squared_error: 93.9672 - val_loss: 74.7318 - val_mean_squared_error: 74.7318\n",
      "Epoch 22/50\n",
      "9/9 [==============================] - 0s 2ms/step - loss: 93.2204 - mean_squared_error: 93.2204 - val_loss: 73.0235 - val_mean_squared_error: 73.0235\n",
      "Epoch 23/50\n",
      "9/9 [==============================] - 0s 2ms/step - loss: 92.0117 - mean_squared_error: 92.0117 - val_loss: 77.0418 - val_mean_squared_error: 77.0418\n",
      "Epoch 24/50\n",
      "9/9 [==============================] - 0s 3ms/step - loss: 91.9146 - mean_squared_error: 91.9146 - val_loss: 72.4361 - val_mean_squared_error: 72.4361\n",
      "Epoch 25/50\n",
      "9/9 [==============================] - 0s 3ms/step - loss: 90.2130 - mean_squared_error: 90.2130 - val_loss: 72.7963 - val_mean_squared_error: 72.7963\n",
      "Epoch 26/50\n",
      "9/9 [==============================] - 0s 2ms/step - loss: 93.9376 - mean_squared_error: 93.9376 - val_loss: 82.9449 - val_mean_squared_error: 82.9449\n",
      "Epoch 27/50\n",
      "9/9 [==============================] - 0s 2ms/step - loss: 96.5445 - mean_squared_error: 96.5445 - val_loss: 72.4082 - val_mean_squared_error: 72.4082\n",
      "Epoch 28/50\n",
      "9/9 [==============================] - 0s 3ms/step - loss: 88.5020 - mean_squared_error: 88.5020 - val_loss: 72.9250 - val_mean_squared_error: 72.9250\n",
      "Epoch 29/50\n",
      "9/9 [==============================] - 0s 3ms/step - loss: 88.1578 - mean_squared_error: 88.1578 - val_loss: 71.4982 - val_mean_squared_error: 71.4982\n",
      "Epoch 30/50\n",
      "9/9 [==============================] - 0s 2ms/step - loss: 87.2732 - mean_squared_error: 87.2732 - val_loss: 73.8259 - val_mean_squared_error: 73.8259\n",
      "Epoch 31/50\n",
      "9/9 [==============================] - 0s 3ms/step - loss: 92.0877 - mean_squared_error: 92.0877 - val_loss: 70.2712 - val_mean_squared_error: 70.2712\n",
      "Epoch 32/50\n",
      "9/9 [==============================] - 0s 2ms/step - loss: 85.7929 - mean_squared_error: 85.7929 - val_loss: 72.5086 - val_mean_squared_error: 72.5086\n",
      "Epoch 33/50\n",
      "9/9 [==============================] - 0s 2ms/step - loss: 88.7347 - mean_squared_error: 88.7347 - val_loss: 76.1400 - val_mean_squared_error: 76.1400\n",
      "Epoch 34/50\n",
      "9/9 [==============================] - 0s 3ms/step - loss: 92.2281 - mean_squared_error: 92.2281 - val_loss: 70.5599 - val_mean_squared_error: 70.5599\n",
      "Epoch 35/50\n",
      "9/9 [==============================] - 0s 2ms/step - loss: 86.5872 - mean_squared_error: 86.5872 - val_loss: 73.3508 - val_mean_squared_error: 73.3508\n",
      "Epoch 36/50\n",
      "9/9 [==============================] - 0s 2ms/step - loss: 93.9981 - mean_squared_error: 93.9981 - val_loss: 69.0042 - val_mean_squared_error: 69.0042\n",
      "Epoch 37/50\n",
      "9/9 [==============================] - 0s 3ms/step - loss: 86.7435 - mean_squared_error: 86.7435 - val_loss: 73.8224 - val_mean_squared_error: 73.8224\n",
      "Epoch 38/50\n",
      "9/9 [==============================] - 0s 2ms/step - loss: 81.4242 - mean_squared_error: 81.4242 - val_loss: 69.3058 - val_mean_squared_error: 69.3058\n",
      "Epoch 39/50\n",
      "9/9 [==============================] - 0s 2ms/step - loss: 86.7612 - mean_squared_error: 86.7612 - val_loss: 68.0833 - val_mean_squared_error: 68.0833\n",
      "Epoch 40/50\n",
      "9/9 [==============================] - 0s 2ms/step - loss: 81.8442 - mean_squared_error: 81.8442 - val_loss: 67.5707 - val_mean_squared_error: 67.5707\n",
      "Epoch 41/50\n",
      "9/9 [==============================] - 0s 2ms/step - loss: 81.1649 - mean_squared_error: 81.1649 - val_loss: 68.3092 - val_mean_squared_error: 68.3092\n",
      "Epoch 42/50\n",
      "9/9 [==============================] - 0s 2ms/step - loss: 81.8673 - mean_squared_error: 81.8673 - val_loss: 70.5659 - val_mean_squared_error: 70.5659\n",
      "Epoch 43/50\n",
      "9/9 [==============================] - 0s 2ms/step - loss: 83.1979 - mean_squared_error: 83.1979 - val_loss: 83.0472 - val_mean_squared_error: 83.0472\n",
      "Epoch 44/50\n",
      "9/9 [==============================] - 0s 2ms/step - loss: 90.1146 - mean_squared_error: 90.1146 - val_loss: 71.2658 - val_mean_squared_error: 71.2658\n",
      "Epoch 45/50\n",
      "9/9 [==============================] - 0s 3ms/step - loss: 82.9392 - mean_squared_error: 82.9392 - val_loss: 71.5693 - val_mean_squared_error: 71.5693\n",
      "Epoch 46/50\n",
      "9/9 [==============================] - 0s 2ms/step - loss: 86.7389 - mean_squared_error: 86.7389 - val_loss: 66.2441 - val_mean_squared_error: 66.2441\n",
      "Epoch 47/50\n",
      "9/9 [==============================] - 0s 2ms/step - loss: 83.3210 - mean_squared_error: 83.3210 - val_loss: 76.9861 - val_mean_squared_error: 76.9861\n",
      "Epoch 48/50\n",
      "9/9 [==============================] - 0s 2ms/step - loss: 81.4341 - mean_squared_error: 81.4341 - val_loss: 69.5120 - val_mean_squared_error: 69.5120\n",
      "Epoch 49/50\n",
      "9/9 [==============================] - 0s 3ms/step - loss: 75.5883 - mean_squared_error: 75.5883 - val_loss: 64.1737 - val_mean_squared_error: 64.1737\n",
      "Epoch 50/50\n",
      "9/9 [==============================] - 0s 2ms/step - loss: 75.3778 - mean_squared_error: 75.3778 - val_loss: 69.0955 - val_mean_squared_error: 69.0955\n"
     ]
    }
   ],
   "source": [
    "batch_size = 32\n",
    "\n",
    "train_epochs = 50\n",
    "history = model.fit(X_train, y_train, epochs=train_epochs, batch_size=batch_size, validation_split = 0.1, verbose=True, shuffle=True)"
   ]
  },
  {
   "cell_type": "code",
   "execution_count": 20,
   "id": "07427543",
   "metadata": {},
   "outputs": [
    {
     "data": {
      "image/png": "[encoded data removed]",
      "text/plain": [
       "<Figure size 432x288 with 1 Axes>"
      ]
     },
     "metadata": {
      "needs_background": "light"
     },
     "output_type": "display_data"
    }
   ],
   "source": [
    "plt.plot(history.history['loss'])\n",
    "plt.plot(history.history['val_loss'])\n",
    "plt.title('Model MSE Loss')  # 'model loss'를 'Model MSE Loss'로 변경\n",
    "plt.ylabel('MSE Loss')  # y축 레이블을 'MSE Loss'로 변경\n",
    "plt.xlabel('Epoch')  # x축 레이블은 'Epoch' 그대로 유지\n",
    "plt.legend(['Train', 'Validation'], loc='upper left')  # 범례 그대로 유지\n",
    "plt.show()"
   ]
  },
  {
   "cell_type": "code",
   "execution_count": 21,
   "id": "111c9465",
   "metadata": {},
   "outputs": [
    {
     "name": "stdout",
     "output_type": "stream",
     "text": [
      "MSE: 59.30401950287602\n",
      "MAE: 5.947469712209097\n",
      "R^2 Score: -0.1618993306596157\n"
     ]
    },
    {
     "data": {
      "text/plain": [
       "Text(0, 0.5, 'Predicted Values')"
      ]
     },
     "execution_count": 21,
     "metadata": {},
     "output_type": "execute_result"
    },
    {
     "data": {
      "image/png": "[encoded data removed]",
      "text/plain": [
       "<Figure size 432x288 with 1 Axes>"
      ]
     },
     "metadata": {
      "needs_background": "light"
     },
     "output_type": "display_data"
    }
   ],
   "source": [
    "from sklearn.metrics import mean_squared_error, mean_absolute_error, r2_score\n",
    "\n",
    "# 모델이 예측한 연속적인 값 (회귀)\n",
    "predy = model.predict(X_test)\n",
    "\n",
    "# 성능 지표 계산 (MSE, MAE, R^2)\n",
    "mse = mean_squared_error(y_test, predy)\n",
    "mae = mean_absolute_error(y_test, predy)\n",
    "r2 = r2_score(y_test, predy)\n",
    "\n",
    "print(f'MSE: {mse}')\n",
    "print(f'MAE: {mae}')\n",
    "print(f'R^2 Score: {r2}')\n",
    "\n",
    "# 예측값 vs 실제값 시각화\n",
    "plt.scatter(y_test, predy, alpha=0.5)\n",
    "plt.plot([min(y_test), max(y_test)], [min(y_test), max(y_test)], color='red', linestyle='--')\n",
    "plt.title('Actual vs Predicted')\n",
    "plt.xlabel('Actual Values')\n",
    "plt.ylabel('Predicted Values')"
   ]
  },
  {
   "cell_type": "markdown",
   "id": "26e02c98",
   "metadata": {},
   "source": [
    "## 3. 순환데이터로 변환후 CNN"
   ]
  },
  {
   "cell_type": "code",
   "execution_count": 22,
   "id": "c689685f",
   "metadata": {},
   "outputs": [],
   "source": [
    "# split_sequence 함수\n",
    "def split_sequence(df, n_steps):\n",
    "    X, y = [], []\n",
    "    for i in range(len(df) - n_steps):\n",
    "        seq_x = df.iloc[i:i+n_steps, :1:].values  # 마지막 열(Rings)을 제외한 특징들\n",
    "        seq_y = df.iloc[i+n_steps, 0]  # Rings (예측할 값)\n",
    "        X.append(seq_x)\n",
    "        y.append(seq_y)\n",
    "    return np.array(X), np.array(y)"
   ]
  },
  {
   "cell_type": "code",
   "execution_count": 23,
   "id": "127c2ab6",
   "metadata": {},
   "outputs": [
    {
     "name": "stdout",
     "output_type": "stream",
     "text": [
      "입력 데이터 (X): [[[18.]\n",
      "  [15.]\n",
      "  [18.]\n",
      "  ...\n",
      "  [17.]\n",
      "  [15.]\n",
      "  [14.]]\n",
      "\n",
      " [[15.]\n",
      "  [18.]\n",
      "  [16.]\n",
      "  ...\n",
      "  [15.]\n",
      "  [14.]\n",
      "  [14.]]\n",
      "\n",
      " [[18.]\n",
      "  [16.]\n",
      "  [17.]\n",
      "  ...\n",
      "  [14.]\n",
      "  [14.]\n",
      "  [14.]]\n",
      "\n",
      " ...\n",
      "\n",
      " [[26.]\n",
      "  [22.]\n",
      "  [32.]\n",
      "  ...\n",
      "  [27.]\n",
      "  [27.]\n",
      "  [44.]]\n",
      "\n",
      " [[22.]\n",
      "  [32.]\n",
      "  [36.]\n",
      "  ...\n",
      "  [27.]\n",
      "  [44.]\n",
      "  [32.]]\n",
      "\n",
      " [[32.]\n",
      "  [36.]\n",
      "  [27.]\n",
      "  ...\n",
      "  [44.]\n",
      "  [32.]\n",
      "  [28.]]]\n",
      "출력 데이터 (y): [14.  14.  15.  15.  14.  15.  14.  24.  22.  18.  21.  27.  26.  25.\n",
      " 24.  25.  26.  21.  10.  10.  11.   9.  27.  28.  25.  19.  16.  17.\n",
      " 19.  18.  14.  14.  14.  14.  12.  13.  13.  18.  22.  19.  18.  23.\n",
      " 28.  30.  30.  31.  35.  27.  26.  24.  25.  23.  20.  21.  13.  14.\n",
      " 15.  14.  17.  11.  13.  12.  13.  19.  15.  13.  13.  14.  18.  22.\n",
      " 21.  26.  22.  28.  23.  28.  27.  13.  14.  13.  14.  15.  12.  13.\n",
      " 13.  14.  13.  12.  13.  18.  16.  18.  18.  23.  26.  11.  12.  13.\n",
      " 12.  18.  20.  21.  22.  18.  19.  21.  26.  15.  16.  29.  24.  20.\n",
      " 19.  15.  24.  20.  11.  20.  19.  15.  31.  26.  32.  25.  16.  16.\n",
      " 18.  16.  13.  14.  14.  14.  29.  26.  26.  31.  32.  28.  24.  26.\n",
      " 24.  26.  31.  19.  18.  15.  15.  16.  15.  16.  14.  17.  16.  15.\n",
      " 18.  21.  20.  13.  29.  23.  20.  23.  24.  25.  24.  18.  29.  19.\n",
      " 23.  23.  22.  25.  33.  28.  25.  25.  26.  27.  17.5 16.  15.5 14.5\n",
      " 22.  22.  24.  22.5 29.  24.5 29.  33.  20.  18.  18.5 17.5 29.5 32.\n",
      " 28.  26.5 20.  13.  19.  19.  16.5 16.5 13.  13.  13.  31.5 30.  36.\n",
      " 25.5 33.5 17.5 17.  15.5 15.  17.5 20.5 19.  18.5 16.  15.5 15.5 16.\n",
      " 29.  24.5 26.  25.5 30.5 33.5 30.  30.5 22.  21.5 21.5 43.1 36.1 32.8\n",
      " 39.4 36.1 19.9 19.4 20.2 19.2 20.5 20.2 25.1 20.5 19.4 20.6 20.8 18.6\n",
      " 18.1 19.2 17.7 18.1 17.5 30.  27.5 27.2 30.9 21.1 23.2 23.8 23.9 20.3\n",
      " 17.  21.6 16.2 31.5 29.5 21.5 19.8 22.3 20.2 20.6 17.  17.6 16.5 18.2\n",
      " 16.9 15.5 19.2 18.5 31.9 34.1 35.7 27.4 25.4 23.  27.2 23.9 34.2 34.5\n",
      " 31.8 37.3 28.4 28.8 26.8 33.5 41.5 38.1 32.1 37.2 28.  26.4 24.3 19.1\n",
      " 34.3 29.8 31.3 37.  32.2 46.6 27.9 40.8 44.3 43.4 36.4 30.  44.6 33.8\n",
      " 29.8 32.7 23.7 35.  32.4 27.2 26.6 25.8 23.5 30.  39.1 39.  35.1 32.3\n",
      " 37.  37.7 34.1 34.7 34.4 29.9 33.  33.7 32.4 32.9 31.6 28.1 30.7 25.4\n",
      " 24.2 22.4 26.6 20.2 17.6 28.  27.  34.  31.  29.  27.  24.  36.  37.\n",
      " 31.  38.  36.  36.  36.  34.  38.  32.  38.  25.  38.  26.  22.  32.\n",
      " 36.  27.  27.  44.  32.  28.  31. ]\n"
     ]
    }
   ],
   "source": [
    "n_steps = 7\n",
    "\n",
    "X, y = split_sequence(df, n_steps)\n",
    "print(\"입력 데이터 (X):\", X)\n",
    "print(\"출력 데이터 (y):\", y)"
   ]
  },
  {
   "cell_type": "code",
   "execution_count": 24,
   "id": "39a17944",
   "metadata": {},
   "outputs": [
    {
     "data": {
      "text/plain": [
       "((246, 7, 1), (77, 7, 1), (246,), (77,), (62, 7, 1), (62,))"
      ]
     },
     "execution_count": 24,
     "metadata": {},
     "output_type": "execute_result"
    }
   ],
   "source": [
    "from sklearn.model_selection import train_test_split\n",
    "\n",
    "X_train, X_test, y_train, y_test = train_test_split(X, y, test_size=0.2, random_state=32)\n",
    "\n",
    "X_train, X_val, y_train, y_val = train_test_split(X_train, y_train, test_size=0.2, random_state=32)\n",
    "\n",
    "X_train.shape, X_test.shape, y_train.shape, y_test.shape, X_val.shape, y_val.shape"
   ]
  },
  {
   "cell_type": "code",
   "execution_count": 25,
   "id": "1229478e",
   "metadata": {},
   "outputs": [],
   "source": [
    "n_timesteps, n_features = X_train.shape[1], X_train.shape[2]"
   ]
  },
  {
   "cell_type": "code",
   "execution_count": 26,
   "id": "2c7f077d",
   "metadata": {},
   "outputs": [
    {
     "name": "stdout",
     "output_type": "stream",
     "text": [
      "Model: \"sequential_1\"\n",
      "_________________________________________________________________\n",
      "Layer (type)                 Output Shape              Param #   \n",
      "=================================================================\n",
      "conv1d (Conv1D)              (None, 6, 16)             48        \n",
      "_________________________________________________________________\n",
      "conv1d_1 (Conv1D)            (None, 4, 32)             1568      \n",
      "_________________________________________________________________\n",
      "conv1d_2 (Conv1D)            (None, 1, 48)             6192      \n",
      "_________________________________________________________________\n",
      "flatten (Flatten)            (None, 48)                0         \n",
      "_________________________________________________________________\n",
      "dense_3 (Dense)              (None, 8)                 392       \n",
      "_________________________________________________________________\n",
      "dense_4 (Dense)              (None, 1)                 9         \n",
      "=================================================================\n",
      "Total params: 8,209\n",
      "Trainable params: 8,209\n",
      "Non-trainable params: 0\n",
      "_________________________________________________________________\n"
     ]
    }
   ],
   "source": [
    "# Model 3\n",
    "model = Sequential()\n",
    "model.add(Conv1D(filters=16, kernel_size=2, activation='relu', input_shape=(n_timesteps, n_features)))\n",
    "model.add(Conv1D(filters=32, kernel_size=3, activation='relu'))\n",
    "model.add(Conv1D(filters=48, kernel_size=4, activation='relu'))\n",
    "model.add(Flatten())\n",
    "model.add(Dense(8, activation='relu'))\n",
    "model.add(Dense(1, activation='linear'))  # 출력 레이어, 회귀이므로 'linear' 사용\n",
    "model.compile(loss='mean_squared_error', optimizer='adam', metrics=['mean_squared_error'])  # 회귀에서는 MSE 사용\n",
    "model.summary()"
   ]
  },
  {
   "cell_type": "code",
   "execution_count": 27,
   "id": "017b401e",
   "metadata": {},
   "outputs": [
    {
     "name": "stdout",
     "output_type": "stream",
     "text": [
      "Epoch 1/50\n",
      "16/16 [==============================] - 0s 7ms/step - loss: 148.9832 - mean_squared_error: 148.9832 - val_loss: 78.7363 - val_mean_squared_error: 78.7363\n",
      "Epoch 2/50\n",
      "16/16 [==============================] - 0s 2ms/step - loss: 50.4724 - mean_squared_error: 50.4724 - val_loss: 44.2798 - val_mean_squared_error: 44.2798\n",
      "Epoch 3/50\n",
      "16/16 [==============================] - 0s 2ms/step - loss: 41.9170 - mean_squared_error: 41.9170 - val_loss: 42.4491 - val_mean_squared_error: 42.4491\n",
      "Epoch 4/50\n",
      "16/16 [==============================] - 0s 2ms/step - loss: 37.3116 - mean_squared_error: 37.3116 - val_loss: 38.2396 - val_mean_squared_error: 38.2396\n",
      "Epoch 5/50\n",
      "16/16 [==============================] - 0s 2ms/step - loss: 35.5805 - mean_squared_error: 35.5805 - val_loss: 38.4894 - val_mean_squared_error: 38.4894\n",
      "Epoch 6/50\n",
      "16/16 [==============================] - 0s 1ms/step - loss: 35.2663 - mean_squared_error: 35.2663 - val_loss: 36.1876 - val_mean_squared_error: 36.1876\n",
      "Epoch 7/50\n",
      "16/16 [==============================] - 0s 2ms/step - loss: 33.5241 - mean_squared_error: 33.5241 - val_loss: 35.7686 - val_mean_squared_error: 35.7686\n",
      "Epoch 8/50\n",
      "16/16 [==============================] - 0s 1ms/step - loss: 33.0751 - mean_squared_error: 33.0751 - val_loss: 33.5763 - val_mean_squared_error: 33.5763\n",
      "Epoch 9/50\n",
      "16/16 [==============================] - 0s 2ms/step - loss: 33.6353 - mean_squared_error: 33.6353 - val_loss: 33.3340 - val_mean_squared_error: 33.3340\n",
      "Epoch 10/50\n",
      "16/16 [==============================] - 0s 1ms/step - loss: 33.4830 - mean_squared_error: 33.4830 - val_loss: 35.3304 - val_mean_squared_error: 35.3304\n",
      "Epoch 11/50\n",
      "16/16 [==============================] - 0s 1ms/step - loss: 34.1682 - mean_squared_error: 34.1682 - val_loss: 35.3347 - val_mean_squared_error: 35.3347\n",
      "Epoch 12/50\n",
      "16/16 [==============================] - 0s 2ms/step - loss: 32.0321 - mean_squared_error: 32.0321 - val_loss: 32.6213 - val_mean_squared_error: 32.6213\n",
      "Epoch 13/50\n",
      "16/16 [==============================] - 0s 1ms/step - loss: 30.8684 - mean_squared_error: 30.8684 - val_loss: 32.4928 - val_mean_squared_error: 32.4928\n",
      "Epoch 14/50\n",
      "16/16 [==============================] - 0s 2ms/step - loss: 33.8322 - mean_squared_error: 33.8322 - val_loss: 35.9508 - val_mean_squared_error: 35.9508\n",
      "Epoch 15/50\n",
      "16/16 [==============================] - 0s 2ms/step - loss: 30.7924 - mean_squared_error: 30.7924 - val_loss: 31.7975 - val_mean_squared_error: 31.7975\n",
      "Epoch 16/50\n",
      "16/16 [==============================] - 0s 1ms/step - loss: 30.8586 - mean_squared_error: 30.8586 - val_loss: 31.9277 - val_mean_squared_error: 31.9277\n",
      "Epoch 17/50\n",
      "16/16 [==============================] - 0s 1ms/step - loss: 30.7393 - mean_squared_error: 30.7393 - val_loss: 31.1751 - val_mean_squared_error: 31.1751\n",
      "Epoch 18/50\n",
      "16/16 [==============================] - 0s 1ms/step - loss: 30.2059 - mean_squared_error: 30.2059 - val_loss: 33.9977 - val_mean_squared_error: 33.9977\n",
      "Epoch 19/50\n",
      "16/16 [==============================] - 0s 1ms/step - loss: 31.6855 - mean_squared_error: 31.6855 - val_loss: 33.3129 - val_mean_squared_error: 33.3129\n",
      "Epoch 20/50\n",
      "16/16 [==============================] - 0s 2ms/step - loss: 30.3988 - mean_squared_error: 30.3988 - val_loss: 32.3619 - val_mean_squared_error: 32.3619\n",
      "Epoch 21/50\n",
      "16/16 [==============================] - 0s 2ms/step - loss: 30.3722 - mean_squared_error: 30.3722 - val_loss: 30.9289 - val_mean_squared_error: 30.9289\n",
      "Epoch 22/50\n",
      "16/16 [==============================] - 0s 2ms/step - loss: 30.1811 - mean_squared_error: 30.1811 - val_loss: 30.4982 - val_mean_squared_error: 30.4982\n",
      "Epoch 23/50\n",
      "16/16 [==============================] - 0s 2ms/step - loss: 29.7336 - mean_squared_error: 29.7336 - val_loss: 30.9575 - val_mean_squared_error: 30.9575\n",
      "Epoch 24/50\n",
      "16/16 [==============================] - 0s 2ms/step - loss: 29.8738 - mean_squared_error: 29.8738 - val_loss: 31.4848 - val_mean_squared_error: 31.4848\n",
      "Epoch 25/50\n",
      "16/16 [==============================] - 0s 2ms/step - loss: 29.8066 - mean_squared_error: 29.8066 - val_loss: 31.1072 - val_mean_squared_error: 31.1072\n",
      "Epoch 26/50\n",
      "16/16 [==============================] - 0s 2ms/step - loss: 30.3827 - mean_squared_error: 30.3827 - val_loss: 32.1653 - val_mean_squared_error: 32.1653\n",
      "Epoch 27/50\n",
      "16/16 [==============================] - 0s 1ms/step - loss: 30.4345 - mean_squared_error: 30.4345 - val_loss: 30.6690 - val_mean_squared_error: 30.6690\n",
      "Epoch 28/50\n",
      "16/16 [==============================] - 0s 2ms/step - loss: 30.2635 - mean_squared_error: 30.2635 - val_loss: 30.2689 - val_mean_squared_error: 30.2689\n",
      "Epoch 29/50\n",
      "16/16 [==============================] - 0s 2ms/step - loss: 30.4593 - mean_squared_error: 30.4593 - val_loss: 30.5419 - val_mean_squared_error: 30.5419\n",
      "Epoch 30/50\n",
      "16/16 [==============================] - 0s 1ms/step - loss: 29.5699 - mean_squared_error: 29.5699 - val_loss: 31.4848 - val_mean_squared_error: 31.4848\n",
      "Epoch 31/50\n",
      "16/16 [==============================] - 0s 2ms/step - loss: 30.5023 - mean_squared_error: 30.5023 - val_loss: 30.0743 - val_mean_squared_error: 30.0743\n",
      "Epoch 32/50\n",
      "16/16 [==============================] - 0s 4ms/step - loss: 29.9082 - mean_squared_error: 29.9082 - val_loss: 30.4194 - val_mean_squared_error: 30.4194\n",
      "Epoch 33/50\n",
      "16/16 [==============================] - 0s 4ms/step - loss: 31.3450 - mean_squared_error: 31.3450 - val_loss: 30.0514 - val_mean_squared_error: 30.0514\n",
      "Epoch 34/50\n",
      "16/16 [==============================] - 0s 4ms/step - loss: 28.9858 - mean_squared_error: 28.9858 - val_loss: 30.9246 - val_mean_squared_error: 30.9246\n",
      "Epoch 35/50\n",
      "16/16 [==============================] - 0s 5ms/step - loss: 28.7688 - mean_squared_error: 28.7688 - val_loss: 29.5430 - val_mean_squared_error: 29.5430\n",
      "Epoch 36/50\n",
      "16/16 [==============================] - 0s 4ms/step - loss: 29.4291 - mean_squared_error: 29.4291 - val_loss: 30.2642 - val_mean_squared_error: 30.2642\n",
      "Epoch 37/50\n",
      "16/16 [==============================] - 0s 4ms/step - loss: 29.9996 - mean_squared_error: 29.9996 - val_loss: 29.6948 - val_mean_squared_error: 29.6948\n",
      "Epoch 38/50\n",
      "16/16 [==============================] - 0s 4ms/step - loss: 28.9728 - mean_squared_error: 28.9728 - val_loss: 32.3715 - val_mean_squared_error: 32.3715\n",
      "Epoch 39/50\n",
      "16/16 [==============================] - 0s 5ms/step - loss: 30.7352 - mean_squared_error: 30.7352 - val_loss: 34.4597 - val_mean_squared_error: 34.4597\n",
      "Epoch 40/50\n",
      "16/16 [==============================] - 0s 4ms/step - loss: 29.1587 - mean_squared_error: 29.1587 - val_loss: 29.4837 - val_mean_squared_error: 29.4837\n",
      "Epoch 41/50\n",
      "16/16 [==============================] - 0s 4ms/step - loss: 27.8899 - mean_squared_error: 27.8899 - val_loss: 33.2018 - val_mean_squared_error: 33.2018\n",
      "Epoch 42/50\n",
      "16/16 [==============================] - 0s 5ms/step - loss: 28.5331 - mean_squared_error: 28.5331 - val_loss: 28.3012 - val_mean_squared_error: 28.3012\n",
      "Epoch 43/50\n",
      "16/16 [==============================] - 0s 4ms/step - loss: 28.3607 - mean_squared_error: 28.3607 - val_loss: 29.1482 - val_mean_squared_error: 29.1482\n",
      "Epoch 44/50\n",
      "16/16 [==============================] - 0s 4ms/step - loss: 29.2550 - mean_squared_error: 29.2550 - val_loss: 29.7752 - val_mean_squared_error: 29.7752\n",
      "Epoch 45/50\n",
      "16/16 [==============================] - 0s 5ms/step - loss: 28.3349 - mean_squared_error: 28.3349 - val_loss: 29.9388 - val_mean_squared_error: 29.9388\n",
      "Epoch 46/50\n",
      "16/16 [==============================] - 0s 4ms/step - loss: 29.2754 - mean_squared_error: 29.2754 - val_loss: 28.3876 - val_mean_squared_error: 28.3876\n",
      "Epoch 47/50\n",
      "16/16 [==============================] - 0s 5ms/step - loss: 28.9264 - mean_squared_error: 28.9264 - val_loss: 29.0095 - val_mean_squared_error: 29.0095\n",
      "Epoch 48/50\n",
      "16/16 [==============================] - 0s 3ms/step - loss: 28.7376 - mean_squared_error: 28.7376 - val_loss: 29.1200 - val_mean_squared_error: 29.1200\n",
      "Epoch 49/50\n",
      "16/16 [==============================] - 0s 5ms/step - loss: 27.7048 - mean_squared_error: 27.7048 - val_loss: 29.2231 - val_mean_squared_error: 29.2231\n",
      "Epoch 50/50\n",
      "16/16 [==============================] - 0s 5ms/step - loss: 28.7302 - mean_squared_error: 28.7302 - val_loss: 29.7096 - val_mean_squared_error: 29.7096\n"
     ]
    }
   ],
   "source": [
    "batch_size = 16\n",
    "\n",
    "train_epochs = 50\n",
    "history = model.fit(X_train, y_train, epochs=train_epochs, batch_size=batch_size, validation_data=(X_val, y_val), verbose=True, shuffle=True)"
   ]
  },
  {
   "cell_type": "code",
   "execution_count": 28,
   "id": "3f2a032f",
   "metadata": {},
   "outputs": [
    {
     "name": "stdout",
     "output_type": "stream",
     "text": [
      "MSE: 22.09766924629617\n",
      "MAE: 3.498696158768295\n",
      "R^2 Score: 0.6484443221787632\n"
     ]
    },
    {
     "data": {
      "text/plain": [
       "Text(0, 0.5, 'Predicted Values')"
      ]
     },
     "execution_count": 28,
     "metadata": {},
     "output_type": "execute_result"
    },
    {
     "data": {
      "image/png": "[encoded data removed]",
      "text/plain": [
       "<Figure size 432x288 with 1 Axes>"
      ]
     },
     "metadata": {
      "needs_background": "light"
     },
     "output_type": "display_data"
    }
   ],
   "source": [
    "from sklearn.metrics import mean_squared_error, mean_absolute_error, r2_score\n",
    "\n",
    "# 모델이 예측한 연속적인 값 (회귀)\n",
    "predy = model.predict(X_test)\n",
    "\n",
    "# 성능 지표 계산 (MSE, MAE, R^2)\n",
    "mse = mean_squared_error(y_test, predy)\n",
    "mae = mean_absolute_error(y_test, predy)\n",
    "r2 = r2_score(y_test, predy)\n",
    "\n",
    "print(f'MSE: {mse}')\n",
    "print(f'MAE: {mae}')\n",
    "print(f'R^2 Score: {r2}')\n",
    "\n",
    "# 예측값 vs 실제값 시각화\n",
    "plt.scatter(y_test, predy, alpha=0.5)\n",
    "plt.plot([min(y_test), max(y_test)], [min(y_test), max(y_test)], color='red', linestyle='--')\n",
    "plt.title('Actual vs Predicted')\n",
    "plt.xlabel('Actual Values')\n",
    "plt.ylabel('Predicted Values')"
   ]
  }
 ],
 "metadata": {
  "kernelspec": {
   "display_name": "test01",
   "language": "python",
   "name": "test01"
  },
  "language_info": {
   "codemirror_mode": {
    "name": "ipython",
    "version": 3
   },
   "file_extension": ".py",
   "mimetype": "text/x-python",
   "name": "python",
   "nbconvert_exporter": "python",
   "pygments_lexer": "ipython3",
   "version": "3.6.13"
  }
 },
 "nbformat": 4,
 "nbformat_minor": 5
}
