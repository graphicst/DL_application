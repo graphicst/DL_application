{
 "cells": [
  {
   "cell_type": "code",
   "execution_count": 1,
   "id": "62e2f48c",
   "metadata": {},
   "outputs": [],
   "source": [
    "# url = \"http://archive.ics.uci.edu/ml/machine-learning-databases/auto-mpg/auto-mpg.data\"\n",
    "\n",
    "\n",
    "# columns = ['mpg', 'cylinders', 'displacement', 'horsepower', 'weight', 'acceleration', 'model year', 'origin']\n",
    "\n",
    "\n",
    "#  df = pd.read_csv(url, delim_whitespace=True, names=columns, na_values='?') \n",
    "\n",
    " \n",
    "# # 결측값 처리 (horsepower 컬럼에 결측값 존재)\n",
    "# df = df.dropna()\n",
    "\n",
    "# 해당 소스를 활용하여 연비(Mile per gallen)를 예측 \n",
    "\n",
    "# mse를 구하라\n",
    "\n",
    "\n",
    "# 1. ML (RF, DT, LR)\n",
    "\n",
    "# 2. FCNN\n",
    "\n",
    "# 3. 순환데이터로 변환후 CNN\n",
    "\n",
    "\n",
    "# 각 단계별 검사후 다음단계 진행"
   ]
  },
  {
   "cell_type": "code",
   "execution_count": 2,
   "id": "e5c9641c",
   "metadata": {},
   "outputs": [],
   "source": [
    "import numpy as np\n",
    "import pandas as pd\n",
    "import matplotlib.pyplot as plt\n",
    "import seaborn as sns\n",
    "from sklearn.metrics import f1_score, classification_report\n",
    "from tensorflow.keras.models import Sequential\n",
    "from tensorflow.keras.layers import Conv1D, Dense, Dropout, Flatten, Reshape, LSTM, Conv1D, MaxPooling1D, Bidirectional, ConvLSTM1D"
   ]
  },
  {
   "cell_type": "code",
   "execution_count": 3,
   "id": "354d6854",
   "metadata": {},
   "outputs": [
    {
     "data": {
      "text/html": [
       "<div>\n",
       "<style scoped>\n",
       "    .dataframe tbody tr th:only-of-type {\n",
       "        vertical-align: middle;\n",
       "    }\n",
       "\n",
       "    .dataframe tbody tr th {\n",
       "        vertical-align: top;\n",
       "    }\n",
       "\n",
       "    .dataframe thead th {\n",
       "        text-align: right;\n",
       "    }\n",
       "</style>\n",
       "<table border=\"1\" class=\"dataframe\">\n",
       "  <thead>\n",
       "    <tr style=\"text-align: right;\">\n",
       "      <th></th>\n",
       "      <th>mpg</th>\n",
       "      <th>cylinders</th>\n",
       "      <th>displacement</th>\n",
       "      <th>horsepower</th>\n",
       "      <th>weight</th>\n",
       "      <th>acceleration</th>\n",
       "      <th>model year</th>\n",
       "      <th>origin</th>\n",
       "      <th>car name</th>\n",
       "    </tr>\n",
       "  </thead>\n",
       "  <tbody>\n",
       "    <tr>\n",
       "      <th>0</th>\n",
       "      <td>18.0</td>\n",
       "      <td>8</td>\n",
       "      <td>307.0</td>\n",
       "      <td>130.0</td>\n",
       "      <td>3504.0</td>\n",
       "      <td>12.0</td>\n",
       "      <td>70</td>\n",
       "      <td>1</td>\n",
       "      <td>chevrolet chevelle malibu</td>\n",
       "    </tr>\n",
       "    <tr>\n",
       "      <th>1</th>\n",
       "      <td>15.0</td>\n",
       "      <td>8</td>\n",
       "      <td>350.0</td>\n",
       "      <td>165.0</td>\n",
       "      <td>3693.0</td>\n",
       "      <td>11.5</td>\n",
       "      <td>70</td>\n",
       "      <td>1</td>\n",
       "      <td>buick skylark 320</td>\n",
       "    </tr>\n",
       "    <tr>\n",
       "      <th>2</th>\n",
       "      <td>18.0</td>\n",
       "      <td>8</td>\n",
       "      <td>318.0</td>\n",
       "      <td>150.0</td>\n",
       "      <td>3436.0</td>\n",
       "      <td>11.0</td>\n",
       "      <td>70</td>\n",
       "      <td>1</td>\n",
       "      <td>plymouth satellite</td>\n",
       "    </tr>\n",
       "    <tr>\n",
       "      <th>3</th>\n",
       "      <td>16.0</td>\n",
       "      <td>8</td>\n",
       "      <td>304.0</td>\n",
       "      <td>150.0</td>\n",
       "      <td>3433.0</td>\n",
       "      <td>12.0</td>\n",
       "      <td>70</td>\n",
       "      <td>1</td>\n",
       "      <td>amc rebel sst</td>\n",
       "    </tr>\n",
       "    <tr>\n",
       "      <th>4</th>\n",
       "      <td>17.0</td>\n",
       "      <td>8</td>\n",
       "      <td>302.0</td>\n",
       "      <td>140.0</td>\n",
       "      <td>3449.0</td>\n",
       "      <td>10.5</td>\n",
       "      <td>70</td>\n",
       "      <td>1</td>\n",
       "      <td>ford torino</td>\n",
       "    </tr>\n",
       "    <tr>\n",
       "      <th>...</th>\n",
       "      <td>...</td>\n",
       "      <td>...</td>\n",
       "      <td>...</td>\n",
       "      <td>...</td>\n",
       "      <td>...</td>\n",
       "      <td>...</td>\n",
       "      <td>...</td>\n",
       "      <td>...</td>\n",
       "      <td>...</td>\n",
       "    </tr>\n",
       "    <tr>\n",
       "      <th>393</th>\n",
       "      <td>27.0</td>\n",
       "      <td>4</td>\n",
       "      <td>140.0</td>\n",
       "      <td>86.0</td>\n",
       "      <td>2790.0</td>\n",
       "      <td>15.6</td>\n",
       "      <td>82</td>\n",
       "      <td>1</td>\n",
       "      <td>ford mustang gl</td>\n",
       "    </tr>\n",
       "    <tr>\n",
       "      <th>394</th>\n",
       "      <td>44.0</td>\n",
       "      <td>4</td>\n",
       "      <td>97.0</td>\n",
       "      <td>52.0</td>\n",
       "      <td>2130.0</td>\n",
       "      <td>24.6</td>\n",
       "      <td>82</td>\n",
       "      <td>2</td>\n",
       "      <td>vw pickup</td>\n",
       "    </tr>\n",
       "    <tr>\n",
       "      <th>395</th>\n",
       "      <td>32.0</td>\n",
       "      <td>4</td>\n",
       "      <td>135.0</td>\n",
       "      <td>84.0</td>\n",
       "      <td>2295.0</td>\n",
       "      <td>11.6</td>\n",
       "      <td>82</td>\n",
       "      <td>1</td>\n",
       "      <td>dodge rampage</td>\n",
       "    </tr>\n",
       "    <tr>\n",
       "      <th>396</th>\n",
       "      <td>28.0</td>\n",
       "      <td>4</td>\n",
       "      <td>120.0</td>\n",
       "      <td>79.0</td>\n",
       "      <td>2625.0</td>\n",
       "      <td>18.6</td>\n",
       "      <td>82</td>\n",
       "      <td>1</td>\n",
       "      <td>ford ranger</td>\n",
       "    </tr>\n",
       "    <tr>\n",
       "      <th>397</th>\n",
       "      <td>31.0</td>\n",
       "      <td>4</td>\n",
       "      <td>119.0</td>\n",
       "      <td>82.0</td>\n",
       "      <td>2720.0</td>\n",
       "      <td>19.4</td>\n",
       "      <td>82</td>\n",
       "      <td>1</td>\n",
       "      <td>chevy s-10</td>\n",
       "    </tr>\n",
       "  </tbody>\n",
       "</table>\n",
       "<p>398 rows × 9 columns</p>\n",
       "</div>"
      ],
      "text/plain": [
       "      mpg  cylinders  displacement  horsepower  weight  acceleration  \\\n",
       "0    18.0          8         307.0       130.0  3504.0          12.0   \n",
       "1    15.0          8         350.0       165.0  3693.0          11.5   \n",
       "2    18.0          8         318.0       150.0  3436.0          11.0   \n",
       "3    16.0          8         304.0       150.0  3433.0          12.0   \n",
       "4    17.0          8         302.0       140.0  3449.0          10.5   \n",
       "..    ...        ...           ...         ...     ...           ...   \n",
       "393  27.0          4         140.0        86.0  2790.0          15.6   \n",
       "394  44.0          4          97.0        52.0  2130.0          24.6   \n",
       "395  32.0          4         135.0        84.0  2295.0          11.6   \n",
       "396  28.0          4         120.0        79.0  2625.0          18.6   \n",
       "397  31.0          4         119.0        82.0  2720.0          19.4   \n",
       "\n",
       "     model year  origin                   car name  \n",
       "0            70       1  chevrolet chevelle malibu  \n",
       "1            70       1          buick skylark 320  \n",
       "2            70       1         plymouth satellite  \n",
       "3            70       1              amc rebel sst  \n",
       "4            70       1                ford torino  \n",
       "..          ...     ...                        ...  \n",
       "393          82       1            ford mustang gl  \n",
       "394          82       2                  vw pickup  \n",
       "395          82       1              dodge rampage  \n",
       "396          82       1                ford ranger  \n",
       "397          82       1                 chevy s-10  \n",
       "\n",
       "[398 rows x 9 columns]"
      ]
     },
     "execution_count": 3,
     "metadata": {},
     "output_type": "execute_result"
    }
   ],
   "source": [
    "columns = ['mpg', 'cylinders', 'displacement', 'horsepower', 'weight', 'acceleration', 'model year', 'origin', 'car name']\n",
    "\n",
    "\n",
    "df = pd.read_csv(\"http://archive.ics.uci.edu/ml/machine-learning-databases/auto-mpg/auto-mpg.data\", delim_whitespace=True, names=columns, na_values='?') \n",
    "\n",
    "df"
   ]
  },
  {
   "cell_type": "code",
   "execution_count": 4,
   "id": "c813add0",
   "metadata": {},
   "outputs": [
    {
     "data": {
      "text/plain": [
       "mpg             0\n",
       "cylinders       0\n",
       "displacement    0\n",
       "horsepower      6\n",
       "weight          0\n",
       "acceleration    0\n",
       "model year      0\n",
       "origin          0\n",
       "car name        0\n",
       "dtype: int64"
      ]
     },
     "execution_count": 4,
     "metadata": {},
     "output_type": "execute_result"
    }
   ],
   "source": [
    "df.isnull().sum()"
   ]
  },
  {
   "cell_type": "code",
   "execution_count": 5,
   "id": "8929a865",
   "metadata": {},
   "outputs": [],
   "source": [
    "df = df.dropna()"
   ]
  },
  {
   "cell_type": "code",
   "execution_count": 6,
   "id": "95b422a6",
   "metadata": {},
   "outputs": [
    {
     "data": {
      "text/plain": [
       "mpg             0\n",
       "cylinders       0\n",
       "displacement    0\n",
       "horsepower      0\n",
       "weight          0\n",
       "acceleration    0\n",
       "model year      0\n",
       "origin          0\n",
       "car name        0\n",
       "dtype: int64"
      ]
     },
     "execution_count": 6,
     "metadata": {},
     "output_type": "execute_result"
    }
   ],
   "source": [
    "df.isnull().sum()"
   ]
  },
  {
   "cell_type": "code",
   "execution_count": 7,
   "id": "59776c91",
   "metadata": {},
   "outputs": [],
   "source": [
    "df= df.drop('car name', axis =1)"
   ]
  },
  {
   "cell_type": "markdown",
   "id": "8d4b4f41",
   "metadata": {},
   "source": [
    "# 1. ML (RF, DT, LR)"
   ]
  },
  {
   "cell_type": "code",
   "execution_count": 8,
   "id": "8769eb2e",
   "metadata": {},
   "outputs": [
    {
     "data": {
      "text/plain": [
       "0      18.0\n",
       "1      15.0\n",
       "2      18.0\n",
       "3      16.0\n",
       "4      17.0\n",
       "       ... \n",
       "393    27.0\n",
       "394    44.0\n",
       "395    32.0\n",
       "396    28.0\n",
       "397    31.0\n",
       "Name: mpg, Length: 392, dtype: float64"
      ]
     },
     "execution_count": 8,
     "metadata": {},
     "output_type": "execute_result"
    }
   ],
   "source": [
    "y = df['mpg']\n",
    "y"
   ]
  },
  {
   "cell_type": "code",
   "execution_count": 9,
   "id": "58f7701f",
   "metadata": {},
   "outputs": [
    {
     "data": {
      "text/html": [
       "<div>\n",
       "<style scoped>\n",
       "    .dataframe tbody tr th:only-of-type {\n",
       "        vertical-align: middle;\n",
       "    }\n",
       "\n",
       "    .dataframe tbody tr th {\n",
       "        vertical-align: top;\n",
       "    }\n",
       "\n",
       "    .dataframe thead th {\n",
       "        text-align: right;\n",
       "    }\n",
       "</style>\n",
       "<table border=\"1\" class=\"dataframe\">\n",
       "  <thead>\n",
       "    <tr style=\"text-align: right;\">\n",
       "      <th></th>\n",
       "      <th>cylinders</th>\n",
       "      <th>displacement</th>\n",
       "      <th>horsepower</th>\n",
       "      <th>weight</th>\n",
       "      <th>acceleration</th>\n",
       "      <th>model year</th>\n",
       "      <th>origin</th>\n",
       "    </tr>\n",
       "  </thead>\n",
       "  <tbody>\n",
       "    <tr>\n",
       "      <th>0</th>\n",
       "      <td>8</td>\n",
       "      <td>307.0</td>\n",
       "      <td>130.0</td>\n",
       "      <td>3504.0</td>\n",
       "      <td>12.0</td>\n",
       "      <td>70</td>\n",
       "      <td>1</td>\n",
       "    </tr>\n",
       "    <tr>\n",
       "      <th>1</th>\n",
       "      <td>8</td>\n",
       "      <td>350.0</td>\n",
       "      <td>165.0</td>\n",
       "      <td>3693.0</td>\n",
       "      <td>11.5</td>\n",
       "      <td>70</td>\n",
       "      <td>1</td>\n",
       "    </tr>\n",
       "    <tr>\n",
       "      <th>2</th>\n",
       "      <td>8</td>\n",
       "      <td>318.0</td>\n",
       "      <td>150.0</td>\n",
       "      <td>3436.0</td>\n",
       "      <td>11.0</td>\n",
       "      <td>70</td>\n",
       "      <td>1</td>\n",
       "    </tr>\n",
       "    <tr>\n",
       "      <th>3</th>\n",
       "      <td>8</td>\n",
       "      <td>304.0</td>\n",
       "      <td>150.0</td>\n",
       "      <td>3433.0</td>\n",
       "      <td>12.0</td>\n",
       "      <td>70</td>\n",
       "      <td>1</td>\n",
       "    </tr>\n",
       "    <tr>\n",
       "      <th>4</th>\n",
       "      <td>8</td>\n",
       "      <td>302.0</td>\n",
       "      <td>140.0</td>\n",
       "      <td>3449.0</td>\n",
       "      <td>10.5</td>\n",
       "      <td>70</td>\n",
       "      <td>1</td>\n",
       "    </tr>\n",
       "    <tr>\n",
       "      <th>...</th>\n",
       "      <td>...</td>\n",
       "      <td>...</td>\n",
       "      <td>...</td>\n",
       "      <td>...</td>\n",
       "      <td>...</td>\n",
       "      <td>...</td>\n",
       "      <td>...</td>\n",
       "    </tr>\n",
       "    <tr>\n",
       "      <th>393</th>\n",
       "      <td>4</td>\n",
       "      <td>140.0</td>\n",
       "      <td>86.0</td>\n",
       "      <td>2790.0</td>\n",
       "      <td>15.6</td>\n",
       "      <td>82</td>\n",
       "      <td>1</td>\n",
       "    </tr>\n",
       "    <tr>\n",
       "      <th>394</th>\n",
       "      <td>4</td>\n",
       "      <td>97.0</td>\n",
       "      <td>52.0</td>\n",
       "      <td>2130.0</td>\n",
       "      <td>24.6</td>\n",
       "      <td>82</td>\n",
       "      <td>2</td>\n",
       "    </tr>\n",
       "    <tr>\n",
       "      <th>395</th>\n",
       "      <td>4</td>\n",
       "      <td>135.0</td>\n",
       "      <td>84.0</td>\n",
       "      <td>2295.0</td>\n",
       "      <td>11.6</td>\n",
       "      <td>82</td>\n",
       "      <td>1</td>\n",
       "    </tr>\n",
       "    <tr>\n",
       "      <th>396</th>\n",
       "      <td>4</td>\n",
       "      <td>120.0</td>\n",
       "      <td>79.0</td>\n",
       "      <td>2625.0</td>\n",
       "      <td>18.6</td>\n",
       "      <td>82</td>\n",
       "      <td>1</td>\n",
       "    </tr>\n",
       "    <tr>\n",
       "      <th>397</th>\n",
       "      <td>4</td>\n",
       "      <td>119.0</td>\n",
       "      <td>82.0</td>\n",
       "      <td>2720.0</td>\n",
       "      <td>19.4</td>\n",
       "      <td>82</td>\n",
       "      <td>1</td>\n",
       "    </tr>\n",
       "  </tbody>\n",
       "</table>\n",
       "<p>392 rows × 7 columns</p>\n",
       "</div>"
      ],
      "text/plain": [
       "     cylinders  displacement  horsepower  weight  acceleration  model year  \\\n",
       "0            8         307.0       130.0  3504.0          12.0          70   \n",
       "1            8         350.0       165.0  3693.0          11.5          70   \n",
       "2            8         318.0       150.0  3436.0          11.0          70   \n",
       "3            8         304.0       150.0  3433.0          12.0          70   \n",
       "4            8         302.0       140.0  3449.0          10.5          70   \n",
       "..         ...           ...         ...     ...           ...         ...   \n",
       "393          4         140.0        86.0  2790.0          15.6          82   \n",
       "394          4          97.0        52.0  2130.0          24.6          82   \n",
       "395          4         135.0        84.0  2295.0          11.6          82   \n",
       "396          4         120.0        79.0  2625.0          18.6          82   \n",
       "397          4         119.0        82.0  2720.0          19.4          82   \n",
       "\n",
       "     origin  \n",
       "0         1  \n",
       "1         1  \n",
       "2         1  \n",
       "3         1  \n",
       "4         1  \n",
       "..      ...  \n",
       "393       1  \n",
       "394       2  \n",
       "395       1  \n",
       "396       1  \n",
       "397       1  \n",
       "\n",
       "[392 rows x 7 columns]"
      ]
     },
     "execution_count": 9,
     "metadata": {},
     "output_type": "execute_result"
    }
   ],
   "source": [
    "X = df.drop('mpg', axis=1)\n",
    "X"
   ]
  },
  {
   "cell_type": "code",
   "execution_count": 10,
   "id": "935f104c",
   "metadata": {},
   "outputs": [
    {
     "data": {
      "text/plain": [
       "((313, 7), (79, 7), (313,), (79,))"
      ]
     },
     "execution_count": 10,
     "metadata": {},
     "output_type": "execute_result"
    }
   ],
   "source": [
    "from sklearn.model_selection import train_test_split\n",
    "\n",
    "X_train, X_test, y_train, y_test = train_test_split(X, y, test_size=0.2, random_state=32)\n",
    "\n",
    "X_train.shape, X_test.shape, y_train.shape, y_test.shape"
   ]
  },
  {
   "cell_type": "code",
   "execution_count": 11,
   "id": "942fdfe0",
   "metadata": {},
   "outputs": [
    {
     "name": "stdout",
     "output_type": "stream",
     "text": [
      "[18.  29.  26.  36.  17.  32.9 25.  22.3 13.  19.1 26.  32.3 37.  26.\n",
      " 15.  26.8 37.  14.  12.  15.  26.5 26.  17.5 23.  33.  27.  20.2 24.\n",
      " 18.  13.  18.2 18.5 30.  14.  22.3 21.  21.5 14.  28.  32.9 19.  16.2\n",
      " 22.3 18.  37.2 36.  22.3 36.1 27.  23.  30.9 22.  24.  21.  32.3 15.\n",
      " 26.5 30.  30.7 24.  22.   9.  19.  33.  28.  28.  15.  13.  17.5 24.\n",
      " 32.  32.8 43.4 29.  29.5 30.  18.  23.  25. ]\n",
      "1.0\n"
     ]
    }
   ],
   "source": [
    "from sklearn.metrics import mean_squared_error\n",
    "from sklearn.metrics import confusion_matrix\n",
    "\n",
    "from sklearn.tree import DecisionTreeRegressor\n",
    "\n",
    "clf_dt = DecisionTreeRegressor()\n",
    "clf_dt.fit(X_train, y_train)\n",
    "\n",
    "pred_dt = clf_dt.predict(X_test)\n",
    "\n",
    "print(pred_dt)\n",
    "print(clf_dt.score(X_train, y_train))"
   ]
  },
  {
   "cell_type": "code",
   "execution_count": 12,
   "id": "c667eddd",
   "metadata": {},
   "outputs": [
    {
     "name": "stdout",
     "output_type": "stream",
     "text": [
      "평균제곱근오차 4.128076144916401\n"
     ]
    }
   ],
   "source": [
    "mse = np.sqrt(mean_squared_error(pred_dt, y_test))\n",
    "print('평균제곱근오차', mse)"
   ]
  },
  {
   "cell_type": "code",
   "execution_count": 13,
   "id": "2fa9046d",
   "metadata": {},
   "outputs": [
    {
     "name": "stdout",
     "output_type": "stream",
     "text": [
      "[18.748 29.369 24.381 33.566 19.915 31.342 25.322 27.9   13.86  20.86\n",
      " 25.029 34.163 35.988 29.591 16.31  26.437 36.379 12.4   12.27  13.67\n",
      " 24.444 24.755 17.241 21.295 30.035 27.408 20.978 26.204 20.86  12.73\n",
      " 17.891 18.753 33.238 14.02  24.578 21.46  22.465 14.22  26.392 29.659\n",
      " 18.195 21.021 30.076 18.286 37.543 33.692 26.786 35.043 28.063 25.145\n",
      " 27.595 18.857 24.344 22.11  39.85  14.33  24.095 30.581 28.491 25.15\n",
      " 19.306 13.31  20.65  30.166 27.079 25.585 14.747 14.905 17.195 26.765\n",
      " 31.861 36.033 33.286 30.456 33.45  28.503 18.253 24.98  22.223]\n",
      "0.984637202315632\n"
     ]
    }
   ],
   "source": [
    "from sklearn.ensemble import RandomForestRegressor\n",
    "from sklearn.model_selection import RandomizedSearchCV\n",
    "from sklearn.metrics import make_scorer, mean_squared_error\n",
    "from scipy.stats import randint, uniform\n",
    "\n",
    "clf_rf = RandomForestRegressor(random_state=42)\n",
    "clf_rf.fit(X_train, y_train)\n",
    "\n",
    "pred_rf = clf_rf.predict(X_test)\n",
    "\n",
    "print(pred_rf)\n",
    "print(clf_rf.score(X_train, y_train))"
   ]
  },
  {
   "cell_type": "code",
   "execution_count": 14,
   "id": "fbfc6187",
   "metadata": {},
   "outputs": [
    {
     "name": "stdout",
     "output_type": "stream",
     "text": [
      "평균제곱근오차 3.2619939192331318\n"
     ]
    }
   ],
   "source": [
    "mse = np.sqrt(mean_squared_error(pred_rf, y_test))\n",
    "print('평균제곱근오차', mse)"
   ]
  },
  {
   "cell_type": "code",
   "execution_count": 15,
   "id": "6d661219",
   "metadata": {},
   "outputs": [
    {
     "name": "stdout",
     "output_type": "stream",
     "text": [
      "[18.  29.  26.  36.  17.  32.9 25.  22.3 13.  19.1 26.  32.3 37.  26.\n",
      " 15.  26.8 37.  14.  12.  15.  26.5 26.  17.5 23.  33.  27.  20.2 24.\n",
      " 18.  13.  18.2 18.5 30.  14.  22.3 21.  21.5 14.  28.  32.9 19.  16.2\n",
      " 22.3 18.  37.2 36.  22.3 36.1 27.  23.  30.9 22.  24.  21.  32.3 15.\n",
      " 26.5 30.  30.7 24.  22.   9.  19.  33.  28.  28.  15.  13.  17.5 24.\n",
      " 32.  32.8 43.4 29.  29.5 30.  18.  23.  25. ]\n",
      "0.8287380851972168\n"
     ]
    }
   ],
   "source": [
    "from sklearn.linear_model import LinearRegression\n",
    "from sklearn.model_selection import RandomizedSearchCV\n",
    "from sklearn.metrics import make_scorer, mean_squared_error\n",
    "\n",
    "from sklearn.metrics import mean_squared_error\n",
    "from sklearn.metrics import confusion_matrix\n",
    "\n",
    "from sklearn.tree import DecisionTreeRegressor\n",
    "\n",
    "clf_lr = LinearRegression()\n",
    "clf_lr.fit(X_train, y_train)\n",
    "\n",
    "pred_lr = clf_lr.predict(X_test)\n",
    "\n",
    "print(pred_dt)\n",
    "print(clf_lr.score(X_train, y_train))"
   ]
  },
  {
   "cell_type": "code",
   "execution_count": 16,
   "id": "a69504ba",
   "metadata": {},
   "outputs": [
    {
     "name": "stdout",
     "output_type": "stream",
     "text": [
      "평균제곱근오차 3.4538688118047944\n"
     ]
    }
   ],
   "source": [
    "mse = np.sqrt(mean_squared_error(pred_lr, y_test))\n",
    "print('평균제곱근오차', mse)"
   ]
  },
  {
   "cell_type": "markdown",
   "id": "6a2f9af4",
   "metadata": {},
   "source": [
    "## FCNN"
   ]
  },
  {
   "cell_type": "code",
   "execution_count": 17,
   "id": "cdf86bfd",
   "metadata": {},
   "outputs": [],
   "source": [
    "X_train, X_test, y_train, y_test = train_test_split(X, y, test_size=0.2, random_state=42)"
   ]
  },
  {
   "cell_type": "code",
   "execution_count": 18,
   "id": "c68f4a3b",
   "metadata": {},
   "outputs": [
    {
     "name": "stdout",
     "output_type": "stream",
     "text": [
      "Model: \"sequential\"\n",
      "_________________________________________________________________\n",
      "Layer (type)                 Output Shape              Param #   \n",
      "=================================================================\n",
      "dense (Dense)                (None, 32)                256       \n",
      "_________________________________________________________________\n",
      "dense_1 (Dense)              (None, 64)                2112      \n",
      "_________________________________________________________________\n",
      "dense_2 (Dense)              (None, 1)                 65        \n",
      "=================================================================\n",
      "Total params: 2,433\n",
      "Trainable params: 2,433\n",
      "Non-trainable params: 0\n",
      "_________________________________________________________________\n"
     ]
    }
   ],
   "source": [
    "# Model 3\n",
    "model = Sequential()\n",
    "\n",
    "model.add(Dense(32, input_shape=(X_train.shape[1],), activation='relu'))\n",
    "\n",
    "\n",
    "model.add(Dense(64, activation='relu'))\n",
    "\n",
    "model.add(Dense(1))\n",
    "\n",
    "model.compile(loss='mean_squared_error', optimizer='adam', metrics=['mean_squared_error'])  # 회귀에서는 MSE 사용\n",
    "model.summary()\n"
   ]
  },
  {
   "cell_type": "code",
   "execution_count": 20,
   "id": "6bf62754",
   "metadata": {},
   "outputs": [
    {
     "name": "stdout",
     "output_type": "stream",
     "text": [
      "Epoch 1/50\n",
      "9/9 [==============================] - 1s 37ms/step - loss: 2013.5433 - mean_squared_error: 2013.5433 - val_loss: 2084.8667 - val_mean_squared_error: 2084.8667\n",
      "Epoch 2/50\n",
      "9/9 [==============================] - 0s 5ms/step - loss: 1015.6499 - mean_squared_error: 1015.6499 - val_loss: 442.8367 - val_mean_squared_error: 442.8367\n",
      "Epoch 3/50\n",
      "9/9 [==============================] - 0s 4ms/step - loss: 597.3268 - mean_squared_error: 597.3268 - val_loss: 508.5142 - val_mean_squared_error: 508.5142\n",
      "Epoch 4/50\n",
      "9/9 [==============================] - 0s 6ms/step - loss: 379.9792 - mean_squared_error: 379.9792 - val_loss: 380.6351 - val_mean_squared_error: 380.6351\n",
      "Epoch 5/50\n",
      "9/9 [==============================] - 0s 6ms/step - loss: 339.4856 - mean_squared_error: 339.4856 - val_loss: 362.0091 - val_mean_squared_error: 362.0091\n",
      "Epoch 6/50\n",
      "9/9 [==============================] - 0s 5ms/step - loss: 302.8181 - mean_squared_error: 302.8181 - val_loss: 358.0670 - val_mean_squared_error: 358.0670\n",
      "Epoch 7/50\n",
      "9/9 [==============================] - 0s 6ms/step - loss: 287.5171 - mean_squared_error: 287.5171 - val_loss: 317.9014 - val_mean_squared_error: 317.9014\n",
      "Epoch 8/50\n",
      "9/9 [==============================] - 0s 5ms/step - loss: 276.9883 - mean_squared_error: 276.9883 - val_loss: 392.4643 - val_mean_squared_error: 392.4643\n",
      "Epoch 9/50\n",
      "9/9 [==============================] - 0s 5ms/step - loss: 283.6814 - mean_squared_error: 283.6814 - val_loss: 297.8995 - val_mean_squared_error: 297.8995\n",
      "Epoch 10/50\n",
      "9/9 [==============================] - 0s 5ms/step - loss: 234.7159 - mean_squared_error: 234.7159 - val_loss: 261.1837 - val_mean_squared_error: 261.1837\n",
      "Epoch 11/50\n",
      "9/9 [==============================] - 0s 6ms/step - loss: 216.1577 - mean_squared_error: 216.1577 - val_loss: 254.7013 - val_mean_squared_error: 254.7013\n",
      "Epoch 12/50\n",
      "9/9 [==============================] - ETA: 0s - loss: 232.6222 - mean_squared_error: 232.62 - 0s 5ms/step - loss: 216.5336 - mean_squared_error: 216.5336 - val_loss: 228.8241 - val_mean_squared_error: 228.8241\n",
      "Epoch 13/50\n",
      "9/9 [==============================] - 0s 4ms/step - loss: 200.6079 - mean_squared_error: 200.6079 - val_loss: 245.8993 - val_mean_squared_error: 245.8993\n",
      "Epoch 14/50\n",
      "9/9 [==============================] - 0s 5ms/step - loss: 203.1899 - mean_squared_error: 203.1899 - val_loss: 198.6261 - val_mean_squared_error: 198.6261\n",
      "Epoch 15/50\n",
      "9/9 [==============================] - 0s 5ms/step - loss: 170.8379 - mean_squared_error: 170.8379 - val_loss: 186.4749 - val_mean_squared_error: 186.4749\n",
      "Epoch 16/50\n",
      "9/9 [==============================] - 0s 6ms/step - loss: 162.9198 - mean_squared_error: 162.9198 - val_loss: 175.7260 - val_mean_squared_error: 175.7260\n",
      "Epoch 17/50\n",
      "9/9 [==============================] - 0s 6ms/step - loss: 156.0042 - mean_squared_error: 156.0042 - val_loss: 166.5174 - val_mean_squared_error: 166.5174\n",
      "Epoch 18/50\n",
      "9/9 [==============================] - 0s 6ms/step - loss: 154.6153 - mean_squared_error: 154.6153 - val_loss: 218.3040 - val_mean_squared_error: 218.3040\n",
      "Epoch 19/50\n",
      "9/9 [==============================] - 0s 6ms/step - loss: 174.1740 - mean_squared_error: 174.1740 - val_loss: 187.3226 - val_mean_squared_error: 187.3226\n",
      "Epoch 20/50\n",
      "9/9 [==============================] - 0s 4ms/step - loss: 151.5073 - mean_squared_error: 151.5073 - val_loss: 161.8394 - val_mean_squared_error: 161.8394\n",
      "Epoch 21/50\n",
      "9/9 [==============================] - 0s 6ms/step - loss: 138.9960 - mean_squared_error: 138.9960 - val_loss: 150.1709 - val_mean_squared_error: 150.1709\n",
      "Epoch 22/50\n",
      "9/9 [==============================] - 0s 6ms/step - loss: 149.7879 - mean_squared_error: 149.7879 - val_loss: 161.3135 - val_mean_squared_error: 161.3135\n",
      "Epoch 23/50\n",
      "9/9 [==============================] - 0s 5ms/step - loss: 133.2559 - mean_squared_error: 133.2559 - val_loss: 125.2158 - val_mean_squared_error: 125.2158\n",
      "Epoch 24/50\n",
      "9/9 [==============================] - 0s 5ms/step - loss: 119.9980 - mean_squared_error: 119.9980 - val_loss: 118.1961 - val_mean_squared_error: 118.1961\n",
      "Epoch 25/50\n",
      "9/9 [==============================] - 0s 6ms/step - loss: 114.8456 - mean_squared_error: 114.8456 - val_loss: 124.5743 - val_mean_squared_error: 124.5743\n",
      "Epoch 26/50\n",
      "9/9 [==============================] - 0s 6ms/step - loss: 125.2322 - mean_squared_error: 125.2322 - val_loss: 143.8607 - val_mean_squared_error: 143.8607\n",
      "Epoch 27/50\n",
      "9/9 [==============================] - 0s 6ms/step - loss: 116.5167 - mean_squared_error: 116.5167 - val_loss: 97.5083 - val_mean_squared_error: 97.5083\n",
      "Epoch 28/50\n",
      "9/9 [==============================] - 0s 6ms/step - loss: 108.5352 - mean_squared_error: 108.5352 - val_loss: 118.6882 - val_mean_squared_error: 118.6882\n",
      "Epoch 29/50\n",
      "9/9 [==============================] - 0s 5ms/step - loss: 115.9726 - mean_squared_error: 115.9726 - val_loss: 90.3525 - val_mean_squared_error: 90.3525\n",
      "Epoch 30/50\n",
      "9/9 [==============================] - 0s 6ms/step - loss: 89.1866 - mean_squared_error: 89.1866 - val_loss: 85.9850 - val_mean_squared_error: 85.9850\n",
      "Epoch 31/50\n",
      "9/9 [==============================] - 0s 6ms/step - loss: 97.2567 - mean_squared_error: 97.2567 - val_loss: 89.7884 - val_mean_squared_error: 89.7884\n",
      "Epoch 32/50\n",
      "9/9 [==============================] - 0s 6ms/step - loss: 99.1635 - mean_squared_error: 99.1635 - val_loss: 82.3292 - val_mean_squared_error: 82.3292\n",
      "Epoch 33/50\n",
      "9/9 [==============================] - 0s 6ms/step - loss: 119.3407 - mean_squared_error: 119.3407 - val_loss: 79.7184 - val_mean_squared_error: 79.7184\n",
      "Epoch 34/50\n",
      "9/9 [==============================] - 0s 6ms/step - loss: 97.8797 - mean_squared_error: 97.8797 - val_loss: 75.8260 - val_mean_squared_error: 75.8260\n",
      "Epoch 35/50\n",
      "9/9 [==============================] - ETA: 0s - loss: 65.6941 - mean_squared_error: 65.69 - 0s 5ms/step - loss: 89.3245 - mean_squared_error: 89.3245 - val_loss: 84.2412 - val_mean_squared_error: 84.2412\n",
      "Epoch 36/50\n",
      "9/9 [==============================] - 0s 6ms/step - loss: 100.1071 - mean_squared_error: 100.1071 - val_loss: 101.4140 - val_mean_squared_error: 101.4140\n",
      "Epoch 37/50\n",
      "9/9 [==============================] - 0s 5ms/step - loss: 122.7032 - mean_squared_error: 122.7032 - val_loss: 98.9186 - val_mean_squared_error: 98.9186\n",
      "Epoch 38/50\n",
      "9/9 [==============================] - 0s 5ms/step - loss: 97.1295 - mean_squared_error: 97.1295 - val_loss: 66.6985 - val_mean_squared_error: 66.6985\n",
      "Epoch 39/50\n",
      "9/9 [==============================] - 0s 6ms/step - loss: 79.5071 - mean_squared_error: 79.5071 - val_loss: 75.9340 - val_mean_squared_error: 75.9340\n",
      "Epoch 40/50\n",
      "9/9 [==============================] - 0s 6ms/step - loss: 91.4476 - mean_squared_error: 91.4476 - val_loss: 75.1659 - val_mean_squared_error: 75.1659\n",
      "Epoch 41/50\n",
      "9/9 [==============================] - 0s 5ms/step - loss: 90.7418 - mean_squared_error: 90.7418 - val_loss: 108.9757 - val_mean_squared_error: 108.9757\n",
      "Epoch 42/50\n",
      "9/9 [==============================] - 0s 6ms/step - loss: 101.7564 - mean_squared_error: 101.7564 - val_loss: 59.2168 - val_mean_squared_error: 59.2168\n",
      "Epoch 43/50\n",
      "9/9 [==============================] - 0s 6ms/step - loss: 75.5528 - mean_squared_error: 75.5528 - val_loss: 62.1223 - val_mean_squared_error: 62.1223\n",
      "Epoch 44/50\n",
      "9/9 [==============================] - 0s 6ms/step - loss: 86.8612 - mean_squared_error: 86.8612 - val_loss: 67.6771 - val_mean_squared_error: 67.6771\n",
      "Epoch 45/50\n",
      "9/9 [==============================] - 0s 6ms/step - loss: 70.2638 - mean_squared_error: 70.2638 - val_loss: 67.6520 - val_mean_squared_error: 67.6520\n",
      "Epoch 46/50\n",
      "9/9 [==============================] - 0s 5ms/step - loss: 69.1029 - mean_squared_error: 69.1029 - val_loss: 73.5770 - val_mean_squared_error: 73.5770\n",
      "Epoch 47/50\n",
      "9/9 [==============================] - 0s 5ms/step - loss: 87.2013 - mean_squared_error: 87.2013 - val_loss: 191.8814 - val_mean_squared_error: 191.8814\n",
      "Epoch 48/50\n",
      "9/9 [==============================] - 0s 4ms/step - loss: 124.7454 - mean_squared_error: 124.7454 - val_loss: 58.8951 - val_mean_squared_error: 58.8951\n",
      "Epoch 49/50\n",
      "9/9 [==============================] - 0s 6ms/step - loss: 88.7617 - mean_squared_error: 88.7617 - val_loss: 69.8574 - val_mean_squared_error: 69.8574\n"
     ]
    },
    {
     "name": "stdout",
     "output_type": "stream",
     "text": [
      "Epoch 50/50\n",
      "9/9 [==============================] - 0s 6ms/step - loss: 82.5014 - mean_squared_error: 82.5014 - val_loss: 51.9608 - val_mean_squared_error: 51.9608\n"
     ]
    }
   ],
   "source": [
    "batch_size = 32\n",
    "\n",
    "train_epochs = 50\n",
    "history = model.fit(X_train, y_train, epochs=train_epochs, batch_size=batch_size, validation_split = 0.1, verbose=True, shuffle=True)"
   ]
  },
  {
   "cell_type": "code",
   "execution_count": 21,
   "id": "07427543",
   "metadata": {},
   "outputs": [
    {
     "data": {
      "image/png": "[encoded data removed]",
      "text/plain": [
       "<Figure size 432x288 with 1 Axes>"
      ]
     },
     "metadata": {
      "needs_background": "light"
     },
     "output_type": "display_data"
    }
   ],
   "source": [
    "plt.plot(history.history['loss'])\n",
    "plt.plot(history.history['val_loss'])\n",
    "plt.title('Model MSE Loss')  # 'model loss'를 'Model MSE Loss'로 변경\n",
    "plt.ylabel('MSE Loss')  # y축 레이블을 'MSE Loss'로 변경\n",
    "plt.xlabel('Epoch')  # x축 레이블은 'Epoch' 그대로 유지\n",
    "plt.legend(['Train', 'Validation'], loc='upper left')  # 범례 그대로 유지\n",
    "plt.show()"
   ]
  },
  {
   "cell_type": "code",
   "execution_count": 29,
   "id": "111c9465",
   "metadata": {},
   "outputs": [
    {
     "name": "stdout",
     "output_type": "stream",
     "text": [
      "MSE: 22.631697397565187\n",
      "MAE: 3.5526480266026086\n",
      "R^2 Score: 0.6399483750902951\n"
     ]
    },
    {
     "data": {
      "text/plain": [
       "Text(0, 0.5, 'Predicted Values')"
      ]
     },
     "execution_count": 29,
     "metadata": {},
     "output_type": "execute_result"
    },
    {
     "data": {
      "image/png": "[encoded data removed]",
      "text/plain": [
       "<Figure size 432x288 with 1 Axes>"
      ]
     },
     "metadata": {
      "needs_background": "light"
     },
     "output_type": "display_data"
    }
   ],
   "source": [
    "from sklearn.metrics import mean_squared_error, mean_absolute_error, r2_score\n",
    "\n",
    "# 모델이 예측한 연속적인 값 (회귀)\n",
    "predy = model.predict(X_test)\n",
    "\n",
    "# 성능 지표 계산 (MSE, MAE, R^2)\n",
    "mse = mean_squared_error(y_test, predy)\n",
    "mae = mean_absolute_error(y_test, predy)\n",
    "r2 = r2_score(y_test, predy)\n",
    "\n",
    "print(f'MSE: {mse}')\n",
    "print(f'MAE: {mae}')\n",
    "print(f'R^2 Score: {r2}')\n",
    "\n",
    "# 예측값 vs 실제값 시각화\n",
    "plt.scatter(y_test, predy, alpha=0.5)\n",
    "plt.plot([min(y_test), max(y_test)], [min(y_test), max(y_test)], color='red', linestyle='--')\n",
    "plt.title('Actual vs Predicted')\n",
    "plt.xlabel('Actual Values')\n",
    "plt.ylabel('Predicted Values')"
   ]
  },
  {
   "cell_type": "markdown",
   "id": "26e02c98",
   "metadata": {},
   "source": [
    "## 3. 순환데이터로 변환후 CNN"
   ]
  },
  {
   "cell_type": "code",
   "execution_count": 22,
   "id": "c689685f",
   "metadata": {},
   "outputs": [],
   "source": [
    "# split_sequence 함수\n",
    "def split_sequence(df, n_steps):\n",
    "    X, y = [], []\n",
    "    for i in range(len(df) - n_steps):\n",
    "        seq_x = df.iloc[i:i+n_steps, :1:].values  # 마지막 열(Rings)을 제외한 특징들\n",
    "        seq_y = df.iloc[i+n_steps, 0]  # Rings (예측할 값)\n",
    "        X.append(seq_x)\n",
    "        y.append(seq_y)\n",
    "    return np.array(X), np.array(y)"
   ]
  },
  {
   "cell_type": "code",
   "execution_count": 23,
   "id": "127c2ab6",
   "metadata": {},
   "outputs": [
    {
     "name": "stdout",
     "output_type": "stream",
     "text": [
      "입력 데이터 (X): [[[18.]\n",
      "  [15.]\n",
      "  [18.]\n",
      "  ...\n",
      "  [17.]\n",
      "  [15.]\n",
      "  [14.]]\n",
      "\n",
      " [[15.]\n",
      "  [18.]\n",
      "  [16.]\n",
      "  ...\n",
      "  [15.]\n",
      "  [14.]\n",
      "  [14.]]\n",
      "\n",
      " [[18.]\n",
      "  [16.]\n",
      "  [17.]\n",
      "  ...\n",
      "  [14.]\n",
      "  [14.]\n",
      "  [14.]]\n",
      "\n",
      " ...\n",
      "\n",
      " [[26.]\n",
      "  [22.]\n",
      "  [32.]\n",
      "  ...\n",
      "  [27.]\n",
      "  [27.]\n",
      "  [44.]]\n",
      "\n",
      " [[22.]\n",
      "  [32.]\n",
      "  [36.]\n",
      "  ...\n",
      "  [27.]\n",
      "  [44.]\n",
      "  [32.]]\n",
      "\n",
      " [[32.]\n",
      "  [36.]\n",
      "  [27.]\n",
      "  ...\n",
      "  [44.]\n",
      "  [32.]\n",
      "  [28.]]]\n",
      "출력 데이터 (y): [14.  14.  15.  15.  14.  15.  14.  24.  22.  18.  21.  27.  26.  25.\n",
      " 24.  25.  26.  21.  10.  10.  11.   9.  27.  28.  25.  19.  16.  17.\n",
      " 19.  18.  14.  14.  14.  14.  12.  13.  13.  18.  22.  19.  18.  23.\n",
      " 28.  30.  30.  31.  35.  27.  26.  24.  25.  23.  20.  21.  13.  14.\n",
      " 15.  14.  17.  11.  13.  12.  13.  19.  15.  13.  13.  14.  18.  22.\n",
      " 21.  26.  22.  28.  23.  28.  27.  13.  14.  13.  14.  15.  12.  13.\n",
      " 13.  14.  13.  12.  13.  18.  16.  18.  18.  23.  26.  11.  12.  13.\n",
      " 12.  18.  20.  21.  22.  18.  19.  21.  26.  15.  16.  29.  24.  20.\n",
      " 19.  15.  24.  20.  11.  20.  19.  15.  31.  26.  32.  25.  16.  16.\n",
      " 18.  16.  13.  14.  14.  14.  29.  26.  26.  31.  32.  28.  24.  26.\n",
      " 24.  26.  31.  19.  18.  15.  15.  16.  15.  16.  14.  17.  16.  15.\n",
      " 18.  21.  20.  13.  29.  23.  20.  23.  24.  25.  24.  18.  29.  19.\n",
      " 23.  23.  22.  25.  33.  28.  25.  25.  26.  27.  17.5 16.  15.5 14.5\n",
      " 22.  22.  24.  22.5 29.  24.5 29.  33.  20.  18.  18.5 17.5 29.5 32.\n",
      " 28.  26.5 20.  13.  19.  19.  16.5 16.5 13.  13.  13.  31.5 30.  36.\n",
      " 25.5 33.5 17.5 17.  15.5 15.  17.5 20.5 19.  18.5 16.  15.5 15.5 16.\n",
      " 29.  24.5 26.  25.5 30.5 33.5 30.  30.5 22.  21.5 21.5 43.1 36.1 32.8\n",
      " 39.4 36.1 19.9 19.4 20.2 19.2 20.5 20.2 25.1 20.5 19.4 20.6 20.8 18.6\n",
      " 18.1 19.2 17.7 18.1 17.5 30.  27.5 27.2 30.9 21.1 23.2 23.8 23.9 20.3\n",
      " 17.  21.6 16.2 31.5 29.5 21.5 19.8 22.3 20.2 20.6 17.  17.6 16.5 18.2\n",
      " 16.9 15.5 19.2 18.5 31.9 34.1 35.7 27.4 25.4 23.  27.2 23.9 34.2 34.5\n",
      " 31.8 37.3 28.4 28.8 26.8 33.5 41.5 38.1 32.1 37.2 28.  26.4 24.3 19.1\n",
      " 34.3 29.8 31.3 37.  32.2 46.6 27.9 40.8 44.3 43.4 36.4 30.  44.6 33.8\n",
      " 29.8 32.7 23.7 35.  32.4 27.2 26.6 25.8 23.5 30.  39.1 39.  35.1 32.3\n",
      " 37.  37.7 34.1 34.7 34.4 29.9 33.  33.7 32.4 32.9 31.6 28.1 30.7 25.4\n",
      " 24.2 22.4 26.6 20.2 17.6 28.  27.  34.  31.  29.  27.  24.  36.  37.\n",
      " 31.  38.  36.  36.  36.  34.  38.  32.  38.  25.  38.  26.  22.  32.\n",
      " 36.  27.  27.  44.  32.  28.  31. ]\n"
     ]
    }
   ],
   "source": [
    "n_steps = 7\n",
    "\n",
    "X, y = split_sequence(df, n_steps)\n",
    "print(\"입력 데이터 (X):\", X)\n",
    "print(\"출력 데이터 (y):\", y)"
   ]
  },
  {
   "cell_type": "code",
   "execution_count": 24,
   "id": "39a17944",
   "metadata": {},
   "outputs": [
    {
     "data": {
      "text/plain": [
       "((246, 7, 1), (77, 7, 1), (246,), (77,), (62, 7, 1), (62,))"
      ]
     },
     "execution_count": 24,
     "metadata": {},
     "output_type": "execute_result"
    }
   ],
   "source": [
    "from sklearn.model_selection import train_test_split\n",
    "\n",
    "X_train, X_test, y_train, y_test = train_test_split(X, y, test_size=0.2, random_state=32)\n",
    "\n",
    "X_train, X_val, y_train, y_val = train_test_split(X_train, y_train, test_size=0.2, random_state=32)\n",
    "\n",
    "X_train.shape, X_test.shape, y_train.shape, y_test.shape, X_val.shape, y_val.shape"
   ]
  },
  {
   "cell_type": "code",
   "execution_count": 25,
   "id": "1229478e",
   "metadata": {},
   "outputs": [],
   "source": [
    "n_timesteps, n_features = X_train.shape[1], X_train.shape[2]"
   ]
  },
  {
   "cell_type": "code",
   "execution_count": 26,
   "id": "2c7f077d",
   "metadata": {},
   "outputs": [
    {
     "name": "stdout",
     "output_type": "stream",
     "text": [
      "Model: \"sequential_1\"\n",
      "_________________________________________________________________\n",
      "Layer (type)                 Output Shape              Param #   \n",
      "=================================================================\n",
      "conv1d (Conv1D)              (None, 6, 16)             48        \n",
      "_________________________________________________________________\n",
      "conv1d_1 (Conv1D)            (None, 4, 32)             1568      \n",
      "_________________________________________________________________\n",
      "conv1d_2 (Conv1D)            (None, 1, 48)             6192      \n",
      "_________________________________________________________________\n",
      "flatten (Flatten)            (None, 48)                0         \n",
      "_________________________________________________________________\n",
      "dense_3 (Dense)              (None, 8)                 392       \n",
      "_________________________________________________________________\n",
      "dense_4 (Dense)              (None, 1)                 9         \n",
      "=================================================================\n",
      "Total params: 8,209\n",
      "Trainable params: 8,209\n",
      "Non-trainable params: 0\n",
      "_________________________________________________________________\n"
     ]
    }
   ],
   "source": [
    "# Model 3\n",
    "model = Sequential()\n",
    "model.add(Conv1D(filters=16, kernel_size=2, activation='relu', input_shape=(n_timesteps, n_features)))\n",
    "model.add(Conv1D(filters=32, kernel_size=3, activation='relu'))\n",
    "model.add(Conv1D(filters=48, kernel_size=4, activation='relu'))\n",
    "model.add(Flatten())\n",
    "model.add(Dense(8, activation='relu'))\n",
    "model.add(Dense(1, activation='linear'))  # 출력 레이어, 회귀이므로 'linear' 사용\n",
    "model.compile(loss='mean_squared_error', optimizer='adam', metrics=['mean_squared_error'])  # 회귀에서는 MSE 사용\n",
    "model.summary()"
   ]
  },
  {
   "cell_type": "code",
   "execution_count": 27,
   "id": "017b401e",
   "metadata": {},
   "outputs": [
    {
     "name": "stdout",
     "output_type": "stream",
     "text": [
      "Epoch 1/50\n",
      "16/16 [==============================] - 1s 20ms/step - loss: 546.4872 - mean_squared_error: 546.4872 - val_loss: 278.6073 - val_mean_squared_error: 278.6073\n",
      "Epoch 2/50\n",
      "16/16 [==============================] - 0s 5ms/step - loss: 129.1353 - mean_squared_error: 129.1353 - val_loss: 71.6220 - val_mean_squared_error: 71.6220\n",
      "Epoch 3/50\n",
      "16/16 [==============================] - 0s 5ms/step - loss: 61.8857 - mean_squared_error: 61.8857 - val_loss: 50.7804 - val_mean_squared_error: 50.7804\n",
      "Epoch 4/50\n",
      "16/16 [==============================] - 0s 4ms/step - loss: 47.5784 - mean_squared_error: 47.5784 - val_loss: 50.2893 - val_mean_squared_error: 50.2893\n",
      "Epoch 5/50\n",
      "16/16 [==============================] - 0s 6ms/step - loss: 43.7006 - mean_squared_error: 43.7006 - val_loss: 48.3329 - val_mean_squared_error: 48.3329\n",
      "Epoch 6/50\n",
      "16/16 [==============================] - 0s 5ms/step - loss: 42.1527 - mean_squared_error: 42.1527 - val_loss: 46.8997 - val_mean_squared_error: 46.8997\n",
      "Epoch 7/50\n",
      "16/16 [==============================] - 0s 4ms/step - loss: 41.4209 - mean_squared_error: 41.4209 - val_loss: 45.4686 - val_mean_squared_error: 45.4686\n",
      "Epoch 8/50\n",
      "16/16 [==============================] - 0s 4ms/step - loss: 39.0468 - mean_squared_error: 39.0468 - val_loss: 40.8131 - val_mean_squared_error: 40.8131\n",
      "Epoch 9/50\n",
      "16/16 [==============================] - 0s 4ms/step - loss: 37.9193 - mean_squared_error: 37.9193 - val_loss: 38.7667 - val_mean_squared_error: 38.7667\n",
      "Epoch 10/50\n",
      "16/16 [==============================] - 0s 4ms/step - loss: 34.8330 - mean_squared_error: 34.8330 - val_loss: 36.5323 - val_mean_squared_error: 36.5323\n",
      "Epoch 11/50\n",
      "16/16 [==============================] - 0s 5ms/step - loss: 34.7601 - mean_squared_error: 34.7601 - val_loss: 35.3887 - val_mean_squared_error: 35.3887\n",
      "Epoch 12/50\n",
      "16/16 [==============================] - 0s 4ms/step - loss: 33.6535 - mean_squared_error: 33.6535 - val_loss: 35.1175 - val_mean_squared_error: 35.1175\n",
      "Epoch 13/50\n",
      "16/16 [==============================] - 0s 4ms/step - loss: 32.4831 - mean_squared_error: 32.4831 - val_loss: 32.3461 - val_mean_squared_error: 32.3461\n",
      "Epoch 14/50\n",
      "16/16 [==============================] - 0s 5ms/step - loss: 31.5998 - mean_squared_error: 31.5998 - val_loss: 32.0401 - val_mean_squared_error: 32.0401\n",
      "Epoch 15/50\n",
      "16/16 [==============================] - 0s 5ms/step - loss: 31.4079 - mean_squared_error: 31.4079 - val_loss: 32.1448 - val_mean_squared_error: 32.1448\n",
      "Epoch 16/50\n",
      "16/16 [==============================] - 0s 4ms/step - loss: 31.3021 - mean_squared_error: 31.3021 - val_loss: 30.5280 - val_mean_squared_error: 30.5280\n",
      "Epoch 17/50\n",
      "16/16 [==============================] - 0s 5ms/step - loss: 32.4658 - mean_squared_error: 32.4658 - val_loss: 29.8654 - val_mean_squared_error: 29.8654\n",
      "Epoch 18/50\n",
      "16/16 [==============================] - 0s 5ms/step - loss: 33.6181 - mean_squared_error: 33.6181 - val_loss: 29.4386 - val_mean_squared_error: 29.4386\n",
      "Epoch 19/50\n",
      "16/16 [==============================] - 0s 5ms/step - loss: 30.5817 - mean_squared_error: 30.5817 - val_loss: 29.4361 - val_mean_squared_error: 29.4361\n",
      "Epoch 20/50\n",
      "16/16 [==============================] - 0s 5ms/step - loss: 29.7306 - mean_squared_error: 29.7306 - val_loss: 30.2496 - val_mean_squared_error: 30.2496\n",
      "Epoch 21/50\n",
      "16/16 [==============================] - 0s 4ms/step - loss: 30.5513 - mean_squared_error: 30.5513 - val_loss: 29.0252 - val_mean_squared_error: 29.0252\n",
      "Epoch 22/50\n",
      "16/16 [==============================] - 0s 4ms/step - loss: 29.9008 - mean_squared_error: 29.9008 - val_loss: 29.8020 - val_mean_squared_error: 29.8020\n",
      "Epoch 23/50\n",
      "16/16 [==============================] - 0s 6ms/step - loss: 31.9273 - mean_squared_error: 31.9273 - val_loss: 29.5134 - val_mean_squared_error: 29.5134\n",
      "Epoch 24/50\n",
      "16/16 [==============================] - 0s 4ms/step - loss: 31.2135 - mean_squared_error: 31.2135 - val_loss: 28.6178 - val_mean_squared_error: 28.6178\n",
      "Epoch 25/50\n",
      "16/16 [==============================] - 0s 5ms/step - loss: 29.1443 - mean_squared_error: 29.1443 - val_loss: 30.8722 - val_mean_squared_error: 30.8722\n",
      "Epoch 26/50\n",
      "16/16 [==============================] - 0s 4ms/step - loss: 29.3279 - mean_squared_error: 29.3279 - val_loss: 28.5390 - val_mean_squared_error: 28.5390\n",
      "Epoch 27/50\n",
      "16/16 [==============================] - 0s 5ms/step - loss: 29.7922 - mean_squared_error: 29.7922 - val_loss: 27.4011 - val_mean_squared_error: 27.4011\n",
      "Epoch 28/50\n",
      "16/16 [==============================] - 0s 5ms/step - loss: 30.3603 - mean_squared_error: 30.3603 - val_loss: 29.5404 - val_mean_squared_error: 29.5404\n",
      "Epoch 29/50\n",
      "16/16 [==============================] - 0s 5ms/step - loss: 31.9775 - mean_squared_error: 31.9775 - val_loss: 32.3138 - val_mean_squared_error: 32.3138\n",
      "Epoch 30/50\n",
      "16/16 [==============================] - 0s 6ms/step - loss: 31.3260 - mean_squared_error: 31.3260 - val_loss: 27.8561 - val_mean_squared_error: 27.8561\n",
      "Epoch 31/50\n",
      "16/16 [==============================] - 0s 5ms/step - loss: 28.7785 - mean_squared_error: 28.7785 - val_loss: 27.3050 - val_mean_squared_error: 27.3050\n",
      "Epoch 32/50\n",
      "16/16 [==============================] - 0s 4ms/step - loss: 28.9786 - mean_squared_error: 28.9786 - val_loss: 27.6454 - val_mean_squared_error: 27.6454\n",
      "Epoch 33/50\n",
      "16/16 [==============================] - 0s 6ms/step - loss: 28.4850 - mean_squared_error: 28.4850 - val_loss: 28.1249 - val_mean_squared_error: 28.1249\n",
      "Epoch 34/50\n",
      "16/16 [==============================] - 0s 5ms/step - loss: 28.2467 - mean_squared_error: 28.2467 - val_loss: 28.4113 - val_mean_squared_error: 28.4113\n",
      "Epoch 35/50\n",
      "16/16 [==============================] - 0s 4ms/step - loss: 28.8597 - mean_squared_error: 28.8597 - val_loss: 28.4858 - val_mean_squared_error: 28.4858\n",
      "Epoch 36/50\n",
      "16/16 [==============================] - 0s 4ms/step - loss: 28.5243 - mean_squared_error: 28.5243 - val_loss: 29.5880 - val_mean_squared_error: 29.5880\n",
      "Epoch 37/50\n",
      "16/16 [==============================] - 0s 5ms/step - loss: 28.7015 - mean_squared_error: 28.7015 - val_loss: 32.0616 - val_mean_squared_error: 32.0616\n",
      "Epoch 38/50\n",
      "16/16 [==============================] - 0s 4ms/step - loss: 29.5310 - mean_squared_error: 29.5310 - val_loss: 28.5246 - val_mean_squared_error: 28.5246\n",
      "Epoch 39/50\n",
      "16/16 [==============================] - 0s 4ms/step - loss: 29.4581 - mean_squared_error: 29.4581 - val_loss: 27.9549 - val_mean_squared_error: 27.9549\n",
      "Epoch 40/50\n",
      "16/16 [==============================] - 0s 5ms/step - loss: 28.4826 - mean_squared_error: 28.4826 - val_loss: 28.1596 - val_mean_squared_error: 28.1596\n",
      "Epoch 41/50\n",
      "16/16 [==============================] - 0s 5ms/step - loss: 28.6372 - mean_squared_error: 28.6372 - val_loss: 27.0113 - val_mean_squared_error: 27.0113\n",
      "Epoch 42/50\n",
      "16/16 [==============================] - 0s 4ms/step - loss: 28.3646 - mean_squared_error: 28.3646 - val_loss: 31.2719 - val_mean_squared_error: 31.2719\n",
      "Epoch 43/50\n",
      "16/16 [==============================] - 0s 5ms/step - loss: 29.3919 - mean_squared_error: 29.3919 - val_loss: 29.5178 - val_mean_squared_error: 29.5178\n",
      "Epoch 44/50\n",
      "16/16 [==============================] - 0s 5ms/step - loss: 28.2209 - mean_squared_error: 28.2209 - val_loss: 27.8392 - val_mean_squared_error: 27.8392\n",
      "Epoch 45/50\n",
      "16/16 [==============================] - 0s 4ms/step - loss: 27.8697 - mean_squared_error: 27.8697 - val_loss: 27.5551 - val_mean_squared_error: 27.5551\n",
      "Epoch 46/50\n",
      "16/16 [==============================] - 0s 5ms/step - loss: 28.0837 - mean_squared_error: 28.0837 - val_loss: 27.8535 - val_mean_squared_error: 27.8535\n",
      "Epoch 47/50\n",
      "16/16 [==============================] - 0s 4ms/step - loss: 27.7333 - mean_squared_error: 27.7333 - val_loss: 27.5227 - val_mean_squared_error: 27.5227\n",
      "Epoch 48/50\n",
      "16/16 [==============================] - 0s 5ms/step - loss: 29.0640 - mean_squared_error: 29.0640 - val_loss: 27.8708 - val_mean_squared_error: 27.8708\n",
      "Epoch 49/50\n",
      "16/16 [==============================] - 0s 4ms/step - loss: 27.5727 - mean_squared_error: 27.5727 - val_loss: 30.9341 - val_mean_squared_error: 30.9341\n",
      "Epoch 50/50\n",
      "16/16 [==============================] - 0s 4ms/step - loss: 29.5831 - mean_squared_error: 29.5831 - val_loss: 27.5606 - val_mean_squared_error: 27.5606\n"
     ]
    }
   ],
   "source": [
    "batch_size = 16\n",
    "\n",
    "train_epochs = 50\n",
    "history = model.fit(X_train, y_train, epochs=train_epochs, batch_size=batch_size, validation_data=(X_val, y_val), verbose=True, shuffle=True)"
   ]
  },
  {
   "cell_type": "code",
   "execution_count": 28,
   "id": "3f2a032f",
   "metadata": {},
   "outputs": [
    {
     "name": "stdout",
     "output_type": "stream",
     "text": [
      "MSE: 22.631697397565187\n",
      "MAE: 3.5526480266026086\n",
      "R^2 Score: 0.6399483750902951\n"
     ]
    },
    {
     "data": {
      "text/plain": [
       "Text(0, 0.5, 'Predicted Values')"
      ]
     },
     "execution_count": 28,
     "metadata": {},
     "output_type": "execute_result"
    },
    {
     "data": {
      "image/png": "[encoded data removed]",
      "text/plain": [
       "<Figure size 432x288 with 1 Axes>"
      ]
     },
     "metadata": {
      "needs_background": "light"
     },
     "output_type": "display_data"
    }
   ],
   "source": [
    "from sklearn.metrics import mean_squared_error, mean_absolute_error, r2_score\n",
    "\n",
    "# 모델이 예측한 연속적인 값 (회귀)\n",
    "predy = model.predict(X_test)\n",
    "\n",
    "# 성능 지표 계산 (MSE, MAE, R^2)\n",
    "mse = mean_squared_error(y_test, predy)\n",
    "mae = mean_absolute_error(y_test, predy)\n",
    "r2 = r2_score(y_test, predy)\n",
    "\n",
    "print(f'MSE: {mse}')\n",
    "print(f'MAE: {mae}')\n",
    "print(f'R^2 Score: {r2}')\n",
    "\n",
    "# 예측값 vs 실제값 시각화\n",
    "plt.scatter(y_test, predy, alpha=0.5)\n",
    "plt.plot([min(y_test), max(y_test)], [min(y_test), max(y_test)], color='red', linestyle='--')\n",
    "plt.title('Actual vs Predicted')\n",
    "plt.xlabel('Actual Values')\n",
    "plt.ylabel('Predicted Values')"
   ]
  },
  {
   "cell_type": "code",
   "execution_count": null,
   "id": "706d7bc5",
   "metadata": {},
   "outputs": [],
   "source": []
  }
 ],
 "metadata": {
  "kernelspec": {
   "display_name": "test01",
   "language": "python",
   "name": "test01"
  },
  "language_info": {
   "codemirror_mode": {
    "name": "ipython",
    "version": 3
   },
   "file_extension": ".py",
   "mimetype": "text/x-python",
   "name": "python",
   "nbconvert_exporter": "python",
   "pygments_lexer": "ipython3",
   "version": "3.6.13"
  }
 },
 "nbformat": 4,
 "nbformat_minor": 5
}
