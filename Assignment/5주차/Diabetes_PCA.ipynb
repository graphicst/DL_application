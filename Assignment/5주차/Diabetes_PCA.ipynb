{
 "cells": [
  {
   "cell_type": "code",
   "execution_count": 9,
   "id": "17687c3b-d185-4d6f-85e2-4af74d141c19",
   "metadata": {},
   "outputs": [],
   "source": [
    "import numpy as np\n",
    "import pandas as pd\n",
    "from sklearn.model_selection import train_test_split\n",
    "from sklearn.preprocessing import StandardScaler\n",
    "from sklearn.decomposition import PCA\n",
    "from tensorflow.keras.models import Sequential\n",
    "from tensorflow.keras.layers import Dense, Dropout\n",
    "from sklearn.metrics import accuracy_score\n",
    "\n",
    "# 데이터 불러오기 (Pima Indians Diabetes dataset)\n",
    "from sklearn.datasets import load_diabetes\n",
    "data = load_diabetes()"
   ]
  },
  {
   "cell_type": "code",
   "execution_count": 10,
   "id": "c8b1b512-73df-45d9-b2ef-e893430d4fdb",
   "metadata": {},
   "outputs": [],
   "source": [
    "# X: 특징, y: 타겟(Outcome)\n",
    "X = data.data\n",
    "y = data.target"
   ]
  },
  {
   "cell_type": "code",
   "execution_count": 11,
   "id": "55ed647f-a5d9-47a3-9a8d-0f024614ab47",
   "metadata": {},
   "outputs": [
    {
     "name": "stdout",
     "output_type": "stream",
     "text": [
      "[[ 0.03807591  0.05068012  0.06169621 ... -0.00259226  0.01990749\n",
      "  -0.01764613]\n",
      " [-0.00188202 -0.04464164 -0.05147406 ... -0.03949338 -0.06833155\n",
      "  -0.09220405]\n",
      " [ 0.08529891  0.05068012  0.04445121 ... -0.00259226  0.00286131\n",
      "  -0.02593034]\n",
      " ...\n",
      " [ 0.04170844  0.05068012 -0.01590626 ... -0.01107952 -0.04688253\n",
      "   0.01549073]\n",
      " [-0.04547248 -0.04464164  0.03906215 ...  0.02655962  0.04452873\n",
      "  -0.02593034]\n",
      " [-0.04547248 -0.04464164 -0.0730303  ... -0.03949338 -0.00422151\n",
      "   0.00306441]]\n",
      "[151.  75. 141. 206. 135.  97. 138.  63. 110. 310. 101.  69. 179. 185.\n",
      " 118. 171. 166. 144.  97. 168.  68.  49.  68. 245. 184. 202. 137.  85.\n",
      " 131. 283. 129.  59. 341.  87.  65. 102. 265. 276. 252.  90. 100.  55.\n",
      "  61.  92. 259.  53. 190. 142.  75. 142. 155. 225.  59. 104. 182. 128.\n",
      "  52.  37. 170. 170.  61. 144.  52. 128.  71. 163. 150.  97. 160. 178.\n",
      "  48. 270. 202. 111.  85.  42. 170. 200. 252. 113. 143.  51.  52. 210.\n",
      "  65. 141.  55. 134.  42. 111.  98. 164.  48.  96.  90. 162. 150. 279.\n",
      "  92.  83. 128. 102. 302. 198.  95.  53. 134. 144. 232.  81. 104.  59.\n",
      " 246. 297. 258. 229. 275. 281. 179. 200. 200. 173. 180.  84. 121. 161.\n",
      "  99. 109. 115. 268. 274. 158. 107.  83. 103. 272.  85. 280. 336. 281.\n",
      " 118. 317. 235.  60. 174. 259. 178. 128.  96. 126. 288.  88. 292.  71.\n",
      " 197. 186.  25.  84.  96. 195.  53. 217. 172. 131. 214.  59.  70. 220.\n",
      " 268. 152.  47.  74. 295. 101. 151. 127. 237. 225.  81. 151. 107.  64.\n",
      " 138. 185. 265. 101. 137. 143. 141.  79. 292. 178.  91. 116.  86. 122.\n",
      "  72. 129. 142.  90. 158.  39. 196. 222. 277.  99. 196. 202. 155.  77.\n",
      " 191.  70.  73.  49.  65. 263. 248. 296. 214. 185.  78.  93. 252. 150.\n",
      "  77. 208.  77. 108. 160.  53. 220. 154. 259.  90. 246. 124.  67.  72.\n",
      " 257. 262. 275. 177.  71.  47. 187. 125.  78.  51. 258. 215. 303. 243.\n",
      "  91. 150. 310. 153. 346.  63.  89.  50.  39. 103. 308. 116. 145.  74.\n",
      "  45. 115. 264.  87. 202. 127. 182. 241.  66.  94. 283.  64. 102. 200.\n",
      " 265.  94. 230. 181. 156. 233.  60. 219.  80.  68. 332. 248.  84. 200.\n",
      "  55.  85.  89.  31. 129.  83. 275.  65. 198. 236. 253. 124.  44. 172.\n",
      " 114. 142. 109. 180. 144. 163. 147.  97. 220. 190. 109. 191. 122. 230.\n",
      " 242. 248. 249. 192. 131. 237.  78. 135. 244. 199. 270. 164.  72.  96.\n",
      " 306.  91. 214.  95. 216. 263. 178. 113. 200. 139. 139.  88. 148.  88.\n",
      " 243.  71.  77. 109. 272.  60.  54. 221.  90. 311. 281. 182. 321.  58.\n",
      " 262. 206. 233. 242. 123. 167.  63. 197.  71. 168. 140. 217. 121. 235.\n",
      " 245.  40.  52. 104. 132.  88.  69. 219.  72. 201. 110.  51. 277.  63.\n",
      " 118.  69. 273. 258.  43. 198. 242. 232. 175.  93. 168. 275. 293. 281.\n",
      "  72. 140. 189. 181. 209. 136. 261. 113. 131. 174. 257.  55.  84.  42.\n",
      " 146. 212. 233.  91. 111. 152. 120.  67. 310.  94. 183.  66. 173.  72.\n",
      "  49.  64.  48. 178. 104. 132. 220.  57.]\n"
     ]
    }
   ],
   "source": [
    "print(X)\n",
    "print(y)"
   ]
  },
  {
   "cell_type": "code",
   "execution_count": 23,
   "id": "b6de9d8d-58d2-4be6-9667-47f9189ee187",
   "metadata": {},
   "outputs": [
    {
     "data": {
      "text/plain": [
       "array([1, 0, 1, 1, 0, 0, 0, 0, 0, 1, 0, 0, 1, 1, 0, 1, 1, 1, 0, 1, 0, 0,\n",
       "       0, 1, 1, 1, 0, 0, 0, 1, 0, 0, 1, 0, 0, 0, 1, 1, 1, 0, 0, 0, 0, 0,\n",
       "       1, 0, 1, 1, 0, 1, 1, 1, 0, 0, 1, 0, 0, 0, 1, 1, 0, 1, 0, 0, 0, 1,\n",
       "       1, 0, 1, 1, 0, 1, 1, 0, 0, 0, 1, 1, 1, 0, 1, 0, 0, 1, 0, 1, 0, 0,\n",
       "       0, 0, 0, 1, 0, 0, 0, 1, 1, 1, 0, 0, 0, 0, 1, 1, 0, 0, 0, 1, 1, 0,\n",
       "       0, 0, 1, 1, 1, 1, 1, 1, 1, 1, 1, 1, 1, 0, 0, 1, 0, 0, 0, 1, 1, 1,\n",
       "       0, 0, 0, 1, 0, 1, 1, 1, 0, 1, 1, 0, 1, 1, 1, 0, 0, 0, 1, 0, 1, 0,\n",
       "       1, 1, 0, 0, 0, 1, 0, 1, 1, 0, 1, 0, 0, 1, 1, 1, 0, 0, 1, 0, 1, 0,\n",
       "       1, 1, 0, 1, 0, 0, 0, 1, 1, 0, 0, 1, 1, 0, 1, 1, 0, 0, 0, 0, 0, 0,\n",
       "       1, 0, 1, 0, 1, 1, 1, 0, 1, 1, 1, 0, 1, 0, 0, 0, 0, 1, 1, 1, 1, 1,\n",
       "       0, 0, 1, 1, 0, 1, 0, 0, 1, 0, 1, 1, 1, 0, 1, 0, 0, 0, 1, 1, 1, 1,\n",
       "       0, 0, 1, 0, 0, 0, 1, 1, 1, 1, 0, 1, 1, 1, 1, 0, 0, 0, 0, 0, 1, 0,\n",
       "       1, 0, 0, 0, 1, 0, 1, 0, 1, 1, 0, 0, 1, 0, 0, 1, 1, 0, 1, 1, 1, 1,\n",
       "       0, 1, 0, 0, 1, 1, 0, 1, 0, 0, 0, 0, 0, 0, 1, 0, 1, 1, 1, 0, 0, 1,\n",
       "       0, 1, 0, 1, 1, 1, 1, 0, 1, 1, 0, 1, 0, 1, 1, 1, 1, 1, 0, 1, 0, 0,\n",
       "       1, 1, 1, 1, 0, 0, 1, 0, 1, 0, 1, 1, 1, 0, 1, 0, 0, 0, 1, 0, 1, 0,\n",
       "       0, 0, 1, 0, 0, 1, 0, 1, 1, 1, 1, 0, 1, 1, 1, 1, 0, 1, 0, 1, 0, 1,\n",
       "       0, 1, 0, 1, 1, 0, 0, 0, 0, 0, 0, 1, 0, 1, 0, 0, 1, 0, 0, 0, 1, 1,\n",
       "       0, 1, 1, 1, 1, 0, 1, 1, 1, 1, 0, 0, 1, 1, 1, 0, 1, 0, 0, 1, 1, 0,\n",
       "       0, 0, 1, 1, 1, 0, 0, 1, 0, 0, 1, 0, 1, 0, 1, 0, 0, 0, 0, 1, 0, 0,\n",
       "       1, 0])"
      ]
     },
     "execution_count": 23,
     "metadata": {},
     "output_type": "execute_result"
    }
   ],
   "source": [
    "y_binned = pd.qcut(y, q=2, labels=[0, 1]).astype('int')\n",
    "y_binned"
   ]
  },
  {
   "cell_type": "code",
   "execution_count": 24,
   "id": "9b942a9b-36d9-4565-b12b-fd3c6aeb6263",
   "metadata": {},
   "outputs": [],
   "source": [
    "# 데이터 표준화\n",
    "scaler = StandardScaler()\n",
    "X_scaled = scaler.fit_transform(X)\n",
    "\n",
    "# PCA 적용 (주성분 6개 사용 예시)\n",
    "pca = PCA(n_components=6)\n",
    "X_pca = pca.fit_transform(X_scaled)"
   ]
  },
  {
   "cell_type": "code",
   "execution_count": 25,
   "id": "fe4865cf-8a60-4516-9112-76b764332d99",
   "metadata": {},
   "outputs": [],
   "source": [
    "# 학습용 데이터와 테스트용 데이터로 분리\n",
    "X_train, X_test, y_train, y_test = train_test_split(X_pca, y_binned, test_size=0.2, random_state=42)"
   ]
  },
  {
   "cell_type": "code",
   "execution_count": 26,
   "id": "48fbaa9b-f783-4b75-94e0-d54faab642c8",
   "metadata": {},
   "outputs": [],
   "source": [
    "# 모델 구성\n",
    "model = Sequential()\n",
    "model.add(Dense(64, activation='relu', input_shape=(X_train.shape[1],)))\n",
    "model.add(Dropout(0.3))\n",
    "model.add(Dense(32, activation='relu'))\n",
    "model.add(Dropout(0.3))\n",
    "model.add(Dense(1, activation='sigmoid'))  # 이진 분류이므로 sigmoid 함수 사용\n",
    "\n",
    "# 모델 컴파일\n",
    "model.compile(optimizer='adam', loss='binary_crossentropy', metrics=['accuracy'])"
   ]
  },
  {
   "cell_type": "code",
   "execution_count": 27,
   "id": "c03bc163-0424-4a52-a8cb-ba62e8cb6e28",
   "metadata": {},
   "outputs": [
    {
     "name": "stdout",
     "output_type": "stream",
     "text": [
      "Epoch 1/100\n",
      "9/9 [==============================] - 1s 22ms/step - loss: 0.7301 - accuracy: 0.5319 - val_loss: 0.6826 - val_accuracy: 0.5634\n",
      "Epoch 2/100\n",
      "9/9 [==============================] - 0s 10ms/step - loss: 0.6810 - accuracy: 0.5780 - val_loss: 0.6315 - val_accuracy: 0.6761\n",
      "Epoch 3/100\n",
      "9/9 [==============================] - 0s 12ms/step - loss: 0.6277 - accuracy: 0.6525 - val_loss: 0.6005 - val_accuracy: 0.7042\n",
      "Epoch 4/100\n",
      "9/9 [==============================] - 0s 10ms/step - loss: 0.5867 - accuracy: 0.7199 - val_loss: 0.5817 - val_accuracy: 0.7042\n",
      "Epoch 5/100\n",
      "9/9 [==============================] - 0s 7ms/step - loss: 0.5514 - accuracy: 0.7518 - val_loss: 0.5700 - val_accuracy: 0.7183\n",
      "Epoch 6/100\n",
      "9/9 [==============================] - 0s 11ms/step - loss: 0.5320 - accuracy: 0.7589 - val_loss: 0.5625 - val_accuracy: 0.7183\n",
      "Epoch 7/100\n",
      "9/9 [==============================] - 0s 7ms/step - loss: 0.5272 - accuracy: 0.7482 - val_loss: 0.5596 - val_accuracy: 0.7183\n",
      "Epoch 8/100\n",
      "9/9 [==============================] - 0s 6ms/step - loss: 0.5326 - accuracy: 0.7447 - val_loss: 0.5577 - val_accuracy: 0.7183\n",
      "Epoch 9/100\n",
      "9/9 [==============================] - 0s 6ms/step - loss: 0.4949 - accuracy: 0.7837 - val_loss: 0.5566 - val_accuracy: 0.7183\n",
      "Epoch 10/100\n",
      "9/9 [==============================] - 0s 7ms/step - loss: 0.5050 - accuracy: 0.7695 - val_loss: 0.5564 - val_accuracy: 0.7183\n",
      "Epoch 11/100\n",
      "9/9 [==============================] - 0s 7ms/step - loss: 0.5090 - accuracy: 0.7589 - val_loss: 0.5570 - val_accuracy: 0.7183\n",
      "Epoch 12/100\n",
      "9/9 [==============================] - 0s 6ms/step - loss: 0.4722 - accuracy: 0.7766 - val_loss: 0.5578 - val_accuracy: 0.7183\n",
      "Epoch 13/100\n",
      "9/9 [==============================] - 0s 6ms/step - loss: 0.4741 - accuracy: 0.7730 - val_loss: 0.5613 - val_accuracy: 0.7042\n",
      "Epoch 14/100\n",
      "9/9 [==============================] - 0s 7ms/step - loss: 0.4688 - accuracy: 0.7553 - val_loss: 0.5624 - val_accuracy: 0.7042\n",
      "Epoch 15/100\n",
      "9/9 [==============================] - 0s 6ms/step - loss: 0.4996 - accuracy: 0.7411 - val_loss: 0.5641 - val_accuracy: 0.7042\n",
      "Epoch 16/100\n",
      "9/9 [==============================] - 0s 8ms/step - loss: 0.4632 - accuracy: 0.7730 - val_loss: 0.5647 - val_accuracy: 0.6901\n",
      "Epoch 17/100\n",
      "9/9 [==============================] - 0s 6ms/step - loss: 0.4586 - accuracy: 0.7766 - val_loss: 0.5656 - val_accuracy: 0.6761\n",
      "Epoch 18/100\n",
      "9/9 [==============================] - 0s 8ms/step - loss: 0.4553 - accuracy: 0.7837 - val_loss: 0.5676 - val_accuracy: 0.6901\n",
      "Epoch 19/100\n",
      "9/9 [==============================] - 0s 6ms/step - loss: 0.4565 - accuracy: 0.7872 - val_loss: 0.5694 - val_accuracy: 0.6901\n",
      "Epoch 20/100\n",
      "9/9 [==============================] - 0s 7ms/step - loss: 0.4624 - accuracy: 0.7553 - val_loss: 0.5717 - val_accuracy: 0.6901\n",
      "Epoch 21/100\n",
      "9/9 [==============================] - 0s 6ms/step - loss: 0.4697 - accuracy: 0.7624 - val_loss: 0.5721 - val_accuracy: 0.6901\n",
      "Epoch 22/100\n",
      "9/9 [==============================] - 0s 5ms/step - loss: 0.4503 - accuracy: 0.7766 - val_loss: 0.5737 - val_accuracy: 0.6901\n",
      "Epoch 23/100\n",
      "9/9 [==============================] - 0s 6ms/step - loss: 0.4754 - accuracy: 0.7766 - val_loss: 0.5722 - val_accuracy: 0.6901\n",
      "Epoch 24/100\n",
      "9/9 [==============================] - 0s 6ms/step - loss: 0.4652 - accuracy: 0.7766 - val_loss: 0.5723 - val_accuracy: 0.7042\n",
      "Epoch 25/100\n",
      "9/9 [==============================] - 0s 8ms/step - loss: 0.4613 - accuracy: 0.7766 - val_loss: 0.5733 - val_accuracy: 0.7042\n",
      "Epoch 26/100\n",
      "9/9 [==============================] - 0s 6ms/step - loss: 0.4405 - accuracy: 0.7766 - val_loss: 0.5752 - val_accuracy: 0.6901\n",
      "Epoch 27/100\n",
      "9/9 [==============================] - 0s 7ms/step - loss: 0.4376 - accuracy: 0.7624 - val_loss: 0.5760 - val_accuracy: 0.6901\n",
      "Epoch 28/100\n",
      "9/9 [==============================] - 0s 7ms/step - loss: 0.4634 - accuracy: 0.7660 - val_loss: 0.5774 - val_accuracy: 0.6901\n",
      "Epoch 29/100\n",
      "9/9 [==============================] - 0s 6ms/step - loss: 0.4509 - accuracy: 0.7624 - val_loss: 0.5786 - val_accuracy: 0.6901\n",
      "Epoch 30/100\n",
      "9/9 [==============================] - 0s 7ms/step - loss: 0.4350 - accuracy: 0.7908 - val_loss: 0.5808 - val_accuracy: 0.6901\n",
      "Epoch 31/100\n",
      "9/9 [==============================] - 0s 8ms/step - loss: 0.4767 - accuracy: 0.7660 - val_loss: 0.5781 - val_accuracy: 0.6901\n",
      "Epoch 32/100\n",
      "9/9 [==============================] - 0s 6ms/step - loss: 0.4295 - accuracy: 0.7766 - val_loss: 0.5754 - val_accuracy: 0.7042\n",
      "Epoch 33/100\n",
      "9/9 [==============================] - 0s 7ms/step - loss: 0.4462 - accuracy: 0.7766 - val_loss: 0.5766 - val_accuracy: 0.7042\n",
      "Epoch 34/100\n",
      "9/9 [==============================] - 0s 6ms/step - loss: 0.4439 - accuracy: 0.8050 - val_loss: 0.5752 - val_accuracy: 0.7042\n",
      "Epoch 35/100\n",
      "9/9 [==============================] - 0s 7ms/step - loss: 0.4319 - accuracy: 0.7730 - val_loss: 0.5760 - val_accuracy: 0.6901\n",
      "Epoch 36/100\n",
      "9/9 [==============================] - 0s 7ms/step - loss: 0.4503 - accuracy: 0.7589 - val_loss: 0.5777 - val_accuracy: 0.7042\n",
      "Epoch 37/100\n",
      "9/9 [==============================] - 0s 12ms/step - loss: 0.4389 - accuracy: 0.7766 - val_loss: 0.5765 - val_accuracy: 0.7042\n",
      "Epoch 38/100\n",
      "9/9 [==============================] - 0s 8ms/step - loss: 0.4365 - accuracy: 0.7943 - val_loss: 0.5800 - val_accuracy: 0.7042\n",
      "Epoch 39/100\n",
      "9/9 [==============================] - 0s 8ms/step - loss: 0.4507 - accuracy: 0.7660 - val_loss: 0.5823 - val_accuracy: 0.7042\n",
      "Epoch 40/100\n",
      "9/9 [==============================] - 0s 7ms/step - loss: 0.4297 - accuracy: 0.7730 - val_loss: 0.5812 - val_accuracy: 0.6761\n",
      "Epoch 41/100\n",
      "9/9 [==============================] - 0s 9ms/step - loss: 0.4456 - accuracy: 0.7553 - val_loss: 0.5788 - val_accuracy: 0.6901\n",
      "Epoch 42/100\n",
      "9/9 [==============================] - 0s 6ms/step - loss: 0.4122 - accuracy: 0.7908 - val_loss: 0.5832 - val_accuracy: 0.6901\n",
      "Epoch 43/100\n",
      "9/9 [==============================] - 0s 7ms/step - loss: 0.4231 - accuracy: 0.7979 - val_loss: 0.5854 - val_accuracy: 0.6901\n",
      "Epoch 44/100\n",
      "9/9 [==============================] - 0s 7ms/step - loss: 0.4261 - accuracy: 0.7908 - val_loss: 0.5859 - val_accuracy: 0.7042\n",
      "Epoch 45/100\n",
      "9/9 [==============================] - 0s 9ms/step - loss: 0.4504 - accuracy: 0.7801 - val_loss: 0.5865 - val_accuracy: 0.7042\n",
      "Epoch 46/100\n",
      "9/9 [==============================] - 0s 5ms/step - loss: 0.4326 - accuracy: 0.7943 - val_loss: 0.5878 - val_accuracy: 0.7042\n",
      "Epoch 47/100\n",
      "9/9 [==============================] - 0s 6ms/step - loss: 0.4484 - accuracy: 0.7766 - val_loss: 0.5882 - val_accuracy: 0.7042\n",
      "Epoch 48/100\n",
      "9/9 [==============================] - 0s 7ms/step - loss: 0.4391 - accuracy: 0.7730 - val_loss: 0.5831 - val_accuracy: 0.7042\n",
      "Epoch 49/100\n",
      "9/9 [==============================] - 0s 6ms/step - loss: 0.4318 - accuracy: 0.7979 - val_loss: 0.5816 - val_accuracy: 0.6901\n",
      "Epoch 50/100\n",
      "9/9 [==============================] - 0s 6ms/step - loss: 0.4277 - accuracy: 0.8014 - val_loss: 0.5792 - val_accuracy: 0.7042\n",
      "Epoch 51/100\n",
      "9/9 [==============================] - 0s 6ms/step - loss: 0.4372 - accuracy: 0.7943 - val_loss: 0.5787 - val_accuracy: 0.7042\n",
      "Epoch 52/100\n",
      "9/9 [==============================] - 0s 5ms/step - loss: 0.4265 - accuracy: 0.7872 - val_loss: 0.5760 - val_accuracy: 0.6901\n",
      "Epoch 53/100\n",
      "9/9 [==============================] - 0s 6ms/step - loss: 0.4144 - accuracy: 0.8050 - val_loss: 0.5758 - val_accuracy: 0.7183\n",
      "Epoch 54/100\n",
      "9/9 [==============================] - 0s 10ms/step - loss: 0.4281 - accuracy: 0.8014 - val_loss: 0.5787 - val_accuracy: 0.6901\n",
      "Epoch 55/100\n",
      "9/9 [==============================] - 0s 5ms/step - loss: 0.4412 - accuracy: 0.7872 - val_loss: 0.5799 - val_accuracy: 0.6901\n",
      "Epoch 56/100\n",
      "9/9 [==============================] - 0s 5ms/step - loss: 0.4264 - accuracy: 0.8085 - val_loss: 0.5780 - val_accuracy: 0.7042\n",
      "Epoch 57/100\n",
      "9/9 [==============================] - 0s 6ms/step - loss: 0.4477 - accuracy: 0.7943 - val_loss: 0.5799 - val_accuracy: 0.7042\n",
      "Epoch 58/100\n",
      "9/9 [==============================] - 0s 7ms/step - loss: 0.4098 - accuracy: 0.8014 - val_loss: 0.5809 - val_accuracy: 0.7042\n",
      "Epoch 59/100\n",
      "9/9 [==============================] - 0s 6ms/step - loss: 0.4058 - accuracy: 0.8121 - val_loss: 0.5818 - val_accuracy: 0.7042\n",
      "Epoch 60/100\n",
      "9/9 [==============================] - 0s 6ms/step - loss: 0.4288 - accuracy: 0.7872 - val_loss: 0.5824 - val_accuracy: 0.7042\n",
      "Epoch 61/100\n",
      "9/9 [==============================] - 0s 6ms/step - loss: 0.4050 - accuracy: 0.8121 - val_loss: 0.5843 - val_accuracy: 0.6901\n",
      "Epoch 62/100\n",
      "9/9 [==============================] - 0s 6ms/step - loss: 0.4170 - accuracy: 0.8014 - val_loss: 0.5806 - val_accuracy: 0.7183\n",
      "Epoch 63/100\n",
      "9/9 [==============================] - 0s 6ms/step - loss: 0.4266 - accuracy: 0.7872 - val_loss: 0.5840 - val_accuracy: 0.6901\n",
      "Epoch 64/100\n",
      "9/9 [==============================] - 0s 7ms/step - loss: 0.4091 - accuracy: 0.8014 - val_loss: 0.5869 - val_accuracy: 0.7183\n",
      "Epoch 65/100\n",
      "9/9 [==============================] - 0s 6ms/step - loss: 0.4271 - accuracy: 0.7801 - val_loss: 0.5880 - val_accuracy: 0.7324\n",
      "Epoch 66/100\n",
      "9/9 [==============================] - 0s 6ms/step - loss: 0.4276 - accuracy: 0.7908 - val_loss: 0.5877 - val_accuracy: 0.7324\n",
      "Epoch 67/100\n",
      "9/9 [==============================] - 0s 7ms/step - loss: 0.4071 - accuracy: 0.8156 - val_loss: 0.5907 - val_accuracy: 0.7183\n",
      "Epoch 68/100\n",
      "9/9 [==============================] - 0s 6ms/step - loss: 0.3987 - accuracy: 0.8014 - val_loss: 0.5910 - val_accuracy: 0.7042\n",
      "Epoch 69/100\n",
      "9/9 [==============================] - 0s 7ms/step - loss: 0.3916 - accuracy: 0.8050 - val_loss: 0.5938 - val_accuracy: 0.6901\n",
      "Epoch 70/100\n",
      "9/9 [==============================] - 0s 7ms/step - loss: 0.4154 - accuracy: 0.7766 - val_loss: 0.5933 - val_accuracy: 0.7042\n",
      "Epoch 71/100\n",
      "9/9 [==============================] - 0s 6ms/step - loss: 0.4073 - accuracy: 0.7908 - val_loss: 0.5899 - val_accuracy: 0.7042\n",
      "Epoch 72/100\n",
      "9/9 [==============================] - 0s 6ms/step - loss: 0.4056 - accuracy: 0.8085 - val_loss: 0.5857 - val_accuracy: 0.7042\n",
      "Epoch 73/100\n",
      "9/9 [==============================] - 0s 7ms/step - loss: 0.4280 - accuracy: 0.8121 - val_loss: 0.5844 - val_accuracy: 0.6901\n",
      "Epoch 74/100\n",
      "9/9 [==============================] - 0s 7ms/step - loss: 0.4158 - accuracy: 0.8014 - val_loss: 0.5829 - val_accuracy: 0.6901\n",
      "Epoch 75/100\n",
      "9/9 [==============================] - 0s 7ms/step - loss: 0.4289 - accuracy: 0.8014 - val_loss: 0.5837 - val_accuracy: 0.7042\n",
      "Epoch 76/100\n",
      "9/9 [==============================] - 0s 6ms/step - loss: 0.3953 - accuracy: 0.7979 - val_loss: 0.5836 - val_accuracy: 0.7042\n",
      "Epoch 77/100\n",
      "9/9 [==============================] - 0s 7ms/step - loss: 0.4143 - accuracy: 0.7979 - val_loss: 0.5847 - val_accuracy: 0.7183\n",
      "Epoch 78/100\n",
      "9/9 [==============================] - 0s 6ms/step - loss: 0.4043 - accuracy: 0.8191 - val_loss: 0.5817 - val_accuracy: 0.7042\n",
      "Epoch 79/100\n",
      "9/9 [==============================] - 0s 6ms/step - loss: 0.4055 - accuracy: 0.8333 - val_loss: 0.5816 - val_accuracy: 0.6901\n",
      "Epoch 80/100\n",
      "9/9 [==============================] - 0s 8ms/step - loss: 0.4133 - accuracy: 0.8085 - val_loss: 0.5822 - val_accuracy: 0.7183\n",
      "Epoch 81/100\n",
      "9/9 [==============================] - 0s 6ms/step - loss: 0.3903 - accuracy: 0.8191 - val_loss: 0.5873 - val_accuracy: 0.7183\n",
      "Epoch 82/100\n",
      "9/9 [==============================] - 0s 7ms/step - loss: 0.4095 - accuracy: 0.8191 - val_loss: 0.5864 - val_accuracy: 0.7183\n",
      "Epoch 83/100\n",
      "9/9 [==============================] - 0s 8ms/step - loss: 0.4360 - accuracy: 0.7766 - val_loss: 0.5852 - val_accuracy: 0.7042\n",
      "Epoch 84/100\n",
      "9/9 [==============================] - 0s 7ms/step - loss: 0.4184 - accuracy: 0.8014 - val_loss: 0.5859 - val_accuracy: 0.7042\n",
      "Epoch 85/100\n",
      "9/9 [==============================] - 0s 12ms/step - loss: 0.4056 - accuracy: 0.8050 - val_loss: 0.5830 - val_accuracy: 0.7183\n",
      "Epoch 86/100\n",
      "9/9 [==============================] - 0s 7ms/step - loss: 0.3997 - accuracy: 0.8156 - val_loss: 0.5843 - val_accuracy: 0.7183\n",
      "Epoch 87/100\n",
      "9/9 [==============================] - 0s 6ms/step - loss: 0.3943 - accuracy: 0.8191 - val_loss: 0.5845 - val_accuracy: 0.7183\n",
      "Epoch 88/100\n",
      "9/9 [==============================] - 0s 7ms/step - loss: 0.4063 - accuracy: 0.7979 - val_loss: 0.5886 - val_accuracy: 0.7324\n",
      "Epoch 89/100\n",
      "9/9 [==============================] - 0s 6ms/step - loss: 0.3857 - accuracy: 0.8121 - val_loss: 0.5892 - val_accuracy: 0.7042\n",
      "Epoch 90/100\n",
      "9/9 [==============================] - 0s 8ms/step - loss: 0.4129 - accuracy: 0.8121 - val_loss: 0.5883 - val_accuracy: 0.7042\n",
      "Epoch 91/100\n",
      "9/9 [==============================] - 0s 7ms/step - loss: 0.4056 - accuracy: 0.8085 - val_loss: 0.5891 - val_accuracy: 0.7042\n",
      "Epoch 92/100\n",
      "9/9 [==============================] - 0s 7ms/step - loss: 0.3970 - accuracy: 0.8191 - val_loss: 0.5876 - val_accuracy: 0.7042\n",
      "Epoch 93/100\n",
      "9/9 [==============================] - 0s 6ms/step - loss: 0.4017 - accuracy: 0.8085 - val_loss: 0.5864 - val_accuracy: 0.7183\n",
      "Epoch 94/100\n",
      "9/9 [==============================] - 0s 6ms/step - loss: 0.4092 - accuracy: 0.8085 - val_loss: 0.5888 - val_accuracy: 0.7183\n",
      "Epoch 95/100\n",
      "9/9 [==============================] - 0s 6ms/step - loss: 0.4037 - accuracy: 0.7943 - val_loss: 0.5870 - val_accuracy: 0.7183\n",
      "Epoch 96/100\n",
      "9/9 [==============================] - 0s 7ms/step - loss: 0.3842 - accuracy: 0.8191 - val_loss: 0.5880 - val_accuracy: 0.7042\n",
      "Epoch 97/100\n",
      "9/9 [==============================] - 0s 6ms/step - loss: 0.3924 - accuracy: 0.8191 - val_loss: 0.5879 - val_accuracy: 0.7183\n",
      "Epoch 98/100\n",
      "9/9 [==============================] - 0s 6ms/step - loss: 0.4214 - accuracy: 0.8050 - val_loss: 0.5890 - val_accuracy: 0.7042\n",
      "Epoch 99/100\n",
      "9/9 [==============================] - 0s 7ms/step - loss: 0.3984 - accuracy: 0.7943 - val_loss: 0.5861 - val_accuracy: 0.7042\n",
      "Epoch 100/100\n",
      "9/9 [==============================] - 0s 7ms/step - loss: 0.3895 - accuracy: 0.8156 - val_loss: 0.5882 - val_accuracy: 0.6901\n"
     ]
    },
    {
     "data": {
      "text/plain": [
       "<keras.callbacks.History at 0x1640c8fa080>"
      ]
     },
     "execution_count": 27,
     "metadata": {},
     "output_type": "execute_result"
    }
   ],
   "source": [
    "# 모델 학습\n",
    "model.fit(X_train, y_train, epochs=100, batch_size=32, validation_split=0.2)"
   ]
  },
  {
   "cell_type": "code",
   "execution_count": 29,
   "id": "0de530b5-1969-4647-9db2-118bdd631976",
   "metadata": {},
   "outputs": [
    {
     "name": "stdout",
     "output_type": "stream",
     "text": [
      "12/12 [==============================] - 0s 8ms/step - loss: 0.4111 - accuracy: 0.7960\n"
     ]
    },
    {
     "data": {
      "text/plain": [
       "[0.41113999485969543, 0.7960339784622192]"
      ]
     },
     "execution_count": 29,
     "metadata": {},
     "output_type": "execute_result"
    }
   ],
   "source": [
    "model.evaluate(X_train, y_train)"
   ]
  },
  {
   "cell_type": "code",
   "execution_count": 30,
   "id": "70ba2d25-d661-4d1a-b7ba-03b47030dda9",
   "metadata": {},
   "outputs": [
    {
     "name": "stdout",
     "output_type": "stream",
     "text": [
      "3/3 [==============================] - 0s 9ms/step - loss: 0.4626 - accuracy: 0.7528\n"
     ]
    },
    {
     "data": {
      "text/plain": [
       "[0.46260660886764526, 0.7528089880943298]"
      ]
     },
     "execution_count": 30,
     "metadata": {},
     "output_type": "execute_result"
    }
   ],
   "source": [
    "model.evaluate(X_test, y_test)"
   ]
  },
  {
   "cell_type": "code",
   "execution_count": 32,
   "id": "95724800-f88a-412d-a84d-aba5e1e971ea",
   "metadata": {},
   "outputs": [
    {
     "name": "stdout",
     "output_type": "stream",
     "text": [
      "3/3 [==============================] - 0s 3ms/step\n",
      "[[36 13]\n",
      " [ 9 31]]\n",
      "0.7528089887640449\n",
      "0.7534351058137814\n",
      "              precision    recall  f1-score   support\n",
      "\n",
      "           0       0.80      0.73      0.77        49\n",
      "           1       0.70      0.78      0.74        40\n",
      "\n",
      "    accuracy                           0.75        89\n",
      "   macro avg       0.75      0.75      0.75        89\n",
      "weighted avg       0.76      0.75      0.75        89\n",
      "\n"
     ]
    },
    {
     "data": {
      "text/plain": [
       "<Axes: >"
      ]
     },
     "execution_count": 32,
     "metadata": {},
     "output_type": "execute_result"
    },
    {
     "data": {
      "image/png": "[encoded data removed]",
      "text/plain": [
       "<Figure size 640x480 with 2 Axes>"
      ]
     },
     "metadata": {},
     "output_type": "display_data"
    }
   ],
   "source": [
    "from sklearn.metrics import confusion_matrix,classification_report,accuracy_score,f1_score\n",
    "import seaborn as sns\n",
    "\n",
    "# 모델이 예측한 값 (클래스 1의 확률값)\n",
    "predy = model.predict(X_test)\n",
    "\n",
    "# 이진 분류 문제에서는 0.5를 기준으로 0과 1로 변환\n",
    "predy = (predy > 0.5).astype(int)\n",
    "\n",
    "# Confusion Matrix와 성능 지표 출력\n",
    "LABELS = ['Normal', 'Diabetes']\n",
    "cm = confusion_matrix(y_test, predy)\n",
    "print(cm)\n",
    "print(accuracy_score(y_test, predy))\n",
    "print(f1_score(y_test, predy, average='weighted'))\n",
    "print(classification_report(y_test, predy))\n",
    "\n",
    "# Confusion Matrix 시각화\n",
    "sns.heatmap(cm, cmap=\"YlGnBu\", xticklabels=LABELS, yticklabels=LABELS, annot=True, fmt='.2f')"
   ]
  }
 ],
 "metadata": {
  "kernelspec": {
   "display_name": "Python 3 (ipykernel)",
   "language": "python",
   "name": "python3"
  },
  "language_info": {
   "codemirror_mode": {
    "name": "ipython",
    "version": 3
   },
   "file_extension": ".py",
   "mimetype": "text/x-python",
   "name": "python",
   "nbconvert_exporter": "python",
   "pygments_lexer": "ipython3",
   "version": "3.10.13"
  }
 },
 "nbformat": 4,
 "nbformat_minor": 5
}
