{
 "cells": [
  {
   "cell_type": "code",
   "execution_count": 1,
   "id": "c724f03d-0811-426c-8e28-7f9e3d33160f",
   "metadata": {},
   "outputs": [],
   "source": [
    "import numpy as np\n",
    "import pandas as pd\n",
    "import matplotlib.pyplot as plt\n",
    "import seaborn as sns\n",
    "from sklearn.metrics import f1_score, classification_report"
   ]
  },
  {
   "cell_type": "code",
   "execution_count": 2,
   "id": "2e806824-83de-43dc-9b0a-6082cbede0a6",
   "metadata": {},
   "outputs": [
    {
     "data": {
      "text/html": [
       "<div>\n",
       "<style scoped>\n",
       "    .dataframe tbody tr th:only-of-type {\n",
       "        vertical-align: middle;\n",
       "    }\n",
       "\n",
       "    .dataframe tbody tr th {\n",
       "        vertical-align: top;\n",
       "    }\n",
       "\n",
       "    .dataframe thead th {\n",
       "        text-align: right;\n",
       "    }\n",
       "</style>\n",
       "<table border=\"1\" class=\"dataframe\">\n",
       "  <thead>\n",
       "    <tr style=\"text-align: right;\">\n",
       "      <th></th>\n",
       "      <th>id</th>\n",
       "      <th>Sex</th>\n",
       "      <th>Length</th>\n",
       "      <th>Diameter</th>\n",
       "      <th>Height</th>\n",
       "      <th>Whole_weight</th>\n",
       "      <th>Shucked_weight</th>\n",
       "      <th>Viscera_weight</th>\n",
       "      <th>Shell_weight</th>\n",
       "      <th>Rings</th>\n",
       "    </tr>\n",
       "  </thead>\n",
       "  <tbody>\n",
       "    <tr>\n",
       "      <th>0</th>\n",
       "      <td>0</td>\n",
       "      <td>M</td>\n",
       "      <td>0.455</td>\n",
       "      <td>0.365</td>\n",
       "      <td>0.095</td>\n",
       "      <td>0.5140</td>\n",
       "      <td>0.2245</td>\n",
       "      <td>0.1010</td>\n",
       "      <td>0.1500</td>\n",
       "      <td>15</td>\n",
       "    </tr>\n",
       "    <tr>\n",
       "      <th>1</th>\n",
       "      <td>1</td>\n",
       "      <td>M</td>\n",
       "      <td>0.350</td>\n",
       "      <td>0.265</td>\n",
       "      <td>0.090</td>\n",
       "      <td>0.2255</td>\n",
       "      <td>0.0995</td>\n",
       "      <td>0.0485</td>\n",
       "      <td>0.0700</td>\n",
       "      <td>7</td>\n",
       "    </tr>\n",
       "    <tr>\n",
       "      <th>2</th>\n",
       "      <td>2</td>\n",
       "      <td>F</td>\n",
       "      <td>0.530</td>\n",
       "      <td>0.420</td>\n",
       "      <td>0.135</td>\n",
       "      <td>0.6770</td>\n",
       "      <td>0.2565</td>\n",
       "      <td>0.1415</td>\n",
       "      <td>0.2100</td>\n",
       "      <td>9</td>\n",
       "    </tr>\n",
       "    <tr>\n",
       "      <th>3</th>\n",
       "      <td>3</td>\n",
       "      <td>M</td>\n",
       "      <td>0.440</td>\n",
       "      <td>0.365</td>\n",
       "      <td>0.125</td>\n",
       "      <td>0.5160</td>\n",
       "      <td>0.2155</td>\n",
       "      <td>0.1140</td>\n",
       "      <td>0.1550</td>\n",
       "      <td>10</td>\n",
       "    </tr>\n",
       "    <tr>\n",
       "      <th>4</th>\n",
       "      <td>4</td>\n",
       "      <td>I</td>\n",
       "      <td>0.330</td>\n",
       "      <td>0.255</td>\n",
       "      <td>0.080</td>\n",
       "      <td>0.2050</td>\n",
       "      <td>0.0895</td>\n",
       "      <td>0.0395</td>\n",
       "      <td>0.0550</td>\n",
       "      <td>7</td>\n",
       "    </tr>\n",
       "    <tr>\n",
       "      <th>...</th>\n",
       "      <td>...</td>\n",
       "      <td>...</td>\n",
       "      <td>...</td>\n",
       "      <td>...</td>\n",
       "      <td>...</td>\n",
       "      <td>...</td>\n",
       "      <td>...</td>\n",
       "      <td>...</td>\n",
       "      <td>...</td>\n",
       "      <td>...</td>\n",
       "    </tr>\n",
       "    <tr>\n",
       "      <th>4172</th>\n",
       "      <td>4172</td>\n",
       "      <td>F</td>\n",
       "      <td>0.565</td>\n",
       "      <td>0.450</td>\n",
       "      <td>0.165</td>\n",
       "      <td>0.8870</td>\n",
       "      <td>0.3700</td>\n",
       "      <td>0.2390</td>\n",
       "      <td>0.2490</td>\n",
       "      <td>11</td>\n",
       "    </tr>\n",
       "    <tr>\n",
       "      <th>4173</th>\n",
       "      <td>4173</td>\n",
       "      <td>M</td>\n",
       "      <td>0.590</td>\n",
       "      <td>0.440</td>\n",
       "      <td>0.135</td>\n",
       "      <td>0.9660</td>\n",
       "      <td>0.4390</td>\n",
       "      <td>0.2145</td>\n",
       "      <td>0.2605</td>\n",
       "      <td>10</td>\n",
       "    </tr>\n",
       "    <tr>\n",
       "      <th>4174</th>\n",
       "      <td>4174</td>\n",
       "      <td>M</td>\n",
       "      <td>0.600</td>\n",
       "      <td>0.475</td>\n",
       "      <td>0.205</td>\n",
       "      <td>1.1760</td>\n",
       "      <td>0.5255</td>\n",
       "      <td>0.2875</td>\n",
       "      <td>0.3080</td>\n",
       "      <td>9</td>\n",
       "    </tr>\n",
       "    <tr>\n",
       "      <th>4175</th>\n",
       "      <td>4175</td>\n",
       "      <td>F</td>\n",
       "      <td>0.625</td>\n",
       "      <td>0.485</td>\n",
       "      <td>0.150</td>\n",
       "      <td>1.0945</td>\n",
       "      <td>0.5310</td>\n",
       "      <td>0.2610</td>\n",
       "      <td>0.2960</td>\n",
       "      <td>10</td>\n",
       "    </tr>\n",
       "    <tr>\n",
       "      <th>4176</th>\n",
       "      <td>4176</td>\n",
       "      <td>M</td>\n",
       "      <td>0.710</td>\n",
       "      <td>0.555</td>\n",
       "      <td>0.195</td>\n",
       "      <td>1.9485</td>\n",
       "      <td>0.9455</td>\n",
       "      <td>0.3765</td>\n",
       "      <td>0.4950</td>\n",
       "      <td>12</td>\n",
       "    </tr>\n",
       "  </tbody>\n",
       "</table>\n",
       "<p>4177 rows × 10 columns</p>\n",
       "</div>"
      ],
      "text/plain": [
       "        id Sex  Length  Diameter  Height  Whole_weight  Shucked_weight  \\\n",
       "0        0   M   0.455     0.365   0.095        0.5140          0.2245   \n",
       "1        1   M   0.350     0.265   0.090        0.2255          0.0995   \n",
       "2        2   F   0.530     0.420   0.135        0.6770          0.2565   \n",
       "3        3   M   0.440     0.365   0.125        0.5160          0.2155   \n",
       "4        4   I   0.330     0.255   0.080        0.2050          0.0895   \n",
       "...    ...  ..     ...       ...     ...           ...             ...   \n",
       "4172  4172   F   0.565     0.450   0.165        0.8870          0.3700   \n",
       "4173  4173   M   0.590     0.440   0.135        0.9660          0.4390   \n",
       "4174  4174   M   0.600     0.475   0.205        1.1760          0.5255   \n",
       "4175  4175   F   0.625     0.485   0.150        1.0945          0.5310   \n",
       "4176  4176   M   0.710     0.555   0.195        1.9485          0.9455   \n",
       "\n",
       "      Viscera_weight  Shell_weight  Rings  \n",
       "0             0.1010        0.1500     15  \n",
       "1             0.0485        0.0700      7  \n",
       "2             0.1415        0.2100      9  \n",
       "3             0.1140        0.1550     10  \n",
       "4             0.0395        0.0550      7  \n",
       "...              ...           ...    ...  \n",
       "4172          0.2390        0.2490     11  \n",
       "4173          0.2145        0.2605     10  \n",
       "4174          0.2875        0.3080      9  \n",
       "4175          0.2610        0.2960     10  \n",
       "4176          0.3765        0.4950     12  \n",
       "\n",
       "[4177 rows x 10 columns]"
      ]
     },
     "execution_count": 2,
     "metadata": {},
     "output_type": "execute_result"
    }
   ],
   "source": [
    "df = pd.read_csv(\"C:/AI_study/abalone.csv\")\n",
    "df"
   ]
  },
  {
   "cell_type": "code",
   "execution_count": 3,
   "id": "395475ae-fab1-47b3-8b4d-c213116446eb",
   "metadata": {},
   "outputs": [
    {
     "name": "stdout",
     "output_type": "stream",
     "text": [
      "<class 'pandas.core.frame.DataFrame'>\n",
      "RangeIndex: 4177 entries, 0 to 4176\n",
      "Data columns (total 10 columns):\n",
      " #   Column          Non-Null Count  Dtype  \n",
      "---  ------          --------------  -----  \n",
      " 0   id              4177 non-null   int64  \n",
      " 1   Sex             4177 non-null   object \n",
      " 2   Length          4177 non-null   float64\n",
      " 3   Diameter        4177 non-null   float64\n",
      " 4   Height          4177 non-null   float64\n",
      " 5   Whole_weight    4177 non-null   float64\n",
      " 6   Shucked_weight  4177 non-null   float64\n",
      " 7   Viscera_weight  4177 non-null   float64\n",
      " 8   Shell_weight    4177 non-null   float64\n",
      " 9   Rings           4177 non-null   int64  \n",
      "dtypes: float64(7), int64(2), object(1)\n",
      "memory usage: 326.5+ KB\n"
     ]
    }
   ],
   "source": [
    "# 데이터 정보 확인\n",
    "df.info()"
   ]
  },
  {
   "cell_type": "code",
   "execution_count": 4,
   "id": "5a9c3dab-25df-439e-8178-a9851d287a1a",
   "metadata": {},
   "outputs": [
    {
     "data": {
      "text/plain": [
       "Sex\n",
       "M    1528\n",
       "I    1342\n",
       "F    1307\n",
       "Name: count, dtype: int64"
      ]
     },
     "execution_count": 4,
     "metadata": {},
     "output_type": "execute_result"
    }
   ],
   "source": [
    "df['Sex'].value_counts()"
   ]
  },
  {
   "cell_type": "markdown",
   "id": "96072c89-9468-47d3-9ddb-c04237884dba",
   "metadata": {},
   "source": [
    "## Features\n",
    "- id: id\n",
    "- Sex: 성별 M(수컷), F(암컷), I(유아기)\n",
    "- Length: 길이(앞에서 뒤까지, mm)\n",
    "- Diameter: 지름(길이에 수직인 방향, mm)\n",
    "- Height: 높이(껍질 포함, mm)\n",
    "- Whole_weight: 전체 무게(껍질 포함, g)\n",
    "- Shucked_weight: 무게(껍질 제거, g)\n",
    "- Viscera_weight: 전복 내장 무게(g)\n",
    "- Shell_weight: 건조 후 껍질 무게(g)\n",
    "- Rings: 나선(전복의 나이 추정, 나이 = Rings + 1.5) - label"
   ]
  },
  {
   "cell_type": "markdown",
   "id": "4651d133-fc08-4b94-ac8f-c21b15aa2de5",
   "metadata": {},
   "source": [
    "- 현재 Features 중 id의 경우는 단순히 0 ~ 4176까지 나열한 것이므로 필요 없음\n",
    "- Sex의 경우 object형으로 M, F, I를 값으로 가지기 때문에 EDA하고 모델에 넣기 위해 Label Encoding이 필요"
   ]
  },
  {
   "cell_type": "code",
   "execution_count": 5,
   "id": "e4d00c61-15e4-49ed-93a0-60c562e029fe",
   "metadata": {},
   "outputs": [
    {
     "data": {
      "text/html": [
       "<div>\n",
       "<style scoped>\n",
       "    .dataframe tbody tr th:only-of-type {\n",
       "        vertical-align: middle;\n",
       "    }\n",
       "\n",
       "    .dataframe tbody tr th {\n",
       "        vertical-align: top;\n",
       "    }\n",
       "\n",
       "    .dataframe thead th {\n",
       "        text-align: right;\n",
       "    }\n",
       "</style>\n",
       "<table border=\"1\" class=\"dataframe\">\n",
       "  <thead>\n",
       "    <tr style=\"text-align: right;\">\n",
       "      <th></th>\n",
       "      <th>Sex</th>\n",
       "      <th>Length</th>\n",
       "      <th>Diameter</th>\n",
       "      <th>Height</th>\n",
       "      <th>Whole_weight</th>\n",
       "      <th>Shucked_weight</th>\n",
       "      <th>Viscera_weight</th>\n",
       "      <th>Shell_weight</th>\n",
       "      <th>Rings</th>\n",
       "    </tr>\n",
       "  </thead>\n",
       "  <tbody>\n",
       "    <tr>\n",
       "      <th>0</th>\n",
       "      <td>M</td>\n",
       "      <td>0.455</td>\n",
       "      <td>0.365</td>\n",
       "      <td>0.095</td>\n",
       "      <td>0.5140</td>\n",
       "      <td>0.2245</td>\n",
       "      <td>0.1010</td>\n",
       "      <td>0.1500</td>\n",
       "      <td>15</td>\n",
       "    </tr>\n",
       "    <tr>\n",
       "      <th>1</th>\n",
       "      <td>M</td>\n",
       "      <td>0.350</td>\n",
       "      <td>0.265</td>\n",
       "      <td>0.090</td>\n",
       "      <td>0.2255</td>\n",
       "      <td>0.0995</td>\n",
       "      <td>0.0485</td>\n",
       "      <td>0.0700</td>\n",
       "      <td>7</td>\n",
       "    </tr>\n",
       "    <tr>\n",
       "      <th>2</th>\n",
       "      <td>F</td>\n",
       "      <td>0.530</td>\n",
       "      <td>0.420</td>\n",
       "      <td>0.135</td>\n",
       "      <td>0.6770</td>\n",
       "      <td>0.2565</td>\n",
       "      <td>0.1415</td>\n",
       "      <td>0.2100</td>\n",
       "      <td>9</td>\n",
       "    </tr>\n",
       "    <tr>\n",
       "      <th>3</th>\n",
       "      <td>M</td>\n",
       "      <td>0.440</td>\n",
       "      <td>0.365</td>\n",
       "      <td>0.125</td>\n",
       "      <td>0.5160</td>\n",
       "      <td>0.2155</td>\n",
       "      <td>0.1140</td>\n",
       "      <td>0.1550</td>\n",
       "      <td>10</td>\n",
       "    </tr>\n",
       "    <tr>\n",
       "      <th>4</th>\n",
       "      <td>I</td>\n",
       "      <td>0.330</td>\n",
       "      <td>0.255</td>\n",
       "      <td>0.080</td>\n",
       "      <td>0.2050</td>\n",
       "      <td>0.0895</td>\n",
       "      <td>0.0395</td>\n",
       "      <td>0.0550</td>\n",
       "      <td>7</td>\n",
       "    </tr>\n",
       "    <tr>\n",
       "      <th>...</th>\n",
       "      <td>...</td>\n",
       "      <td>...</td>\n",
       "      <td>...</td>\n",
       "      <td>...</td>\n",
       "      <td>...</td>\n",
       "      <td>...</td>\n",
       "      <td>...</td>\n",
       "      <td>...</td>\n",
       "      <td>...</td>\n",
       "    </tr>\n",
       "    <tr>\n",
       "      <th>4172</th>\n",
       "      <td>F</td>\n",
       "      <td>0.565</td>\n",
       "      <td>0.450</td>\n",
       "      <td>0.165</td>\n",
       "      <td>0.8870</td>\n",
       "      <td>0.3700</td>\n",
       "      <td>0.2390</td>\n",
       "      <td>0.2490</td>\n",
       "      <td>11</td>\n",
       "    </tr>\n",
       "    <tr>\n",
       "      <th>4173</th>\n",
       "      <td>M</td>\n",
       "      <td>0.590</td>\n",
       "      <td>0.440</td>\n",
       "      <td>0.135</td>\n",
       "      <td>0.9660</td>\n",
       "      <td>0.4390</td>\n",
       "      <td>0.2145</td>\n",
       "      <td>0.2605</td>\n",
       "      <td>10</td>\n",
       "    </tr>\n",
       "    <tr>\n",
       "      <th>4174</th>\n",
       "      <td>M</td>\n",
       "      <td>0.600</td>\n",
       "      <td>0.475</td>\n",
       "      <td>0.205</td>\n",
       "      <td>1.1760</td>\n",
       "      <td>0.5255</td>\n",
       "      <td>0.2875</td>\n",
       "      <td>0.3080</td>\n",
       "      <td>9</td>\n",
       "    </tr>\n",
       "    <tr>\n",
       "      <th>4175</th>\n",
       "      <td>F</td>\n",
       "      <td>0.625</td>\n",
       "      <td>0.485</td>\n",
       "      <td>0.150</td>\n",
       "      <td>1.0945</td>\n",
       "      <td>0.5310</td>\n",
       "      <td>0.2610</td>\n",
       "      <td>0.2960</td>\n",
       "      <td>10</td>\n",
       "    </tr>\n",
       "    <tr>\n",
       "      <th>4176</th>\n",
       "      <td>M</td>\n",
       "      <td>0.710</td>\n",
       "      <td>0.555</td>\n",
       "      <td>0.195</td>\n",
       "      <td>1.9485</td>\n",
       "      <td>0.9455</td>\n",
       "      <td>0.3765</td>\n",
       "      <td>0.4950</td>\n",
       "      <td>12</td>\n",
       "    </tr>\n",
       "  </tbody>\n",
       "</table>\n",
       "<p>4177 rows × 9 columns</p>\n",
       "</div>"
      ],
      "text/plain": [
       "     Sex  Length  Diameter  Height  Whole_weight  Shucked_weight  \\\n",
       "0      M   0.455     0.365   0.095        0.5140          0.2245   \n",
       "1      M   0.350     0.265   0.090        0.2255          0.0995   \n",
       "2      F   0.530     0.420   0.135        0.6770          0.2565   \n",
       "3      M   0.440     0.365   0.125        0.5160          0.2155   \n",
       "4      I   0.330     0.255   0.080        0.2050          0.0895   \n",
       "...   ..     ...       ...     ...           ...             ...   \n",
       "4172   F   0.565     0.450   0.165        0.8870          0.3700   \n",
       "4173   M   0.590     0.440   0.135        0.9660          0.4390   \n",
       "4174   M   0.600     0.475   0.205        1.1760          0.5255   \n",
       "4175   F   0.625     0.485   0.150        1.0945          0.5310   \n",
       "4176   M   0.710     0.555   0.195        1.9485          0.9455   \n",
       "\n",
       "      Viscera_weight  Shell_weight  Rings  \n",
       "0             0.1010        0.1500     15  \n",
       "1             0.0485        0.0700      7  \n",
       "2             0.1415        0.2100      9  \n",
       "3             0.1140        0.1550     10  \n",
       "4             0.0395        0.0550      7  \n",
       "...              ...           ...    ...  \n",
       "4172          0.2390        0.2490     11  \n",
       "4173          0.2145        0.2605     10  \n",
       "4174          0.2875        0.3080      9  \n",
       "4175          0.2610        0.2960     10  \n",
       "4176          0.3765        0.4950     12  \n",
       "\n",
       "[4177 rows x 9 columns]"
      ]
     },
     "execution_count": 5,
     "metadata": {},
     "output_type": "execute_result"
    }
   ],
   "source": [
    "# 필요 없는 Feature인 id 제거\n",
    "df = df.drop('id', axis=1)\n",
    "df"
   ]
  },
  {
   "cell_type": "code",
   "execution_count": 6,
   "id": "2860d8f5-bdc3-46fa-b374-e1f54131075f",
   "metadata": {},
   "outputs": [
    {
     "data": {
      "image/png": "[encoded data removed]",
      "text/plain": [
       "<Figure size 640x480 with 1 Axes>"
      ]
     },
     "metadata": {},
     "output_type": "display_data"
    }
   ],
   "source": [
    "# Sex 분포 시각화\n",
    "sns.countplot(data=df, x=\"Sex\", hue=\"Sex\", palette=[\"#1f77b4\", \"#ff7f0e\", \"#2ca02c\"])\n",
    "plt.xlabel(\"Sex\")\n",
    "plt.ylabel(\"Count\")\n",
    "plt.title(\"Sex Distribution\")\n",
    "\n",
    "plt.show()"
   ]
  },
  {
   "cell_type": "code",
   "execution_count": 7,
   "id": "1946b1b7-e95c-4c46-acb1-e6c02b316239",
   "metadata": {},
   "outputs": [
    {
     "name": "stdout",
     "output_type": "stream",
     "text": [
      "      Sex_encoded  Length  Diameter  Height  Whole_weight  Shucked_weight  \\\n",
      "0               2   0.455     0.365   0.095        0.5140          0.2245   \n",
      "1               2   0.350     0.265   0.090        0.2255          0.0995   \n",
      "2               0   0.530     0.420   0.135        0.6770          0.2565   \n",
      "3               2   0.440     0.365   0.125        0.5160          0.2155   \n",
      "4               1   0.330     0.255   0.080        0.2050          0.0895   \n",
      "...           ...     ...       ...     ...           ...             ...   \n",
      "4172            0   0.565     0.450   0.165        0.8870          0.3700   \n",
      "4173            2   0.590     0.440   0.135        0.9660          0.4390   \n",
      "4174            2   0.600     0.475   0.205        1.1760          0.5255   \n",
      "4175            0   0.625     0.485   0.150        1.0945          0.5310   \n",
      "4176            2   0.710     0.555   0.195        1.9485          0.9455   \n",
      "\n",
      "      Viscera_weight  Shell_weight  Rings  \n",
      "0             0.1010        0.1500     15  \n",
      "1             0.0485        0.0700      7  \n",
      "2             0.1415        0.2100      9  \n",
      "3             0.1140        0.1550     10  \n",
      "4             0.0395        0.0550      7  \n",
      "...              ...           ...    ...  \n",
      "4172          0.2390        0.2490     11  \n",
      "4173          0.2145        0.2605     10  \n",
      "4174          0.2875        0.3080      9  \n",
      "4175          0.2610        0.2960     10  \n",
      "4176          0.3765        0.4950     12  \n",
      "\n",
      "[4177 rows x 9 columns]\n"
     ]
    }
   ],
   "source": [
    "# Sex 피처에 Label Encoding 적용\n",
    "\n",
    "from sklearn.preprocessing import LabelEncoder\n",
    "\n",
    "# LabelEncoder 객체 생성\n",
    "le = LabelEncoder()\n",
    "\n",
    "df['Sex_encoded'] = le.fit_transform(df['Sex'])\n",
    "\n",
    "df = df.drop('Sex', axis=1)\n",
    "df.insert(0, 'Sex_encoded', df.pop('Sex_encoded'))\n",
    "\n",
    "# 결과 확인\n",
    "print(df)"
   ]
  },
  {
   "cell_type": "code",
   "execution_count": 8,
   "id": "3e0da515-1f39-40b6-a2a4-80ecdd59fbef",
   "metadata": {},
   "outputs": [
    {
     "data": {
      "text/html": [
       "<div>\n",
       "<style scoped>\n",
       "    .dataframe tbody tr th:only-of-type {\n",
       "        vertical-align: middle;\n",
       "    }\n",
       "\n",
       "    .dataframe tbody tr th {\n",
       "        vertical-align: top;\n",
       "    }\n",
       "\n",
       "    .dataframe thead th {\n",
       "        text-align: right;\n",
       "    }\n",
       "</style>\n",
       "<table border=\"1\" class=\"dataframe\">\n",
       "  <thead>\n",
       "    <tr style=\"text-align: right;\">\n",
       "      <th></th>\n",
       "      <th>Sex_encoded</th>\n",
       "      <th>Length</th>\n",
       "      <th>Diameter</th>\n",
       "      <th>Height</th>\n",
       "      <th>Whole_weight</th>\n",
       "      <th>Shucked_weight</th>\n",
       "      <th>Viscera_weight</th>\n",
       "      <th>Shell_weight</th>\n",
       "      <th>Rings</th>\n",
       "    </tr>\n",
       "  </thead>\n",
       "  <tbody>\n",
       "    <tr>\n",
       "      <th>count</th>\n",
       "      <td>4177.000000</td>\n",
       "      <td>4177.000000</td>\n",
       "      <td>4177.000000</td>\n",
       "      <td>4177.000000</td>\n",
       "      <td>4177.000000</td>\n",
       "      <td>4177.000000</td>\n",
       "      <td>4177.000000</td>\n",
       "      <td>4177.000000</td>\n",
       "      <td>4177.000000</td>\n",
       "    </tr>\n",
       "    <tr>\n",
       "      <th>mean</th>\n",
       "      <td>1.052909</td>\n",
       "      <td>0.523992</td>\n",
       "      <td>0.407881</td>\n",
       "      <td>0.139516</td>\n",
       "      <td>0.828742</td>\n",
       "      <td>0.359367</td>\n",
       "      <td>0.180594</td>\n",
       "      <td>0.238831</td>\n",
       "      <td>9.933684</td>\n",
       "    </tr>\n",
       "    <tr>\n",
       "      <th>std</th>\n",
       "      <td>0.822240</td>\n",
       "      <td>0.120093</td>\n",
       "      <td>0.099240</td>\n",
       "      <td>0.041827</td>\n",
       "      <td>0.490389</td>\n",
       "      <td>0.221963</td>\n",
       "      <td>0.109614</td>\n",
       "      <td>0.139203</td>\n",
       "      <td>3.224169</td>\n",
       "    </tr>\n",
       "    <tr>\n",
       "      <th>min</th>\n",
       "      <td>0.000000</td>\n",
       "      <td>0.075000</td>\n",
       "      <td>0.055000</td>\n",
       "      <td>0.000000</td>\n",
       "      <td>0.002000</td>\n",
       "      <td>0.001000</td>\n",
       "      <td>0.000500</td>\n",
       "      <td>0.001500</td>\n",
       "      <td>1.000000</td>\n",
       "    </tr>\n",
       "    <tr>\n",
       "      <th>25%</th>\n",
       "      <td>0.000000</td>\n",
       "      <td>0.450000</td>\n",
       "      <td>0.350000</td>\n",
       "      <td>0.115000</td>\n",
       "      <td>0.441500</td>\n",
       "      <td>0.186000</td>\n",
       "      <td>0.093500</td>\n",
       "      <td>0.130000</td>\n",
       "      <td>8.000000</td>\n",
       "    </tr>\n",
       "    <tr>\n",
       "      <th>50%</th>\n",
       "      <td>1.000000</td>\n",
       "      <td>0.545000</td>\n",
       "      <td>0.425000</td>\n",
       "      <td>0.140000</td>\n",
       "      <td>0.799500</td>\n",
       "      <td>0.336000</td>\n",
       "      <td>0.171000</td>\n",
       "      <td>0.234000</td>\n",
       "      <td>9.000000</td>\n",
       "    </tr>\n",
       "    <tr>\n",
       "      <th>75%</th>\n",
       "      <td>2.000000</td>\n",
       "      <td>0.615000</td>\n",
       "      <td>0.480000</td>\n",
       "      <td>0.165000</td>\n",
       "      <td>1.153000</td>\n",
       "      <td>0.502000</td>\n",
       "      <td>0.253000</td>\n",
       "      <td>0.329000</td>\n",
       "      <td>11.000000</td>\n",
       "    </tr>\n",
       "    <tr>\n",
       "      <th>max</th>\n",
       "      <td>2.000000</td>\n",
       "      <td>0.815000</td>\n",
       "      <td>0.650000</td>\n",
       "      <td>1.130000</td>\n",
       "      <td>2.825500</td>\n",
       "      <td>1.488000</td>\n",
       "      <td>0.760000</td>\n",
       "      <td>1.005000</td>\n",
       "      <td>29.000000</td>\n",
       "    </tr>\n",
       "  </tbody>\n",
       "</table>\n",
       "</div>"
      ],
      "text/plain": [
       "       Sex_encoded       Length     Diameter       Height  Whole_weight  \\\n",
       "count  4177.000000  4177.000000  4177.000000  4177.000000   4177.000000   \n",
       "mean      1.052909     0.523992     0.407881     0.139516      0.828742   \n",
       "std       0.822240     0.120093     0.099240     0.041827      0.490389   \n",
       "min       0.000000     0.075000     0.055000     0.000000      0.002000   \n",
       "25%       0.000000     0.450000     0.350000     0.115000      0.441500   \n",
       "50%       1.000000     0.545000     0.425000     0.140000      0.799500   \n",
       "75%       2.000000     0.615000     0.480000     0.165000      1.153000   \n",
       "max       2.000000     0.815000     0.650000     1.130000      2.825500   \n",
       "\n",
       "       Shucked_weight  Viscera_weight  Shell_weight        Rings  \n",
       "count     4177.000000     4177.000000   4177.000000  4177.000000  \n",
       "mean         0.359367        0.180594      0.238831     9.933684  \n",
       "std          0.221963        0.109614      0.139203     3.224169  \n",
       "min          0.001000        0.000500      0.001500     1.000000  \n",
       "25%          0.186000        0.093500      0.130000     8.000000  \n",
       "50%          0.336000        0.171000      0.234000     9.000000  \n",
       "75%          0.502000        0.253000      0.329000    11.000000  \n",
       "max          1.488000        0.760000      1.005000    29.000000  "
      ]
     },
     "execution_count": 8,
     "metadata": {},
     "output_type": "execute_result"
    }
   ],
   "source": [
    "df.describe()"
   ]
  },
  {
   "cell_type": "code",
   "execution_count": 9,
   "id": "37284abe-23f2-43ac-8eda-9a6d1c0f7c78",
   "metadata": {},
   "outputs": [
    {
     "data": {
      "text/plain": [
       "Sex_encoded       0\n",
       "Length            0\n",
       "Diameter          0\n",
       "Height            0\n",
       "Whole_weight      0\n",
       "Shucked_weight    0\n",
       "Viscera_weight    0\n",
       "Shell_weight      0\n",
       "Rings             0\n",
       "dtype: int64"
      ]
     },
     "execution_count": 9,
     "metadata": {},
     "output_type": "execute_result"
    }
   ],
   "source": [
    "# 데이터 결측치 확인\n",
    "df.isnull().sum()"
   ]
  },
  {
   "cell_type": "code",
   "execution_count": 10,
   "id": "8cf81fcc-8739-4185-b4bb-075328e651c0",
   "metadata": {},
   "outputs": [
    {
     "data": {
      "text/plain": [
       "Rings\n",
       "9     689\n",
       "10    634\n",
       "8     568\n",
       "11    487\n",
       "7     391\n",
       "12    267\n",
       "6     259\n",
       "13    203\n",
       "14    126\n",
       "5     115\n",
       "15    103\n",
       "16     67\n",
       "17     58\n",
       "4      57\n",
       "18     42\n",
       "19     32\n",
       "20     26\n",
       "3      15\n",
       "21     14\n",
       "23      9\n",
       "22      6\n",
       "27      2\n",
       "24      2\n",
       "1       1\n",
       "26      1\n",
       "29      1\n",
       "2       1\n",
       "25      1\n",
       "Name: count, dtype: int64"
      ]
     },
     "execution_count": 10,
     "metadata": {},
     "output_type": "execute_result"
    }
   ],
   "source": [
    "df['Rings'].value_counts()"
   ]
  },
  {
   "cell_type": "code",
   "execution_count": 11,
   "id": "c3fe8aba-a5f4-4d6e-b2b0-9e4d72e267ae",
   "metadata": {},
   "outputs": [
    {
     "data": {
      "image/png": "[encoded data removed]",
      "text/plain": [
       "<Figure size 1000x1000 with 1 Axes>"
      ]
     },
     "metadata": {},
     "output_type": "display_data"
    }
   ],
   "source": [
    "#상관관계 히트맵 생성\n",
    "#상관 관계 행렬\n",
    "df_corr=df.corr()\n",
    "\n",
    "#히트맵\n",
    "plt.figure(figsize=(10,10))\n",
    "sns.set(font_scale=0.8)\n",
    "sns.heatmap(df_corr, annot=True, cbar=False)\n",
    "plt.show()"
   ]
  },
  {
   "cell_type": "markdown",
   "id": "ef07d096-9905-4250-a932-5e925cd44907",
   "metadata": {},
   "source": [
    "## Target인 Rings와 가장 높은 상관 관계를 맺는 feature\n",
    "- Shell_weight(0.63)"
   ]
  },
  {
   "cell_type": "markdown",
   "id": "e166e69f-d616-499b-a63e-b498538e74c6",
   "metadata": {},
   "source": [
    "## Target인 Rings와 비교적 낮은 상관 관계를 맺는 features\n",
    "- Sex_encoded(-0.035)\n",
    "- Shucked_weight(0.42)\n",
    "- Visvera_weight(0.5)"
   ]
  },
  {
   "cell_type": "markdown",
   "id": "3b9b49f4-9c35-47ae-8bc6-61cf85f4149d",
   "metadata": {},
   "source": [
    "- Sex_encoded의 경우 매우 낮은 상관 관계를 갖고 있기 때문에 추후에 삭제 가능 "
   ]
  },
  {
   "cell_type": "code",
   "execution_count": 12,
   "id": "1bd8fecb-57eb-4be6-a12d-acebd3cf9b0b",
   "metadata": {},
   "outputs": [
    {
     "data": {
      "text/plain": [
       "array([[<Axes: title={'center': 'Sex_encoded'}>,\n",
       "        <Axes: title={'center': 'Length'}>,\n",
       "        <Axes: title={'center': 'Diameter'}>],\n",
       "       [<Axes: title={'center': 'Height'}>,\n",
       "        <Axes: title={'center': 'Whole_weight'}>,\n",
       "        <Axes: title={'center': 'Shucked_weight'}>],\n",
       "       [<Axes: title={'center': 'Viscera_weight'}>,\n",
       "        <Axes: title={'center': 'Shell_weight'}>,\n",
       "        <Axes: title={'center': 'Rings'}>]], dtype=object)"
      ]
     },
     "execution_count": 12,
     "metadata": {},
     "output_type": "execute_result"
    },
    {
     "data": {
      "image/png": "[encoded data removed]",
      "text/plain": [
       "<Figure size 1200x800 with 9 Axes>"
      ]
     },
     "metadata": {},
     "output_type": "display_data"
    }
   ],
   "source": [
    "df.hist(bins=50, figsize=(12, 8))"
   ]
  },
  {
   "cell_type": "code",
   "execution_count": 13,
   "id": "dddacf8d-eaeb-43f6-af98-44f3944cd5b2",
   "metadata": {},
   "outputs": [
    {
     "data": {
      "image/png": "[encoded data removed]",
      "text/plain": [
       "<Figure size 640x480 with 1 Axes>"
      ]
     },
     "metadata": {},
     "output_type": "display_data"
    }
   ],
   "source": [
    "# Rings와 Shell_weight 관계\n",
    "plt.scatter(df['Rings'], df['Shell_weight'])\n",
    "plt.xlabel('Rings')\n",
    "plt.ylabel('Shell_weight')\n",
    "\n",
    "plt.show()"
   ]
  },
  {
   "cell_type": "code",
   "execution_count": 14,
   "id": "c7a8ca15-e4d1-4c39-8a1f-79aba93902eb",
   "metadata": {},
   "outputs": [
    {
     "name": "stdout",
     "output_type": "stream",
     "text": [
      "Sex_encoded       1307\n",
      "Length               0\n",
      "Diameter             0\n",
      "Height               2\n",
      "Whole_weight         0\n",
      "Shucked_weight       0\n",
      "Viscera_weight       0\n",
      "Shell_weight         0\n",
      "Rings                0\n",
      "dtype: int64\n"
     ]
    }
   ],
   "source": [
    "# 각 열에서 0인 값의 개수를 확인\n",
    "zero_values_count = (df == 0).sum()\n",
    "\n",
    "# 결과 출력\n",
    "print(zero_values_count)"
   ]
  },
  {
   "cell_type": "markdown",
   "id": "e495ccc2-e4a2-4cd1-84b9-d5c7ecd745b8",
   "metadata": {},
   "source": [
    "#### Height(높이)가 0 값이 나오는 것은 이상치로 판단"
   ]
  },
  {
   "cell_type": "code",
   "execution_count": 15,
   "id": "2632f365-757f-47d4-b00e-ab3028aa79e3",
   "metadata": {},
   "outputs": [
    {
     "name": "stdout",
     "output_type": "stream",
     "text": [
      "제거 전 데이터 개수:  4177\n",
      "제거 후 데이터 개수:  4175\n"
     ]
    }
   ],
   "source": [
    "# 이상치의 개수가 적은 Glucose, BloodPressure, BMI의 경우 이상치 제거\n",
    "print(\"제거 전 데이터 개수: \", len(df))\n",
    "df = df[(df['Height'] != 0)]\n",
    "print(\"제거 후 데이터 개수: \", len(df))"
   ]
  },
  {
   "cell_type": "markdown",
   "id": "18b23df8-426c-454b-974c-81312311aa97",
   "metadata": {},
   "source": [
    "2개의 데이터 제거"
   ]
  },
  {
   "cell_type": "code",
   "execution_count": 16,
   "id": "195874eb-4dea-44b0-b0fa-ef0f112643bb",
   "metadata": {},
   "outputs": [
    {
     "data": {
      "image/png": "[encoded data removed]",
      "text/plain": [
       "<Figure size 640x480 with 1 Axes>"
      ]
     },
     "metadata": {},
     "output_type": "display_data"
    }
   ],
   "source": [
    "# Rings 시각화\n",
    "sns.countplot(data = df, x=\"Rings\")\n",
    "plt.xlabel(\"Rings\")\n",
    "plt.ylabel(\"Count\")\n",
    "plt.title(\"Abalone\")\n",
    "\n",
    "plt.show()"
   ]
  },
  {
   "cell_type": "markdown",
   "id": "069781fa-1da3-4f21-8885-fb295dd1f36d",
   "metadata": {},
   "source": [
    "### Rings는 연속적인 수치 데이터를 가지므로 Classification 문제로 다루기 위해선 범주형 값으로 변환하는 과정이 필요"
   ]
  },
  {
   "cell_type": "code",
   "execution_count": 17,
   "id": "9a0a5c87-be54-46b1-abab-072e497c329a",
   "metadata": {},
   "outputs": [
    {
     "name": "stdout",
     "output_type": "stream",
     "text": [
      "구간 경계값:  [ 1.  8. 11. 29.]\n",
      "   Rings Rings_binned\n",
      "0     15          Old\n",
      "1      7        Young\n",
      "2      9  Middle-aged\n",
      "3     10  Middle-aged\n",
      "4      7        Young\n"
     ]
    }
   ],
   "source": [
    "# 분위수 기반으로 구간 나누기\n",
    "Rings_binned, bins = pd.qcut(df['Rings'], q=3, labels=['Young', 'Middle-aged', 'Old'], retbins=True)\n",
    "\n",
    "# 구간 경계값 출력\n",
    "print(\"구간 경계값: \", bins)\n",
    "\n",
    "# 새로운 범주형 피처 생성\n",
    "df['Rings_binned'] = Rings_binned\n",
    "\n",
    "# 결과 확인\n",
    "print(df[['Rings', 'Rings_binned']].head())"
   ]
  },
  {
   "cell_type": "markdown",
   "id": "753446fd-f658-4512-b3fd-0146c1d59d47",
   "metadata": {},
   "source": [
    "### pd.qcut 함수를 통해 각 구간에 비슷한 개수의 샘플이 있도록 분위수를 기준으로 구간을 나눔\n",
    "- 구간 경계 값을 출력한 결과 (1 ~ 7, 8 ~ 10, 11 ~ 29)의 세 구간('Young', 'Middle-aged', 'Old')으로 나눠진 것을 확인할 수 있음"
   ]
  },
  {
   "cell_type": "code",
   "execution_count": 18,
   "id": "b621dfcf-4635-4065-80d7-43663815cc19",
   "metadata": {},
   "outputs": [
    {
     "data": {
      "text/plain": [
       "Rings_binned\n",
       "Middle-aged    1810\n",
       "Young          1405\n",
       "Old             960\n",
       "Name: count, dtype: int64"
      ]
     },
     "execution_count": 18,
     "metadata": {},
     "output_type": "execute_result"
    }
   ],
   "source": [
    "df['Rings_binned'].value_counts()"
   ]
  },
  {
   "cell_type": "markdown",
   "id": "e44f0cca-c62d-4907-8f49-3ece2bf8c4e3",
   "metadata": {},
   "source": [
    "### 분위 수를 기반으로 나눴지만 Middle-aged와 Old 간의 차이가 두 배정도 나는 것을 확인할 수 있음\n",
    "- 추후 OverSampling, UnderSampling 등을 적용할 수 있음"
   ]
  },
  {
   "cell_type": "code",
   "execution_count": 19,
   "id": "76a01fe6-7d43-44bb-a5ff-13bb9d745a37",
   "metadata": {},
   "outputs": [
    {
     "data": {
      "text/html": [
       "<div>\n",
       "<style scoped>\n",
       "    .dataframe tbody tr th:only-of-type {\n",
       "        vertical-align: middle;\n",
       "    }\n",
       "\n",
       "    .dataframe tbody tr th {\n",
       "        vertical-align: top;\n",
       "    }\n",
       "\n",
       "    .dataframe thead th {\n",
       "        text-align: right;\n",
       "    }\n",
       "</style>\n",
       "<table border=\"1\" class=\"dataframe\">\n",
       "  <thead>\n",
       "    <tr style=\"text-align: right;\">\n",
       "      <th></th>\n",
       "      <th>Sex_encoded</th>\n",
       "      <th>Length</th>\n",
       "      <th>Diameter</th>\n",
       "      <th>Height</th>\n",
       "      <th>Whole_weight</th>\n",
       "      <th>Shucked_weight</th>\n",
       "      <th>Viscera_weight</th>\n",
       "      <th>Shell_weight</th>\n",
       "      <th>Rings_binned</th>\n",
       "    </tr>\n",
       "  </thead>\n",
       "  <tbody>\n",
       "    <tr>\n",
       "      <th>0</th>\n",
       "      <td>2</td>\n",
       "      <td>0.455</td>\n",
       "      <td>0.365</td>\n",
       "      <td>0.095</td>\n",
       "      <td>0.5140</td>\n",
       "      <td>0.2245</td>\n",
       "      <td>0.1010</td>\n",
       "      <td>0.1500</td>\n",
       "      <td>Old</td>\n",
       "    </tr>\n",
       "    <tr>\n",
       "      <th>1</th>\n",
       "      <td>2</td>\n",
       "      <td>0.350</td>\n",
       "      <td>0.265</td>\n",
       "      <td>0.090</td>\n",
       "      <td>0.2255</td>\n",
       "      <td>0.0995</td>\n",
       "      <td>0.0485</td>\n",
       "      <td>0.0700</td>\n",
       "      <td>Young</td>\n",
       "    </tr>\n",
       "    <tr>\n",
       "      <th>2</th>\n",
       "      <td>0</td>\n",
       "      <td>0.530</td>\n",
       "      <td>0.420</td>\n",
       "      <td>0.135</td>\n",
       "      <td>0.6770</td>\n",
       "      <td>0.2565</td>\n",
       "      <td>0.1415</td>\n",
       "      <td>0.2100</td>\n",
       "      <td>Middle-aged</td>\n",
       "    </tr>\n",
       "    <tr>\n",
       "      <th>3</th>\n",
       "      <td>2</td>\n",
       "      <td>0.440</td>\n",
       "      <td>0.365</td>\n",
       "      <td>0.125</td>\n",
       "      <td>0.5160</td>\n",
       "      <td>0.2155</td>\n",
       "      <td>0.1140</td>\n",
       "      <td>0.1550</td>\n",
       "      <td>Middle-aged</td>\n",
       "    </tr>\n",
       "    <tr>\n",
       "      <th>4</th>\n",
       "      <td>1</td>\n",
       "      <td>0.330</td>\n",
       "      <td>0.255</td>\n",
       "      <td>0.080</td>\n",
       "      <td>0.2050</td>\n",
       "      <td>0.0895</td>\n",
       "      <td>0.0395</td>\n",
       "      <td>0.0550</td>\n",
       "      <td>Young</td>\n",
       "    </tr>\n",
       "    <tr>\n",
       "      <th>...</th>\n",
       "      <td>...</td>\n",
       "      <td>...</td>\n",
       "      <td>...</td>\n",
       "      <td>...</td>\n",
       "      <td>...</td>\n",
       "      <td>...</td>\n",
       "      <td>...</td>\n",
       "      <td>...</td>\n",
       "      <td>...</td>\n",
       "    </tr>\n",
       "    <tr>\n",
       "      <th>4172</th>\n",
       "      <td>0</td>\n",
       "      <td>0.565</td>\n",
       "      <td>0.450</td>\n",
       "      <td>0.165</td>\n",
       "      <td>0.8870</td>\n",
       "      <td>0.3700</td>\n",
       "      <td>0.2390</td>\n",
       "      <td>0.2490</td>\n",
       "      <td>Middle-aged</td>\n",
       "    </tr>\n",
       "    <tr>\n",
       "      <th>4173</th>\n",
       "      <td>2</td>\n",
       "      <td>0.590</td>\n",
       "      <td>0.440</td>\n",
       "      <td>0.135</td>\n",
       "      <td>0.9660</td>\n",
       "      <td>0.4390</td>\n",
       "      <td>0.2145</td>\n",
       "      <td>0.2605</td>\n",
       "      <td>Middle-aged</td>\n",
       "    </tr>\n",
       "    <tr>\n",
       "      <th>4174</th>\n",
       "      <td>2</td>\n",
       "      <td>0.600</td>\n",
       "      <td>0.475</td>\n",
       "      <td>0.205</td>\n",
       "      <td>1.1760</td>\n",
       "      <td>0.5255</td>\n",
       "      <td>0.2875</td>\n",
       "      <td>0.3080</td>\n",
       "      <td>Middle-aged</td>\n",
       "    </tr>\n",
       "    <tr>\n",
       "      <th>4175</th>\n",
       "      <td>0</td>\n",
       "      <td>0.625</td>\n",
       "      <td>0.485</td>\n",
       "      <td>0.150</td>\n",
       "      <td>1.0945</td>\n",
       "      <td>0.5310</td>\n",
       "      <td>0.2610</td>\n",
       "      <td>0.2960</td>\n",
       "      <td>Middle-aged</td>\n",
       "    </tr>\n",
       "    <tr>\n",
       "      <th>4176</th>\n",
       "      <td>2</td>\n",
       "      <td>0.710</td>\n",
       "      <td>0.555</td>\n",
       "      <td>0.195</td>\n",
       "      <td>1.9485</td>\n",
       "      <td>0.9455</td>\n",
       "      <td>0.3765</td>\n",
       "      <td>0.4950</td>\n",
       "      <td>Old</td>\n",
       "    </tr>\n",
       "  </tbody>\n",
       "</table>\n",
       "<p>4175 rows × 9 columns</p>\n",
       "</div>"
      ],
      "text/plain": [
       "      Sex_encoded  Length  Diameter  Height  Whole_weight  Shucked_weight  \\\n",
       "0               2   0.455     0.365   0.095        0.5140          0.2245   \n",
       "1               2   0.350     0.265   0.090        0.2255          0.0995   \n",
       "2               0   0.530     0.420   0.135        0.6770          0.2565   \n",
       "3               2   0.440     0.365   0.125        0.5160          0.2155   \n",
       "4               1   0.330     0.255   0.080        0.2050          0.0895   \n",
       "...           ...     ...       ...     ...           ...             ...   \n",
       "4172            0   0.565     0.450   0.165        0.8870          0.3700   \n",
       "4173            2   0.590     0.440   0.135        0.9660          0.4390   \n",
       "4174            2   0.600     0.475   0.205        1.1760          0.5255   \n",
       "4175            0   0.625     0.485   0.150        1.0945          0.5310   \n",
       "4176            2   0.710     0.555   0.195        1.9485          0.9455   \n",
       "\n",
       "      Viscera_weight  Shell_weight Rings_binned  \n",
       "0             0.1010        0.1500          Old  \n",
       "1             0.0485        0.0700        Young  \n",
       "2             0.1415        0.2100  Middle-aged  \n",
       "3             0.1140        0.1550  Middle-aged  \n",
       "4             0.0395        0.0550        Young  \n",
       "...              ...           ...          ...  \n",
       "4172          0.2390        0.2490  Middle-aged  \n",
       "4173          0.2145        0.2605  Middle-aged  \n",
       "4174          0.2875        0.3080  Middle-aged  \n",
       "4175          0.2610        0.2960  Middle-aged  \n",
       "4176          0.3765        0.4950          Old  \n",
       "\n",
       "[4175 rows x 9 columns]"
      ]
     },
     "execution_count": 19,
     "metadata": {},
     "output_type": "execute_result"
    }
   ],
   "source": [
    "# 분류 문제로 적용하기 위해서 Rings 제거\n",
    "X = df.drop('Rings', axis=1)\n",
    "X"
   ]
  },
  {
   "cell_type": "code",
   "execution_count": 20,
   "id": "f32354eb-b052-49fa-b4a7-77e73f7c72f7",
   "metadata": {},
   "outputs": [
    {
     "data": {
      "text/plain": [
       "0               Old\n",
       "1             Young\n",
       "2       Middle-aged\n",
       "3       Middle-aged\n",
       "4             Young\n",
       "           ...     \n",
       "4172    Middle-aged\n",
       "4173    Middle-aged\n",
       "4174    Middle-aged\n",
       "4175    Middle-aged\n",
       "4176            Old\n",
       "Name: Rings_binned, Length: 4175, dtype: category\n",
       "Categories (3, object): ['Young' < 'Middle-aged' < 'Old']"
      ]
     },
     "execution_count": 20,
     "metadata": {},
     "output_type": "execute_result"
    }
   ],
   "source": [
    "y = X['Rings_binned']\n",
    "y"
   ]
  },
  {
   "cell_type": "code",
   "execution_count": 21,
   "id": "7b2845b5-0705-458b-9ed3-faaa6cba857b",
   "metadata": {},
   "outputs": [
    {
     "data": {
      "text/html": [
       "<div>\n",
       "<style scoped>\n",
       "    .dataframe tbody tr th:only-of-type {\n",
       "        vertical-align: middle;\n",
       "    }\n",
       "\n",
       "    .dataframe tbody tr th {\n",
       "        vertical-align: top;\n",
       "    }\n",
       "\n",
       "    .dataframe thead th {\n",
       "        text-align: right;\n",
       "    }\n",
       "</style>\n",
       "<table border=\"1\" class=\"dataframe\">\n",
       "  <thead>\n",
       "    <tr style=\"text-align: right;\">\n",
       "      <th></th>\n",
       "      <th>Sex_encoded</th>\n",
       "      <th>Length</th>\n",
       "      <th>Diameter</th>\n",
       "      <th>Height</th>\n",
       "      <th>Whole_weight</th>\n",
       "      <th>Shucked_weight</th>\n",
       "      <th>Viscera_weight</th>\n",
       "      <th>Shell_weight</th>\n",
       "    </tr>\n",
       "  </thead>\n",
       "  <tbody>\n",
       "    <tr>\n",
       "      <th>0</th>\n",
       "      <td>2</td>\n",
       "      <td>0.455</td>\n",
       "      <td>0.365</td>\n",
       "      <td>0.095</td>\n",
       "      <td>0.5140</td>\n",
       "      <td>0.2245</td>\n",
       "      <td>0.1010</td>\n",
       "      <td>0.1500</td>\n",
       "    </tr>\n",
       "    <tr>\n",
       "      <th>1</th>\n",
       "      <td>2</td>\n",
       "      <td>0.350</td>\n",
       "      <td>0.265</td>\n",
       "      <td>0.090</td>\n",
       "      <td>0.2255</td>\n",
       "      <td>0.0995</td>\n",
       "      <td>0.0485</td>\n",
       "      <td>0.0700</td>\n",
       "    </tr>\n",
       "    <tr>\n",
       "      <th>2</th>\n",
       "      <td>0</td>\n",
       "      <td>0.530</td>\n",
       "      <td>0.420</td>\n",
       "      <td>0.135</td>\n",
       "      <td>0.6770</td>\n",
       "      <td>0.2565</td>\n",
       "      <td>0.1415</td>\n",
       "      <td>0.2100</td>\n",
       "    </tr>\n",
       "    <tr>\n",
       "      <th>3</th>\n",
       "      <td>2</td>\n",
       "      <td>0.440</td>\n",
       "      <td>0.365</td>\n",
       "      <td>0.125</td>\n",
       "      <td>0.5160</td>\n",
       "      <td>0.2155</td>\n",
       "      <td>0.1140</td>\n",
       "      <td>0.1550</td>\n",
       "    </tr>\n",
       "    <tr>\n",
       "      <th>4</th>\n",
       "      <td>1</td>\n",
       "      <td>0.330</td>\n",
       "      <td>0.255</td>\n",
       "      <td>0.080</td>\n",
       "      <td>0.2050</td>\n",
       "      <td>0.0895</td>\n",
       "      <td>0.0395</td>\n",
       "      <td>0.0550</td>\n",
       "    </tr>\n",
       "    <tr>\n",
       "      <th>...</th>\n",
       "      <td>...</td>\n",
       "      <td>...</td>\n",
       "      <td>...</td>\n",
       "      <td>...</td>\n",
       "      <td>...</td>\n",
       "      <td>...</td>\n",
       "      <td>...</td>\n",
       "      <td>...</td>\n",
       "    </tr>\n",
       "    <tr>\n",
       "      <th>4172</th>\n",
       "      <td>0</td>\n",
       "      <td>0.565</td>\n",
       "      <td>0.450</td>\n",
       "      <td>0.165</td>\n",
       "      <td>0.8870</td>\n",
       "      <td>0.3700</td>\n",
       "      <td>0.2390</td>\n",
       "      <td>0.2490</td>\n",
       "    </tr>\n",
       "    <tr>\n",
       "      <th>4173</th>\n",
       "      <td>2</td>\n",
       "      <td>0.590</td>\n",
       "      <td>0.440</td>\n",
       "      <td>0.135</td>\n",
       "      <td>0.9660</td>\n",
       "      <td>0.4390</td>\n",
       "      <td>0.2145</td>\n",
       "      <td>0.2605</td>\n",
       "    </tr>\n",
       "    <tr>\n",
       "      <th>4174</th>\n",
       "      <td>2</td>\n",
       "      <td>0.600</td>\n",
       "      <td>0.475</td>\n",
       "      <td>0.205</td>\n",
       "      <td>1.1760</td>\n",
       "      <td>0.5255</td>\n",
       "      <td>0.2875</td>\n",
       "      <td>0.3080</td>\n",
       "    </tr>\n",
       "    <tr>\n",
       "      <th>4175</th>\n",
       "      <td>0</td>\n",
       "      <td>0.625</td>\n",
       "      <td>0.485</td>\n",
       "      <td>0.150</td>\n",
       "      <td>1.0945</td>\n",
       "      <td>0.5310</td>\n",
       "      <td>0.2610</td>\n",
       "      <td>0.2960</td>\n",
       "    </tr>\n",
       "    <tr>\n",
       "      <th>4176</th>\n",
       "      <td>2</td>\n",
       "      <td>0.710</td>\n",
       "      <td>0.555</td>\n",
       "      <td>0.195</td>\n",
       "      <td>1.9485</td>\n",
       "      <td>0.9455</td>\n",
       "      <td>0.3765</td>\n",
       "      <td>0.4950</td>\n",
       "    </tr>\n",
       "  </tbody>\n",
       "</table>\n",
       "<p>4175 rows × 8 columns</p>\n",
       "</div>"
      ],
      "text/plain": [
       "      Sex_encoded  Length  Diameter  Height  Whole_weight  Shucked_weight  \\\n",
       "0               2   0.455     0.365   0.095        0.5140          0.2245   \n",
       "1               2   0.350     0.265   0.090        0.2255          0.0995   \n",
       "2               0   0.530     0.420   0.135        0.6770          0.2565   \n",
       "3               2   0.440     0.365   0.125        0.5160          0.2155   \n",
       "4               1   0.330     0.255   0.080        0.2050          0.0895   \n",
       "...           ...     ...       ...     ...           ...             ...   \n",
       "4172            0   0.565     0.450   0.165        0.8870          0.3700   \n",
       "4173            2   0.590     0.440   0.135        0.9660          0.4390   \n",
       "4174            2   0.600     0.475   0.205        1.1760          0.5255   \n",
       "4175            0   0.625     0.485   0.150        1.0945          0.5310   \n",
       "4176            2   0.710     0.555   0.195        1.9485          0.9455   \n",
       "\n",
       "      Viscera_weight  Shell_weight  \n",
       "0             0.1010        0.1500  \n",
       "1             0.0485        0.0700  \n",
       "2             0.1415        0.2100  \n",
       "3             0.1140        0.1550  \n",
       "4             0.0395        0.0550  \n",
       "...              ...           ...  \n",
       "4172          0.2390        0.2490  \n",
       "4173          0.2145        0.2605  \n",
       "4174          0.2875        0.3080  \n",
       "4175          0.2610        0.2960  \n",
       "4176          0.3765        0.4950  \n",
       "\n",
       "[4175 rows x 8 columns]"
      ]
     },
     "execution_count": 21,
     "metadata": {},
     "output_type": "execute_result"
    }
   ],
   "source": [
    "X = X.drop('Rings_binned', axis=1)\n",
    "X"
   ]
  },
  {
   "cell_type": "code",
   "execution_count": 22,
   "id": "b252c2dd-5d89-48cb-8be4-aaea30c8832b",
   "metadata": {},
   "outputs": [
    {
     "data": {
      "text/plain": [
       "((2672, 8), (835, 8), (2672,), (835,), (668, 8), (668,))"
      ]
     },
     "execution_count": 22,
     "metadata": {},
     "output_type": "execute_result"
    }
   ],
   "source": [
    "from sklearn.model_selection import train_test_split\n",
    "\n",
    "X_train, X_test, y_train, y_test = train_test_split(X, y, test_size=0.2, stratify=y, random_state=32)\n",
    "\n",
    "X_train, X_val, y_train, y_val = train_test_split(X_train, y_train, test_size=0.2, stratify=y_train, random_state=32)\n",
    "\n",
    "X_train.shape, X_test.shape, y_train.shape, y_test.shape, X_val.shape, y_val.shape"
   ]
  },
  {
   "cell_type": "code",
   "execution_count": 23,
   "id": "6d563ed5-9f6d-4e8f-b97f-e02cbb1eb9dd",
   "metadata": {},
   "outputs": [],
   "source": [
    "# 표준화 StandardScaler \n",
    "from sklearn.preprocessing import StandardScaler\n",
    "\n",
    "ss = StandardScaler()\n",
    "ss.fit(X_train)\n",
    "train_scaled = ss.transform(X_train)\n",
    "val_scaled = ss.transform(X_val)\n",
    "test_scaled = ss.transform(X_test)"
   ]
  },
  {
   "cell_type": "markdown",
   "id": "e0dd8df5-e4a1-4f79-971b-cbdc2685a980",
   "metadata": {},
   "source": [
    "## DL Model (ANN)\n",
    "- Rings_binned는 세 가지 값을 가지므로 One-hot encoding을 진행함\n",
    "- 3진 분류의 문제이므로 Output은 3개의 뉴런\n",
    "- 마찬가지로 3진 분류이므로 activation 함수는 softmax, loss function은 categorical_crossentropy 사용"
   ]
  },
  {
   "cell_type": "code",
   "execution_count": 24,
   "id": "d2280ade-627b-4a9c-986e-3d257a79b92f",
   "metadata": {},
   "outputs": [],
   "source": [
    "label_encoder = LabelEncoder()\n",
    "y_train_encoded = label_encoder.fit_transform(y_train)\n",
    "y_val_encoded = label_encoder.transform(y_val)\n",
    "y_test_encoded = label_encoder.transform(y_test)"
   ]
  },
  {
   "cell_type": "code",
   "execution_count": 25,
   "id": "4326e674-8284-4ac1-b69f-035cffdf0e50",
   "metadata": {},
   "outputs": [],
   "source": [
    "from tensorflow.keras.utils import to_categorical\n",
    "\n",
    "trainy_one_hot = to_categorical(y_train_encoded)\n",
    "val_one_hot = to_categorical(y_val_encoded)\n",
    "testy_one_hot = to_categorical(y_test_encoded)"
   ]
  },
  {
   "cell_type": "code",
   "execution_count": 26,
   "id": "16b7222a-d0b8-4a42-b4b6-5a81b243e71a",
   "metadata": {},
   "outputs": [
    {
     "data": {
      "text/plain": [
       "((2672, 3), (668, 3), (835, 3))"
      ]
     },
     "execution_count": 26,
     "metadata": {},
     "output_type": "execute_result"
    }
   ],
   "source": [
    "trainy_one_hot.shape, val_one_hot.shape, testy_one_hot.shape"
   ]
  },
  {
   "cell_type": "code",
   "execution_count": 27,
   "id": "8034ff37-6156-4efd-873e-dd08d1cea11d",
   "metadata": {},
   "outputs": [
    {
     "name": "stdout",
     "output_type": "stream",
     "text": [
      "Model: \"sequential\"\n",
      "_________________________________________________________________\n",
      " Layer (type)                Output Shape              Param #   \n",
      "=================================================================\n",
      " dense (Dense)               (None, 3)                 27        \n",
      "                                                                 \n",
      "=================================================================\n",
      "Total params: 27\n",
      "Trainable params: 27\n",
      "Non-trainable params: 0\n",
      "_________________________________________________________________\n"
     ]
    }
   ],
   "source": [
    "from tensorflow.keras.layers import Dense, Flatten\n",
    "from tensorflow.keras.models import Sequential\n",
    "\n",
    "model = Sequential()\n",
    "model.add(Dense(3, activation='softmax', input_shape=(8,)))\n",
    "model.compile(loss='categorical_crossentropy', optimizer='adam', metrics=['accuracy'])\n",
    "model.summary()"
   ]
  },
  {
   "cell_type": "code",
   "execution_count": 28,
   "id": "27d9ed1a-9f76-4e2c-a2b8-9ad31aad1ea7",
   "metadata": {},
   "outputs": [
    {
     "name": "stdout",
     "output_type": "stream",
     "text": [
      "Epoch 1/50\n",
      "167/167 [==============================] - 1s 2ms/step - loss: 1.4022 - accuracy: 0.2216 - val_loss: 1.0865 - val_accuracy: 0.4237\n",
      "Epoch 2/50\n",
      "167/167 [==============================] - 0s 2ms/step - loss: 0.9560 - accuracy: 0.5176 - val_loss: 0.9208 - val_accuracy: 0.5374\n",
      "Epoch 3/50\n",
      "167/167 [==============================] - 0s 2ms/step - loss: 0.8664 - accuracy: 0.5865 - val_loss: 0.8800 - val_accuracy: 0.5749\n",
      "Epoch 4/50\n",
      "167/167 [==============================] - 0s 2ms/step - loss: 0.8372 - accuracy: 0.6055 - val_loss: 0.8615 - val_accuracy: 0.5853\n",
      "Epoch 5/50\n",
      "167/167 [==============================] - 0s 2ms/step - loss: 0.8209 - accuracy: 0.6123 - val_loss: 0.8495 - val_accuracy: 0.5943\n",
      "Epoch 6/50\n",
      "167/167 [==============================] - 0s 2ms/step - loss: 0.8091 - accuracy: 0.6149 - val_loss: 0.8407 - val_accuracy: 0.5913\n",
      "Epoch 7/50\n",
      "167/167 [==============================] - 0s 2ms/step - loss: 0.7999 - accuracy: 0.6160 - val_loss: 0.8330 - val_accuracy: 0.5943\n",
      "Epoch 8/50\n",
      "167/167 [==============================] - 0s 2ms/step - loss: 0.7923 - accuracy: 0.6198 - val_loss: 0.8264 - val_accuracy: 0.5988\n",
      "Epoch 9/50\n",
      "167/167 [==============================] - 0s 2ms/step - loss: 0.7857 - accuracy: 0.6287 - val_loss: 0.8209 - val_accuracy: 0.6078\n",
      "Epoch 10/50\n",
      "167/167 [==============================] - 0s 2ms/step - loss: 0.7797 - accuracy: 0.6310 - val_loss: 0.8158 - val_accuracy: 0.6243\n",
      "Epoch 11/50\n",
      "167/167 [==============================] - 0s 2ms/step - loss: 0.7747 - accuracy: 0.6403 - val_loss: 0.8113 - val_accuracy: 0.6287\n",
      "Epoch 12/50\n",
      "167/167 [==============================] - 0s 2ms/step - loss: 0.7701 - accuracy: 0.6433 - val_loss: 0.8074 - val_accuracy: 0.6302\n",
      "Epoch 13/50\n",
      "167/167 [==============================] - 0s 2ms/step - loss: 0.7659 - accuracy: 0.6445 - val_loss: 0.8038 - val_accuracy: 0.6332\n",
      "Epoch 14/50\n",
      "167/167 [==============================] - 0s 2ms/step - loss: 0.7623 - accuracy: 0.6508 - val_loss: 0.8007 - val_accuracy: 0.6377\n",
      "Epoch 15/50\n",
      "167/167 [==============================] - 0s 2ms/step - loss: 0.7586 - accuracy: 0.6497 - val_loss: 0.7980 - val_accuracy: 0.6452\n",
      "Epoch 16/50\n",
      "167/167 [==============================] - 0s 2ms/step - loss: 0.7560 - accuracy: 0.6542 - val_loss: 0.7946 - val_accuracy: 0.6527\n",
      "Epoch 17/50\n",
      "167/167 [==============================] - 0s 2ms/step - loss: 0.7532 - accuracy: 0.6598 - val_loss: 0.7920 - val_accuracy: 0.6467\n",
      "Epoch 18/50\n",
      "167/167 [==============================] - 0s 2ms/step - loss: 0.7507 - accuracy: 0.6606 - val_loss: 0.7895 - val_accuracy: 0.6542\n",
      "Epoch 19/50\n",
      "167/167 [==============================] - 0s 2ms/step - loss: 0.7487 - accuracy: 0.6624 - val_loss: 0.7872 - val_accuracy: 0.6542\n",
      "Epoch 20/50\n",
      "167/167 [==============================] - 0s 2ms/step - loss: 0.7462 - accuracy: 0.6647 - val_loss: 0.7854 - val_accuracy: 0.6572\n",
      "Epoch 21/50\n",
      "167/167 [==============================] - 0s 2ms/step - loss: 0.7442 - accuracy: 0.6665 - val_loss: 0.7835 - val_accuracy: 0.6572\n",
      "Epoch 22/50\n",
      "167/167 [==============================] - 0s 2ms/step - loss: 0.7424 - accuracy: 0.6635 - val_loss: 0.7813 - val_accuracy: 0.6512\n",
      "Epoch 23/50\n",
      "167/167 [==============================] - 0s 2ms/step - loss: 0.7409 - accuracy: 0.6677 - val_loss: 0.7796 - val_accuracy: 0.6542\n",
      "Epoch 24/50\n",
      "167/167 [==============================] - 0s 2ms/step - loss: 0.7390 - accuracy: 0.6669 - val_loss: 0.7780 - val_accuracy: 0.6557\n",
      "Epoch 25/50\n",
      "167/167 [==============================] - 0s 2ms/step - loss: 0.7375 - accuracy: 0.6692 - val_loss: 0.7769 - val_accuracy: 0.6572\n",
      "Epoch 26/50\n",
      "167/167 [==============================] - 0s 2ms/step - loss: 0.7363 - accuracy: 0.6699 - val_loss: 0.7750 - val_accuracy: 0.6602\n",
      "Epoch 27/50\n",
      "167/167 [==============================] - 0s 2ms/step - loss: 0.7348 - accuracy: 0.6710 - val_loss: 0.7740 - val_accuracy: 0.6617\n",
      "Epoch 28/50\n",
      "167/167 [==============================] - 0s 2ms/step - loss: 0.7337 - accuracy: 0.6710 - val_loss: 0.7724 - val_accuracy: 0.6662\n",
      "Epoch 29/50\n",
      "167/167 [==============================] - 0s 2ms/step - loss: 0.7328 - accuracy: 0.6740 - val_loss: 0.7719 - val_accuracy: 0.6617\n",
      "Epoch 30/50\n",
      "167/167 [==============================] - 0s 2ms/step - loss: 0.7317 - accuracy: 0.6733 - val_loss: 0.7700 - val_accuracy: 0.6632\n",
      "Epoch 31/50\n",
      "167/167 [==============================] - 0s 2ms/step - loss: 0.7306 - accuracy: 0.6778 - val_loss: 0.7692 - val_accuracy: 0.6647\n",
      "Epoch 32/50\n",
      "167/167 [==============================] - 0s 2ms/step - loss: 0.7298 - accuracy: 0.6737 - val_loss: 0.7675 - val_accuracy: 0.6662\n",
      "Epoch 33/50\n",
      "167/167 [==============================] - 0s 2ms/step - loss: 0.7289 - accuracy: 0.6759 - val_loss: 0.7671 - val_accuracy: 0.6647\n",
      "Epoch 34/50\n",
      "167/167 [==============================] - 0s 2ms/step - loss: 0.7279 - accuracy: 0.6755 - val_loss: 0.7655 - val_accuracy: 0.6692\n",
      "Epoch 35/50\n",
      "167/167 [==============================] - 0s 2ms/step - loss: 0.7270 - accuracy: 0.6740 - val_loss: 0.7644 - val_accuracy: 0.6692\n",
      "Epoch 36/50\n",
      "167/167 [==============================] - 0s 2ms/step - loss: 0.7263 - accuracy: 0.6748 - val_loss: 0.7635 - val_accuracy: 0.6707\n",
      "Epoch 37/50\n",
      "167/167 [==============================] - 0s 2ms/step - loss: 0.7260 - accuracy: 0.6766 - val_loss: 0.7628 - val_accuracy: 0.6707\n",
      "Epoch 38/50\n",
      "167/167 [==============================] - 0s 2ms/step - loss: 0.7252 - accuracy: 0.6740 - val_loss: 0.7621 - val_accuracy: 0.6722\n",
      "Epoch 39/50\n",
      "167/167 [==============================] - 0s 2ms/step - loss: 0.7247 - accuracy: 0.6748 - val_loss: 0.7615 - val_accuracy: 0.6722\n",
      "Epoch 40/50\n",
      "167/167 [==============================] - 0s 2ms/step - loss: 0.7241 - accuracy: 0.6759 - val_loss: 0.7612 - val_accuracy: 0.6692\n",
      "Epoch 41/50\n",
      "167/167 [==============================] - 0s 2ms/step - loss: 0.7233 - accuracy: 0.6763 - val_loss: 0.7596 - val_accuracy: 0.6737\n",
      "Epoch 42/50\n",
      "167/167 [==============================] - 0s 2ms/step - loss: 0.7231 - accuracy: 0.6766 - val_loss: 0.7589 - val_accuracy: 0.6751\n",
      "Epoch 43/50\n",
      "167/167 [==============================] - 0s 2ms/step - loss: 0.7222 - accuracy: 0.6766 - val_loss: 0.7582 - val_accuracy: 0.6751\n",
      "Epoch 44/50\n",
      "167/167 [==============================] - 0s 2ms/step - loss: 0.7217 - accuracy: 0.6755 - val_loss: 0.7575 - val_accuracy: 0.6751\n",
      "Epoch 45/50\n",
      "167/167 [==============================] - 0s 2ms/step - loss: 0.7213 - accuracy: 0.6778 - val_loss: 0.7568 - val_accuracy: 0.6781\n",
      "Epoch 46/50\n",
      "167/167 [==============================] - 0s 2ms/step - loss: 0.7207 - accuracy: 0.6770 - val_loss: 0.7558 - val_accuracy: 0.6766\n",
      "Epoch 47/50\n",
      "167/167 [==============================] - 0s 2ms/step - loss: 0.7203 - accuracy: 0.6793 - val_loss: 0.7549 - val_accuracy: 0.6766\n",
      "Epoch 48/50\n",
      "167/167 [==============================] - 0s 2ms/step - loss: 0.7199 - accuracy: 0.6763 - val_loss: 0.7542 - val_accuracy: 0.6766\n",
      "Epoch 49/50\n",
      "167/167 [==============================] - 0s 2ms/step - loss: 0.7194 - accuracy: 0.6766 - val_loss: 0.7535 - val_accuracy: 0.6766\n",
      "Epoch 50/50\n",
      "167/167 [==============================] - 0s 2ms/step - loss: 0.7189 - accuracy: 0.6763 - val_loss: 0.7533 - val_accuracy: 0.6781\n"
     ]
    }
   ],
   "source": [
    "batch_size = 16\n",
    "\n",
    "train_epochs = 50\n",
    "history = model.fit(train_scaled, trainy_one_hot, epochs=train_epochs, batch_size=batch_size, validation_data=(val_scaled, val_one_hot), verbose=True, shuffle=True)"
   ]
  },
  {
   "cell_type": "code",
   "execution_count": 29,
   "id": "4ac967c0-a812-4481-8598-8d4549cbe18c",
   "metadata": {},
   "outputs": [
    {
     "data": {
      "text/plain": [
       "<matplotlib.legend.Legend at 0x25410a666b0>"
      ]
     },
     "execution_count": 29,
     "metadata": {},
     "output_type": "execute_result"
    },
    {
     "data": {
      "image/png": "[encoded data removed]",
      "text/plain": [
       "<Figure size 640x480 with 1 Axes>"
      ]
     },
     "metadata": {},
     "output_type": "display_data"
    }
   ],
   "source": [
    "plt.plot(history.history['loss'])\n",
    "plt.plot(history.history['val_loss'])\n",
    "plt.title('model loss')\n",
    "plt.ylabel('loss')\n",
    "plt.xlabel('epoch')\n",
    "plt.legend(['train', 'Validation'], loc='upper left')"
   ]
  },
  {
   "cell_type": "code",
   "execution_count": 30,
   "id": "8c4ac8c7-7b29-4ac8-8de1-19b96cee5f05",
   "metadata": {},
   "outputs": [
    {
     "data": {
      "text/plain": [
       "<matplotlib.legend.Legend at 0x2562704a3e0>"
      ]
     },
     "execution_count": 30,
     "metadata": {},
     "output_type": "execute_result"
    },
    {
     "data": {
      "image/png": "[encoded data removed]",
      "text/plain": [
       "<Figure size 640x480 with 1 Axes>"
      ]
     },
     "metadata": {},
     "output_type": "display_data"
    }
   ],
   "source": [
    "plt.plot(history.history['accuracy'])\n",
    "plt.plot(history.history['val_accuracy'])\n",
    "plt.title('Training and validation accuracy')\n",
    "plt.ylabel('accuracy')\n",
    "plt.xlabel('epoch')\n",
    "plt.legend(['train', 'Validation'], loc='upper left')"
   ]
  },
  {
   "cell_type": "code",
   "execution_count": 31,
   "id": "775e6757-ffb5-4e0f-b5b1-4988f823bbef",
   "metadata": {},
   "outputs": [
    {
     "name": "stdout",
     "output_type": "stream",
     "text": [
      "27/27 [==============================] - 0s 1ms/step\n",
      "[[264  24  74]\n",
      " [107  71  14]\n",
      " [ 76   3 202]]\n",
      "0.6431137724550898\n",
      "0.6336430623993496\n",
      "              precision    recall  f1-score   support\n",
      "\n",
      "           0       0.59      0.73      0.65       362\n",
      "           1       0.72      0.37      0.49       192\n",
      "           2       0.70      0.72      0.71       281\n",
      "\n",
      "    accuracy                           0.64       835\n",
      "   macro avg       0.67      0.61      0.62       835\n",
      "weighted avg       0.66      0.64      0.63       835\n",
      "\n"
     ]
    },
    {
     "data": {
      "text/plain": [
       "<Axes: >"
      ]
     },
     "execution_count": 31,
     "metadata": {},
     "output_type": "execute_result"
    },
    {
     "data": {
      "image/png": "[encoded data removed]",
      "text/plain": [
       "<Figure size 640x480 with 2 Axes>"
      ]
     },
     "metadata": {},
     "output_type": "display_data"
    }
   ],
   "source": [
    "from sklearn.metrics import confusion_matrix,classification_report,accuracy_score\n",
    "\n",
    "predy=model.predict(test_scaled)\n",
    "predy=np.argmax(predy, axis=-1)\n",
    "LABELS = ['Young', 'Middle-aged', 'Old']\n",
    "cm=confusion_matrix(y_test_encoded,predy)\n",
    "print(cm)\n",
    "print(accuracy_score(y_test_encoded,predy))\n",
    "print(f1_score(y_test_encoded,predy, average='weighted'))\n",
    "print(classification_report(y_test_encoded,predy))\n",
    "sns.heatmap(cm, cmap=\"YlGnBu\", xticklabels=LABELS, yticklabels=LABELS, annot=True, fmt = '.2f')"
   ]
  },
  {
   "cell_type": "markdown",
   "id": "1da0ee82-6562-44f3-a4e9-73371c05d547",
   "metadata": {},
   "source": [
    "## DL Model(DNN)"
   ]
  },
  {
   "cell_type": "code",
   "execution_count": 32,
   "id": "6b3f522a-82b6-45ab-9168-b24494d0f92c",
   "metadata": {},
   "outputs": [
    {
     "name": "stdout",
     "output_type": "stream",
     "text": [
      "Model: \"sequential_1\"\n",
      "_________________________________________________________________\n",
      " Layer (type)                Output Shape              Param #   \n",
      "=================================================================\n",
      " dense_1 (Dense)             (None, 8)                 72        \n",
      "                                                                 \n",
      " dense_2 (Dense)             (None, 12)                108       \n",
      "                                                                 \n",
      " dense_3 (Dense)             (None, 16)                208       \n",
      "                                                                 \n",
      " dense_4 (Dense)             (None, 12)                204       \n",
      "                                                                 \n",
      " dense_5 (Dense)             (None, 3)                 39        \n",
      "                                                                 \n",
      "=================================================================\n",
      "Total params: 631\n",
      "Trainable params: 631\n",
      "Non-trainable params: 0\n",
      "_________________________________________________________________\n"
     ]
    }
   ],
   "source": [
    "from tensorflow.keras.layers import Dense, Flatten, Dropout, BatchNormalization\n",
    "from tensorflow.keras.models import Sequential\n",
    "\n",
    "model = Sequential()\n",
    "model.add(Dense(8, activation='relu', input_shape=(8,)))\n",
    "model.add(Dense(12, activation='relu'))\n",
    "model.add(Dense(16, activation='relu'))\n",
    "model.add(Dense(12, activation='relu'))\n",
    "\n",
    "model.add(Dense(3, activation='softmax'))\n",
    "model.compile(loss='categorical_crossentropy', optimizer='adam', metrics=['accuracy'])\n",
    "model.summary()"
   ]
  },
  {
   "cell_type": "code",
   "execution_count": 33,
   "id": "b43e1351-5980-4091-933b-ea57bb45eec7",
   "metadata": {},
   "outputs": [
    {
     "name": "stdout",
     "output_type": "stream",
     "text": [
      "Epoch 1/50\n",
      "167/167 [==============================] - 1s 3ms/step - loss: 0.9073 - accuracy: 0.5906 - val_loss: 0.8558 - val_accuracy: 0.5883\n",
      "Epoch 2/50\n",
      "167/167 [==============================] - 0s 2ms/step - loss: 0.8115 - accuracy: 0.6276 - val_loss: 0.8281 - val_accuracy: 0.6332\n",
      "Epoch 3/50\n",
      "167/167 [==============================] - 0s 2ms/step - loss: 0.7817 - accuracy: 0.6519 - val_loss: 0.8028 - val_accuracy: 0.6377\n",
      "Epoch 4/50\n",
      "167/167 [==============================] - 0s 2ms/step - loss: 0.7593 - accuracy: 0.6613 - val_loss: 0.7908 - val_accuracy: 0.6572\n",
      "Epoch 5/50\n",
      "167/167 [==============================] - 0s 3ms/step - loss: 0.7420 - accuracy: 0.6684 - val_loss: 0.7820 - val_accuracy: 0.6617\n",
      "Epoch 6/50\n",
      "167/167 [==============================] - 0s 3ms/step - loss: 0.7259 - accuracy: 0.6707 - val_loss: 0.7552 - val_accuracy: 0.6811\n",
      "Epoch 7/50\n",
      "167/167 [==============================] - 0s 2ms/step - loss: 0.7129 - accuracy: 0.6748 - val_loss: 0.7484 - val_accuracy: 0.6871\n",
      "Epoch 8/50\n",
      "167/167 [==============================] - 0s 2ms/step - loss: 0.7000 - accuracy: 0.6879 - val_loss: 0.7418 - val_accuracy: 0.6931\n",
      "Epoch 9/50\n",
      "167/167 [==============================] - 0s 2ms/step - loss: 0.6939 - accuracy: 0.6804 - val_loss: 0.7310 - val_accuracy: 0.6976\n",
      "Epoch 10/50\n",
      "167/167 [==============================] - 0s 2ms/step - loss: 0.6851 - accuracy: 0.6931 - val_loss: 0.7312 - val_accuracy: 0.6931\n",
      "Epoch 11/50\n",
      "167/167 [==============================] - 0s 2ms/step - loss: 0.6833 - accuracy: 0.6942 - val_loss: 0.7294 - val_accuracy: 0.6931\n",
      "Epoch 12/50\n",
      "167/167 [==============================] - 0s 2ms/step - loss: 0.6788 - accuracy: 0.6946 - val_loss: 0.7247 - val_accuracy: 0.6946\n",
      "Epoch 13/50\n",
      "167/167 [==============================] - 0s 2ms/step - loss: 0.6772 - accuracy: 0.6980 - val_loss: 0.7200 - val_accuracy: 0.6991\n",
      "Epoch 14/50\n",
      "167/167 [==============================] - 0s 2ms/step - loss: 0.6738 - accuracy: 0.7010 - val_loss: 0.7159 - val_accuracy: 0.6961\n",
      "Epoch 15/50\n",
      "167/167 [==============================] - 0s 2ms/step - loss: 0.6725 - accuracy: 0.6995 - val_loss: 0.7123 - val_accuracy: 0.6961\n",
      "Epoch 16/50\n",
      "167/167 [==============================] - 0s 2ms/step - loss: 0.6710 - accuracy: 0.6946 - val_loss: 0.7153 - val_accuracy: 0.6976\n",
      "Epoch 17/50\n",
      "167/167 [==============================] - 0s 2ms/step - loss: 0.6718 - accuracy: 0.7070 - val_loss: 0.7159 - val_accuracy: 0.6931\n",
      "Epoch 18/50\n",
      "167/167 [==============================] - 0s 2ms/step - loss: 0.6658 - accuracy: 0.7032 - val_loss: 0.7076 - val_accuracy: 0.6991\n",
      "Epoch 19/50\n",
      "167/167 [==============================] - 0s 2ms/step - loss: 0.6690 - accuracy: 0.7051 - val_loss: 0.7042 - val_accuracy: 0.6991\n",
      "Epoch 20/50\n",
      "167/167 [==============================] - 0s 2ms/step - loss: 0.6669 - accuracy: 0.6976 - val_loss: 0.7035 - val_accuracy: 0.7036\n",
      "Epoch 21/50\n",
      "167/167 [==============================] - 0s 2ms/step - loss: 0.6650 - accuracy: 0.7073 - val_loss: 0.7015 - val_accuracy: 0.6946\n",
      "Epoch 22/50\n",
      "167/167 [==============================] - 0s 2ms/step - loss: 0.6655 - accuracy: 0.7088 - val_loss: 0.7082 - val_accuracy: 0.6946\n",
      "Epoch 23/50\n",
      "167/167 [==============================] - 0s 2ms/step - loss: 0.6660 - accuracy: 0.6980 - val_loss: 0.7079 - val_accuracy: 0.7006\n",
      "Epoch 24/50\n",
      "167/167 [==============================] - 0s 2ms/step - loss: 0.6631 - accuracy: 0.7043 - val_loss: 0.7147 - val_accuracy: 0.7021\n",
      "Epoch 25/50\n",
      "167/167 [==============================] - 0s 2ms/step - loss: 0.6626 - accuracy: 0.7066 - val_loss: 0.7116 - val_accuracy: 0.6931\n",
      "Epoch 26/50\n",
      "167/167 [==============================] - 0s 2ms/step - loss: 0.6676 - accuracy: 0.7032 - val_loss: 0.7001 - val_accuracy: 0.6976\n",
      "Epoch 27/50\n",
      "167/167 [==============================] - 0s 2ms/step - loss: 0.6609 - accuracy: 0.6954 - val_loss: 0.7182 - val_accuracy: 0.6886\n",
      "Epoch 28/50\n",
      "167/167 [==============================] - 0s 2ms/step - loss: 0.6613 - accuracy: 0.7058 - val_loss: 0.7045 - val_accuracy: 0.6916\n",
      "Epoch 29/50\n",
      "167/167 [==============================] - 0s 2ms/step - loss: 0.6608 - accuracy: 0.7051 - val_loss: 0.6993 - val_accuracy: 0.6976\n",
      "Epoch 30/50\n",
      "167/167 [==============================] - 0s 2ms/step - loss: 0.6607 - accuracy: 0.7073 - val_loss: 0.6996 - val_accuracy: 0.6901\n",
      "Epoch 31/50\n",
      "167/167 [==============================] - 0s 2ms/step - loss: 0.6605 - accuracy: 0.6965 - val_loss: 0.6990 - val_accuracy: 0.6961\n",
      "Epoch 32/50\n",
      "167/167 [==============================] - 0s 2ms/step - loss: 0.6580 - accuracy: 0.7040 - val_loss: 0.7066 - val_accuracy: 0.6856\n",
      "Epoch 33/50\n",
      "167/167 [==============================] - 0s 2ms/step - loss: 0.6584 - accuracy: 0.7021 - val_loss: 0.7040 - val_accuracy: 0.6826\n",
      "Epoch 34/50\n",
      "167/167 [==============================] - 0s 2ms/step - loss: 0.6559 - accuracy: 0.7085 - val_loss: 0.7089 - val_accuracy: 0.6871\n",
      "Epoch 35/50\n",
      "167/167 [==============================] - 0s 2ms/step - loss: 0.6554 - accuracy: 0.7055 - val_loss: 0.7036 - val_accuracy: 0.6946\n",
      "Epoch 36/50\n",
      "167/167 [==============================] - 0s 2ms/step - loss: 0.6607 - accuracy: 0.7100 - val_loss: 0.7104 - val_accuracy: 0.6931\n",
      "Epoch 37/50\n",
      "167/167 [==============================] - 0s 2ms/step - loss: 0.6542 - accuracy: 0.7103 - val_loss: 0.6976 - val_accuracy: 0.7006\n",
      "Epoch 38/50\n",
      "167/167 [==============================] - 0s 2ms/step - loss: 0.6539 - accuracy: 0.7096 - val_loss: 0.7046 - val_accuracy: 0.6961\n",
      "Epoch 39/50\n",
      "167/167 [==============================] - 0s 2ms/step - loss: 0.6541 - accuracy: 0.7103 - val_loss: 0.7023 - val_accuracy: 0.6991\n",
      "Epoch 40/50\n",
      "167/167 [==============================] - 0s 2ms/step - loss: 0.6541 - accuracy: 0.7058 - val_loss: 0.7075 - val_accuracy: 0.6976\n",
      "Epoch 41/50\n",
      "167/167 [==============================] - 0s 2ms/step - loss: 0.6558 - accuracy: 0.7088 - val_loss: 0.7020 - val_accuracy: 0.6946\n",
      "Epoch 42/50\n",
      "167/167 [==============================] - 0s 2ms/step - loss: 0.6514 - accuracy: 0.7111 - val_loss: 0.7031 - val_accuracy: 0.7021\n",
      "Epoch 43/50\n",
      "167/167 [==============================] - 0s 2ms/step - loss: 0.6541 - accuracy: 0.7111 - val_loss: 0.7026 - val_accuracy: 0.6991\n",
      "Epoch 44/50\n",
      "167/167 [==============================] - 0s 3ms/step - loss: 0.6514 - accuracy: 0.7073 - val_loss: 0.6962 - val_accuracy: 0.7006\n",
      "Epoch 45/50\n",
      "167/167 [==============================] - 0s 3ms/step - loss: 0.6495 - accuracy: 0.7103 - val_loss: 0.7004 - val_accuracy: 0.6871\n",
      "Epoch 46/50\n",
      "167/167 [==============================] - 0s 2ms/step - loss: 0.6533 - accuracy: 0.7062 - val_loss: 0.7032 - val_accuracy: 0.6946\n",
      "Epoch 47/50\n",
      "167/167 [==============================] - 0s 2ms/step - loss: 0.6489 - accuracy: 0.7122 - val_loss: 0.7211 - val_accuracy: 0.6886\n",
      "Epoch 48/50\n",
      "167/167 [==============================] - 0s 2ms/step - loss: 0.6511 - accuracy: 0.7148 - val_loss: 0.7020 - val_accuracy: 0.6871\n",
      "Epoch 49/50\n",
      "167/167 [==============================] - 0s 2ms/step - loss: 0.6494 - accuracy: 0.7085 - val_loss: 0.6995 - val_accuracy: 0.6916\n",
      "Epoch 50/50\n",
      "167/167 [==============================] - 0s 2ms/step - loss: 0.6510 - accuracy: 0.7092 - val_loss: 0.6971 - val_accuracy: 0.6916\n"
     ]
    }
   ],
   "source": [
    "batch_size = 16\n",
    "\n",
    "train_epochs = 50\n",
    "history = model.fit(train_scaled, trainy_one_hot, epochs=train_epochs, batch_size=batch_size, validation_data=(val_scaled, val_one_hot), verbose=True, shuffle=True)"
   ]
  },
  {
   "cell_type": "code",
   "execution_count": 34,
   "id": "052bc5d4-d0e4-4514-ad84-46a5d57eff48",
   "metadata": {},
   "outputs": [
    {
     "data": {
      "text/plain": [
       "<matplotlib.legend.Legend at 0x256271c3400>"
      ]
     },
     "execution_count": 34,
     "metadata": {},
     "output_type": "execute_result"
    },
    {
     "data": {
      "image/png": "[encoded data removed]",
      "text/plain": [
       "<Figure size 640x480 with 1 Axes>"
      ]
     },
     "metadata": {},
     "output_type": "display_data"
    }
   ],
   "source": [
    "plt.plot(history.history['loss'])\n",
    "plt.plot(history.history['val_loss'])\n",
    "plt.title('model loss')\n",
    "plt.ylabel('loss')\n",
    "plt.xlabel('epoch')\n",
    "plt.legend(['train', 'Validation'], loc='upper left')"
   ]
  },
  {
   "cell_type": "code",
   "execution_count": 35,
   "id": "e815ccd2-a33f-4590-9fe8-d38501551079",
   "metadata": {},
   "outputs": [
    {
     "data": {
      "text/plain": [
       "<matplotlib.legend.Legend at 0x25627205ab0>"
      ]
     },
     "execution_count": 35,
     "metadata": {},
     "output_type": "execute_result"
    },
    {
     "data": {
      "image/png": "[encoded data removed]",
      "text/plain": [
       "<Figure size 640x480 with 1 Axes>"
      ]
     },
     "metadata": {},
     "output_type": "display_data"
    }
   ],
   "source": [
    "plt.plot(history.history['accuracy'])\n",
    "plt.plot(history.history['val_accuracy'])\n",
    "plt.title('Training and validation accuracy')\n",
    "plt.ylabel('accuracy')\n",
    "plt.xlabel('epoch')\n",
    "plt.legend(['train', 'Validation'], loc='upper left')"
   ]
  },
  {
   "cell_type": "code",
   "execution_count": 36,
   "id": "33864334-4f7b-4292-aab4-3c3ae72217d2",
   "metadata": {},
   "outputs": [
    {
     "name": "stdout",
     "output_type": "stream",
     "text": [
      "27/27 [==============================] - 0s 2ms/step\n",
      "[[271  36  55]\n",
      " [ 95  91   6]\n",
      " [ 71   6 204]]\n",
      "0.6778443113772455\n",
      "0.6743233226569733\n",
      "              precision    recall  f1-score   support\n",
      "\n",
      "           0       0.62      0.75      0.68       362\n",
      "           1       0.68      0.47      0.56       192\n",
      "           2       0.77      0.73      0.75       281\n",
      "\n",
      "    accuracy                           0.68       835\n",
      "   macro avg       0.69      0.65      0.66       835\n",
      "weighted avg       0.69      0.68      0.67       835\n",
      "\n"
     ]
    },
    {
     "data": {
      "text/plain": [
       "<Axes: >"
      ]
     },
     "execution_count": 36,
     "metadata": {},
     "output_type": "execute_result"
    },
    {
     "data": {
      "image/png": "[encoded data removed]",
      "text/plain": [
       "<Figure size 640x480 with 2 Axes>"
      ]
     },
     "metadata": {},
     "output_type": "display_data"
    }
   ],
   "source": [
    "from sklearn.metrics import confusion_matrix,classification_report,accuracy_score\n",
    "\n",
    "predy=model.predict(test_scaled)\n",
    "predy=np.argmax(predy, axis=-1)\n",
    "LABELS = ['Young', 'Middle-aged', 'Old']\n",
    "cm=confusion_matrix(y_test_encoded,predy)\n",
    "print(cm)\n",
    "print(accuracy_score(y_test_encoded,predy))\n",
    "print(f1_score(y_test_encoded,predy, average='weighted'))\n",
    "print(classification_report(y_test_encoded,predy))\n",
    "sns.heatmap(cm, cmap=\"YlGnBu\", xticklabels=LABELS, yticklabels=LABELS, annot=True, fmt = '.2f')"
   ]
  },
  {
   "cell_type": "markdown",
   "id": "7cb7753d-bbc2-4ae5-b5b3-76ba439a828a",
   "metadata": {},
   "source": [
    "### 데이터 전처리 단계에서 정확도 올리기\n",
    "- Rings와 상관관계가 비교적 낮았던 Sex_encoded, Shucked_weight 제거\n",
    "- Smote 함수를 사용한 label OverSampling"
   ]
  },
  {
   "cell_type": "code",
   "execution_count": 37,
   "id": "9dabaf1b-597b-4a65-bb5b-b87992f178aa",
   "metadata": {},
   "outputs": [
    {
     "data": {
      "text/html": [
       "<div>\n",
       "<style scoped>\n",
       "    .dataframe tbody tr th:only-of-type {\n",
       "        vertical-align: middle;\n",
       "    }\n",
       "\n",
       "    .dataframe tbody tr th {\n",
       "        vertical-align: top;\n",
       "    }\n",
       "\n",
       "    .dataframe thead th {\n",
       "        text-align: right;\n",
       "    }\n",
       "</style>\n",
       "<table border=\"1\" class=\"dataframe\">\n",
       "  <thead>\n",
       "    <tr style=\"text-align: right;\">\n",
       "      <th></th>\n",
       "      <th>Length</th>\n",
       "      <th>Diameter</th>\n",
       "      <th>Height</th>\n",
       "      <th>Whole_weight</th>\n",
       "      <th>Shucked_weight</th>\n",
       "      <th>Viscera_weight</th>\n",
       "      <th>Shell_weight</th>\n",
       "      <th>Rings</th>\n",
       "      <th>Rings_binned</th>\n",
       "    </tr>\n",
       "  </thead>\n",
       "  <tbody>\n",
       "    <tr>\n",
       "      <th>0</th>\n",
       "      <td>0.455</td>\n",
       "      <td>0.365</td>\n",
       "      <td>0.095</td>\n",
       "      <td>0.5140</td>\n",
       "      <td>0.2245</td>\n",
       "      <td>0.1010</td>\n",
       "      <td>0.1500</td>\n",
       "      <td>15</td>\n",
       "      <td>Old</td>\n",
       "    </tr>\n",
       "    <tr>\n",
       "      <th>1</th>\n",
       "      <td>0.350</td>\n",
       "      <td>0.265</td>\n",
       "      <td>0.090</td>\n",
       "      <td>0.2255</td>\n",
       "      <td>0.0995</td>\n",
       "      <td>0.0485</td>\n",
       "      <td>0.0700</td>\n",
       "      <td>7</td>\n",
       "      <td>Young</td>\n",
       "    </tr>\n",
       "    <tr>\n",
       "      <th>2</th>\n",
       "      <td>0.530</td>\n",
       "      <td>0.420</td>\n",
       "      <td>0.135</td>\n",
       "      <td>0.6770</td>\n",
       "      <td>0.2565</td>\n",
       "      <td>0.1415</td>\n",
       "      <td>0.2100</td>\n",
       "      <td>9</td>\n",
       "      <td>Middle-aged</td>\n",
       "    </tr>\n",
       "    <tr>\n",
       "      <th>3</th>\n",
       "      <td>0.440</td>\n",
       "      <td>0.365</td>\n",
       "      <td>0.125</td>\n",
       "      <td>0.5160</td>\n",
       "      <td>0.2155</td>\n",
       "      <td>0.1140</td>\n",
       "      <td>0.1550</td>\n",
       "      <td>10</td>\n",
       "      <td>Middle-aged</td>\n",
       "    </tr>\n",
       "    <tr>\n",
       "      <th>4</th>\n",
       "      <td>0.330</td>\n",
       "      <td>0.255</td>\n",
       "      <td>0.080</td>\n",
       "      <td>0.2050</td>\n",
       "      <td>0.0895</td>\n",
       "      <td>0.0395</td>\n",
       "      <td>0.0550</td>\n",
       "      <td>7</td>\n",
       "      <td>Young</td>\n",
       "    </tr>\n",
       "    <tr>\n",
       "      <th>...</th>\n",
       "      <td>...</td>\n",
       "      <td>...</td>\n",
       "      <td>...</td>\n",
       "      <td>...</td>\n",
       "      <td>...</td>\n",
       "      <td>...</td>\n",
       "      <td>...</td>\n",
       "      <td>...</td>\n",
       "      <td>...</td>\n",
       "    </tr>\n",
       "    <tr>\n",
       "      <th>4172</th>\n",
       "      <td>0.565</td>\n",
       "      <td>0.450</td>\n",
       "      <td>0.165</td>\n",
       "      <td>0.8870</td>\n",
       "      <td>0.3700</td>\n",
       "      <td>0.2390</td>\n",
       "      <td>0.2490</td>\n",
       "      <td>11</td>\n",
       "      <td>Middle-aged</td>\n",
       "    </tr>\n",
       "    <tr>\n",
       "      <th>4173</th>\n",
       "      <td>0.590</td>\n",
       "      <td>0.440</td>\n",
       "      <td>0.135</td>\n",
       "      <td>0.9660</td>\n",
       "      <td>0.4390</td>\n",
       "      <td>0.2145</td>\n",
       "      <td>0.2605</td>\n",
       "      <td>10</td>\n",
       "      <td>Middle-aged</td>\n",
       "    </tr>\n",
       "    <tr>\n",
       "      <th>4174</th>\n",
       "      <td>0.600</td>\n",
       "      <td>0.475</td>\n",
       "      <td>0.205</td>\n",
       "      <td>1.1760</td>\n",
       "      <td>0.5255</td>\n",
       "      <td>0.2875</td>\n",
       "      <td>0.3080</td>\n",
       "      <td>9</td>\n",
       "      <td>Middle-aged</td>\n",
       "    </tr>\n",
       "    <tr>\n",
       "      <th>4175</th>\n",
       "      <td>0.625</td>\n",
       "      <td>0.485</td>\n",
       "      <td>0.150</td>\n",
       "      <td>1.0945</td>\n",
       "      <td>0.5310</td>\n",
       "      <td>0.2610</td>\n",
       "      <td>0.2960</td>\n",
       "      <td>10</td>\n",
       "      <td>Middle-aged</td>\n",
       "    </tr>\n",
       "    <tr>\n",
       "      <th>4176</th>\n",
       "      <td>0.710</td>\n",
       "      <td>0.555</td>\n",
       "      <td>0.195</td>\n",
       "      <td>1.9485</td>\n",
       "      <td>0.9455</td>\n",
       "      <td>0.3765</td>\n",
       "      <td>0.4950</td>\n",
       "      <td>12</td>\n",
       "      <td>Old</td>\n",
       "    </tr>\n",
       "  </tbody>\n",
       "</table>\n",
       "<p>4175 rows × 9 columns</p>\n",
       "</div>"
      ],
      "text/plain": [
       "      Length  Diameter  Height  Whole_weight  Shucked_weight  Viscera_weight  \\\n",
       "0      0.455     0.365   0.095        0.5140          0.2245          0.1010   \n",
       "1      0.350     0.265   0.090        0.2255          0.0995          0.0485   \n",
       "2      0.530     0.420   0.135        0.6770          0.2565          0.1415   \n",
       "3      0.440     0.365   0.125        0.5160          0.2155          0.1140   \n",
       "4      0.330     0.255   0.080        0.2050          0.0895          0.0395   \n",
       "...      ...       ...     ...           ...             ...             ...   \n",
       "4172   0.565     0.450   0.165        0.8870          0.3700          0.2390   \n",
       "4173   0.590     0.440   0.135        0.9660          0.4390          0.2145   \n",
       "4174   0.600     0.475   0.205        1.1760          0.5255          0.2875   \n",
       "4175   0.625     0.485   0.150        1.0945          0.5310          0.2610   \n",
       "4176   0.710     0.555   0.195        1.9485          0.9455          0.3765   \n",
       "\n",
       "      Shell_weight  Rings Rings_binned  \n",
       "0           0.1500     15          Old  \n",
       "1           0.0700      7        Young  \n",
       "2           0.2100      9  Middle-aged  \n",
       "3           0.1550     10  Middle-aged  \n",
       "4           0.0550      7        Young  \n",
       "...            ...    ...          ...  \n",
       "4172        0.2490     11  Middle-aged  \n",
       "4173        0.2605     10  Middle-aged  \n",
       "4174        0.3080      9  Middle-aged  \n",
       "4175        0.2960     10  Middle-aged  \n",
       "4176        0.4950     12          Old  \n",
       "\n",
       "[4175 rows x 9 columns]"
      ]
     },
     "execution_count": 37,
     "metadata": {},
     "output_type": "execute_result"
    }
   ],
   "source": [
    "# df에서 Sex_encoded, Shucked_weight 제거\n",
    "df = df.drop(['Sex_encoded'], axis=1)\n",
    "df"
   ]
  },
  {
   "cell_type": "code",
   "execution_count": 38,
   "id": "ee8d3c93-b2d7-419a-8326-e6c639d2c684",
   "metadata": {},
   "outputs": [
    {
     "data": {
      "text/html": [
       "<div>\n",
       "<style scoped>\n",
       "    .dataframe tbody tr th:only-of-type {\n",
       "        vertical-align: middle;\n",
       "    }\n",
       "\n",
       "    .dataframe tbody tr th {\n",
       "        vertical-align: top;\n",
       "    }\n",
       "\n",
       "    .dataframe thead th {\n",
       "        text-align: right;\n",
       "    }\n",
       "</style>\n",
       "<table border=\"1\" class=\"dataframe\">\n",
       "  <thead>\n",
       "    <tr style=\"text-align: right;\">\n",
       "      <th></th>\n",
       "      <th>Length</th>\n",
       "      <th>Diameter</th>\n",
       "      <th>Height</th>\n",
       "      <th>Whole_weight</th>\n",
       "      <th>Shucked_weight</th>\n",
       "      <th>Viscera_weight</th>\n",
       "      <th>Shell_weight</th>\n",
       "      <th>Rings_binned</th>\n",
       "    </tr>\n",
       "  </thead>\n",
       "  <tbody>\n",
       "    <tr>\n",
       "      <th>0</th>\n",
       "      <td>0.455</td>\n",
       "      <td>0.365</td>\n",
       "      <td>0.095</td>\n",
       "      <td>0.5140</td>\n",
       "      <td>0.2245</td>\n",
       "      <td>0.1010</td>\n",
       "      <td>0.1500</td>\n",
       "      <td>Old</td>\n",
       "    </tr>\n",
       "    <tr>\n",
       "      <th>1</th>\n",
       "      <td>0.350</td>\n",
       "      <td>0.265</td>\n",
       "      <td>0.090</td>\n",
       "      <td>0.2255</td>\n",
       "      <td>0.0995</td>\n",
       "      <td>0.0485</td>\n",
       "      <td>0.0700</td>\n",
       "      <td>Young</td>\n",
       "    </tr>\n",
       "    <tr>\n",
       "      <th>2</th>\n",
       "      <td>0.530</td>\n",
       "      <td>0.420</td>\n",
       "      <td>0.135</td>\n",
       "      <td>0.6770</td>\n",
       "      <td>0.2565</td>\n",
       "      <td>0.1415</td>\n",
       "      <td>0.2100</td>\n",
       "      <td>Middle-aged</td>\n",
       "    </tr>\n",
       "    <tr>\n",
       "      <th>3</th>\n",
       "      <td>0.440</td>\n",
       "      <td>0.365</td>\n",
       "      <td>0.125</td>\n",
       "      <td>0.5160</td>\n",
       "      <td>0.2155</td>\n",
       "      <td>0.1140</td>\n",
       "      <td>0.1550</td>\n",
       "      <td>Middle-aged</td>\n",
       "    </tr>\n",
       "    <tr>\n",
       "      <th>4</th>\n",
       "      <td>0.330</td>\n",
       "      <td>0.255</td>\n",
       "      <td>0.080</td>\n",
       "      <td>0.2050</td>\n",
       "      <td>0.0895</td>\n",
       "      <td>0.0395</td>\n",
       "      <td>0.0550</td>\n",
       "      <td>Young</td>\n",
       "    </tr>\n",
       "    <tr>\n",
       "      <th>...</th>\n",
       "      <td>...</td>\n",
       "      <td>...</td>\n",
       "      <td>...</td>\n",
       "      <td>...</td>\n",
       "      <td>...</td>\n",
       "      <td>...</td>\n",
       "      <td>...</td>\n",
       "      <td>...</td>\n",
       "    </tr>\n",
       "    <tr>\n",
       "      <th>4172</th>\n",
       "      <td>0.565</td>\n",
       "      <td>0.450</td>\n",
       "      <td>0.165</td>\n",
       "      <td>0.8870</td>\n",
       "      <td>0.3700</td>\n",
       "      <td>0.2390</td>\n",
       "      <td>0.2490</td>\n",
       "      <td>Middle-aged</td>\n",
       "    </tr>\n",
       "    <tr>\n",
       "      <th>4173</th>\n",
       "      <td>0.590</td>\n",
       "      <td>0.440</td>\n",
       "      <td>0.135</td>\n",
       "      <td>0.9660</td>\n",
       "      <td>0.4390</td>\n",
       "      <td>0.2145</td>\n",
       "      <td>0.2605</td>\n",
       "      <td>Middle-aged</td>\n",
       "    </tr>\n",
       "    <tr>\n",
       "      <th>4174</th>\n",
       "      <td>0.600</td>\n",
       "      <td>0.475</td>\n",
       "      <td>0.205</td>\n",
       "      <td>1.1760</td>\n",
       "      <td>0.5255</td>\n",
       "      <td>0.2875</td>\n",
       "      <td>0.3080</td>\n",
       "      <td>Middle-aged</td>\n",
       "    </tr>\n",
       "    <tr>\n",
       "      <th>4175</th>\n",
       "      <td>0.625</td>\n",
       "      <td>0.485</td>\n",
       "      <td>0.150</td>\n",
       "      <td>1.0945</td>\n",
       "      <td>0.5310</td>\n",
       "      <td>0.2610</td>\n",
       "      <td>0.2960</td>\n",
       "      <td>Middle-aged</td>\n",
       "    </tr>\n",
       "    <tr>\n",
       "      <th>4176</th>\n",
       "      <td>0.710</td>\n",
       "      <td>0.555</td>\n",
       "      <td>0.195</td>\n",
       "      <td>1.9485</td>\n",
       "      <td>0.9455</td>\n",
       "      <td>0.3765</td>\n",
       "      <td>0.4950</td>\n",
       "      <td>Old</td>\n",
       "    </tr>\n",
       "  </tbody>\n",
       "</table>\n",
       "<p>4175 rows × 8 columns</p>\n",
       "</div>"
      ],
      "text/plain": [
       "      Length  Diameter  Height  Whole_weight  Shucked_weight  Viscera_weight  \\\n",
       "0      0.455     0.365   0.095        0.5140          0.2245          0.1010   \n",
       "1      0.350     0.265   0.090        0.2255          0.0995          0.0485   \n",
       "2      0.530     0.420   0.135        0.6770          0.2565          0.1415   \n",
       "3      0.440     0.365   0.125        0.5160          0.2155          0.1140   \n",
       "4      0.330     0.255   0.080        0.2050          0.0895          0.0395   \n",
       "...      ...       ...     ...           ...             ...             ...   \n",
       "4172   0.565     0.450   0.165        0.8870          0.3700          0.2390   \n",
       "4173   0.590     0.440   0.135        0.9660          0.4390          0.2145   \n",
       "4174   0.600     0.475   0.205        1.1760          0.5255          0.2875   \n",
       "4175   0.625     0.485   0.150        1.0945          0.5310          0.2610   \n",
       "4176   0.710     0.555   0.195        1.9485          0.9455          0.3765   \n",
       "\n",
       "      Shell_weight Rings_binned  \n",
       "0           0.1500          Old  \n",
       "1           0.0700        Young  \n",
       "2           0.2100  Middle-aged  \n",
       "3           0.1550  Middle-aged  \n",
       "4           0.0550        Young  \n",
       "...            ...          ...  \n",
       "4172        0.2490  Middle-aged  \n",
       "4173        0.2605  Middle-aged  \n",
       "4174        0.3080  Middle-aged  \n",
       "4175        0.2960  Middle-aged  \n",
       "4176        0.4950          Old  \n",
       "\n",
       "[4175 rows x 8 columns]"
      ]
     },
     "execution_count": 38,
     "metadata": {},
     "output_type": "execute_result"
    }
   ],
   "source": [
    "# 분류 문제로 적용하기 위해서 Rings 제거\n",
    "X = df.drop('Rings', axis=1)\n",
    "X"
   ]
  },
  {
   "cell_type": "code",
   "execution_count": 39,
   "id": "d0d382cf-038c-47bd-848a-8476c4b1ed6b",
   "metadata": {},
   "outputs": [
    {
     "data": {
      "text/plain": [
       "0               Old\n",
       "1             Young\n",
       "2       Middle-aged\n",
       "3       Middle-aged\n",
       "4             Young\n",
       "           ...     \n",
       "4172    Middle-aged\n",
       "4173    Middle-aged\n",
       "4174    Middle-aged\n",
       "4175    Middle-aged\n",
       "4176            Old\n",
       "Name: Rings_binned, Length: 4175, dtype: category\n",
       "Categories (3, object): ['Young' < 'Middle-aged' < 'Old']"
      ]
     },
     "execution_count": 39,
     "metadata": {},
     "output_type": "execute_result"
    }
   ],
   "source": [
    "y = X['Rings_binned']\n",
    "y"
   ]
  },
  {
   "cell_type": "code",
   "execution_count": 40,
   "id": "67c120f1-fcce-4c3e-8a7b-866dbf5ffeef",
   "metadata": {},
   "outputs": [
    {
     "data": {
      "text/html": [
       "<div>\n",
       "<style scoped>\n",
       "    .dataframe tbody tr th:only-of-type {\n",
       "        vertical-align: middle;\n",
       "    }\n",
       "\n",
       "    .dataframe tbody tr th {\n",
       "        vertical-align: top;\n",
       "    }\n",
       "\n",
       "    .dataframe thead th {\n",
       "        text-align: right;\n",
       "    }\n",
       "</style>\n",
       "<table border=\"1\" class=\"dataframe\">\n",
       "  <thead>\n",
       "    <tr style=\"text-align: right;\">\n",
       "      <th></th>\n",
       "      <th>Length</th>\n",
       "      <th>Diameter</th>\n",
       "      <th>Height</th>\n",
       "      <th>Whole_weight</th>\n",
       "      <th>Shucked_weight</th>\n",
       "      <th>Viscera_weight</th>\n",
       "      <th>Shell_weight</th>\n",
       "    </tr>\n",
       "  </thead>\n",
       "  <tbody>\n",
       "    <tr>\n",
       "      <th>0</th>\n",
       "      <td>0.455</td>\n",
       "      <td>0.365</td>\n",
       "      <td>0.095</td>\n",
       "      <td>0.5140</td>\n",
       "      <td>0.2245</td>\n",
       "      <td>0.1010</td>\n",
       "      <td>0.1500</td>\n",
       "    </tr>\n",
       "    <tr>\n",
       "      <th>1</th>\n",
       "      <td>0.350</td>\n",
       "      <td>0.265</td>\n",
       "      <td>0.090</td>\n",
       "      <td>0.2255</td>\n",
       "      <td>0.0995</td>\n",
       "      <td>0.0485</td>\n",
       "      <td>0.0700</td>\n",
       "    </tr>\n",
       "    <tr>\n",
       "      <th>2</th>\n",
       "      <td>0.530</td>\n",
       "      <td>0.420</td>\n",
       "      <td>0.135</td>\n",
       "      <td>0.6770</td>\n",
       "      <td>0.2565</td>\n",
       "      <td>0.1415</td>\n",
       "      <td>0.2100</td>\n",
       "    </tr>\n",
       "    <tr>\n",
       "      <th>3</th>\n",
       "      <td>0.440</td>\n",
       "      <td>0.365</td>\n",
       "      <td>0.125</td>\n",
       "      <td>0.5160</td>\n",
       "      <td>0.2155</td>\n",
       "      <td>0.1140</td>\n",
       "      <td>0.1550</td>\n",
       "    </tr>\n",
       "    <tr>\n",
       "      <th>4</th>\n",
       "      <td>0.330</td>\n",
       "      <td>0.255</td>\n",
       "      <td>0.080</td>\n",
       "      <td>0.2050</td>\n",
       "      <td>0.0895</td>\n",
       "      <td>0.0395</td>\n",
       "      <td>0.0550</td>\n",
       "    </tr>\n",
       "    <tr>\n",
       "      <th>...</th>\n",
       "      <td>...</td>\n",
       "      <td>...</td>\n",
       "      <td>...</td>\n",
       "      <td>...</td>\n",
       "      <td>...</td>\n",
       "      <td>...</td>\n",
       "      <td>...</td>\n",
       "    </tr>\n",
       "    <tr>\n",
       "      <th>4172</th>\n",
       "      <td>0.565</td>\n",
       "      <td>0.450</td>\n",
       "      <td>0.165</td>\n",
       "      <td>0.8870</td>\n",
       "      <td>0.3700</td>\n",
       "      <td>0.2390</td>\n",
       "      <td>0.2490</td>\n",
       "    </tr>\n",
       "    <tr>\n",
       "      <th>4173</th>\n",
       "      <td>0.590</td>\n",
       "      <td>0.440</td>\n",
       "      <td>0.135</td>\n",
       "      <td>0.9660</td>\n",
       "      <td>0.4390</td>\n",
       "      <td>0.2145</td>\n",
       "      <td>0.2605</td>\n",
       "    </tr>\n",
       "    <tr>\n",
       "      <th>4174</th>\n",
       "      <td>0.600</td>\n",
       "      <td>0.475</td>\n",
       "      <td>0.205</td>\n",
       "      <td>1.1760</td>\n",
       "      <td>0.5255</td>\n",
       "      <td>0.2875</td>\n",
       "      <td>0.3080</td>\n",
       "    </tr>\n",
       "    <tr>\n",
       "      <th>4175</th>\n",
       "      <td>0.625</td>\n",
       "      <td>0.485</td>\n",
       "      <td>0.150</td>\n",
       "      <td>1.0945</td>\n",
       "      <td>0.5310</td>\n",
       "      <td>0.2610</td>\n",
       "      <td>0.2960</td>\n",
       "    </tr>\n",
       "    <tr>\n",
       "      <th>4176</th>\n",
       "      <td>0.710</td>\n",
       "      <td>0.555</td>\n",
       "      <td>0.195</td>\n",
       "      <td>1.9485</td>\n",
       "      <td>0.9455</td>\n",
       "      <td>0.3765</td>\n",
       "      <td>0.4950</td>\n",
       "    </tr>\n",
       "  </tbody>\n",
       "</table>\n",
       "<p>4175 rows × 7 columns</p>\n",
       "</div>"
      ],
      "text/plain": [
       "      Length  Diameter  Height  Whole_weight  Shucked_weight  Viscera_weight  \\\n",
       "0      0.455     0.365   0.095        0.5140          0.2245          0.1010   \n",
       "1      0.350     0.265   0.090        0.2255          0.0995          0.0485   \n",
       "2      0.530     0.420   0.135        0.6770          0.2565          0.1415   \n",
       "3      0.440     0.365   0.125        0.5160          0.2155          0.1140   \n",
       "4      0.330     0.255   0.080        0.2050          0.0895          0.0395   \n",
       "...      ...       ...     ...           ...             ...             ...   \n",
       "4172   0.565     0.450   0.165        0.8870          0.3700          0.2390   \n",
       "4173   0.590     0.440   0.135        0.9660          0.4390          0.2145   \n",
       "4174   0.600     0.475   0.205        1.1760          0.5255          0.2875   \n",
       "4175   0.625     0.485   0.150        1.0945          0.5310          0.2610   \n",
       "4176   0.710     0.555   0.195        1.9485          0.9455          0.3765   \n",
       "\n",
       "      Shell_weight  \n",
       "0           0.1500  \n",
       "1           0.0700  \n",
       "2           0.2100  \n",
       "3           0.1550  \n",
       "4           0.0550  \n",
       "...            ...  \n",
       "4172        0.2490  \n",
       "4173        0.2605  \n",
       "4174        0.3080  \n",
       "4175        0.2960  \n",
       "4176        0.4950  \n",
       "\n",
       "[4175 rows x 7 columns]"
      ]
     },
     "execution_count": 40,
     "metadata": {},
     "output_type": "execute_result"
    }
   ],
   "source": [
    "X = X.drop('Rings_binned', axis=1)\n",
    "X"
   ]
  },
  {
   "cell_type": "code",
   "execution_count": 41,
   "id": "eeb1aab0-25ae-4fae-aea9-65a69d999a0a",
   "metadata": {},
   "outputs": [
    {
     "data": {
      "text/plain": [
       "((2672, 7), (835, 7), (2672,), (835,), (668, 7), (668,))"
      ]
     },
     "execution_count": 41,
     "metadata": {},
     "output_type": "execute_result"
    }
   ],
   "source": [
    "from sklearn.model_selection import train_test_split\n",
    "\n",
    "X_train, X_test, y_train, y_test = train_test_split(X, y, test_size=0.2, stratify=y, random_state=32)\n",
    "\n",
    "X_train, X_val, y_train, y_val = train_test_split(X_train, y_train, test_size=0.2, stratify=y_train, random_state=32)\n",
    "\n",
    "X_train.shape, X_test.shape, y_train.shape, y_test.shape, X_val.shape, y_val.shape"
   ]
  },
  {
   "cell_type": "code",
   "execution_count": 42,
   "id": "21f77e0f-1423-4c3e-9956-717418e913e8",
   "metadata": {},
   "outputs": [],
   "source": [
    "from imblearn.over_sampling import SMOTE\n",
    "\n",
    "# SMOTE 적용\n",
    "smote = SMOTE(random_state=42)\n",
    "X_train_resampled, y_train_resampled = smote.fit_resample(X_train, y_train)"
   ]
  },
  {
   "cell_type": "code",
   "execution_count": 43,
   "id": "cae3763d-213f-4142-b271-61afa9908477",
   "metadata": {},
   "outputs": [
    {
     "name": "stdout",
     "output_type": "stream",
     "text": [
      "원래 데이터셋 크기: (2672, 7)\n",
      "오버샘플링된 데이터셋 크기: (3477, 7)\n"
     ]
    }
   ],
   "source": [
    "# 결과 확인\n",
    "print(\"원래 데이터셋 크기:\", X_train.shape)\n",
    "print(\"오버샘플링된 데이터셋 크기:\", X_train_resampled.shape)"
   ]
  },
  {
   "cell_type": "code",
   "execution_count": 44,
   "id": "b1148827-ba6f-4246-a2a1-fad998aa8104",
   "metadata": {},
   "outputs": [
    {
     "name": "stdout",
     "output_type": "stream",
     "text": [
      "오버샘플링 전 클래스 분포:\n",
      " Rings_binned\n",
      "Middle-aged    1159\n",
      "Young           899\n",
      "Old             614\n",
      "Name: count, dtype: int64\n",
      "오버샘플링 후 클래스 분포:\n",
      " Rings_binned\n",
      "Young          1159\n",
      "Middle-aged    1159\n",
      "Old            1159\n",
      "Name: count, dtype: int64\n"
     ]
    }
   ],
   "source": [
    "# 클래스 분포 확인\n",
    "print(\"오버샘플링 전 클래스 분포:\\n\", y_train.value_counts())\n",
    "print(\"오버샘플링 후 클래스 분포:\\n\", y_train_resampled.value_counts())"
   ]
  },
  {
   "cell_type": "code",
   "execution_count": 45,
   "id": "1f986e54-7513-4a2b-b26c-a4e928167f64",
   "metadata": {},
   "outputs": [
    {
     "name": "stderr",
     "output_type": "stream",
     "text": [
      "C:\\Users\\yc_hur\\AppData\\Local\\Temp\\ipykernel_21088\\1542653737.py:5: FutureWarning: \n",
      "\n",
      "Passing `palette` without assigning `hue` is deprecated and will be removed in v0.14.0. Assign the `x` variable to `hue` and set `legend=False` for the same effect.\n",
      "\n",
      "  sns.barplot(x=class_distribution.index, y=class_distribution.values, palette=[\"#1f77b4\", \"#ff7f0e\", \"#2ca02c\"], legend=False)\n"
     ]
    },
    {
     "data": {
      "image/png": "[encoded data removed]",
      "text/plain": [
       "<Figure size 640x480 with 1 Axes>"
      ]
     },
     "metadata": {},
     "output_type": "display_data"
    }
   ],
   "source": [
    "# 오버샘플링된 클래스 분포를 시리즈로 만듦\n",
    "class_distribution = y_train_resampled.value_counts()\n",
    "\n",
    "# 시각화\n",
    "sns.barplot(x=class_distribution.index, y=class_distribution.values, palette=[\"#1f77b4\", \"#ff7f0e\", \"#2ca02c\"], legend=False)\n",
    "\n",
    "# 그래프 설정\n",
    "plt.xlabel('Class (Rings_binned)')\n",
    "plt.ylabel('Count')\n",
    "plt.title('Class Distribution after SMOTE Oversampling')\n",
    "\n",
    "# 그래프 출력\n",
    "plt.show()"
   ]
  },
  {
   "cell_type": "code",
   "execution_count": 46,
   "id": "d9fa2f93-104f-470c-a379-bff79a56a5cf",
   "metadata": {},
   "outputs": [],
   "source": [
    "# 표준화 StandardScaler \n",
    "from sklearn.preprocessing import StandardScaler\n",
    "\n",
    "ss = StandardScaler()\n",
    "ss.fit(X_train_resampled)\n",
    "train_scaled = ss.transform(X_train_resampled)\n",
    "val_scaled = ss.transform(X_val)\n",
    "test_scaled = ss.transform(X_test)"
   ]
  },
  {
   "cell_type": "code",
   "execution_count": 47,
   "id": "1c88439d-a099-4deb-bebb-8193fb9eadad",
   "metadata": {},
   "outputs": [],
   "source": [
    "label_encoder = LabelEncoder()\n",
    "y_train_encoded = label_encoder.fit_transform(y_train_resampled) \n",
    "y_val_encoded = label_encoder.transform(y_val) \n",
    "y_test_encoded = label_encoder.transform(y_test)"
   ]
  },
  {
   "cell_type": "code",
   "execution_count": 48,
   "id": "49d0474e-960c-4286-aac4-f7038b5da09d",
   "metadata": {},
   "outputs": [],
   "source": [
    "from tensorflow.keras.utils import to_categorical\n",
    "\n",
    "trainy_one_hot = to_categorical(y_train_encoded)\n",
    "val_one_hot = to_categorical(y_val_encoded)\n",
    "testy_one_hot = to_categorical(y_test_encoded)"
   ]
  },
  {
   "cell_type": "code",
   "execution_count": 49,
   "id": "70edf5fe-3e57-47ca-ba4b-844776bb3add",
   "metadata": {},
   "outputs": [
    {
     "name": "stdout",
     "output_type": "stream",
     "text": [
      "Model: \"sequential_2\"\n",
      "_________________________________________________________________\n",
      " Layer (type)                Output Shape              Param #   \n",
      "=================================================================\n",
      " dense_6 (Dense)             (None, 8)                 64        \n",
      "                                                                 \n",
      " dense_7 (Dense)             (None, 12)                108       \n",
      "                                                                 \n",
      " dense_8 (Dense)             (None, 16)                208       \n",
      "                                                                 \n",
      " dense_9 (Dense)             (None, 12)                204       \n",
      "                                                                 \n",
      " dense_10 (Dense)            (None, 3)                 39        \n",
      "                                                                 \n",
      "=================================================================\n",
      "Total params: 623\n",
      "Trainable params: 623\n",
      "Non-trainable params: 0\n",
      "_________________________________________________________________\n"
     ]
    }
   ],
   "source": [
    "from tensorflow.keras.layers import Dense, Flatten, Dropout, BatchNormalization\n",
    "from tensorflow.keras.models import Sequential\n",
    "\n",
    "model = Sequential()\n",
    "model.add(Dense(8, activation='relu', input_shape=(7,)))\n",
    "model.add(Dense(12, activation='relu'))\n",
    "model.add(Dense(16, activation='relu'))\n",
    "model.add(Dense(12, activation='relu'))\n",
    "\n",
    "model.add(Dense(3, activation='softmax'))\n",
    "model.compile(loss='categorical_crossentropy', optimizer='adam', metrics=['accuracy'])\n",
    "model.summary()"
   ]
  },
  {
   "cell_type": "code",
   "execution_count": 50,
   "id": "63061082-9243-4e97-9f13-7c68e663c423",
   "metadata": {},
   "outputs": [
    {
     "name": "stdout",
     "output_type": "stream",
     "text": [
      "Epoch 1/50\n",
      "218/218 [==============================] - 1s 3ms/step - loss: 0.9407 - accuracy: 0.5234 - val_loss: 0.8661 - val_accuracy: 0.5314\n",
      "Epoch 2/50\n",
      "218/218 [==============================] - 1s 2ms/step - loss: 0.8108 - accuracy: 0.5861 - val_loss: 0.8586 - val_accuracy: 0.5913\n",
      "Epoch 3/50\n",
      "218/218 [==============================] - 1s 2ms/step - loss: 0.7722 - accuracy: 0.6431 - val_loss: 0.8161 - val_accuracy: 0.6452\n",
      "Epoch 4/50\n",
      "218/218 [==============================] - 1s 2ms/step - loss: 0.7469 - accuracy: 0.6595 - val_loss: 0.8052 - val_accuracy: 0.6527\n",
      "Epoch 5/50\n",
      "218/218 [==============================] - 1s 2ms/step - loss: 0.7246 - accuracy: 0.6701 - val_loss: 0.8056 - val_accuracy: 0.6437\n",
      "Epoch 6/50\n",
      "218/218 [==============================] - 1s 3ms/step - loss: 0.7156 - accuracy: 0.6655 - val_loss: 0.8024 - val_accuracy: 0.6437\n",
      "Epoch 7/50\n",
      "218/218 [==============================] - 1s 2ms/step - loss: 0.7097 - accuracy: 0.6744 - val_loss: 0.7919 - val_accuracy: 0.6527\n",
      "Epoch 8/50\n",
      "218/218 [==============================] - 1s 3ms/step - loss: 0.7060 - accuracy: 0.6672 - val_loss: 0.7845 - val_accuracy: 0.6617\n",
      "Epoch 9/50\n",
      "218/218 [==============================] - 1s 2ms/step - loss: 0.7032 - accuracy: 0.6779 - val_loss: 0.8049 - val_accuracy: 0.6362\n",
      "Epoch 10/50\n",
      "218/218 [==============================] - 1s 2ms/step - loss: 0.6983 - accuracy: 0.6759 - val_loss: 0.8014 - val_accuracy: 0.6482\n",
      "Epoch 11/50\n",
      "218/218 [==============================] - 0s 2ms/step - loss: 0.6971 - accuracy: 0.6779 - val_loss: 0.7740 - val_accuracy: 0.6692\n",
      "Epoch 12/50\n",
      "218/218 [==============================] - 1s 2ms/step - loss: 0.6920 - accuracy: 0.6759 - val_loss: 0.7996 - val_accuracy: 0.6452\n",
      "Epoch 13/50\n",
      "218/218 [==============================] - 1s 3ms/step - loss: 0.6901 - accuracy: 0.6785 - val_loss: 0.7974 - val_accuracy: 0.6542\n",
      "Epoch 14/50\n",
      "218/218 [==============================] - 1s 2ms/step - loss: 0.6905 - accuracy: 0.6753 - val_loss: 0.7770 - val_accuracy: 0.6692\n",
      "Epoch 15/50\n",
      "218/218 [==============================] - 1s 2ms/step - loss: 0.6859 - accuracy: 0.6862 - val_loss: 0.7741 - val_accuracy: 0.6677\n",
      "Epoch 16/50\n",
      "218/218 [==============================] - 1s 2ms/step - loss: 0.6871 - accuracy: 0.6753 - val_loss: 0.7836 - val_accuracy: 0.6617\n",
      "Epoch 17/50\n",
      "218/218 [==============================] - 1s 2ms/step - loss: 0.6830 - accuracy: 0.6796 - val_loss: 0.7884 - val_accuracy: 0.6527\n",
      "Epoch 18/50\n",
      "218/218 [==============================] - 1s 3ms/step - loss: 0.6842 - accuracy: 0.6776 - val_loss: 0.7696 - val_accuracy: 0.6751\n",
      "Epoch 19/50\n",
      "218/218 [==============================] - 1s 2ms/step - loss: 0.6806 - accuracy: 0.6785 - val_loss: 0.7849 - val_accuracy: 0.6647\n",
      "Epoch 20/50\n",
      "218/218 [==============================] - 1s 3ms/step - loss: 0.6804 - accuracy: 0.6836 - val_loss: 0.8054 - val_accuracy: 0.6467\n",
      "Epoch 21/50\n",
      "218/218 [==============================] - 1s 2ms/step - loss: 0.6814 - accuracy: 0.6787 - val_loss: 0.7664 - val_accuracy: 0.6737\n",
      "Epoch 22/50\n",
      "218/218 [==============================] - 1s 2ms/step - loss: 0.6793 - accuracy: 0.6854 - val_loss: 0.7779 - val_accuracy: 0.6602\n",
      "Epoch 23/50\n",
      "218/218 [==============================] - 1s 2ms/step - loss: 0.6783 - accuracy: 0.6851 - val_loss: 0.7783 - val_accuracy: 0.6662\n",
      "Epoch 24/50\n",
      "218/218 [==============================] - 1s 2ms/step - loss: 0.6757 - accuracy: 0.6888 - val_loss: 0.7653 - val_accuracy: 0.6692\n",
      "Epoch 25/50\n",
      "218/218 [==============================] - 1s 2ms/step - loss: 0.6765 - accuracy: 0.6897 - val_loss: 0.7796 - val_accuracy: 0.6692\n",
      "Epoch 26/50\n",
      "218/218 [==============================] - 1s 2ms/step - loss: 0.6733 - accuracy: 0.6877 - val_loss: 0.7720 - val_accuracy: 0.6617\n",
      "Epoch 27/50\n",
      "218/218 [==============================] - 1s 3ms/step - loss: 0.6727 - accuracy: 0.6845 - val_loss: 0.7830 - val_accuracy: 0.6647\n",
      "Epoch 28/50\n",
      "218/218 [==============================] - 1s 2ms/step - loss: 0.6750 - accuracy: 0.6851 - val_loss: 0.7652 - val_accuracy: 0.6647\n",
      "Epoch 29/50\n",
      "218/218 [==============================] - 1s 3ms/step - loss: 0.6697 - accuracy: 0.6874 - val_loss: 0.7753 - val_accuracy: 0.6632\n",
      "Epoch 30/50\n",
      "218/218 [==============================] - 1s 2ms/step - loss: 0.6702 - accuracy: 0.6908 - val_loss: 0.7744 - val_accuracy: 0.6632\n",
      "Epoch 31/50\n",
      "218/218 [==============================] - 1s 2ms/step - loss: 0.6714 - accuracy: 0.6851 - val_loss: 0.7665 - val_accuracy: 0.6647\n",
      "Epoch 32/50\n",
      "218/218 [==============================] - 1s 2ms/step - loss: 0.6706 - accuracy: 0.6903 - val_loss: 0.7617 - val_accuracy: 0.6781\n",
      "Epoch 33/50\n",
      "218/218 [==============================] - 1s 3ms/step - loss: 0.6686 - accuracy: 0.6885 - val_loss: 0.7623 - val_accuracy: 0.6707\n",
      "Epoch 34/50\n",
      "218/218 [==============================] - 1s 3ms/step - loss: 0.6659 - accuracy: 0.6868 - val_loss: 0.7719 - val_accuracy: 0.6707\n",
      "Epoch 35/50\n",
      "218/218 [==============================] - 1s 2ms/step - loss: 0.6657 - accuracy: 0.6920 - val_loss: 0.7881 - val_accuracy: 0.6662\n",
      "Epoch 36/50\n",
      "218/218 [==============================] - 1s 2ms/step - loss: 0.6674 - accuracy: 0.6920 - val_loss: 0.7760 - val_accuracy: 0.6677\n",
      "Epoch 37/50\n",
      "218/218 [==============================] - 0s 2ms/step - loss: 0.6625 - accuracy: 0.6926 - val_loss: 0.7697 - val_accuracy: 0.6617\n",
      "Epoch 38/50\n",
      "218/218 [==============================] - 0s 2ms/step - loss: 0.6622 - accuracy: 0.6917 - val_loss: 0.8016 - val_accuracy: 0.6572\n",
      "Epoch 39/50\n",
      "218/218 [==============================] - 0s 2ms/step - loss: 0.6636 - accuracy: 0.6934 - val_loss: 0.7701 - val_accuracy: 0.6587\n",
      "Epoch 40/50\n",
      "218/218 [==============================] - 0s 2ms/step - loss: 0.6640 - accuracy: 0.6914 - val_loss: 0.7580 - val_accuracy: 0.6737\n",
      "Epoch 41/50\n",
      "218/218 [==============================] - 1s 2ms/step - loss: 0.6609 - accuracy: 0.6943 - val_loss: 0.7698 - val_accuracy: 0.6632\n",
      "Epoch 42/50\n",
      "218/218 [==============================] - 0s 2ms/step - loss: 0.6626 - accuracy: 0.6966 - val_loss: 0.7823 - val_accuracy: 0.6617\n",
      "Epoch 43/50\n",
      "218/218 [==============================] - 0s 2ms/step - loss: 0.6627 - accuracy: 0.6940 - val_loss: 0.7615 - val_accuracy: 0.6766\n",
      "Epoch 44/50\n",
      "218/218 [==============================] - 1s 2ms/step - loss: 0.6629 - accuracy: 0.6937 - val_loss: 0.7714 - val_accuracy: 0.6662\n",
      "Epoch 45/50\n",
      "218/218 [==============================] - 0s 2ms/step - loss: 0.6632 - accuracy: 0.6943 - val_loss: 0.7580 - val_accuracy: 0.6647\n",
      "Epoch 46/50\n",
      "218/218 [==============================] - 0s 2ms/step - loss: 0.6594 - accuracy: 0.6957 - val_loss: 0.7753 - val_accuracy: 0.6632\n",
      "Epoch 47/50\n",
      "218/218 [==============================] - 0s 2ms/step - loss: 0.6586 - accuracy: 0.6926 - val_loss: 0.8024 - val_accuracy: 0.6542\n",
      "Epoch 48/50\n",
      "218/218 [==============================] - 0s 2ms/step - loss: 0.6595 - accuracy: 0.6943 - val_loss: 0.7659 - val_accuracy: 0.6722\n",
      "Epoch 49/50\n",
      "218/218 [==============================] - 1s 3ms/step - loss: 0.6569 - accuracy: 0.6997 - val_loss: 0.7549 - val_accuracy: 0.6826\n",
      "Epoch 50/50\n",
      "218/218 [==============================] - 0s 2ms/step - loss: 0.6565 - accuracy: 0.6946 - val_loss: 0.7521 - val_accuracy: 0.6722\n"
     ]
    }
   ],
   "source": [
    "batch_size = 16\n",
    "\n",
    "train_epochs = 50\n",
    "history = model.fit(train_scaled, trainy_one_hot, epochs=train_epochs, batch_size=batch_size, validation_data=(val_scaled, val_one_hot), verbose=True, shuffle=True)"
   ]
  },
  {
   "cell_type": "code",
   "execution_count": 51,
   "id": "78144b1b-93d1-4ddc-8a67-4da5e279f2ec",
   "metadata": {},
   "outputs": [
    {
     "data": {
      "text/plain": [
       "<matplotlib.legend.Legend at 0x25631175810>"
      ]
     },
     "execution_count": 51,
     "metadata": {},
     "output_type": "execute_result"
    },
    {
     "data": {
      "image/png": "[encoded data removed]",
      "text/plain": [
       "<Figure size 640x480 with 1 Axes>"
      ]
     },
     "metadata": {},
     "output_type": "display_data"
    }
   ],
   "source": [
    "plt.plot(history.history['loss'])\n",
    "plt.plot(history.history['val_loss'])\n",
    "plt.title('model loss')\n",
    "plt.ylabel('loss')\n",
    "plt.xlabel('epoch')\n",
    "plt.legend(['train', 'Validation'], loc='upper left')"
   ]
  },
  {
   "cell_type": "code",
   "execution_count": 52,
   "id": "3a4e6838-0aed-4241-9505-0046d3fe8dbb",
   "metadata": {},
   "outputs": [
    {
     "data": {
      "text/plain": [
       "<matplotlib.legend.Legend at 0x25631357850>"
      ]
     },
     "execution_count": 52,
     "metadata": {},
     "output_type": "execute_result"
    },
    {
     "data": {
      "image/png": "[encoded data removed]",
      "text/plain": [
       "<Figure size 640x480 with 1 Axes>"
      ]
     },
     "metadata": {},
     "output_type": "display_data"
    }
   ],
   "source": [
    "plt.plot(history.history['accuracy'])\n",
    "plt.plot(history.history['val_accuracy'])\n",
    "plt.title('Training and validation accuracy')\n",
    "plt.ylabel('accuracy')\n",
    "plt.xlabel('epoch')\n",
    "plt.legend(['train', 'Validation'], loc='upper left')"
   ]
  },
  {
   "cell_type": "code",
   "execution_count": 53,
   "id": "08f2682a-f37f-4b7b-b52b-632a8f8314f3",
   "metadata": {},
   "outputs": [
    {
     "name": "stdout",
     "output_type": "stream",
     "text": [
      "27/27 [==============================] - 0s 688us/step\n",
      "[[211  77  74]\n",
      " [ 56 129   7]\n",
      " [ 44  17 220]]\n",
      "0.6706586826347305\n",
      "0.6692135530250716\n",
      "              precision    recall  f1-score   support\n",
      "\n",
      "           0       0.68      0.58      0.63       362\n",
      "           1       0.58      0.67      0.62       192\n",
      "           2       0.73      0.78      0.76       281\n",
      "\n",
      "    accuracy                           0.67       835\n",
      "   macro avg       0.66      0.68      0.67       835\n",
      "weighted avg       0.67      0.67      0.67       835\n",
      "\n"
     ]
    },
    {
     "data": {
      "text/plain": [
       "<Axes: >"
      ]
     },
     "execution_count": 53,
     "metadata": {},
     "output_type": "execute_result"
    },
    {
     "data": {
      "image/png": "[encoded data removed]",
      "text/plain": [
       "<Figure size 640x480 with 2 Axes>"
      ]
     },
     "metadata": {},
     "output_type": "display_data"
    }
   ],
   "source": [
    "from sklearn.metrics import confusion_matrix,classification_report,accuracy_score\n",
    "\n",
    "predy=model.predict(test_scaled)\n",
    "predy=np.argmax(predy, axis=-1)\n",
    "LABELS = ['Young', 'Middle-aged', 'Old']\n",
    "cm=confusion_matrix(y_test_encoded,predy)\n",
    "print(cm)\n",
    "print(accuracy_score(y_test_encoded,predy))\n",
    "print(f1_score(y_test_encoded,predy, average='weighted'))\n",
    "print(classification_report(y_test_encoded,predy))\n",
    "sns.heatmap(cm, cmap=\"YlGnBu\", xticklabels=LABELS, yticklabels=LABELS, annot=True, fmt = '.2f')"
   ]
  },
  {
   "cell_type": "code",
   "execution_count": null,
   "id": "29ee2e40-0aeb-4398-a420-4b139e209b63",
   "metadata": {},
   "outputs": [],
   "source": []
  }
 ],
 "metadata": {
  "kernelspec": {
   "display_name": "Python 3 (ipykernel)",
   "language": "python",
   "name": "python3"
  },
  "language_info": {
   "codemirror_mode": {
    "name": "ipython",
    "version": 3
   },
   "file_extension": ".py",
   "mimetype": "text/x-python",
   "name": "python",
   "nbconvert_exporter": "python",
   "pygments_lexer": "ipython3",
   "version": "3.10.13"
  }
 },
 "nbformat": 4,
 "nbformat_minor": 5
}
