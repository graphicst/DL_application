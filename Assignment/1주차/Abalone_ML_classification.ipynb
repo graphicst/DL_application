{
 "cells": [
  {
   "cell_type": "code",
   "execution_count": 1,
   "id": "c724f03d-0811-426c-8e28-7f9e3d33160f",
   "metadata": {},
   "outputs": [],
   "source": [
    "import numpy as np\n",
    "import pandas as pd\n",
    "import matplotlib.pyplot as plt\n",
    "import seaborn as sns\n",
    "from sklearn.metrics import f1_score, classification_report"
   ]
  },
  {
   "cell_type": "code",
   "execution_count": 2,
   "id": "2e806824-83de-43dc-9b0a-6082cbede0a6",
   "metadata": {},
   "outputs": [
    {
     "data": {
      "text/html": [
       "<div>\n",
       "<style scoped>\n",
       "    .dataframe tbody tr th:only-of-type {\n",
       "        vertical-align: middle;\n",
       "    }\n",
       "\n",
       "    .dataframe tbody tr th {\n",
       "        vertical-align: top;\n",
       "    }\n",
       "\n",
       "    .dataframe thead th {\n",
       "        text-align: right;\n",
       "    }\n",
       "</style>\n",
       "<table border=\"1\" class=\"dataframe\">\n",
       "  <thead>\n",
       "    <tr style=\"text-align: right;\">\n",
       "      <th></th>\n",
       "      <th>id</th>\n",
       "      <th>Sex</th>\n",
       "      <th>Length</th>\n",
       "      <th>Diameter</th>\n",
       "      <th>Height</th>\n",
       "      <th>Whole_weight</th>\n",
       "      <th>Shucked_weight</th>\n",
       "      <th>Viscera_weight</th>\n",
       "      <th>Shell_weight</th>\n",
       "      <th>Rings</th>\n",
       "    </tr>\n",
       "  </thead>\n",
       "  <tbody>\n",
       "    <tr>\n",
       "      <th>0</th>\n",
       "      <td>0</td>\n",
       "      <td>M</td>\n",
       "      <td>0.455</td>\n",
       "      <td>0.365</td>\n",
       "      <td>0.095</td>\n",
       "      <td>0.5140</td>\n",
       "      <td>0.2245</td>\n",
       "      <td>0.1010</td>\n",
       "      <td>0.1500</td>\n",
       "      <td>15</td>\n",
       "    </tr>\n",
       "    <tr>\n",
       "      <th>1</th>\n",
       "      <td>1</td>\n",
       "      <td>M</td>\n",
       "      <td>0.350</td>\n",
       "      <td>0.265</td>\n",
       "      <td>0.090</td>\n",
       "      <td>0.2255</td>\n",
       "      <td>0.0995</td>\n",
       "      <td>0.0485</td>\n",
       "      <td>0.0700</td>\n",
       "      <td>7</td>\n",
       "    </tr>\n",
       "    <tr>\n",
       "      <th>2</th>\n",
       "      <td>2</td>\n",
       "      <td>F</td>\n",
       "      <td>0.530</td>\n",
       "      <td>0.420</td>\n",
       "      <td>0.135</td>\n",
       "      <td>0.6770</td>\n",
       "      <td>0.2565</td>\n",
       "      <td>0.1415</td>\n",
       "      <td>0.2100</td>\n",
       "      <td>9</td>\n",
       "    </tr>\n",
       "    <tr>\n",
       "      <th>3</th>\n",
       "      <td>3</td>\n",
       "      <td>M</td>\n",
       "      <td>0.440</td>\n",
       "      <td>0.365</td>\n",
       "      <td>0.125</td>\n",
       "      <td>0.5160</td>\n",
       "      <td>0.2155</td>\n",
       "      <td>0.1140</td>\n",
       "      <td>0.1550</td>\n",
       "      <td>10</td>\n",
       "    </tr>\n",
       "    <tr>\n",
       "      <th>4</th>\n",
       "      <td>4</td>\n",
       "      <td>I</td>\n",
       "      <td>0.330</td>\n",
       "      <td>0.255</td>\n",
       "      <td>0.080</td>\n",
       "      <td>0.2050</td>\n",
       "      <td>0.0895</td>\n",
       "      <td>0.0395</td>\n",
       "      <td>0.0550</td>\n",
       "      <td>7</td>\n",
       "    </tr>\n",
       "    <tr>\n",
       "      <th>...</th>\n",
       "      <td>...</td>\n",
       "      <td>...</td>\n",
       "      <td>...</td>\n",
       "      <td>...</td>\n",
       "      <td>...</td>\n",
       "      <td>...</td>\n",
       "      <td>...</td>\n",
       "      <td>...</td>\n",
       "      <td>...</td>\n",
       "      <td>...</td>\n",
       "    </tr>\n",
       "    <tr>\n",
       "      <th>4172</th>\n",
       "      <td>4172</td>\n",
       "      <td>F</td>\n",
       "      <td>0.565</td>\n",
       "      <td>0.450</td>\n",
       "      <td>0.165</td>\n",
       "      <td>0.8870</td>\n",
       "      <td>0.3700</td>\n",
       "      <td>0.2390</td>\n",
       "      <td>0.2490</td>\n",
       "      <td>11</td>\n",
       "    </tr>\n",
       "    <tr>\n",
       "      <th>4173</th>\n",
       "      <td>4173</td>\n",
       "      <td>M</td>\n",
       "      <td>0.590</td>\n",
       "      <td>0.440</td>\n",
       "      <td>0.135</td>\n",
       "      <td>0.9660</td>\n",
       "      <td>0.4390</td>\n",
       "      <td>0.2145</td>\n",
       "      <td>0.2605</td>\n",
       "      <td>10</td>\n",
       "    </tr>\n",
       "    <tr>\n",
       "      <th>4174</th>\n",
       "      <td>4174</td>\n",
       "      <td>M</td>\n",
       "      <td>0.600</td>\n",
       "      <td>0.475</td>\n",
       "      <td>0.205</td>\n",
       "      <td>1.1760</td>\n",
       "      <td>0.5255</td>\n",
       "      <td>0.2875</td>\n",
       "      <td>0.3080</td>\n",
       "      <td>9</td>\n",
       "    </tr>\n",
       "    <tr>\n",
       "      <th>4175</th>\n",
       "      <td>4175</td>\n",
       "      <td>F</td>\n",
       "      <td>0.625</td>\n",
       "      <td>0.485</td>\n",
       "      <td>0.150</td>\n",
       "      <td>1.0945</td>\n",
       "      <td>0.5310</td>\n",
       "      <td>0.2610</td>\n",
       "      <td>0.2960</td>\n",
       "      <td>10</td>\n",
       "    </tr>\n",
       "    <tr>\n",
       "      <th>4176</th>\n",
       "      <td>4176</td>\n",
       "      <td>M</td>\n",
       "      <td>0.710</td>\n",
       "      <td>0.555</td>\n",
       "      <td>0.195</td>\n",
       "      <td>1.9485</td>\n",
       "      <td>0.9455</td>\n",
       "      <td>0.3765</td>\n",
       "      <td>0.4950</td>\n",
       "      <td>12</td>\n",
       "    </tr>\n",
       "  </tbody>\n",
       "</table>\n",
       "<p>4177 rows × 10 columns</p>\n",
       "</div>"
      ],
      "text/plain": [
       "        id Sex  Length  Diameter  Height  Whole_weight  Shucked_weight  \\\n",
       "0        0   M   0.455     0.365   0.095        0.5140          0.2245   \n",
       "1        1   M   0.350     0.265   0.090        0.2255          0.0995   \n",
       "2        2   F   0.530     0.420   0.135        0.6770          0.2565   \n",
       "3        3   M   0.440     0.365   0.125        0.5160          0.2155   \n",
       "4        4   I   0.330     0.255   0.080        0.2050          0.0895   \n",
       "...    ...  ..     ...       ...     ...           ...             ...   \n",
       "4172  4172   F   0.565     0.450   0.165        0.8870          0.3700   \n",
       "4173  4173   M   0.590     0.440   0.135        0.9660          0.4390   \n",
       "4174  4174   M   0.600     0.475   0.205        1.1760          0.5255   \n",
       "4175  4175   F   0.625     0.485   0.150        1.0945          0.5310   \n",
       "4176  4176   M   0.710     0.555   0.195        1.9485          0.9455   \n",
       "\n",
       "      Viscera_weight  Shell_weight  Rings  \n",
       "0             0.1010        0.1500     15  \n",
       "1             0.0485        0.0700      7  \n",
       "2             0.1415        0.2100      9  \n",
       "3             0.1140        0.1550     10  \n",
       "4             0.0395        0.0550      7  \n",
       "...              ...           ...    ...  \n",
       "4172          0.2390        0.2490     11  \n",
       "4173          0.2145        0.2605     10  \n",
       "4174          0.2875        0.3080      9  \n",
       "4175          0.2610        0.2960     10  \n",
       "4176          0.3765        0.4950     12  \n",
       "\n",
       "[4177 rows x 10 columns]"
      ]
     },
     "execution_count": 2,
     "metadata": {},
     "output_type": "execute_result"
    }
   ],
   "source": [
    "df = pd.read_csv(\"C:/AI_study/abalone.csv\")\n",
    "df"
   ]
  },
  {
   "cell_type": "code",
   "execution_count": 3,
   "id": "395475ae-fab1-47b3-8b4d-c213116446eb",
   "metadata": {},
   "outputs": [
    {
     "name": "stdout",
     "output_type": "stream",
     "text": [
      "<class 'pandas.core.frame.DataFrame'>\n",
      "RangeIndex: 4177 entries, 0 to 4176\n",
      "Data columns (total 10 columns):\n",
      " #   Column          Non-Null Count  Dtype  \n",
      "---  ------          --------------  -----  \n",
      " 0   id              4177 non-null   int64  \n",
      " 1   Sex             4177 non-null   object \n",
      " 2   Length          4177 non-null   float64\n",
      " 3   Diameter        4177 non-null   float64\n",
      " 4   Height          4177 non-null   float64\n",
      " 5   Whole_weight    4177 non-null   float64\n",
      " 6   Shucked_weight  4177 non-null   float64\n",
      " 7   Viscera_weight  4177 non-null   float64\n",
      " 8   Shell_weight    4177 non-null   float64\n",
      " 9   Rings           4177 non-null   int64  \n",
      "dtypes: float64(7), int64(2), object(1)\n",
      "memory usage: 326.5+ KB\n"
     ]
    }
   ],
   "source": [
    "# 데이터 정보 확인\n",
    "df.info()"
   ]
  },
  {
   "cell_type": "code",
   "execution_count": 4,
   "id": "5a9c3dab-25df-439e-8178-a9851d287a1a",
   "metadata": {},
   "outputs": [
    {
     "data": {
      "text/plain": [
       "Sex\n",
       "M    1528\n",
       "I    1342\n",
       "F    1307\n",
       "Name: count, dtype: int64"
      ]
     },
     "execution_count": 4,
     "metadata": {},
     "output_type": "execute_result"
    }
   ],
   "source": [
    "df['Sex'].value_counts()"
   ]
  },
  {
   "cell_type": "markdown",
   "id": "96072c89-9468-47d3-9ddb-c04237884dba",
   "metadata": {},
   "source": [
    "## Features\n",
    "- id: id\n",
    "- Sex: 성별 M(수컷), F(암컷), I(유아기)\n",
    "- Length: 길이(앞에서 뒤까지, mm)\n",
    "- Diameter: 지름(길이에 수직인 방향, mm)\n",
    "- Height: 높이(껍질 포함, mm)\n",
    "- Whole_weight: 전체 무게(껍질 포함, g)\n",
    "- Shucked_weight: 무게(껍질 제거, g)\n",
    "- Viscera_weight: 전복 내장 무게(g)\n",
    "- Shell_weight: 건조 후 껍질 무게(g)\n",
    "- Rings: 나선(전복의 나이 추정, 나이 = Rings + 1.5) - label"
   ]
  },
  {
   "cell_type": "markdown",
   "id": "4651d133-fc08-4b94-ac8f-c21b15aa2de5",
   "metadata": {},
   "source": [
    "- 현재 Features 중 id의 경우는 단순히 0 ~ 4176까지 나열한 것이므로 필요 없음\n",
    "- Sex의 경우 object형으로 M, F, I를 값으로 가지기 때문에 EDA하고 모델에 넣기 위해 Label Encoding이 필요"
   ]
  },
  {
   "cell_type": "code",
   "execution_count": 5,
   "id": "e4d00c61-15e4-49ed-93a0-60c562e029fe",
   "metadata": {},
   "outputs": [
    {
     "data": {
      "text/html": [
       "<div>\n",
       "<style scoped>\n",
       "    .dataframe tbody tr th:only-of-type {\n",
       "        vertical-align: middle;\n",
       "    }\n",
       "\n",
       "    .dataframe tbody tr th {\n",
       "        vertical-align: top;\n",
       "    }\n",
       "\n",
       "    .dataframe thead th {\n",
       "        text-align: right;\n",
       "    }\n",
       "</style>\n",
       "<table border=\"1\" class=\"dataframe\">\n",
       "  <thead>\n",
       "    <tr style=\"text-align: right;\">\n",
       "      <th></th>\n",
       "      <th>Sex</th>\n",
       "      <th>Length</th>\n",
       "      <th>Diameter</th>\n",
       "      <th>Height</th>\n",
       "      <th>Whole_weight</th>\n",
       "      <th>Shucked_weight</th>\n",
       "      <th>Viscera_weight</th>\n",
       "      <th>Shell_weight</th>\n",
       "      <th>Rings</th>\n",
       "    </tr>\n",
       "  </thead>\n",
       "  <tbody>\n",
       "    <tr>\n",
       "      <th>0</th>\n",
       "      <td>M</td>\n",
       "      <td>0.455</td>\n",
       "      <td>0.365</td>\n",
       "      <td>0.095</td>\n",
       "      <td>0.5140</td>\n",
       "      <td>0.2245</td>\n",
       "      <td>0.1010</td>\n",
       "      <td>0.1500</td>\n",
       "      <td>15</td>\n",
       "    </tr>\n",
       "    <tr>\n",
       "      <th>1</th>\n",
       "      <td>M</td>\n",
       "      <td>0.350</td>\n",
       "      <td>0.265</td>\n",
       "      <td>0.090</td>\n",
       "      <td>0.2255</td>\n",
       "      <td>0.0995</td>\n",
       "      <td>0.0485</td>\n",
       "      <td>0.0700</td>\n",
       "      <td>7</td>\n",
       "    </tr>\n",
       "    <tr>\n",
       "      <th>2</th>\n",
       "      <td>F</td>\n",
       "      <td>0.530</td>\n",
       "      <td>0.420</td>\n",
       "      <td>0.135</td>\n",
       "      <td>0.6770</td>\n",
       "      <td>0.2565</td>\n",
       "      <td>0.1415</td>\n",
       "      <td>0.2100</td>\n",
       "      <td>9</td>\n",
       "    </tr>\n",
       "    <tr>\n",
       "      <th>3</th>\n",
       "      <td>M</td>\n",
       "      <td>0.440</td>\n",
       "      <td>0.365</td>\n",
       "      <td>0.125</td>\n",
       "      <td>0.5160</td>\n",
       "      <td>0.2155</td>\n",
       "      <td>0.1140</td>\n",
       "      <td>0.1550</td>\n",
       "      <td>10</td>\n",
       "    </tr>\n",
       "    <tr>\n",
       "      <th>4</th>\n",
       "      <td>I</td>\n",
       "      <td>0.330</td>\n",
       "      <td>0.255</td>\n",
       "      <td>0.080</td>\n",
       "      <td>0.2050</td>\n",
       "      <td>0.0895</td>\n",
       "      <td>0.0395</td>\n",
       "      <td>0.0550</td>\n",
       "      <td>7</td>\n",
       "    </tr>\n",
       "    <tr>\n",
       "      <th>...</th>\n",
       "      <td>...</td>\n",
       "      <td>...</td>\n",
       "      <td>...</td>\n",
       "      <td>...</td>\n",
       "      <td>...</td>\n",
       "      <td>...</td>\n",
       "      <td>...</td>\n",
       "      <td>...</td>\n",
       "      <td>...</td>\n",
       "    </tr>\n",
       "    <tr>\n",
       "      <th>4172</th>\n",
       "      <td>F</td>\n",
       "      <td>0.565</td>\n",
       "      <td>0.450</td>\n",
       "      <td>0.165</td>\n",
       "      <td>0.8870</td>\n",
       "      <td>0.3700</td>\n",
       "      <td>0.2390</td>\n",
       "      <td>0.2490</td>\n",
       "      <td>11</td>\n",
       "    </tr>\n",
       "    <tr>\n",
       "      <th>4173</th>\n",
       "      <td>M</td>\n",
       "      <td>0.590</td>\n",
       "      <td>0.440</td>\n",
       "      <td>0.135</td>\n",
       "      <td>0.9660</td>\n",
       "      <td>0.4390</td>\n",
       "      <td>0.2145</td>\n",
       "      <td>0.2605</td>\n",
       "      <td>10</td>\n",
       "    </tr>\n",
       "    <tr>\n",
       "      <th>4174</th>\n",
       "      <td>M</td>\n",
       "      <td>0.600</td>\n",
       "      <td>0.475</td>\n",
       "      <td>0.205</td>\n",
       "      <td>1.1760</td>\n",
       "      <td>0.5255</td>\n",
       "      <td>0.2875</td>\n",
       "      <td>0.3080</td>\n",
       "      <td>9</td>\n",
       "    </tr>\n",
       "    <tr>\n",
       "      <th>4175</th>\n",
       "      <td>F</td>\n",
       "      <td>0.625</td>\n",
       "      <td>0.485</td>\n",
       "      <td>0.150</td>\n",
       "      <td>1.0945</td>\n",
       "      <td>0.5310</td>\n",
       "      <td>0.2610</td>\n",
       "      <td>0.2960</td>\n",
       "      <td>10</td>\n",
       "    </tr>\n",
       "    <tr>\n",
       "      <th>4176</th>\n",
       "      <td>M</td>\n",
       "      <td>0.710</td>\n",
       "      <td>0.555</td>\n",
       "      <td>0.195</td>\n",
       "      <td>1.9485</td>\n",
       "      <td>0.9455</td>\n",
       "      <td>0.3765</td>\n",
       "      <td>0.4950</td>\n",
       "      <td>12</td>\n",
       "    </tr>\n",
       "  </tbody>\n",
       "</table>\n",
       "<p>4177 rows × 9 columns</p>\n",
       "</div>"
      ],
      "text/plain": [
       "     Sex  Length  Diameter  Height  Whole_weight  Shucked_weight  \\\n",
       "0      M   0.455     0.365   0.095        0.5140          0.2245   \n",
       "1      M   0.350     0.265   0.090        0.2255          0.0995   \n",
       "2      F   0.530     0.420   0.135        0.6770          0.2565   \n",
       "3      M   0.440     0.365   0.125        0.5160          0.2155   \n",
       "4      I   0.330     0.255   0.080        0.2050          0.0895   \n",
       "...   ..     ...       ...     ...           ...             ...   \n",
       "4172   F   0.565     0.450   0.165        0.8870          0.3700   \n",
       "4173   M   0.590     0.440   0.135        0.9660          0.4390   \n",
       "4174   M   0.600     0.475   0.205        1.1760          0.5255   \n",
       "4175   F   0.625     0.485   0.150        1.0945          0.5310   \n",
       "4176   M   0.710     0.555   0.195        1.9485          0.9455   \n",
       "\n",
       "      Viscera_weight  Shell_weight  Rings  \n",
       "0             0.1010        0.1500     15  \n",
       "1             0.0485        0.0700      7  \n",
       "2             0.1415        0.2100      9  \n",
       "3             0.1140        0.1550     10  \n",
       "4             0.0395        0.0550      7  \n",
       "...              ...           ...    ...  \n",
       "4172          0.2390        0.2490     11  \n",
       "4173          0.2145        0.2605     10  \n",
       "4174          0.2875        0.3080      9  \n",
       "4175          0.2610        0.2960     10  \n",
       "4176          0.3765        0.4950     12  \n",
       "\n",
       "[4177 rows x 9 columns]"
      ]
     },
     "execution_count": 5,
     "metadata": {},
     "output_type": "execute_result"
    }
   ],
   "source": [
    "# 필요 없는 Feature인 id 제거\n",
    "df = df.drop('id', axis=1)\n",
    "df"
   ]
  },
  {
   "cell_type": "code",
   "execution_count": 6,
   "id": "2860d8f5-bdc3-46fa-b374-e1f54131075f",
   "metadata": {},
   "outputs": [
    {
     "data": {
      "image/png": "[encoded data removed]",
      "text/plain": [
       "<Figure size 640x480 with 1 Axes>"
      ]
     },
     "metadata": {},
     "output_type": "display_data"
    }
   ],
   "source": [
    "# Sex 분포 시각화\n",
    "sns.countplot(data=df, x=\"Sex\", hue=\"Sex\", palette=[\"#1f77b4\", \"#ff7f0e\", \"#2ca02c\"])\n",
    "plt.xlabel(\"Sex\")\n",
    "plt.ylabel(\"Count\")\n",
    "plt.title(\"Sex Distribution\")\n",
    "\n",
    "plt.show()"
   ]
  },
  {
   "cell_type": "code",
   "execution_count": 7,
   "id": "1946b1b7-e95c-4c46-acb1-e6c02b316239",
   "metadata": {},
   "outputs": [
    {
     "name": "stdout",
     "output_type": "stream",
     "text": [
      "      Sex_encoded  Length  Diameter  Height  Whole_weight  Shucked_weight  \\\n",
      "0               2   0.455     0.365   0.095        0.5140          0.2245   \n",
      "1               2   0.350     0.265   0.090        0.2255          0.0995   \n",
      "2               0   0.530     0.420   0.135        0.6770          0.2565   \n",
      "3               2   0.440     0.365   0.125        0.5160          0.2155   \n",
      "4               1   0.330     0.255   0.080        0.2050          0.0895   \n",
      "...           ...     ...       ...     ...           ...             ...   \n",
      "4172            0   0.565     0.450   0.165        0.8870          0.3700   \n",
      "4173            2   0.590     0.440   0.135        0.9660          0.4390   \n",
      "4174            2   0.600     0.475   0.205        1.1760          0.5255   \n",
      "4175            0   0.625     0.485   0.150        1.0945          0.5310   \n",
      "4176            2   0.710     0.555   0.195        1.9485          0.9455   \n",
      "\n",
      "      Viscera_weight  Shell_weight  Rings  \n",
      "0             0.1010        0.1500     15  \n",
      "1             0.0485        0.0700      7  \n",
      "2             0.1415        0.2100      9  \n",
      "3             0.1140        0.1550     10  \n",
      "4             0.0395        0.0550      7  \n",
      "...              ...           ...    ...  \n",
      "4172          0.2390        0.2490     11  \n",
      "4173          0.2145        0.2605     10  \n",
      "4174          0.2875        0.3080      9  \n",
      "4175          0.2610        0.2960     10  \n",
      "4176          0.3765        0.4950     12  \n",
      "\n",
      "[4177 rows x 9 columns]\n"
     ]
    }
   ],
   "source": [
    "# Sex 피처에 Label Encoding 적용\n",
    "\n",
    "from sklearn.preprocessing import LabelEncoder\n",
    "\n",
    "# LabelEncoder 객체 생성\n",
    "le = LabelEncoder()\n",
    "\n",
    "df['Sex_encoded'] = le.fit_transform(df['Sex'])\n",
    "\n",
    "df = df.drop('Sex', axis=1)\n",
    "df.insert(0, 'Sex_encoded', df.pop('Sex_encoded'))\n",
    "\n",
    "# 결과 확인\n",
    "print(df)"
   ]
  },
  {
   "cell_type": "code",
   "execution_count": 8,
   "id": "3e0da515-1f39-40b6-a2a4-80ecdd59fbef",
   "metadata": {},
   "outputs": [
    {
     "data": {
      "text/html": [
       "<div>\n",
       "<style scoped>\n",
       "    .dataframe tbody tr th:only-of-type {\n",
       "        vertical-align: middle;\n",
       "    }\n",
       "\n",
       "    .dataframe tbody tr th {\n",
       "        vertical-align: top;\n",
       "    }\n",
       "\n",
       "    .dataframe thead th {\n",
       "        text-align: right;\n",
       "    }\n",
       "</style>\n",
       "<table border=\"1\" class=\"dataframe\">\n",
       "  <thead>\n",
       "    <tr style=\"text-align: right;\">\n",
       "      <th></th>\n",
       "      <th>Sex_encoded</th>\n",
       "      <th>Length</th>\n",
       "      <th>Diameter</th>\n",
       "      <th>Height</th>\n",
       "      <th>Whole_weight</th>\n",
       "      <th>Shucked_weight</th>\n",
       "      <th>Viscera_weight</th>\n",
       "      <th>Shell_weight</th>\n",
       "      <th>Rings</th>\n",
       "    </tr>\n",
       "  </thead>\n",
       "  <tbody>\n",
       "    <tr>\n",
       "      <th>count</th>\n",
       "      <td>4177.000000</td>\n",
       "      <td>4177.000000</td>\n",
       "      <td>4177.000000</td>\n",
       "      <td>4177.000000</td>\n",
       "      <td>4177.000000</td>\n",
       "      <td>4177.000000</td>\n",
       "      <td>4177.000000</td>\n",
       "      <td>4177.000000</td>\n",
       "      <td>4177.000000</td>\n",
       "    </tr>\n",
       "    <tr>\n",
       "      <th>mean</th>\n",
       "      <td>1.052909</td>\n",
       "      <td>0.523992</td>\n",
       "      <td>0.407881</td>\n",
       "      <td>0.139516</td>\n",
       "      <td>0.828742</td>\n",
       "      <td>0.359367</td>\n",
       "      <td>0.180594</td>\n",
       "      <td>0.238831</td>\n",
       "      <td>9.933684</td>\n",
       "    </tr>\n",
       "    <tr>\n",
       "      <th>std</th>\n",
       "      <td>0.822240</td>\n",
       "      <td>0.120093</td>\n",
       "      <td>0.099240</td>\n",
       "      <td>0.041827</td>\n",
       "      <td>0.490389</td>\n",
       "      <td>0.221963</td>\n",
       "      <td>0.109614</td>\n",
       "      <td>0.139203</td>\n",
       "      <td>3.224169</td>\n",
       "    </tr>\n",
       "    <tr>\n",
       "      <th>min</th>\n",
       "      <td>0.000000</td>\n",
       "      <td>0.075000</td>\n",
       "      <td>0.055000</td>\n",
       "      <td>0.000000</td>\n",
       "      <td>0.002000</td>\n",
       "      <td>0.001000</td>\n",
       "      <td>0.000500</td>\n",
       "      <td>0.001500</td>\n",
       "      <td>1.000000</td>\n",
       "    </tr>\n",
       "    <tr>\n",
       "      <th>25%</th>\n",
       "      <td>0.000000</td>\n",
       "      <td>0.450000</td>\n",
       "      <td>0.350000</td>\n",
       "      <td>0.115000</td>\n",
       "      <td>0.441500</td>\n",
       "      <td>0.186000</td>\n",
       "      <td>0.093500</td>\n",
       "      <td>0.130000</td>\n",
       "      <td>8.000000</td>\n",
       "    </tr>\n",
       "    <tr>\n",
       "      <th>50%</th>\n",
       "      <td>1.000000</td>\n",
       "      <td>0.545000</td>\n",
       "      <td>0.425000</td>\n",
       "      <td>0.140000</td>\n",
       "      <td>0.799500</td>\n",
       "      <td>0.336000</td>\n",
       "      <td>0.171000</td>\n",
       "      <td>0.234000</td>\n",
       "      <td>9.000000</td>\n",
       "    </tr>\n",
       "    <tr>\n",
       "      <th>75%</th>\n",
       "      <td>2.000000</td>\n",
       "      <td>0.615000</td>\n",
       "      <td>0.480000</td>\n",
       "      <td>0.165000</td>\n",
       "      <td>1.153000</td>\n",
       "      <td>0.502000</td>\n",
       "      <td>0.253000</td>\n",
       "      <td>0.329000</td>\n",
       "      <td>11.000000</td>\n",
       "    </tr>\n",
       "    <tr>\n",
       "      <th>max</th>\n",
       "      <td>2.000000</td>\n",
       "      <td>0.815000</td>\n",
       "      <td>0.650000</td>\n",
       "      <td>1.130000</td>\n",
       "      <td>2.825500</td>\n",
       "      <td>1.488000</td>\n",
       "      <td>0.760000</td>\n",
       "      <td>1.005000</td>\n",
       "      <td>29.000000</td>\n",
       "    </tr>\n",
       "  </tbody>\n",
       "</table>\n",
       "</div>"
      ],
      "text/plain": [
       "       Sex_encoded       Length     Diameter       Height  Whole_weight  \\\n",
       "count  4177.000000  4177.000000  4177.000000  4177.000000   4177.000000   \n",
       "mean      1.052909     0.523992     0.407881     0.139516      0.828742   \n",
       "std       0.822240     0.120093     0.099240     0.041827      0.490389   \n",
       "min       0.000000     0.075000     0.055000     0.000000      0.002000   \n",
       "25%       0.000000     0.450000     0.350000     0.115000      0.441500   \n",
       "50%       1.000000     0.545000     0.425000     0.140000      0.799500   \n",
       "75%       2.000000     0.615000     0.480000     0.165000      1.153000   \n",
       "max       2.000000     0.815000     0.650000     1.130000      2.825500   \n",
       "\n",
       "       Shucked_weight  Viscera_weight  Shell_weight        Rings  \n",
       "count     4177.000000     4177.000000   4177.000000  4177.000000  \n",
       "mean         0.359367        0.180594      0.238831     9.933684  \n",
       "std          0.221963        0.109614      0.139203     3.224169  \n",
       "min          0.001000        0.000500      0.001500     1.000000  \n",
       "25%          0.186000        0.093500      0.130000     8.000000  \n",
       "50%          0.336000        0.171000      0.234000     9.000000  \n",
       "75%          0.502000        0.253000      0.329000    11.000000  \n",
       "max          1.488000        0.760000      1.005000    29.000000  "
      ]
     },
     "execution_count": 8,
     "metadata": {},
     "output_type": "execute_result"
    }
   ],
   "source": [
    "df.describe()"
   ]
  },
  {
   "cell_type": "code",
   "execution_count": 9,
   "id": "37284abe-23f2-43ac-8eda-9a6d1c0f7c78",
   "metadata": {},
   "outputs": [
    {
     "data": {
      "text/plain": [
       "Sex_encoded       0\n",
       "Length            0\n",
       "Diameter          0\n",
       "Height            0\n",
       "Whole_weight      0\n",
       "Shucked_weight    0\n",
       "Viscera_weight    0\n",
       "Shell_weight      0\n",
       "Rings             0\n",
       "dtype: int64"
      ]
     },
     "execution_count": 9,
     "metadata": {},
     "output_type": "execute_result"
    }
   ],
   "source": [
    "# 데이터 결측치 확인\n",
    "df.isnull().sum()"
   ]
  },
  {
   "cell_type": "code",
   "execution_count": 10,
   "id": "8cf81fcc-8739-4185-b4bb-075328e651c0",
   "metadata": {},
   "outputs": [
    {
     "data": {
      "text/plain": [
       "Rings\n",
       "9     689\n",
       "10    634\n",
       "8     568\n",
       "11    487\n",
       "7     391\n",
       "12    267\n",
       "6     259\n",
       "13    203\n",
       "14    126\n",
       "5     115\n",
       "15    103\n",
       "16     67\n",
       "17     58\n",
       "4      57\n",
       "18     42\n",
       "19     32\n",
       "20     26\n",
       "3      15\n",
       "21     14\n",
       "23      9\n",
       "22      6\n",
       "27      2\n",
       "24      2\n",
       "1       1\n",
       "26      1\n",
       "29      1\n",
       "2       1\n",
       "25      1\n",
       "Name: count, dtype: int64"
      ]
     },
     "execution_count": 10,
     "metadata": {},
     "output_type": "execute_result"
    }
   ],
   "source": [
    "df['Rings'].value_counts()"
   ]
  },
  {
   "cell_type": "code",
   "execution_count": 11,
   "id": "c3fe8aba-a5f4-4d6e-b2b0-9e4d72e267ae",
   "metadata": {},
   "outputs": [
    {
     "data": {
      "image/png": "[encoded data removed]",
      "text/plain": [
       "<Figure size 1000x1000 with 1 Axes>"
      ]
     },
     "metadata": {},
     "output_type": "display_data"
    }
   ],
   "source": [
    "#상관관계 히트맵 생성\n",
    "#상관 관계 행렬\n",
    "df_corr=df.corr()\n",
    "\n",
    "#히트맵\n",
    "plt.figure(figsize=(10,10))\n",
    "sns.set(font_scale=0.8)\n",
    "sns.heatmap(df_corr, annot=True, cbar=False)\n",
    "plt.show()"
   ]
  },
  {
   "cell_type": "markdown",
   "id": "ef07d096-9905-4250-a932-5e925cd44907",
   "metadata": {},
   "source": [
    "## Target인 Rings와 가장 높은 상관 관계를 맺는 feature\n",
    "- Shell_weight(0.63)"
   ]
  },
  {
   "cell_type": "markdown",
   "id": "e166e69f-d616-499b-a63e-b498538e74c6",
   "metadata": {},
   "source": [
    "## Target인 Rings와 비교적 낮은 상관 관계를 맺는 features\n",
    "- Sex_encoded(-0.035)\n",
    "- Shucked_weight(0.42)\n",
    "- Visvera_weight(0.5)"
   ]
  },
  {
   "cell_type": "markdown",
   "id": "3b9b49f4-9c35-47ae-8bc6-61cf85f4149d",
   "metadata": {},
   "source": [
    "- Sex_encoded의 경우 매우 낮은 상관 관계를 갖고 있기 때문에 추후에 삭제 가능 "
   ]
  },
  {
   "cell_type": "code",
   "execution_count": 12,
   "id": "1bd8fecb-57eb-4be6-a12d-acebd3cf9b0b",
   "metadata": {},
   "outputs": [
    {
     "data": {
      "text/plain": [
       "array([[<Axes: title={'center': 'Sex_encoded'}>,\n",
       "        <Axes: title={'center': 'Length'}>,\n",
       "        <Axes: title={'center': 'Diameter'}>],\n",
       "       [<Axes: title={'center': 'Height'}>,\n",
       "        <Axes: title={'center': 'Whole_weight'}>,\n",
       "        <Axes: title={'center': 'Shucked_weight'}>],\n",
       "       [<Axes: title={'center': 'Viscera_weight'}>,\n",
       "        <Axes: title={'center': 'Shell_weight'}>,\n",
       "        <Axes: title={'center': 'Rings'}>]], dtype=object)"
      ]
     },
     "execution_count": 12,
     "metadata": {},
     "output_type": "execute_result"
    },
    {
     "data": {
      "image/png": "[encoded data removed]",
      "text/plain": [
       "<Figure size 1200x800 with 9 Axes>"
      ]
     },
     "metadata": {},
     "output_type": "display_data"
    }
   ],
   "source": [
    "df.hist(bins=50, figsize=(12, 8))"
   ]
  },
  {
   "cell_type": "code",
   "execution_count": 13,
   "id": "dddacf8d-eaeb-43f6-af98-44f3944cd5b2",
   "metadata": {},
   "outputs": [
    {
     "data": {
      "image/png": "[encoded data removed]",
      "text/plain": [
       "<Figure size 640x480 with 1 Axes>"
      ]
     },
     "metadata": {},
     "output_type": "display_data"
    }
   ],
   "source": [
    "# Rings와 Shell_weight 관계\n",
    "plt.scatter(df['Rings'], df['Shell_weight'])\n",
    "plt.xlabel('Rings')\n",
    "plt.ylabel('Shell_weight')\n",
    "\n",
    "plt.show()"
   ]
  },
  {
   "cell_type": "code",
   "execution_count": 14,
   "id": "c7a8ca15-e4d1-4c39-8a1f-79aba93902eb",
   "metadata": {},
   "outputs": [
    {
     "name": "stdout",
     "output_type": "stream",
     "text": [
      "Sex_encoded       1307\n",
      "Length               0\n",
      "Diameter             0\n",
      "Height               2\n",
      "Whole_weight         0\n",
      "Shucked_weight       0\n",
      "Viscera_weight       0\n",
      "Shell_weight         0\n",
      "Rings                0\n",
      "dtype: int64\n"
     ]
    }
   ],
   "source": [
    "# 각 열에서 0인 값의 개수를 확인\n",
    "zero_values_count = (df == 0).sum()\n",
    "\n",
    "# 결과 출력\n",
    "print(zero_values_count)"
   ]
  },
  {
   "cell_type": "markdown",
   "id": "e495ccc2-e4a2-4cd1-84b9-d5c7ecd745b8",
   "metadata": {},
   "source": [
    "#### Height(높이)가 0 값이 나오는 것은 이상치로 판단"
   ]
  },
  {
   "cell_type": "code",
   "execution_count": 15,
   "id": "2632f365-757f-47d4-b00e-ab3028aa79e3",
   "metadata": {},
   "outputs": [
    {
     "name": "stdout",
     "output_type": "stream",
     "text": [
      "제거 전 데이터 개수:  4177\n",
      "제거 후 데이터 개수:  4175\n"
     ]
    }
   ],
   "source": [
    "# 이상치의 개수가 적은 Glucose, BloodPressure, BMI의 경우 이상치 제거\n",
    "print(\"제거 전 데이터 개수: \", len(df))\n",
    "df = df[(df['Height'] != 0)]\n",
    "print(\"제거 후 데이터 개수: \", len(df))"
   ]
  },
  {
   "cell_type": "markdown",
   "id": "18b23df8-426c-454b-974c-81312311aa97",
   "metadata": {},
   "source": [
    "2개의 데이터 제거"
   ]
  },
  {
   "cell_type": "code",
   "execution_count": 16,
   "id": "195874eb-4dea-44b0-b0fa-ef0f112643bb",
   "metadata": {},
   "outputs": [
    {
     "data": {
      "image/png": "[encoded data removed]",
      "text/plain": [
       "<Figure size 640x480 with 1 Axes>"
      ]
     },
     "metadata": {},
     "output_type": "display_data"
    }
   ],
   "source": [
    "# Rings 시각화\n",
    "sns.countplot(data = df, x=\"Rings\")\n",
    "plt.xlabel(\"Rings\")\n",
    "plt.ylabel(\"Count\")\n",
    "plt.title(\"Abalone\")\n",
    "\n",
    "plt.show()"
   ]
  },
  {
   "cell_type": "markdown",
   "id": "069781fa-1da3-4f21-8885-fb295dd1f36d",
   "metadata": {},
   "source": [
    "### Rings는 연속적인 수치 데이터를 가지므로 Classification 문제로 다루기 위해선 범주형 값으로 변환하는 과정이 필요"
   ]
  },
  {
   "cell_type": "code",
   "execution_count": 17,
   "id": "9a0a5c87-be54-46b1-abab-072e497c329a",
   "metadata": {},
   "outputs": [
    {
     "name": "stdout",
     "output_type": "stream",
     "text": [
      "구간 경계값:  [ 1.  8. 11. 29.]\n",
      "   Rings Rings_binned\n",
      "0     15          Old\n",
      "1      7        Young\n",
      "2      9  Middle-aged\n",
      "3     10  Middle-aged\n",
      "4      7        Young\n"
     ]
    }
   ],
   "source": [
    "# 분위수 기반으로 구간 나누기\n",
    "Rings_binned, bins = pd.qcut(df['Rings'], q=3, labels=['Young', 'Middle-aged', 'Old'], retbins=True)\n",
    "\n",
    "# 구간 경계값 출력\n",
    "print(\"구간 경계값: \", bins)\n",
    "\n",
    "# 새로운 범주형 피처 생성\n",
    "df['Rings_binned'] = Rings_binned\n",
    "\n",
    "# 결과 확인\n",
    "print(df[['Rings', 'Rings_binned']].head())"
   ]
  },
  {
   "cell_type": "markdown",
   "id": "753446fd-f658-4512-b3fd-0146c1d59d47",
   "metadata": {},
   "source": [
    "### pd.qcut 함수를 통해 각 구간에 비슷한 개수의 샘플이 있도록 분위수를 기준으로 구간을 나눔\n",
    "- 구간 경계 값을 출력한 결과 (1 ~ 7, 8 ~ 10, 11 ~ 29)의 세 구간('Young', 'Middle-aged', 'Old')으로 나눠진 것을 확인할 수 있음"
   ]
  },
  {
   "cell_type": "code",
   "execution_count": 18,
   "id": "b621dfcf-4635-4065-80d7-43663815cc19",
   "metadata": {},
   "outputs": [
    {
     "data": {
      "text/plain": [
       "Rings_binned\n",
       "Middle-aged    1810\n",
       "Young          1405\n",
       "Old             960\n",
       "Name: count, dtype: int64"
      ]
     },
     "execution_count": 18,
     "metadata": {},
     "output_type": "execute_result"
    }
   ],
   "source": [
    "df['Rings_binned'].value_counts()"
   ]
  },
  {
   "cell_type": "markdown",
   "id": "e44f0cca-c62d-4907-8f49-3ece2bf8c4e3",
   "metadata": {},
   "source": [
    "### 분위 수를 기반으로 나눴지만 Middle-aged와 Old 간의 차이가 두 배정도 나는 것을 확인할 수 있음\n",
    "- 추후 OverSampling, UnderSampling 등을 적용할 수 있음"
   ]
  },
  {
   "cell_type": "code",
   "execution_count": 19,
   "id": "76a01fe6-7d43-44bb-a5ff-13bb9d745a37",
   "metadata": {},
   "outputs": [
    {
     "data": {
      "text/html": [
       "<div>\n",
       "<style scoped>\n",
       "    .dataframe tbody tr th:only-of-type {\n",
       "        vertical-align: middle;\n",
       "    }\n",
       "\n",
       "    .dataframe tbody tr th {\n",
       "        vertical-align: top;\n",
       "    }\n",
       "\n",
       "    .dataframe thead th {\n",
       "        text-align: right;\n",
       "    }\n",
       "</style>\n",
       "<table border=\"1\" class=\"dataframe\">\n",
       "  <thead>\n",
       "    <tr style=\"text-align: right;\">\n",
       "      <th></th>\n",
       "      <th>Sex_encoded</th>\n",
       "      <th>Length</th>\n",
       "      <th>Diameter</th>\n",
       "      <th>Height</th>\n",
       "      <th>Whole_weight</th>\n",
       "      <th>Shucked_weight</th>\n",
       "      <th>Viscera_weight</th>\n",
       "      <th>Shell_weight</th>\n",
       "      <th>Rings_binned</th>\n",
       "    </tr>\n",
       "  </thead>\n",
       "  <tbody>\n",
       "    <tr>\n",
       "      <th>0</th>\n",
       "      <td>2</td>\n",
       "      <td>0.455</td>\n",
       "      <td>0.365</td>\n",
       "      <td>0.095</td>\n",
       "      <td>0.5140</td>\n",
       "      <td>0.2245</td>\n",
       "      <td>0.1010</td>\n",
       "      <td>0.1500</td>\n",
       "      <td>Old</td>\n",
       "    </tr>\n",
       "    <tr>\n",
       "      <th>1</th>\n",
       "      <td>2</td>\n",
       "      <td>0.350</td>\n",
       "      <td>0.265</td>\n",
       "      <td>0.090</td>\n",
       "      <td>0.2255</td>\n",
       "      <td>0.0995</td>\n",
       "      <td>0.0485</td>\n",
       "      <td>0.0700</td>\n",
       "      <td>Young</td>\n",
       "    </tr>\n",
       "    <tr>\n",
       "      <th>2</th>\n",
       "      <td>0</td>\n",
       "      <td>0.530</td>\n",
       "      <td>0.420</td>\n",
       "      <td>0.135</td>\n",
       "      <td>0.6770</td>\n",
       "      <td>0.2565</td>\n",
       "      <td>0.1415</td>\n",
       "      <td>0.2100</td>\n",
       "      <td>Middle-aged</td>\n",
       "    </tr>\n",
       "    <tr>\n",
       "      <th>3</th>\n",
       "      <td>2</td>\n",
       "      <td>0.440</td>\n",
       "      <td>0.365</td>\n",
       "      <td>0.125</td>\n",
       "      <td>0.5160</td>\n",
       "      <td>0.2155</td>\n",
       "      <td>0.1140</td>\n",
       "      <td>0.1550</td>\n",
       "      <td>Middle-aged</td>\n",
       "    </tr>\n",
       "    <tr>\n",
       "      <th>4</th>\n",
       "      <td>1</td>\n",
       "      <td>0.330</td>\n",
       "      <td>0.255</td>\n",
       "      <td>0.080</td>\n",
       "      <td>0.2050</td>\n",
       "      <td>0.0895</td>\n",
       "      <td>0.0395</td>\n",
       "      <td>0.0550</td>\n",
       "      <td>Young</td>\n",
       "    </tr>\n",
       "    <tr>\n",
       "      <th>...</th>\n",
       "      <td>...</td>\n",
       "      <td>...</td>\n",
       "      <td>...</td>\n",
       "      <td>...</td>\n",
       "      <td>...</td>\n",
       "      <td>...</td>\n",
       "      <td>...</td>\n",
       "      <td>...</td>\n",
       "      <td>...</td>\n",
       "    </tr>\n",
       "    <tr>\n",
       "      <th>4172</th>\n",
       "      <td>0</td>\n",
       "      <td>0.565</td>\n",
       "      <td>0.450</td>\n",
       "      <td>0.165</td>\n",
       "      <td>0.8870</td>\n",
       "      <td>0.3700</td>\n",
       "      <td>0.2390</td>\n",
       "      <td>0.2490</td>\n",
       "      <td>Middle-aged</td>\n",
       "    </tr>\n",
       "    <tr>\n",
       "      <th>4173</th>\n",
       "      <td>2</td>\n",
       "      <td>0.590</td>\n",
       "      <td>0.440</td>\n",
       "      <td>0.135</td>\n",
       "      <td>0.9660</td>\n",
       "      <td>0.4390</td>\n",
       "      <td>0.2145</td>\n",
       "      <td>0.2605</td>\n",
       "      <td>Middle-aged</td>\n",
       "    </tr>\n",
       "    <tr>\n",
       "      <th>4174</th>\n",
       "      <td>2</td>\n",
       "      <td>0.600</td>\n",
       "      <td>0.475</td>\n",
       "      <td>0.205</td>\n",
       "      <td>1.1760</td>\n",
       "      <td>0.5255</td>\n",
       "      <td>0.2875</td>\n",
       "      <td>0.3080</td>\n",
       "      <td>Middle-aged</td>\n",
       "    </tr>\n",
       "    <tr>\n",
       "      <th>4175</th>\n",
       "      <td>0</td>\n",
       "      <td>0.625</td>\n",
       "      <td>0.485</td>\n",
       "      <td>0.150</td>\n",
       "      <td>1.0945</td>\n",
       "      <td>0.5310</td>\n",
       "      <td>0.2610</td>\n",
       "      <td>0.2960</td>\n",
       "      <td>Middle-aged</td>\n",
       "    </tr>\n",
       "    <tr>\n",
       "      <th>4176</th>\n",
       "      <td>2</td>\n",
       "      <td>0.710</td>\n",
       "      <td>0.555</td>\n",
       "      <td>0.195</td>\n",
       "      <td>1.9485</td>\n",
       "      <td>0.9455</td>\n",
       "      <td>0.3765</td>\n",
       "      <td>0.4950</td>\n",
       "      <td>Old</td>\n",
       "    </tr>\n",
       "  </tbody>\n",
       "</table>\n",
       "<p>4175 rows × 9 columns</p>\n",
       "</div>"
      ],
      "text/plain": [
       "      Sex_encoded  Length  Diameter  Height  Whole_weight  Shucked_weight  \\\n",
       "0               2   0.455     0.365   0.095        0.5140          0.2245   \n",
       "1               2   0.350     0.265   0.090        0.2255          0.0995   \n",
       "2               0   0.530     0.420   0.135        0.6770          0.2565   \n",
       "3               2   0.440     0.365   0.125        0.5160          0.2155   \n",
       "4               1   0.330     0.255   0.080        0.2050          0.0895   \n",
       "...           ...     ...       ...     ...           ...             ...   \n",
       "4172            0   0.565     0.450   0.165        0.8870          0.3700   \n",
       "4173            2   0.590     0.440   0.135        0.9660          0.4390   \n",
       "4174            2   0.600     0.475   0.205        1.1760          0.5255   \n",
       "4175            0   0.625     0.485   0.150        1.0945          0.5310   \n",
       "4176            2   0.710     0.555   0.195        1.9485          0.9455   \n",
       "\n",
       "      Viscera_weight  Shell_weight Rings_binned  \n",
       "0             0.1010        0.1500          Old  \n",
       "1             0.0485        0.0700        Young  \n",
       "2             0.1415        0.2100  Middle-aged  \n",
       "3             0.1140        0.1550  Middle-aged  \n",
       "4             0.0395        0.0550        Young  \n",
       "...              ...           ...          ...  \n",
       "4172          0.2390        0.2490  Middle-aged  \n",
       "4173          0.2145        0.2605  Middle-aged  \n",
       "4174          0.2875        0.3080  Middle-aged  \n",
       "4175          0.2610        0.2960  Middle-aged  \n",
       "4176          0.3765        0.4950          Old  \n",
       "\n",
       "[4175 rows x 9 columns]"
      ]
     },
     "execution_count": 19,
     "metadata": {},
     "output_type": "execute_result"
    }
   ],
   "source": [
    "# 분류 문제로 적용하기 위해서 Rings 제거\n",
    "X = df.drop('Rings', axis=1)\n",
    "X"
   ]
  },
  {
   "cell_type": "code",
   "execution_count": 20,
   "id": "f32354eb-b052-49fa-b4a7-77e73f7c72f7",
   "metadata": {},
   "outputs": [
    {
     "data": {
      "text/plain": [
       "0               Old\n",
       "1             Young\n",
       "2       Middle-aged\n",
       "3       Middle-aged\n",
       "4             Young\n",
       "           ...     \n",
       "4172    Middle-aged\n",
       "4173    Middle-aged\n",
       "4174    Middle-aged\n",
       "4175    Middle-aged\n",
       "4176            Old\n",
       "Name: Rings_binned, Length: 4175, dtype: category\n",
       "Categories (3, object): ['Young' < 'Middle-aged' < 'Old']"
      ]
     },
     "execution_count": 20,
     "metadata": {},
     "output_type": "execute_result"
    }
   ],
   "source": [
    "y = X['Rings_binned']\n",
    "y"
   ]
  },
  {
   "cell_type": "code",
   "execution_count": 21,
   "id": "7b2845b5-0705-458b-9ed3-faaa6cba857b",
   "metadata": {},
   "outputs": [
    {
     "data": {
      "text/html": [
       "<div>\n",
       "<style scoped>\n",
       "    .dataframe tbody tr th:only-of-type {\n",
       "        vertical-align: middle;\n",
       "    }\n",
       "\n",
       "    .dataframe tbody tr th {\n",
       "        vertical-align: top;\n",
       "    }\n",
       "\n",
       "    .dataframe thead th {\n",
       "        text-align: right;\n",
       "    }\n",
       "</style>\n",
       "<table border=\"1\" class=\"dataframe\">\n",
       "  <thead>\n",
       "    <tr style=\"text-align: right;\">\n",
       "      <th></th>\n",
       "      <th>Sex_encoded</th>\n",
       "      <th>Length</th>\n",
       "      <th>Diameter</th>\n",
       "      <th>Height</th>\n",
       "      <th>Whole_weight</th>\n",
       "      <th>Shucked_weight</th>\n",
       "      <th>Viscera_weight</th>\n",
       "      <th>Shell_weight</th>\n",
       "    </tr>\n",
       "  </thead>\n",
       "  <tbody>\n",
       "    <tr>\n",
       "      <th>0</th>\n",
       "      <td>2</td>\n",
       "      <td>0.455</td>\n",
       "      <td>0.365</td>\n",
       "      <td>0.095</td>\n",
       "      <td>0.5140</td>\n",
       "      <td>0.2245</td>\n",
       "      <td>0.1010</td>\n",
       "      <td>0.1500</td>\n",
       "    </tr>\n",
       "    <tr>\n",
       "      <th>1</th>\n",
       "      <td>2</td>\n",
       "      <td>0.350</td>\n",
       "      <td>0.265</td>\n",
       "      <td>0.090</td>\n",
       "      <td>0.2255</td>\n",
       "      <td>0.0995</td>\n",
       "      <td>0.0485</td>\n",
       "      <td>0.0700</td>\n",
       "    </tr>\n",
       "    <tr>\n",
       "      <th>2</th>\n",
       "      <td>0</td>\n",
       "      <td>0.530</td>\n",
       "      <td>0.420</td>\n",
       "      <td>0.135</td>\n",
       "      <td>0.6770</td>\n",
       "      <td>0.2565</td>\n",
       "      <td>0.1415</td>\n",
       "      <td>0.2100</td>\n",
       "    </tr>\n",
       "    <tr>\n",
       "      <th>3</th>\n",
       "      <td>2</td>\n",
       "      <td>0.440</td>\n",
       "      <td>0.365</td>\n",
       "      <td>0.125</td>\n",
       "      <td>0.5160</td>\n",
       "      <td>0.2155</td>\n",
       "      <td>0.1140</td>\n",
       "      <td>0.1550</td>\n",
       "    </tr>\n",
       "    <tr>\n",
       "      <th>4</th>\n",
       "      <td>1</td>\n",
       "      <td>0.330</td>\n",
       "      <td>0.255</td>\n",
       "      <td>0.080</td>\n",
       "      <td>0.2050</td>\n",
       "      <td>0.0895</td>\n",
       "      <td>0.0395</td>\n",
       "      <td>0.0550</td>\n",
       "    </tr>\n",
       "    <tr>\n",
       "      <th>...</th>\n",
       "      <td>...</td>\n",
       "      <td>...</td>\n",
       "      <td>...</td>\n",
       "      <td>...</td>\n",
       "      <td>...</td>\n",
       "      <td>...</td>\n",
       "      <td>...</td>\n",
       "      <td>...</td>\n",
       "    </tr>\n",
       "    <tr>\n",
       "      <th>4172</th>\n",
       "      <td>0</td>\n",
       "      <td>0.565</td>\n",
       "      <td>0.450</td>\n",
       "      <td>0.165</td>\n",
       "      <td>0.8870</td>\n",
       "      <td>0.3700</td>\n",
       "      <td>0.2390</td>\n",
       "      <td>0.2490</td>\n",
       "    </tr>\n",
       "    <tr>\n",
       "      <th>4173</th>\n",
       "      <td>2</td>\n",
       "      <td>0.590</td>\n",
       "      <td>0.440</td>\n",
       "      <td>0.135</td>\n",
       "      <td>0.9660</td>\n",
       "      <td>0.4390</td>\n",
       "      <td>0.2145</td>\n",
       "      <td>0.2605</td>\n",
       "    </tr>\n",
       "    <tr>\n",
       "      <th>4174</th>\n",
       "      <td>2</td>\n",
       "      <td>0.600</td>\n",
       "      <td>0.475</td>\n",
       "      <td>0.205</td>\n",
       "      <td>1.1760</td>\n",
       "      <td>0.5255</td>\n",
       "      <td>0.2875</td>\n",
       "      <td>0.3080</td>\n",
       "    </tr>\n",
       "    <tr>\n",
       "      <th>4175</th>\n",
       "      <td>0</td>\n",
       "      <td>0.625</td>\n",
       "      <td>0.485</td>\n",
       "      <td>0.150</td>\n",
       "      <td>1.0945</td>\n",
       "      <td>0.5310</td>\n",
       "      <td>0.2610</td>\n",
       "      <td>0.2960</td>\n",
       "    </tr>\n",
       "    <tr>\n",
       "      <th>4176</th>\n",
       "      <td>2</td>\n",
       "      <td>0.710</td>\n",
       "      <td>0.555</td>\n",
       "      <td>0.195</td>\n",
       "      <td>1.9485</td>\n",
       "      <td>0.9455</td>\n",
       "      <td>0.3765</td>\n",
       "      <td>0.4950</td>\n",
       "    </tr>\n",
       "  </tbody>\n",
       "</table>\n",
       "<p>4175 rows × 8 columns</p>\n",
       "</div>"
      ],
      "text/plain": [
       "      Sex_encoded  Length  Diameter  Height  Whole_weight  Shucked_weight  \\\n",
       "0               2   0.455     0.365   0.095        0.5140          0.2245   \n",
       "1               2   0.350     0.265   0.090        0.2255          0.0995   \n",
       "2               0   0.530     0.420   0.135        0.6770          0.2565   \n",
       "3               2   0.440     0.365   0.125        0.5160          0.2155   \n",
       "4               1   0.330     0.255   0.080        0.2050          0.0895   \n",
       "...           ...     ...       ...     ...           ...             ...   \n",
       "4172            0   0.565     0.450   0.165        0.8870          0.3700   \n",
       "4173            2   0.590     0.440   0.135        0.9660          0.4390   \n",
       "4174            2   0.600     0.475   0.205        1.1760          0.5255   \n",
       "4175            0   0.625     0.485   0.150        1.0945          0.5310   \n",
       "4176            2   0.710     0.555   0.195        1.9485          0.9455   \n",
       "\n",
       "      Viscera_weight  Shell_weight  \n",
       "0             0.1010        0.1500  \n",
       "1             0.0485        0.0700  \n",
       "2             0.1415        0.2100  \n",
       "3             0.1140        0.1550  \n",
       "4             0.0395        0.0550  \n",
       "...              ...           ...  \n",
       "4172          0.2390        0.2490  \n",
       "4173          0.2145        0.2605  \n",
       "4174          0.2875        0.3080  \n",
       "4175          0.2610        0.2960  \n",
       "4176          0.3765        0.4950  \n",
       "\n",
       "[4175 rows x 8 columns]"
      ]
     },
     "execution_count": 21,
     "metadata": {},
     "output_type": "execute_result"
    }
   ],
   "source": [
    "X = X.drop('Rings_binned', axis=1)\n",
    "X"
   ]
  },
  {
   "cell_type": "code",
   "execution_count": 22,
   "id": "b252c2dd-5d89-48cb-8be4-aaea30c8832b",
   "metadata": {},
   "outputs": [
    {
     "data": {
      "text/plain": [
       "((3340, 8), (835, 8), (3340,), (835,))"
      ]
     },
     "execution_count": 22,
     "metadata": {},
     "output_type": "execute_result"
    }
   ],
   "source": [
    "from sklearn.model_selection import train_test_split\n",
    "\n",
    "X_train, X_test, y_train, y_test = train_test_split(X, y, test_size=0.2, stratify=y, random_state=32)\n",
    "\n",
    "X_train.shape, X_test.shape, y_train.shape, y_test.shape"
   ]
  },
  {
   "cell_type": "code",
   "execution_count": 23,
   "id": "6d563ed5-9f6d-4e8f-b97f-e02cbb1eb9dd",
   "metadata": {},
   "outputs": [],
   "source": [
    "# 표준화 StandardScaler \n",
    "from sklearn.preprocessing import StandardScaler\n",
    "\n",
    "ss = StandardScaler()\n",
    "ss.fit(X_train)\n",
    "train_scaled = ss.transform(X_train)\n",
    "test_scaled = ss.transform(X_test)"
   ]
  },
  {
   "cell_type": "code",
   "execution_count": 24,
   "id": "e939e857-a251-4a32-a7bb-7c7e015157fe",
   "metadata": {},
   "outputs": [
    {
     "name": "stdout",
     "output_type": "stream",
     "text": [
      "Fitting 5 folds for each of 50 candidates, totalling 250 fits\n",
      "최적의 하이퍼파라미터:  {'C': 9.795846277645586, 'gamma': 0.08751328233611146, 'kernel': 'rbf'}\n",
      "최적의 정확도:  0.6991017964071855\n"
     ]
    }
   ],
   "source": [
    "from sklearn.model_selection import RandomizedSearchCV\n",
    "from sklearn.svm import SVC\n",
    "from scipy.stats import uniform\n",
    "\n",
    "# 1. 하이퍼파라미터 범위 설정\n",
    "param_dist = {\n",
    "    'C': uniform(0.1, 10),      # C값을 0.1부터 10까지 랜덤으로 선택\n",
    "    'gamma': uniform(0.01, 0.1),  # gamma 값을 0.01부터 0.1까지 랜덤으로 선택\n",
    "    'kernel': ['linear', 'rbf', 'poly']  # 커널 종류\n",
    "}\n",
    "\n",
    "# 2. RandomizedSearchCV 설정\n",
    "clf_svm = SVC(random_state=32)\n",
    "random_search = RandomizedSearchCV(estimator=clf_svm, param_distributions=param_dist, n_iter=50, cv=5, scoring='accuracy', n_jobs=-1, verbose=2, random_state=42)\n",
    "\n",
    "# 모델 학습 및 랜덤 서치 수행\n",
    "random_search.fit(train_scaled, y_train)\n",
    "\n",
    "# 최적의 하이퍼파라미터 출력\n",
    "print(\"최적의 하이퍼파라미터: \", random_search.best_params_)\n",
    "\n",
    "# 최적의 하이퍼파라미터로 평가된 평균 정확도 출력\n",
    "print(\"최적의 정확도: \", random_search.best_score_)"
   ]
  },
  {
   "cell_type": "code",
   "execution_count": 25,
   "id": "19ba0591-84ed-466e-9eb9-78e95cc3c47a",
   "metadata": {},
   "outputs": [
    {
     "name": "stdout",
     "output_type": "stream",
     "text": [
      "교차 검증 성능 (각 폴드): [0.70958084 0.69011976 0.69311377 0.68862275 0.71407186]\n",
      "평균 성능: 0.6991017964071855\n"
     ]
    }
   ],
   "source": [
    "from sklearn.model_selection import cross_val_score\n",
    "\n",
    "# 3. 최적의 하이퍼파라미터로 모델 평가\n",
    "best_clf_svm = random_search.best_estimator_\n",
    "\n",
    "scores = cross_val_score(best_clf_svm, train_scaled, y_train, cv=5)\n",
    "\n",
    "# 각 폴드에서의 성능 및 평균 성능 출력\n",
    "print(\"교차 검증 성능 (각 폴드):\", scores)\n",
    "print(\"평균 성능:\", scores.mean())"
   ]
  },
  {
   "cell_type": "code",
   "execution_count": 26,
   "id": "7dd0676a-ab1d-4e70-bd24-5dfb1be09aa8",
   "metadata": {},
   "outputs": [
    {
     "data": {
      "image/png": "[encoded data removed]",
      "text/plain": [
       "<Figure size 640x480 with 1 Axes>"
      ]
     },
     "metadata": {},
     "output_type": "display_data"
    },
    {
     "name": "stdout",
     "output_type": "stream",
     "text": [
      "Mean accuracy across folds: 0.6991017964071855\n"
     ]
    }
   ],
   "source": [
    "# 교차 검증 결과 시각화\n",
    "plt.plot(range(1, 6), scores, marker='o', linestyle='--')\n",
    "plt.title('SVM Cross-Validation Accuracy')\n",
    "plt.xlabel('Fold')\n",
    "plt.ylabel('Accuracy')\n",
    "plt.ylim([0.5, 1.0])\n",
    "plt.show()\n",
    "\n",
    "# 평균 정확도 출력\n",
    "print(f\"Mean accuracy across folds: {scores.mean()}\")"
   ]
  },
  {
   "cell_type": "code",
   "execution_count": 27,
   "id": "07128e2b-4b1d-440c-a0d2-250a1a9473db",
   "metadata": {},
   "outputs": [
    {
     "data": {
      "image/png": "[encoded data removed]",
      "text/plain": [
       "<Figure size 800x600 with 2 Axes>"
      ]
     },
     "metadata": {},
     "output_type": "display_data"
    },
    {
     "name": "stdout",
     "output_type": "stream",
     "text": [
      "\n",
      "--- SVM Classifier ---\n",
      "Test Accuracy: 0.688622754491018\n",
      "Macro F1 Score: 0.6723669398946694\n",
      "\n",
      "Classification Report:\n",
      "              precision    recall  f1-score   support\n",
      "\n",
      "       Young       0.62      0.80      0.70       362\n",
      " Middle-aged       0.78      0.47      0.58       192\n",
      "         Old       0.78      0.70      0.74       281\n",
      "\n",
      "    accuracy                           0.69       835\n",
      "   macro avg       0.72      0.65      0.67       835\n",
      "weighted avg       0.71      0.69      0.68       835\n",
      "\n"
     ]
    }
   ],
   "source": [
    "from sklearn.metrics import accuracy_score, confusion_matrix, ConfusionMatrixDisplay\n",
    "\n",
    "# 혼동 행렬 계산 및 시각화\n",
    "y_pred_svm = best_clf_svm.predict(test_scaled)\n",
    "cm = confusion_matrix(y_test, y_pred_svm)\n",
    "\n",
    "# 클래스 레이블 정의 (필요 시 클래스 레이블을 지정하세요)\n",
    "LABELS = ['Young', 'Middle-aged', 'Old']\n",
    "\n",
    "# 혼돈 행렬 히트맵 시각화\n",
    "plt.figure(figsize=(8,6))\n",
    "sns.heatmap(cm, annot=True, fmt='d', cmap=\"YlGnBu\", xticklabels=LABELS, yticklabels=LABELS)\n",
    "plt.title('SVM Confusion Matrix')\n",
    "plt.xlabel('Predicted Label')\n",
    "plt.ylabel('True Label')\n",
    "plt.show()\n",
    "\n",
    "# 테스트 세트 정확도 출력\n",
    "print(\"\\n--- SVM Classifier ---\")\n",
    "print(f\"Test Accuracy: {accuracy_score(y_test, y_pred_svm)}\")\n",
    "\n",
    "# F1 스코어 계산 및 출력\n",
    "f1 = f1_score(y_test, y_pred_svm, average='macro')  # 'macro'는 각 클래스에 대한 평균을 의미함\n",
    "print(f\"Macro F1 Score: {f1}\")\n",
    "\n",
    "# 각 클래스별 정밀도, 재현율, F1 스코어를 보고 싶다면 classification_report 사용\n",
    "print(\"\\nClassification Report:\")\n",
    "print(classification_report(y_test, y_pred_svm, target_names=LABELS))"
   ]
  },
  {
   "cell_type": "code",
   "execution_count": 28,
   "id": "a3733962-8933-4b4c-afd6-841eaf5d87da",
   "metadata": {},
   "outputs": [
    {
     "name": "stdout",
     "output_type": "stream",
     "text": [
      "Fitting 5 folds for each of 50 candidates, totalling 250 fits\n",
      "최적의 하이퍼파라미터:  {'C': 2.6877998160001693, 'max_iter': 400, 'penalty': 'l2', 'solver': 'lbfgs'}\n",
      "최적의 정확도:  0.6844311377245509\n"
     ]
    },
    {
     "name": "stderr",
     "output_type": "stream",
     "text": [
      "I:\\anaconda3\\envs\\test01\\lib\\site-packages\\sklearn\\model_selection\\_validation.py:547: FitFailedWarning: \n",
      "185 fits failed out of a total of 250.\n",
      "The score on these train-test partitions for these parameters will be set to nan.\n",
      "If these failures are not expected, you can try to debug them by setting error_score='raise'.\n",
      "\n",
      "Below are more details about the failures:\n",
      "--------------------------------------------------------------------------------\n",
      "15 fits failed with the following error:\n",
      "Traceback (most recent call last):\n",
      "  File \"I:\\anaconda3\\envs\\test01\\lib\\site-packages\\sklearn\\model_selection\\_validation.py\", line 895, in _fit_and_score\n",
      "    estimator.fit(X_train, y_train, **fit_params)\n",
      "  File \"I:\\anaconda3\\envs\\test01\\lib\\site-packages\\sklearn\\base.py\", line 1474, in wrapper\n",
      "    return fit_method(estimator, *args, **kwargs)\n",
      "  File \"I:\\anaconda3\\envs\\test01\\lib\\site-packages\\sklearn\\linear_model\\_logistic.py\", line 1182, in fit\n",
      "    raise ValueError(\"l1_ratio must be specified when penalty is elasticnet.\")\n",
      "ValueError: l1_ratio must be specified when penalty is elasticnet.\n",
      "\n",
      "--------------------------------------------------------------------------------\n",
      "20 fits failed with the following error:\n",
      "Traceback (most recent call last):\n",
      "  File \"I:\\anaconda3\\envs\\test01\\lib\\site-packages\\sklearn\\model_selection\\_validation.py\", line 895, in _fit_and_score\n",
      "    estimator.fit(X_train, y_train, **fit_params)\n",
      "  File \"I:\\anaconda3\\envs\\test01\\lib\\site-packages\\sklearn\\base.py\", line 1474, in wrapper\n",
      "    return fit_method(estimator, *args, **kwargs)\n",
      "  File \"I:\\anaconda3\\envs\\test01\\lib\\site-packages\\sklearn\\linear_model\\_logistic.py\", line 1172, in fit\n",
      "    solver = _check_solver(self.solver, self.penalty, self.dual)\n",
      "  File \"I:\\anaconda3\\envs\\test01\\lib\\site-packages\\sklearn\\linear_model\\_logistic.py\", line 67, in _check_solver\n",
      "    raise ValueError(\n",
      "ValueError: Solver lbfgs supports only 'l2' or None penalties, got elasticnet penalty.\n",
      "\n",
      "--------------------------------------------------------------------------------\n",
      "25 fits failed with the following error:\n",
      "Traceback (most recent call last):\n",
      "  File \"I:\\anaconda3\\envs\\test01\\lib\\site-packages\\sklearn\\model_selection\\_validation.py\", line 895, in _fit_and_score\n",
      "    estimator.fit(X_train, y_train, **fit_params)\n",
      "  File \"I:\\anaconda3\\envs\\test01\\lib\\site-packages\\sklearn\\base.py\", line 1474, in wrapper\n",
      "    return fit_method(estimator, *args, **kwargs)\n",
      "  File \"I:\\anaconda3\\envs\\test01\\lib\\site-packages\\sklearn\\linear_model\\_logistic.py\", line 1172, in fit\n",
      "    solver = _check_solver(self.solver, self.penalty, self.dual)\n",
      "  File \"I:\\anaconda3\\envs\\test01\\lib\\site-packages\\sklearn\\linear_model\\_logistic.py\", line 67, in _check_solver\n",
      "    raise ValueError(\n",
      "ValueError: Solver newton-cg supports only 'l2' or None penalties, got elasticnet penalty.\n",
      "\n",
      "--------------------------------------------------------------------------------\n",
      "35 fits failed with the following error:\n",
      "Traceback (most recent call last):\n",
      "  File \"I:\\anaconda3\\envs\\test01\\lib\\site-packages\\sklearn\\model_selection\\_validation.py\", line 895, in _fit_and_score\n",
      "    estimator.fit(X_train, y_train, **fit_params)\n",
      "  File \"I:\\anaconda3\\envs\\test01\\lib\\site-packages\\sklearn\\base.py\", line 1474, in wrapper\n",
      "    return fit_method(estimator, *args, **kwargs)\n",
      "  File \"I:\\anaconda3\\envs\\test01\\lib\\site-packages\\sklearn\\linear_model\\_logistic.py\", line 1172, in fit\n",
      "    solver = _check_solver(self.solver, self.penalty, self.dual)\n",
      "  File \"I:\\anaconda3\\envs\\test01\\lib\\site-packages\\sklearn\\linear_model\\_logistic.py\", line 67, in _check_solver\n",
      "    raise ValueError(\n",
      "ValueError: Solver newton-cg supports only 'l2' or None penalties, got l1 penalty.\n",
      "\n",
      "--------------------------------------------------------------------------------\n",
      "7 fits failed with the following error:\n",
      "Traceback (most recent call last):\n",
      "  File \"I:\\anaconda3\\envs\\test01\\lib\\site-packages\\sklearn\\model_selection\\_validation.py\", line 895, in _fit_and_score\n",
      "    estimator.fit(X_train, y_train, **fit_params)\n",
      "  File \"I:\\anaconda3\\envs\\test01\\lib\\site-packages\\sklearn\\base.py\", line 1467, in wrapper\n",
      "    estimator._validate_params()\n",
      "  File \"I:\\anaconda3\\envs\\test01\\lib\\site-packages\\sklearn\\base.py\", line 666, in _validate_params\n",
      "    validate_parameter_constraints(\n",
      "  File \"I:\\anaconda3\\envs\\test01\\lib\\site-packages\\sklearn\\utils\\_param_validation.py\", line 95, in validate_parameter_constraints\n",
      "    raise InvalidParameterError(\n",
      "sklearn.utils._param_validation.InvalidParameterError: The 'penalty' parameter of LogisticRegression must be a str among {'elasticnet', 'l2', 'l1'} or None. Got 'None' instead.\n",
      "\n",
      "--------------------------------------------------------------------------------\n",
      "28 fits failed with the following error:\n",
      "Traceback (most recent call last):\n",
      "  File \"I:\\anaconda3\\envs\\test01\\lib\\site-packages\\sklearn\\model_selection\\_validation.py\", line 895, in _fit_and_score\n",
      "    estimator.fit(X_train, y_train, **fit_params)\n",
      "  File \"I:\\anaconda3\\envs\\test01\\lib\\site-packages\\sklearn\\base.py\", line 1467, in wrapper\n",
      "    estimator._validate_params()\n",
      "  File \"I:\\anaconda3\\envs\\test01\\lib\\site-packages\\sklearn\\base.py\", line 666, in _validate_params\n",
      "    validate_parameter_constraints(\n",
      "  File \"I:\\anaconda3\\envs\\test01\\lib\\site-packages\\sklearn\\utils\\_param_validation.py\", line 95, in validate_parameter_constraints\n",
      "    raise InvalidParameterError(\n",
      "sklearn.utils._param_validation.InvalidParameterError: The 'penalty' parameter of LogisticRegression must be a str among {'l2', 'elasticnet', 'l1'} or None. Got 'None' instead.\n",
      "\n",
      "--------------------------------------------------------------------------------\n",
      "3 fits failed with the following error:\n",
      "Traceback (most recent call last):\n",
      "  File \"I:\\anaconda3\\envs\\test01\\lib\\site-packages\\sklearn\\model_selection\\_validation.py\", line 895, in _fit_and_score\n",
      "    estimator.fit(X_train, y_train, **fit_params)\n",
      "  File \"I:\\anaconda3\\envs\\test01\\lib\\site-packages\\sklearn\\base.py\", line 1467, in wrapper\n",
      "    estimator._validate_params()\n",
      "  File \"I:\\anaconda3\\envs\\test01\\lib\\site-packages\\sklearn\\base.py\", line 666, in _validate_params\n",
      "    validate_parameter_constraints(\n",
      "  File \"I:\\anaconda3\\envs\\test01\\lib\\site-packages\\sklearn\\utils\\_param_validation.py\", line 95, in validate_parameter_constraints\n",
      "    raise InvalidParameterError(\n",
      "sklearn.utils._param_validation.InvalidParameterError: The 'penalty' parameter of LogisticRegression must be a str among {'l2', 'l1', 'elasticnet'} or None. Got 'None' instead.\n",
      "\n",
      "--------------------------------------------------------------------------------\n",
      "32 fits failed with the following error:\n",
      "Traceback (most recent call last):\n",
      "  File \"I:\\anaconda3\\envs\\test01\\lib\\site-packages\\sklearn\\model_selection\\_validation.py\", line 895, in _fit_and_score\n",
      "    estimator.fit(X_train, y_train, **fit_params)\n",
      "  File \"I:\\anaconda3\\envs\\test01\\lib\\site-packages\\sklearn\\base.py\", line 1467, in wrapper\n",
      "    estimator._validate_params()\n",
      "  File \"I:\\anaconda3\\envs\\test01\\lib\\site-packages\\sklearn\\base.py\", line 666, in _validate_params\n",
      "    validate_parameter_constraints(\n",
      "  File \"I:\\anaconda3\\envs\\test01\\lib\\site-packages\\sklearn\\utils\\_param_validation.py\", line 95, in validate_parameter_constraints\n",
      "    raise InvalidParameterError(\n",
      "sklearn.utils._param_validation.InvalidParameterError: The 'penalty' parameter of LogisticRegression must be a str among {'l1', 'elasticnet', 'l2'} or None. Got 'None' instead.\n",
      "\n",
      "--------------------------------------------------------------------------------\n",
      "20 fits failed with the following error:\n",
      "Traceback (most recent call last):\n",
      "  File \"I:\\anaconda3\\envs\\test01\\lib\\site-packages\\sklearn\\model_selection\\_validation.py\", line 895, in _fit_and_score\n",
      "    estimator.fit(X_train, y_train, **fit_params)\n",
      "  File \"I:\\anaconda3\\envs\\test01\\lib\\site-packages\\sklearn\\base.py\", line 1474, in wrapper\n",
      "    return fit_method(estimator, *args, **kwargs)\n",
      "  File \"I:\\anaconda3\\envs\\test01\\lib\\site-packages\\sklearn\\linear_model\\_logistic.py\", line 1172, in fit\n",
      "    solver = _check_solver(self.solver, self.penalty, self.dual)\n",
      "  File \"I:\\anaconda3\\envs\\test01\\lib\\site-packages\\sklearn\\linear_model\\_logistic.py\", line 67, in _check_solver\n",
      "    raise ValueError(\n",
      "ValueError: Solver lbfgs supports only 'l2' or None penalties, got l1 penalty.\n",
      "\n",
      "  warnings.warn(some_fits_failed_message, FitFailedWarning)\n",
      "I:\\anaconda3\\envs\\test01\\lib\\site-packages\\sklearn\\model_selection\\_search.py:1051: UserWarning: One or more of the test scores are non-finite: [       nan        nan        nan 0.68263473 0.68263473        nan\n",
      "        nan        nan        nan        nan        nan 0.68263473\n",
      "        nan 0.68233533        nan 0.68263473 0.68443114        nan\n",
      " 0.67964072 0.68293413        nan 0.68323353        nan        nan\n",
      "        nan        nan        nan        nan 0.68233533        nan\n",
      "        nan        nan 0.68203593        nan        nan        nan\n",
      "        nan        nan        nan        nan        nan        nan\n",
      "        nan        nan 0.68383234        nan        nan        nan\n",
      "        nan 0.68293413]\n",
      "  warnings.warn(\n"
     ]
    }
   ],
   "source": [
    "from sklearn.model_selection import RandomizedSearchCV\n",
    "from sklearn.linear_model import LogisticRegression\n",
    "from scipy.stats import uniform\n",
    "\n",
    "# 1. 하이퍼파라미터 범위 설정\n",
    "param_dist = {\n",
    "    'C': uniform(0.1, 10),  # C 값을 0.1부터 10까지 랜덤으로 선택\n",
    "    'penalty': ['l1', 'l2', 'elasticnet', 'None'],  # 규제 종류\n",
    "    'solver': ['newton-cg', 'lbfgs', 'saga'],  # 최적화 방법 선택 (l1과 elasticnet은 saga만 가능)\n",
    "    'max_iter': [100, 200, 300, 400, 500]  # 최대 반복 횟수 설정\n",
    "}\n",
    "\n",
    "# 2. RandomizedSearchCV 설정\n",
    "clf_lr = LogisticRegression(random_state=32)\n",
    "random_search = RandomizedSearchCV(estimator=clf_lr, param_distributions=param_dist, n_iter=50, cv=5, scoring='accuracy', n_jobs=-1, verbose=2, random_state=42)\n",
    "\n",
    "# 모델 학습 및 랜덤 서치 수행\n",
    "random_search.fit(train_scaled, y_train)\n",
    "\n",
    "# 최적의 하이퍼파라미터 출력\n",
    "print(\"최적의 하이퍼파라미터: \", random_search.best_params_)\n",
    "\n",
    "# 최적의 하이퍼파라미터로 평가된 평균 정확도 출력\n",
    "print(\"최적의 정확도: \", random_search.best_score_)"
   ]
  },
  {
   "cell_type": "code",
   "execution_count": 29,
   "id": "763cd448-4cd6-4ca7-a73f-4fea7b2a8bfb",
   "metadata": {},
   "outputs": [
    {
     "name": "stdout",
     "output_type": "stream",
     "text": [
      "교차 검증 성능 (각 폴드): [0.70359281 0.6751497  0.66317365 0.67814371 0.70209581]\n",
      "평균 성능: 0.6844311377245509\n"
     ]
    }
   ],
   "source": [
    "from sklearn.model_selection import cross_val_score\n",
    "\n",
    "# 3. 최적의 하이퍼파라미터로 모델 평가\n",
    "best_clf_lr = random_search.best_estimator_\n",
    "\n",
    "# K-Fold 교차 검증 (K=5)\n",
    "scores = cross_val_score(best_clf_lr, train_scaled, y_train, cv=5)\n",
    "\n",
    "# 각 폴드에서의 성능 및 평균 성능 출력\n",
    "print(\"교차 검증 성능 (각 폴드):\", scores)\n",
    "print(\"평균 성능:\", scores.mean())"
   ]
  },
  {
   "cell_type": "code",
   "execution_count": 30,
   "id": "4bb7e312-86f4-426a-986c-8eea85a05d4d",
   "metadata": {},
   "outputs": [
    {
     "data": {
      "image/png": "[encoded data removed]",
      "text/plain": [
       "<Figure size 640x480 with 1 Axes>"
      ]
     },
     "metadata": {},
     "output_type": "display_data"
    },
    {
     "name": "stdout",
     "output_type": "stream",
     "text": [
      "Mean accuracy across folds: 0.6844311377245509\n"
     ]
    }
   ],
   "source": [
    "# 교차 검증 결과 시각화\n",
    "plt.plot(range(1, 6), scores, marker='o', linestyle='--')\n",
    "plt.title('LogisticRegression Cross-Validation Accuracy')\n",
    "plt.xlabel('Fold')\n",
    "plt.ylabel('Accuracy')\n",
    "plt.ylim([0.5, 1.0])\n",
    "plt.show()\n",
    "\n",
    "# 평균 정확도 출력\n",
    "print(f\"Mean accuracy across folds: {scores.mean()}\")"
   ]
  },
  {
   "cell_type": "code",
   "execution_count": 31,
   "id": "9dafcffb-fba1-44ad-98dc-cbeef5240290",
   "metadata": {},
   "outputs": [
    {
     "data": {
      "image/png": "[encoded data removed]",
      "text/plain": [
       "<Figure size 800x600 with 2 Axes>"
      ]
     },
     "metadata": {},
     "output_type": "display_data"
    },
    {
     "name": "stdout",
     "output_type": "stream",
     "text": [
      "\n",
      "--- LogisticRegression Classifier ---\n",
      "Test Accuracy: 0.6742514970059881\n",
      "Macro F1 Score: 0.6579823966706875\n",
      "\n",
      "Classification Report:\n",
      "              precision    recall  f1-score   support\n",
      "\n",
      "       Young       0.62      0.73      0.67       362\n",
      " Middle-aged       0.76      0.45      0.57       192\n",
      "         Old       0.71      0.75      0.73       281\n",
      "\n",
      "    accuracy                           0.67       835\n",
      "   macro avg       0.70      0.65      0.66       835\n",
      "weighted avg       0.69      0.67      0.67       835\n",
      "\n"
     ]
    }
   ],
   "source": [
    "# 혼동 행렬 계산 및 시각화\n",
    "y_pred_lr = best_clf_lr.predict(test_scaled)\n",
    "cm = confusion_matrix(y_test, y_pred_lr)\n",
    "\n",
    "# 클래스 레이블 정의\n",
    "LABELS = ['Young', 'Middle-aged', 'Old']\n",
    "\n",
    "# 혼돈 행렬 히트맵 시각화\n",
    "plt.figure(figsize=(8,6))\n",
    "sns.heatmap(cm, annot=True, fmt='d', cmap=\"YlGnBu\", xticklabels=LABELS, yticklabels=LABELS)\n",
    "plt.title('LogisticRegression Confusion Matrix')\n",
    "plt.xlabel('Predicted Label')\n",
    "plt.ylabel('True Label')\n",
    "plt.show()\n",
    "\n",
    "# 테스트 세트 정확도 출력\n",
    "print(\"\\n--- LogisticRegression Classifier ---\")\n",
    "print(f\"Test Accuracy: {accuracy_score(y_test, y_pred_lr)}\")\n",
    "\n",
    "# F1 스코어 계산 및 출력\n",
    "f1 = f1_score(y_test, y_pred_lr, average='macro')  # 'macro'는 각 클래스에 대한 평균을 의미함\n",
    "print(f\"Macro F1 Score: {f1}\")\n",
    "\n",
    "# 각 클래스별 정밀도, 재현율, F1 스코어를 보고 싶다면 classification_report 사용\n",
    "print(\"\\nClassification Report:\")\n",
    "print(classification_report(y_test, y_pred_lr, target_names=LABELS))"
   ]
  },
  {
   "cell_type": "code",
   "execution_count": 32,
   "id": "d0c3f30e-4f94-44ce-bd07-0e096c2be2a6",
   "metadata": {},
   "outputs": [
    {
     "name": "stdout",
     "output_type": "stream",
     "text": [
      "Fitting 5 folds for each of 50 candidates, totalling 250 fits\n",
      "최적의 하이퍼파라미터:  {'max_depth': 6, 'min_samples_leaf': 10, 'min_samples_split': 7}\n",
      "최적의 교차 검증 정확도:  0.657185628742515\n"
     ]
    }
   ],
   "source": [
    "from sklearn.metrics import accuracy_score, confusion_matrix, ConfusionMatrixDisplay\n",
    "from sklearn.model_selection import RandomizedSearchCV, cross_val_score\n",
    "from sklearn.tree import DecisionTreeClassifier\n",
    "from scipy.stats import randint\n",
    "import matplotlib.pyplot as plt\n",
    "import seaborn as sns\n",
    "\n",
    "# 1. 하이퍼파라미터 범위 설정\n",
    "param_dist = {\n",
    "    'max_depth': randint(3, 11),           # 트리 최대 깊이를 3부터 10까지 랜덤으로 선택\n",
    "    'min_samples_split': randint(2, 11),   # 노드를 분할하는 데 필요한 최소 샘플 수 (2부터 10까지)\n",
    "    'min_samples_leaf': randint(1, 11)     # 리프 노드에 필요한 최소 샘플 수 (1부터 10까지)\n",
    "}\n",
    "\n",
    "# 2. RandomizedSearchCV 설정\n",
    "clf_dt = DecisionTreeClassifier(random_state=32)\n",
    "random_search = RandomizedSearchCV(estimator=clf_dt, param_distributions=param_dist, n_iter=50, cv=5, scoring='accuracy', n_jobs=-1, verbose=2, random_state=42)\n",
    "\n",
    "# 3. 모델 학습 및 랜덤 서치 수행\n",
    "random_search.fit(train_scaled, y_train)\n",
    "\n",
    "# 최적의 하이퍼파라미터 출력\n",
    "print(\"최적의 하이퍼파라미터: \", random_search.best_params_)\n",
    "\n",
    "# 최적의 하이퍼파라미터로 평가된 평균 정확도 출력\n",
    "print(\"최적의 교차 검증 정확도: \", random_search.best_score_)"
   ]
  },
  {
   "cell_type": "code",
   "execution_count": 33,
   "id": "61b20602-7f78-4aa1-bccd-0c73fbb30d5f",
   "metadata": {},
   "outputs": [
    {
     "name": "stdout",
     "output_type": "stream",
     "text": [
      "교차 검증 성능 (각 폴드): [0.67365269 0.65568862 0.64820359 0.64371257 0.66467066]\n",
      "평균 교차 검증 성능: 0.657185628742515\n"
     ]
    }
   ],
   "source": [
    "# 4. 최적의 모델을 best_clf_dt로 저장하고 K-Fold 교차 검증 (K=5)\n",
    "best_clf_dt = random_search.best_estimator_\n",
    "\n",
    "scores = cross_val_score(best_clf_dt, train_scaled, y_train, cv=5)\n",
    "\n",
    "# 각 폴드에서의 성능 및 평균 성능\n",
    "print(\"교차 검증 성능 (각 폴드):\", scores)\n",
    "print(\"평균 교차 검증 성능:\", scores.mean())"
   ]
  },
  {
   "cell_type": "code",
   "execution_count": 34,
   "id": "30f2c334-804b-4cda-b828-2d8f95bb94d9",
   "metadata": {},
   "outputs": [
    {
     "data": {
      "image/png": "[encoded data removed]",
      "text/plain": [
       "<Figure size 640x480 with 1 Axes>"
      ]
     },
     "metadata": {},
     "output_type": "display_data"
    }
   ],
   "source": [
    "# 교차 검증 결과 시각화\n",
    "plt.plot(range(1, 6), scores, marker='o', linestyle='--')\n",
    "plt.title('Decision Tree Cross-Validation Accuracy')\n",
    "plt.xlabel('Fold')\n",
    "plt.ylabel('Accuracy')\n",
    "plt.ylim([0.5, 1.0])\n",
    "plt.show()"
   ]
  },
  {
   "cell_type": "code",
   "execution_count": 35,
   "id": "e4578ff7-9a6b-49ee-a2b8-d2d0f4d110c3",
   "metadata": {},
   "outputs": [
    {
     "data": {
      "image/png": "[encoded data removed]",
      "text/plain": [
       "<Figure size 800x600 with 2 Axes>"
      ]
     },
     "metadata": {},
     "output_type": "display_data"
    },
    {
     "name": "stdout",
     "output_type": "stream",
     "text": [
      "\n",
      "--- Decision Tree Classifier ---\n",
      "Test Accuracy: 0.6455089820359281\n",
      "Macro F1 Score: 0.6092436155417119\n",
      "\n",
      "Classification Report:\n",
      "              precision    recall  f1-score   support\n",
      "\n",
      "       Young       0.58      0.74      0.65       362\n",
      " Middle-aged       0.69      0.32      0.44       192\n",
      "         Old       0.73      0.75      0.74       281\n",
      "\n",
      "    accuracy                           0.65       835\n",
      "   macro avg       0.67      0.60      0.61       835\n",
      "weighted avg       0.66      0.65      0.63       835\n",
      "\n"
     ]
    }
   ],
   "source": [
    "# 테스트 데이터에 대한 예측\n",
    "y_pred_dt = best_clf_dt.predict(test_scaled)\n",
    "\n",
    "# 혼돈 행렬 계산 및 시각화\n",
    "cm = confusion_matrix(y_test, y_pred_dt)\n",
    "\n",
    "# 클래스 레이블 정의 \n",
    "LABELS = ['Young', 'Middle-aged', 'Old']\n",
    "\n",
    "# 혼돈 행렬 히트맵 시각화\n",
    "plt.figure(figsize=(8,6))\n",
    "sns.heatmap(cm, annot=True, fmt='d', cmap=\"YlGnBu\", xticklabels=LABELS, yticklabels=LABELS)\n",
    "plt.title('Decision Tree Confusion Matrix')\n",
    "plt.xlabel('Predicted Label')\n",
    "plt.ylabel('True Label')\n",
    "plt.show()\n",
    "\n",
    "# 테스트 세트 정확도 출력\n",
    "print(\"\\n--- Decision Tree Classifier ---\")\n",
    "print(f\"Test Accuracy: {accuracy_score(y_test, y_pred_dt)}\")\n",
    "\n",
    "# F1 스코어 계산 및 출력\n",
    "f1 = f1_score(y_test, y_pred_dt, average='macro')  # 'macro'는 각 클래스에 대한 평균을 의미함\n",
    "print(f\"Macro F1 Score: {f1}\")\n",
    "\n",
    "# 각 클래스별 정밀도, 재현율, F1 스코어를 보고 싶다면 classification_report 사용\n",
    "print(\"\\nClassification Report:\")\n",
    "print(classification_report(y_test, y_pred_dt, target_names=LABELS))"
   ]
  },
  {
   "cell_type": "code",
   "execution_count": 36,
   "id": "c93434f4-4a2a-4cd0-9c6c-416ad6b8d6c2",
   "metadata": {},
   "outputs": [
    {
     "name": "stdout",
     "output_type": "stream",
     "text": [
      "Fitting 5 folds for each of 50 candidates, totalling 250 fits\n",
      "최적의 하이퍼파라미터:  {'bootstrap': True, 'max_depth': 11, 'min_samples_leaf': 8, 'min_samples_split': 2, 'n_estimators': 185}\n",
      "최적의 교차 검증 정확도:  0.6898203592814371\n"
     ]
    }
   ],
   "source": [
    "from sklearn.metrics import accuracy_score, confusion_matrix, ConfusionMatrixDisplay\n",
    "from sklearn.model_selection import RandomizedSearchCV, cross_val_score\n",
    "from sklearn.ensemble import RandomForestClassifier\n",
    "from scipy.stats import randint\n",
    "import matplotlib.pyplot as plt\n",
    "import seaborn as sns\n",
    "\n",
    "# 1. 하이퍼파라미터 범위 설정\n",
    "param_dist = {\n",
    "    'n_estimators': randint(50, 200),              # 트리 개수를 50부터 200까지 랜덤으로 선택\n",
    "    'max_depth': randint(3, 20),                   # 트리의 최대 깊이를 3부터 20까지 랜덤으로 선택\n",
    "    'min_samples_split': randint(2, 11),           # 노드를 분할하는 데 필요한 최소 샘플 수 (2부터 10까지)\n",
    "    'min_samples_leaf': randint(1, 11),            # 리프 노드에 필요한 최소 샘플 수 (1부터 10까지)\n",
    "    'bootstrap': [True, False]                     # 부트스트랩 방법 사용 여부\n",
    "}\n",
    "\n",
    "# 2. RandomizedSearchCV 설정\n",
    "clf_rf = RandomForestClassifier(random_state=32)\n",
    "random_search = RandomizedSearchCV(estimator=clf_rf, param_distributions=param_dist, n_iter=50, cv=5, scoring='accuracy', n_jobs=-1, verbose=2, random_state=42)\n",
    "\n",
    "# 3. 모델 학습 및 랜덤 서치 수행\n",
    "random_search.fit(train_scaled, y_train)\n",
    "\n",
    "# 최적의 하이퍼파라미터 출력\n",
    "print(\"최적의 하이퍼파라미터: \", random_search.best_params_)\n",
    "\n",
    "# 최적의 하이퍼파라미터로 평가된 평균 정확도 출력\n",
    "print(\"최적의 교차 검증 정확도: \", random_search.best_score_)"
   ]
  },
  {
   "cell_type": "code",
   "execution_count": 37,
   "id": "ee623ae3-25d6-4ef4-ba70-5ebb1cc1da27",
   "metadata": {},
   "outputs": [
    {
     "name": "stdout",
     "output_type": "stream",
     "text": [
      "교차 검증 성능 (각 폴드): [0.71257485 0.69461078 0.66916168 0.67664671 0.69610778]\n",
      "평균 교차 검증 성능: 0.6898203592814371\n"
     ]
    }
   ],
   "source": [
    "# 4. 최적의 모델을 best_clf_rf로 저장하고 K-Fold 교차 검증 (K=5)\n",
    "best_clf_rf = random_search.best_estimator_\n",
    "scores = cross_val_score(best_clf_rf, train_scaled, y_train, cv=5)\n",
    "\n",
    "# 각 폴드에서의 성능 및 평균 성능\n",
    "print(\"교차 검증 성능 (각 폴드):\", scores)\n",
    "print(\"평균 교차 검증 성능:\", scores.mean())"
   ]
  },
  {
   "cell_type": "code",
   "execution_count": 38,
   "id": "1da52776-bf24-44cc-b986-fdf88d194a05",
   "metadata": {},
   "outputs": [
    {
     "data": {
      "image/png": "[encoded data removed]",
      "text/plain": [
       "<Figure size 640x480 with 1 Axes>"
      ]
     },
     "metadata": {},
     "output_type": "display_data"
    }
   ],
   "source": [
    "# 교차 검증 결과 시각화\n",
    "plt.plot(range(1, 6), scores, marker='o', linestyle='--')\n",
    "plt.title('Random Forest Cross-Validation Accuracy')\n",
    "plt.xlabel('Fold')\n",
    "plt.ylabel('Accuracy')\n",
    "plt.ylim([0.5, 1.0])\n",
    "plt.show()"
   ]
  },
  {
   "cell_type": "code",
   "execution_count": 39,
   "id": "fe9a3e5e-55be-4663-984a-77ff2ba3472e",
   "metadata": {},
   "outputs": [
    {
     "data": {
      "image/png": "[encoded data removed]",
      "text/plain": [
       "<Figure size 800x600 with 2 Axes>"
      ]
     },
     "metadata": {},
     "output_type": "display_data"
    },
    {
     "name": "stdout",
     "output_type": "stream",
     "text": [
      "\n",
      "--- Random Forest Classifier ---\n",
      "Test Accuracy: 0.667065868263473\n",
      "Macro F1 Score: 0.6504819967094363\n",
      "\n",
      "Classification Report:\n",
      "              precision    recall  f1-score   support\n",
      "\n",
      "       Young       0.61      0.74      0.67       362\n",
      " Middle-aged       0.70      0.45      0.55       192\n",
      "         Old       0.75      0.72      0.74       281\n",
      "\n",
      "    accuracy                           0.67       835\n",
      "   macro avg       0.69      0.64      0.65       835\n",
      "weighted avg       0.68      0.67      0.66       835\n",
      "\n"
     ]
    }
   ],
   "source": [
    "# 테스트 데이터에 대한 예측\n",
    "y_pred_rf = best_clf_rf.predict(test_scaled)\n",
    "\n",
    "# 혼돈 행렬 계산 및 시각화\n",
    "cm = confusion_matrix(y_test, y_pred_rf)\n",
    "\n",
    "# 클래스 레이블 정의\n",
    "LABELS = ['Young', 'Middle-aged', 'Old']\n",
    "\n",
    "# 혼돈 행렬 히트맵 시각화\n",
    "plt.figure(figsize=(8,6))\n",
    "sns.heatmap(cm, annot=True, fmt='d', cmap=\"YlGnBu\", xticklabels=LABELS, yticklabels=LABELS)\n",
    "plt.title('Random Forest Confusion Matrix')\n",
    "plt.xlabel('Predicted Label')\n",
    "plt.ylabel('True Label')\n",
    "plt.show()\n",
    "\n",
    "# 테스트 세트 정확도 출력\n",
    "print(\"\\n--- Random Forest Classifier ---\")\n",
    "print(f\"Test Accuracy: {accuracy_score(y_test, y_pred_rf)}\")\n",
    "\n",
    "# F1 스코어 계산 및 출력\n",
    "f1 = f1_score(y_test, y_pred_rf, average='macro')  # 'macro'는 각 클래스에 대한 평균을 의미함\n",
    "print(f\"Macro F1 Score: {f1}\")\n",
    "\n",
    "# 각 클래스별 정밀도, 재현율, F1 스코어를 보고 싶다면 classification_report 사용\n",
    "print(\"\\nClassification Report:\")\n",
    "print(classification_report(y_test, y_pred_rf, target_names=LABELS))"
   ]
  },
  {
   "cell_type": "markdown",
   "id": "7cb7753d-bbc2-4ae5-b5b3-76ba439a828a",
   "metadata": {},
   "source": [
    "### 데이터 전처리 단계에서 정확도 올리기\n",
    "- Rings와 상관관계가 비교적 낮았던 Sex_encoded, Shucked_weight 제거\n",
    "- Smote 함수를 사용한 label OverSampling"
   ]
  },
  {
   "cell_type": "code",
   "execution_count": 40,
   "id": "9dabaf1b-597b-4a65-bb5b-b87992f178aa",
   "metadata": {},
   "outputs": [
    {
     "data": {
      "text/html": [
       "<div>\n",
       "<style scoped>\n",
       "    .dataframe tbody tr th:only-of-type {\n",
       "        vertical-align: middle;\n",
       "    }\n",
       "\n",
       "    .dataframe tbody tr th {\n",
       "        vertical-align: top;\n",
       "    }\n",
       "\n",
       "    .dataframe thead th {\n",
       "        text-align: right;\n",
       "    }\n",
       "</style>\n",
       "<table border=\"1\" class=\"dataframe\">\n",
       "  <thead>\n",
       "    <tr style=\"text-align: right;\">\n",
       "      <th></th>\n",
       "      <th>Length</th>\n",
       "      <th>Diameter</th>\n",
       "      <th>Height</th>\n",
       "      <th>Whole_weight</th>\n",
       "      <th>Shucked_weight</th>\n",
       "      <th>Viscera_weight</th>\n",
       "      <th>Shell_weight</th>\n",
       "      <th>Rings</th>\n",
       "      <th>Rings_binned</th>\n",
       "    </tr>\n",
       "  </thead>\n",
       "  <tbody>\n",
       "    <tr>\n",
       "      <th>0</th>\n",
       "      <td>0.455</td>\n",
       "      <td>0.365</td>\n",
       "      <td>0.095</td>\n",
       "      <td>0.5140</td>\n",
       "      <td>0.2245</td>\n",
       "      <td>0.1010</td>\n",
       "      <td>0.1500</td>\n",
       "      <td>15</td>\n",
       "      <td>Old</td>\n",
       "    </tr>\n",
       "    <tr>\n",
       "      <th>1</th>\n",
       "      <td>0.350</td>\n",
       "      <td>0.265</td>\n",
       "      <td>0.090</td>\n",
       "      <td>0.2255</td>\n",
       "      <td>0.0995</td>\n",
       "      <td>0.0485</td>\n",
       "      <td>0.0700</td>\n",
       "      <td>7</td>\n",
       "      <td>Young</td>\n",
       "    </tr>\n",
       "    <tr>\n",
       "      <th>2</th>\n",
       "      <td>0.530</td>\n",
       "      <td>0.420</td>\n",
       "      <td>0.135</td>\n",
       "      <td>0.6770</td>\n",
       "      <td>0.2565</td>\n",
       "      <td>0.1415</td>\n",
       "      <td>0.2100</td>\n",
       "      <td>9</td>\n",
       "      <td>Middle-aged</td>\n",
       "    </tr>\n",
       "    <tr>\n",
       "      <th>3</th>\n",
       "      <td>0.440</td>\n",
       "      <td>0.365</td>\n",
       "      <td>0.125</td>\n",
       "      <td>0.5160</td>\n",
       "      <td>0.2155</td>\n",
       "      <td>0.1140</td>\n",
       "      <td>0.1550</td>\n",
       "      <td>10</td>\n",
       "      <td>Middle-aged</td>\n",
       "    </tr>\n",
       "    <tr>\n",
       "      <th>4</th>\n",
       "      <td>0.330</td>\n",
       "      <td>0.255</td>\n",
       "      <td>0.080</td>\n",
       "      <td>0.2050</td>\n",
       "      <td>0.0895</td>\n",
       "      <td>0.0395</td>\n",
       "      <td>0.0550</td>\n",
       "      <td>7</td>\n",
       "      <td>Young</td>\n",
       "    </tr>\n",
       "    <tr>\n",
       "      <th>...</th>\n",
       "      <td>...</td>\n",
       "      <td>...</td>\n",
       "      <td>...</td>\n",
       "      <td>...</td>\n",
       "      <td>...</td>\n",
       "      <td>...</td>\n",
       "      <td>...</td>\n",
       "      <td>...</td>\n",
       "      <td>...</td>\n",
       "    </tr>\n",
       "    <tr>\n",
       "      <th>4172</th>\n",
       "      <td>0.565</td>\n",
       "      <td>0.450</td>\n",
       "      <td>0.165</td>\n",
       "      <td>0.8870</td>\n",
       "      <td>0.3700</td>\n",
       "      <td>0.2390</td>\n",
       "      <td>0.2490</td>\n",
       "      <td>11</td>\n",
       "      <td>Middle-aged</td>\n",
       "    </tr>\n",
       "    <tr>\n",
       "      <th>4173</th>\n",
       "      <td>0.590</td>\n",
       "      <td>0.440</td>\n",
       "      <td>0.135</td>\n",
       "      <td>0.9660</td>\n",
       "      <td>0.4390</td>\n",
       "      <td>0.2145</td>\n",
       "      <td>0.2605</td>\n",
       "      <td>10</td>\n",
       "      <td>Middle-aged</td>\n",
       "    </tr>\n",
       "    <tr>\n",
       "      <th>4174</th>\n",
       "      <td>0.600</td>\n",
       "      <td>0.475</td>\n",
       "      <td>0.205</td>\n",
       "      <td>1.1760</td>\n",
       "      <td>0.5255</td>\n",
       "      <td>0.2875</td>\n",
       "      <td>0.3080</td>\n",
       "      <td>9</td>\n",
       "      <td>Middle-aged</td>\n",
       "    </tr>\n",
       "    <tr>\n",
       "      <th>4175</th>\n",
       "      <td>0.625</td>\n",
       "      <td>0.485</td>\n",
       "      <td>0.150</td>\n",
       "      <td>1.0945</td>\n",
       "      <td>0.5310</td>\n",
       "      <td>0.2610</td>\n",
       "      <td>0.2960</td>\n",
       "      <td>10</td>\n",
       "      <td>Middle-aged</td>\n",
       "    </tr>\n",
       "    <tr>\n",
       "      <th>4176</th>\n",
       "      <td>0.710</td>\n",
       "      <td>0.555</td>\n",
       "      <td>0.195</td>\n",
       "      <td>1.9485</td>\n",
       "      <td>0.9455</td>\n",
       "      <td>0.3765</td>\n",
       "      <td>0.4950</td>\n",
       "      <td>12</td>\n",
       "      <td>Old</td>\n",
       "    </tr>\n",
       "  </tbody>\n",
       "</table>\n",
       "<p>4175 rows × 9 columns</p>\n",
       "</div>"
      ],
      "text/plain": [
       "      Length  Diameter  Height  Whole_weight  Shucked_weight  Viscera_weight  \\\n",
       "0      0.455     0.365   0.095        0.5140          0.2245          0.1010   \n",
       "1      0.350     0.265   0.090        0.2255          0.0995          0.0485   \n",
       "2      0.530     0.420   0.135        0.6770          0.2565          0.1415   \n",
       "3      0.440     0.365   0.125        0.5160          0.2155          0.1140   \n",
       "4      0.330     0.255   0.080        0.2050          0.0895          0.0395   \n",
       "...      ...       ...     ...           ...             ...             ...   \n",
       "4172   0.565     0.450   0.165        0.8870          0.3700          0.2390   \n",
       "4173   0.590     0.440   0.135        0.9660          0.4390          0.2145   \n",
       "4174   0.600     0.475   0.205        1.1760          0.5255          0.2875   \n",
       "4175   0.625     0.485   0.150        1.0945          0.5310          0.2610   \n",
       "4176   0.710     0.555   0.195        1.9485          0.9455          0.3765   \n",
       "\n",
       "      Shell_weight  Rings Rings_binned  \n",
       "0           0.1500     15          Old  \n",
       "1           0.0700      7        Young  \n",
       "2           0.2100      9  Middle-aged  \n",
       "3           0.1550     10  Middle-aged  \n",
       "4           0.0550      7        Young  \n",
       "...            ...    ...          ...  \n",
       "4172        0.2490     11  Middle-aged  \n",
       "4173        0.2605     10  Middle-aged  \n",
       "4174        0.3080      9  Middle-aged  \n",
       "4175        0.2960     10  Middle-aged  \n",
       "4176        0.4950     12          Old  \n",
       "\n",
       "[4175 rows x 9 columns]"
      ]
     },
     "execution_count": 40,
     "metadata": {},
     "output_type": "execute_result"
    }
   ],
   "source": [
    "# df에서 Sex_encoded, Shucked_weight 제거\n",
    "df = df.drop(['Sex_encoded'], axis=1)\n",
    "df"
   ]
  },
  {
   "cell_type": "code",
   "execution_count": 41,
   "id": "ee8d3c93-b2d7-419a-8326-e6c639d2c684",
   "metadata": {},
   "outputs": [
    {
     "data": {
      "text/html": [
       "<div>\n",
       "<style scoped>\n",
       "    .dataframe tbody tr th:only-of-type {\n",
       "        vertical-align: middle;\n",
       "    }\n",
       "\n",
       "    .dataframe tbody tr th {\n",
       "        vertical-align: top;\n",
       "    }\n",
       "\n",
       "    .dataframe thead th {\n",
       "        text-align: right;\n",
       "    }\n",
       "</style>\n",
       "<table border=\"1\" class=\"dataframe\">\n",
       "  <thead>\n",
       "    <tr style=\"text-align: right;\">\n",
       "      <th></th>\n",
       "      <th>Length</th>\n",
       "      <th>Diameter</th>\n",
       "      <th>Height</th>\n",
       "      <th>Whole_weight</th>\n",
       "      <th>Shucked_weight</th>\n",
       "      <th>Viscera_weight</th>\n",
       "      <th>Shell_weight</th>\n",
       "      <th>Rings_binned</th>\n",
       "    </tr>\n",
       "  </thead>\n",
       "  <tbody>\n",
       "    <tr>\n",
       "      <th>0</th>\n",
       "      <td>0.455</td>\n",
       "      <td>0.365</td>\n",
       "      <td>0.095</td>\n",
       "      <td>0.5140</td>\n",
       "      <td>0.2245</td>\n",
       "      <td>0.1010</td>\n",
       "      <td>0.1500</td>\n",
       "      <td>Old</td>\n",
       "    </tr>\n",
       "    <tr>\n",
       "      <th>1</th>\n",
       "      <td>0.350</td>\n",
       "      <td>0.265</td>\n",
       "      <td>0.090</td>\n",
       "      <td>0.2255</td>\n",
       "      <td>0.0995</td>\n",
       "      <td>0.0485</td>\n",
       "      <td>0.0700</td>\n",
       "      <td>Young</td>\n",
       "    </tr>\n",
       "    <tr>\n",
       "      <th>2</th>\n",
       "      <td>0.530</td>\n",
       "      <td>0.420</td>\n",
       "      <td>0.135</td>\n",
       "      <td>0.6770</td>\n",
       "      <td>0.2565</td>\n",
       "      <td>0.1415</td>\n",
       "      <td>0.2100</td>\n",
       "      <td>Middle-aged</td>\n",
       "    </tr>\n",
       "    <tr>\n",
       "      <th>3</th>\n",
       "      <td>0.440</td>\n",
       "      <td>0.365</td>\n",
       "      <td>0.125</td>\n",
       "      <td>0.5160</td>\n",
       "      <td>0.2155</td>\n",
       "      <td>0.1140</td>\n",
       "      <td>0.1550</td>\n",
       "      <td>Middle-aged</td>\n",
       "    </tr>\n",
       "    <tr>\n",
       "      <th>4</th>\n",
       "      <td>0.330</td>\n",
       "      <td>0.255</td>\n",
       "      <td>0.080</td>\n",
       "      <td>0.2050</td>\n",
       "      <td>0.0895</td>\n",
       "      <td>0.0395</td>\n",
       "      <td>0.0550</td>\n",
       "      <td>Young</td>\n",
       "    </tr>\n",
       "    <tr>\n",
       "      <th>...</th>\n",
       "      <td>...</td>\n",
       "      <td>...</td>\n",
       "      <td>...</td>\n",
       "      <td>...</td>\n",
       "      <td>...</td>\n",
       "      <td>...</td>\n",
       "      <td>...</td>\n",
       "      <td>...</td>\n",
       "    </tr>\n",
       "    <tr>\n",
       "      <th>4172</th>\n",
       "      <td>0.565</td>\n",
       "      <td>0.450</td>\n",
       "      <td>0.165</td>\n",
       "      <td>0.8870</td>\n",
       "      <td>0.3700</td>\n",
       "      <td>0.2390</td>\n",
       "      <td>0.2490</td>\n",
       "      <td>Middle-aged</td>\n",
       "    </tr>\n",
       "    <tr>\n",
       "      <th>4173</th>\n",
       "      <td>0.590</td>\n",
       "      <td>0.440</td>\n",
       "      <td>0.135</td>\n",
       "      <td>0.9660</td>\n",
       "      <td>0.4390</td>\n",
       "      <td>0.2145</td>\n",
       "      <td>0.2605</td>\n",
       "      <td>Middle-aged</td>\n",
       "    </tr>\n",
       "    <tr>\n",
       "      <th>4174</th>\n",
       "      <td>0.600</td>\n",
       "      <td>0.475</td>\n",
       "      <td>0.205</td>\n",
       "      <td>1.1760</td>\n",
       "      <td>0.5255</td>\n",
       "      <td>0.2875</td>\n",
       "      <td>0.3080</td>\n",
       "      <td>Middle-aged</td>\n",
       "    </tr>\n",
       "    <tr>\n",
       "      <th>4175</th>\n",
       "      <td>0.625</td>\n",
       "      <td>0.485</td>\n",
       "      <td>0.150</td>\n",
       "      <td>1.0945</td>\n",
       "      <td>0.5310</td>\n",
       "      <td>0.2610</td>\n",
       "      <td>0.2960</td>\n",
       "      <td>Middle-aged</td>\n",
       "    </tr>\n",
       "    <tr>\n",
       "      <th>4176</th>\n",
       "      <td>0.710</td>\n",
       "      <td>0.555</td>\n",
       "      <td>0.195</td>\n",
       "      <td>1.9485</td>\n",
       "      <td>0.9455</td>\n",
       "      <td>0.3765</td>\n",
       "      <td>0.4950</td>\n",
       "      <td>Old</td>\n",
       "    </tr>\n",
       "  </tbody>\n",
       "</table>\n",
       "<p>4175 rows × 8 columns</p>\n",
       "</div>"
      ],
      "text/plain": [
       "      Length  Diameter  Height  Whole_weight  Shucked_weight  Viscera_weight  \\\n",
       "0      0.455     0.365   0.095        0.5140          0.2245          0.1010   \n",
       "1      0.350     0.265   0.090        0.2255          0.0995          0.0485   \n",
       "2      0.530     0.420   0.135        0.6770          0.2565          0.1415   \n",
       "3      0.440     0.365   0.125        0.5160          0.2155          0.1140   \n",
       "4      0.330     0.255   0.080        0.2050          0.0895          0.0395   \n",
       "...      ...       ...     ...           ...             ...             ...   \n",
       "4172   0.565     0.450   0.165        0.8870          0.3700          0.2390   \n",
       "4173   0.590     0.440   0.135        0.9660          0.4390          0.2145   \n",
       "4174   0.600     0.475   0.205        1.1760          0.5255          0.2875   \n",
       "4175   0.625     0.485   0.150        1.0945          0.5310          0.2610   \n",
       "4176   0.710     0.555   0.195        1.9485          0.9455          0.3765   \n",
       "\n",
       "      Shell_weight Rings_binned  \n",
       "0           0.1500          Old  \n",
       "1           0.0700        Young  \n",
       "2           0.2100  Middle-aged  \n",
       "3           0.1550  Middle-aged  \n",
       "4           0.0550        Young  \n",
       "...            ...          ...  \n",
       "4172        0.2490  Middle-aged  \n",
       "4173        0.2605  Middle-aged  \n",
       "4174        0.3080  Middle-aged  \n",
       "4175        0.2960  Middle-aged  \n",
       "4176        0.4950          Old  \n",
       "\n",
       "[4175 rows x 8 columns]"
      ]
     },
     "execution_count": 41,
     "metadata": {},
     "output_type": "execute_result"
    }
   ],
   "source": [
    "# 분류 문제로 적용하기 위해서 Rings 제거\n",
    "X = df.drop('Rings', axis=1)\n",
    "X"
   ]
  },
  {
   "cell_type": "code",
   "execution_count": 42,
   "id": "d0d382cf-038c-47bd-848a-8476c4b1ed6b",
   "metadata": {},
   "outputs": [
    {
     "data": {
      "text/plain": [
       "0               Old\n",
       "1             Young\n",
       "2       Middle-aged\n",
       "3       Middle-aged\n",
       "4             Young\n",
       "           ...     \n",
       "4172    Middle-aged\n",
       "4173    Middle-aged\n",
       "4174    Middle-aged\n",
       "4175    Middle-aged\n",
       "4176            Old\n",
       "Name: Rings_binned, Length: 4175, dtype: category\n",
       "Categories (3, object): ['Young' < 'Middle-aged' < 'Old']"
      ]
     },
     "execution_count": 42,
     "metadata": {},
     "output_type": "execute_result"
    }
   ],
   "source": [
    "y = X['Rings_binned']\n",
    "y"
   ]
  },
  {
   "cell_type": "code",
   "execution_count": 43,
   "id": "67c120f1-fcce-4c3e-8a7b-866dbf5ffeef",
   "metadata": {},
   "outputs": [
    {
     "data": {
      "text/html": [
       "<div>\n",
       "<style scoped>\n",
       "    .dataframe tbody tr th:only-of-type {\n",
       "        vertical-align: middle;\n",
       "    }\n",
       "\n",
       "    .dataframe tbody tr th {\n",
       "        vertical-align: top;\n",
       "    }\n",
       "\n",
       "    .dataframe thead th {\n",
       "        text-align: right;\n",
       "    }\n",
       "</style>\n",
       "<table border=\"1\" class=\"dataframe\">\n",
       "  <thead>\n",
       "    <tr style=\"text-align: right;\">\n",
       "      <th></th>\n",
       "      <th>Length</th>\n",
       "      <th>Diameter</th>\n",
       "      <th>Height</th>\n",
       "      <th>Whole_weight</th>\n",
       "      <th>Shucked_weight</th>\n",
       "      <th>Viscera_weight</th>\n",
       "      <th>Shell_weight</th>\n",
       "    </tr>\n",
       "  </thead>\n",
       "  <tbody>\n",
       "    <tr>\n",
       "      <th>0</th>\n",
       "      <td>0.455</td>\n",
       "      <td>0.365</td>\n",
       "      <td>0.095</td>\n",
       "      <td>0.5140</td>\n",
       "      <td>0.2245</td>\n",
       "      <td>0.1010</td>\n",
       "      <td>0.1500</td>\n",
       "    </tr>\n",
       "    <tr>\n",
       "      <th>1</th>\n",
       "      <td>0.350</td>\n",
       "      <td>0.265</td>\n",
       "      <td>0.090</td>\n",
       "      <td>0.2255</td>\n",
       "      <td>0.0995</td>\n",
       "      <td>0.0485</td>\n",
       "      <td>0.0700</td>\n",
       "    </tr>\n",
       "    <tr>\n",
       "      <th>2</th>\n",
       "      <td>0.530</td>\n",
       "      <td>0.420</td>\n",
       "      <td>0.135</td>\n",
       "      <td>0.6770</td>\n",
       "      <td>0.2565</td>\n",
       "      <td>0.1415</td>\n",
       "      <td>0.2100</td>\n",
       "    </tr>\n",
       "    <tr>\n",
       "      <th>3</th>\n",
       "      <td>0.440</td>\n",
       "      <td>0.365</td>\n",
       "      <td>0.125</td>\n",
       "      <td>0.5160</td>\n",
       "      <td>0.2155</td>\n",
       "      <td>0.1140</td>\n",
       "      <td>0.1550</td>\n",
       "    </tr>\n",
       "    <tr>\n",
       "      <th>4</th>\n",
       "      <td>0.330</td>\n",
       "      <td>0.255</td>\n",
       "      <td>0.080</td>\n",
       "      <td>0.2050</td>\n",
       "      <td>0.0895</td>\n",
       "      <td>0.0395</td>\n",
       "      <td>0.0550</td>\n",
       "    </tr>\n",
       "    <tr>\n",
       "      <th>...</th>\n",
       "      <td>...</td>\n",
       "      <td>...</td>\n",
       "      <td>...</td>\n",
       "      <td>...</td>\n",
       "      <td>...</td>\n",
       "      <td>...</td>\n",
       "      <td>...</td>\n",
       "    </tr>\n",
       "    <tr>\n",
       "      <th>4172</th>\n",
       "      <td>0.565</td>\n",
       "      <td>0.450</td>\n",
       "      <td>0.165</td>\n",
       "      <td>0.8870</td>\n",
       "      <td>0.3700</td>\n",
       "      <td>0.2390</td>\n",
       "      <td>0.2490</td>\n",
       "    </tr>\n",
       "    <tr>\n",
       "      <th>4173</th>\n",
       "      <td>0.590</td>\n",
       "      <td>0.440</td>\n",
       "      <td>0.135</td>\n",
       "      <td>0.9660</td>\n",
       "      <td>0.4390</td>\n",
       "      <td>0.2145</td>\n",
       "      <td>0.2605</td>\n",
       "    </tr>\n",
       "    <tr>\n",
       "      <th>4174</th>\n",
       "      <td>0.600</td>\n",
       "      <td>0.475</td>\n",
       "      <td>0.205</td>\n",
       "      <td>1.1760</td>\n",
       "      <td>0.5255</td>\n",
       "      <td>0.2875</td>\n",
       "      <td>0.3080</td>\n",
       "    </tr>\n",
       "    <tr>\n",
       "      <th>4175</th>\n",
       "      <td>0.625</td>\n",
       "      <td>0.485</td>\n",
       "      <td>0.150</td>\n",
       "      <td>1.0945</td>\n",
       "      <td>0.5310</td>\n",
       "      <td>0.2610</td>\n",
       "      <td>0.2960</td>\n",
       "    </tr>\n",
       "    <tr>\n",
       "      <th>4176</th>\n",
       "      <td>0.710</td>\n",
       "      <td>0.555</td>\n",
       "      <td>0.195</td>\n",
       "      <td>1.9485</td>\n",
       "      <td>0.9455</td>\n",
       "      <td>0.3765</td>\n",
       "      <td>0.4950</td>\n",
       "    </tr>\n",
       "  </tbody>\n",
       "</table>\n",
       "<p>4175 rows × 7 columns</p>\n",
       "</div>"
      ],
      "text/plain": [
       "      Length  Diameter  Height  Whole_weight  Shucked_weight  Viscera_weight  \\\n",
       "0      0.455     0.365   0.095        0.5140          0.2245          0.1010   \n",
       "1      0.350     0.265   0.090        0.2255          0.0995          0.0485   \n",
       "2      0.530     0.420   0.135        0.6770          0.2565          0.1415   \n",
       "3      0.440     0.365   0.125        0.5160          0.2155          0.1140   \n",
       "4      0.330     0.255   0.080        0.2050          0.0895          0.0395   \n",
       "...      ...       ...     ...           ...             ...             ...   \n",
       "4172   0.565     0.450   0.165        0.8870          0.3700          0.2390   \n",
       "4173   0.590     0.440   0.135        0.9660          0.4390          0.2145   \n",
       "4174   0.600     0.475   0.205        1.1760          0.5255          0.2875   \n",
       "4175   0.625     0.485   0.150        1.0945          0.5310          0.2610   \n",
       "4176   0.710     0.555   0.195        1.9485          0.9455          0.3765   \n",
       "\n",
       "      Shell_weight  \n",
       "0           0.1500  \n",
       "1           0.0700  \n",
       "2           0.2100  \n",
       "3           0.1550  \n",
       "4           0.0550  \n",
       "...            ...  \n",
       "4172        0.2490  \n",
       "4173        0.2605  \n",
       "4174        0.3080  \n",
       "4175        0.2960  \n",
       "4176        0.4950  \n",
       "\n",
       "[4175 rows x 7 columns]"
      ]
     },
     "execution_count": 43,
     "metadata": {},
     "output_type": "execute_result"
    }
   ],
   "source": [
    "X = X.drop('Rings_binned', axis=1)\n",
    "X"
   ]
  },
  {
   "cell_type": "code",
   "execution_count": 44,
   "id": "eeb1aab0-25ae-4fae-aea9-65a69d999a0a",
   "metadata": {},
   "outputs": [
    {
     "data": {
      "text/plain": [
       "((3340, 7), (835, 7), (3340,), (835,))"
      ]
     },
     "execution_count": 44,
     "metadata": {},
     "output_type": "execute_result"
    }
   ],
   "source": [
    "from sklearn.model_selection import train_test_split\n",
    "\n",
    "X_train, X_test, y_train, y_test = train_test_split(X, y, test_size=0.2, random_state=32)\n",
    "\n",
    "X_train.shape, X_test.shape, y_train.shape, y_test.shape"
   ]
  },
  {
   "cell_type": "code",
   "execution_count": 45,
   "id": "21f77e0f-1423-4c3e-9956-717418e913e8",
   "metadata": {},
   "outputs": [],
   "source": [
    "from imblearn.over_sampling import SMOTE\n",
    "\n",
    "# SMOTE 적용\n",
    "smote = SMOTE(random_state=42)\n",
    "X_train_resampled, y_train_resampled = smote.fit_resample(X_train, y_train)"
   ]
  },
  {
   "cell_type": "code",
   "execution_count": 46,
   "id": "cae3763d-213f-4142-b271-61afa9908477",
   "metadata": {},
   "outputs": [
    {
     "name": "stdout",
     "output_type": "stream",
     "text": [
      "원래 데이터셋 크기: (3340, 7)\n",
      "오버샘플링된 데이터셋 크기: (4353, 7)\n"
     ]
    }
   ],
   "source": [
    "# 결과 확인\n",
    "print(\"원래 데이터셋 크기:\", X_train.shape)\n",
    "print(\"오버샘플링된 데이터셋 크기:\", X_train_resampled.shape)"
   ]
  },
  {
   "cell_type": "code",
   "execution_count": 47,
   "id": "b1148827-ba6f-4246-a2a1-fad998aa8104",
   "metadata": {},
   "outputs": [
    {
     "name": "stdout",
     "output_type": "stream",
     "text": [
      "오버샘플링 전 클래스 분포:\n",
      " Rings_binned\n",
      "Middle-aged    1451\n",
      "Young          1128\n",
      "Old             761\n",
      "Name: count, dtype: int64\n",
      "오버샘플링 후 클래스 분포:\n",
      " Rings_binned\n",
      "Young          1451\n",
      "Middle-aged    1451\n",
      "Old            1451\n",
      "Name: count, dtype: int64\n"
     ]
    }
   ],
   "source": [
    "# 클래스 분포 확인\n",
    "print(\"오버샘플링 전 클래스 분포:\\n\", y_train.value_counts())\n",
    "print(\"오버샘플링 후 클래스 분포:\\n\", y_train_resampled.value_counts())"
   ]
  },
  {
   "cell_type": "code",
   "execution_count": 48,
   "id": "1f986e54-7513-4a2b-b26c-a4e928167f64",
   "metadata": {},
   "outputs": [
    {
     "name": "stderr",
     "output_type": "stream",
     "text": [
      "C:\\Users\\yc_hur\\AppData\\Local\\Temp\\ipykernel_12300\\1542653737.py:5: FutureWarning: \n",
      "\n",
      "Passing `palette` without assigning `hue` is deprecated and will be removed in v0.14.0. Assign the `x` variable to `hue` and set `legend=False` for the same effect.\n",
      "\n",
      "  sns.barplot(x=class_distribution.index, y=class_distribution.values, palette=[\"#1f77b4\", \"#ff7f0e\", \"#2ca02c\"], legend=False)\n"
     ]
    },
    {
     "data": {
      "image/png": "[encoded data removed]",
      "text/plain": [
       "<Figure size 640x480 with 1 Axes>"
      ]
     },
     "metadata": {},
     "output_type": "display_data"
    }
   ],
   "source": [
    "# 오버샘플링된 클래스 분포를 시리즈로 만듦\n",
    "class_distribution = y_train_resampled.value_counts()\n",
    "\n",
    "# 시각화\n",
    "sns.barplot(x=class_distribution.index, y=class_distribution.values, palette=[\"#1f77b4\", \"#ff7f0e\", \"#2ca02c\"], legend=False)\n",
    "\n",
    "# 그래프 설정\n",
    "plt.xlabel('Class (Rings_binned)')\n",
    "plt.ylabel('Count')\n",
    "plt.title('Class Distribution after SMOTE Oversampling')\n",
    "\n",
    "# 그래프 출력\n",
    "plt.show()"
   ]
  },
  {
   "cell_type": "code",
   "execution_count": 49,
   "id": "d9fa2f93-104f-470c-a379-bff79a56a5cf",
   "metadata": {},
   "outputs": [],
   "source": [
    "# 표준화 StandardScaler \n",
    "from sklearn.preprocessing import StandardScaler\n",
    "\n",
    "ss = StandardScaler()\n",
    "ss.fit(X_train_resampled)\n",
    "train_scaled = ss.transform(X_train_resampled)\n",
    "test_scaled = ss.transform(X_test)"
   ]
  },
  {
   "cell_type": "code",
   "execution_count": 50,
   "id": "1aaf0a21-9591-469a-94ad-cdb6b88889f8",
   "metadata": {},
   "outputs": [
    {
     "name": "stdout",
     "output_type": "stream",
     "text": [
      "Fitting 5 folds for each of 50 candidates, totalling 250 fits\n",
      "최적의 하이퍼파라미터:  {'C': 6.1111501174320875, 'gamma': 0.08080725777960454, 'kernel': 'rbf'}\n",
      "최적의 정확도:  0.6944653390870579\n"
     ]
    }
   ],
   "source": [
    "from sklearn.model_selection import RandomizedSearchCV\n",
    "from sklearn.svm import SVC\n",
    "from scipy.stats import uniform\n",
    "\n",
    "# 1. 하이퍼파라미터 범위 설정\n",
    "param_dist = {\n",
    "    'C': uniform(0.1, 10),      # C값을 0.1부터 10까지 랜덤으로 선택\n",
    "    'gamma': uniform(0.01, 0.1),  # gamma 값을 0.01부터 0.1까지 랜덤으로 선택\n",
    "    'kernel': ['linear', 'rbf', 'poly']  # 커널 종류\n",
    "}\n",
    "\n",
    "# 2. RandomizedSearchCV 설정\n",
    "clf_svm = SVC(random_state=32)\n",
    "random_search = RandomizedSearchCV(estimator=clf_svm, param_distributions=param_dist, n_iter=50, cv=5, scoring='accuracy', n_jobs=-1, verbose=2, random_state=42)\n",
    "\n",
    "# 모델 학습 및 랜덤 서치 수행\n",
    "random_search.fit(train_scaled, y_train_resampled)\n",
    "\n",
    "# 최적의 하이퍼파라미터 출력\n",
    "print(\"최적의 하이퍼파라미터: \", random_search.best_params_)\n",
    "\n",
    "# 최적의 하이퍼파라미터로 평가된 평균 정확도 출력\n",
    "print(\"최적의 정확도: \", random_search.best_score_)"
   ]
  },
  {
   "cell_type": "code",
   "execution_count": 51,
   "id": "9a0bec46-1f5a-46c0-abcc-90b71d0eb912",
   "metadata": {},
   "outputs": [
    {
     "name": "stdout",
     "output_type": "stream",
     "text": [
      "교차 검증 성능 (각 폴드): [0.68197474 0.69001148 0.70378875 0.69655172 0.7       ]\n",
      "평균 성능: 0.6944653390870579\n"
     ]
    }
   ],
   "source": [
    "from sklearn.model_selection import cross_val_score\n",
    "\n",
    "# 3. 최적의 하이퍼파라미터로 모델 평가\n",
    "best_clf_svm = random_search.best_estimator_\n",
    "\n",
    "scores = cross_val_score(best_clf_svm, train_scaled, y_train_resampled, cv=5)\n",
    "\n",
    "# 각 폴드에서의 성능 및 평균 성능 출력\n",
    "print(\"교차 검증 성능 (각 폴드):\", scores)\n",
    "print(\"평균 성능:\", scores.mean())"
   ]
  },
  {
   "cell_type": "code",
   "execution_count": 52,
   "id": "93818a88-05fa-4d5c-9ab5-7323d59d02ad",
   "metadata": {},
   "outputs": [
    {
     "data": {
      "image/png": "[encoded data removed]",
      "text/plain": [
       "<Figure size 640x480 with 1 Axes>"
      ]
     },
     "metadata": {},
     "output_type": "display_data"
    },
    {
     "name": "stdout",
     "output_type": "stream",
     "text": [
      "Mean accuracy across folds: 0.6944653390870579\n"
     ]
    }
   ],
   "source": [
    "# 교차 검증 결과 시각화\n",
    "plt.plot(range(1, 6), scores, marker='o', linestyle='--')\n",
    "plt.title('SVM Cross-Validation Accuracy')\n",
    "plt.xlabel('Fold')\n",
    "plt.ylabel('Accuracy')\n",
    "plt.ylim([0.5, 1.0])\n",
    "plt.show()\n",
    "\n",
    "# 평균 정확도 출력\n",
    "print(f\"Mean accuracy across folds: {scores.mean()}\")"
   ]
  },
  {
   "cell_type": "code",
   "execution_count": 53,
   "id": "45b2a88b-b8f9-49ab-8dd9-24da9a116b9e",
   "metadata": {},
   "outputs": [
    {
     "data": {
      "image/png": "[encoded data removed]",
      "text/plain": [
       "<Figure size 800x600 with 2 Axes>"
      ]
     },
     "metadata": {},
     "output_type": "display_data"
    },
    {
     "name": "stdout",
     "output_type": "stream",
     "text": [
      "\n",
      "--- SVM Classifier ---\n",
      "Test Accuracy: 0.6646706586826348\n",
      "Macro F1 Score: 0.6632984633635747\n",
      "\n",
      "Classification Report:\n",
      "              precision    recall  f1-score   support\n",
      "\n",
      "       Young       0.65      0.60      0.62       359\n",
      " Middle-aged       0.61      0.64      0.62       199\n",
      "         Old       0.72      0.77      0.74       277\n",
      "\n",
      "    accuracy                           0.66       835\n",
      "   macro avg       0.66      0.67      0.66       835\n",
      "weighted avg       0.66      0.66      0.66       835\n",
      "\n"
     ]
    }
   ],
   "source": [
    "# 혼동 행렬 계산 및 시각화\n",
    "y_pred_svm = best_clf_svm.predict(test_scaled)\n",
    "cm = confusion_matrix(y_test, y_pred_svm)\n",
    "\n",
    "# 클래스 레이블 정의\n",
    "LABELS = ['Young', 'Middle-aged', 'Old']\n",
    "\n",
    "# 혼돈 행렬 히트맵 시각화\n",
    "plt.figure(figsize=(8,6))\n",
    "sns.heatmap(cm, annot=True, fmt='d', cmap=\"YlGnBu\", xticklabels=LABELS, yticklabels=LABELS)\n",
    "plt.title('SVM Confusion Matrix')\n",
    "plt.xlabel('Predicted Label')\n",
    "plt.ylabel('True Label')\n",
    "plt.show()\n",
    "\n",
    "# 테스트 세트 정확도 출력\n",
    "print(\"\\n--- SVM Classifier ---\")\n",
    "print(f\"Test Accuracy: {accuracy_score(y_test, y_pred_svm)}\")\n",
    "\n",
    "# F1 스코어 계산 및 출력\n",
    "f1 = f1_score(y_test, y_pred_svm, average='macro')  # 'macro'는 각 클래스에 대한 평균을 의미함\n",
    "print(f\"Macro F1 Score: {f1}\")\n",
    "\n",
    "print(\"\\nClassification Report:\")\n",
    "print(classification_report(y_test, y_pred_svm, target_names=LABELS))"
   ]
  },
  {
   "cell_type": "code",
   "execution_count": 54,
   "id": "f25a5c8d-b0e8-4268-9f3b-6413fd50763c",
   "metadata": {},
   "outputs": [
    {
     "name": "stdout",
     "output_type": "stream",
     "text": [
      "Fitting 5 folds for each of 50 candidates, totalling 250 fits\n",
      "최적의 하이퍼파라미터:  {'C': 9.799098521619943, 'max_iter': 400, 'penalty': 'l2', 'solver': 'lbfgs'}\n",
      "최적의 정확도:  0.690790081423123\n"
     ]
    },
    {
     "name": "stderr",
     "output_type": "stream",
     "text": [
      "I:\\anaconda3\\envs\\test01\\lib\\site-packages\\sklearn\\model_selection\\_validation.py:547: FitFailedWarning: \n",
      "185 fits failed out of a total of 250.\n",
      "The score on these train-test partitions for these parameters will be set to nan.\n",
      "If these failures are not expected, you can try to debug them by setting error_score='raise'.\n",
      "\n",
      "Below are more details about the failures:\n",
      "--------------------------------------------------------------------------------\n",
      "15 fits failed with the following error:\n",
      "Traceback (most recent call last):\n",
      "  File \"I:\\anaconda3\\envs\\test01\\lib\\site-packages\\sklearn\\model_selection\\_validation.py\", line 895, in _fit_and_score\n",
      "    estimator.fit(X_train, y_train, **fit_params)\n",
      "  File \"I:\\anaconda3\\envs\\test01\\lib\\site-packages\\sklearn\\base.py\", line 1474, in wrapper\n",
      "    return fit_method(estimator, *args, **kwargs)\n",
      "  File \"I:\\anaconda3\\envs\\test01\\lib\\site-packages\\sklearn\\linear_model\\_logistic.py\", line 1182, in fit\n",
      "    raise ValueError(\"l1_ratio must be specified when penalty is elasticnet.\")\n",
      "ValueError: l1_ratio must be specified when penalty is elasticnet.\n",
      "\n",
      "--------------------------------------------------------------------------------\n",
      "20 fits failed with the following error:\n",
      "Traceback (most recent call last):\n",
      "  File \"I:\\anaconda3\\envs\\test01\\lib\\site-packages\\sklearn\\model_selection\\_validation.py\", line 895, in _fit_and_score\n",
      "    estimator.fit(X_train, y_train, **fit_params)\n",
      "  File \"I:\\anaconda3\\envs\\test01\\lib\\site-packages\\sklearn\\base.py\", line 1474, in wrapper\n",
      "    return fit_method(estimator, *args, **kwargs)\n",
      "  File \"I:\\anaconda3\\envs\\test01\\lib\\site-packages\\sklearn\\linear_model\\_logistic.py\", line 1172, in fit\n",
      "    solver = _check_solver(self.solver, self.penalty, self.dual)\n",
      "  File \"I:\\anaconda3\\envs\\test01\\lib\\site-packages\\sklearn\\linear_model\\_logistic.py\", line 67, in _check_solver\n",
      "    raise ValueError(\n",
      "ValueError: Solver lbfgs supports only 'l2' or None penalties, got elasticnet penalty.\n",
      "\n",
      "--------------------------------------------------------------------------------\n",
      "25 fits failed with the following error:\n",
      "Traceback (most recent call last):\n",
      "  File \"I:\\anaconda3\\envs\\test01\\lib\\site-packages\\sklearn\\model_selection\\_validation.py\", line 895, in _fit_and_score\n",
      "    estimator.fit(X_train, y_train, **fit_params)\n",
      "  File \"I:\\anaconda3\\envs\\test01\\lib\\site-packages\\sklearn\\base.py\", line 1474, in wrapper\n",
      "    return fit_method(estimator, *args, **kwargs)\n",
      "  File \"I:\\anaconda3\\envs\\test01\\lib\\site-packages\\sklearn\\linear_model\\_logistic.py\", line 1172, in fit\n",
      "    solver = _check_solver(self.solver, self.penalty, self.dual)\n",
      "  File \"I:\\anaconda3\\envs\\test01\\lib\\site-packages\\sklearn\\linear_model\\_logistic.py\", line 67, in _check_solver\n",
      "    raise ValueError(\n",
      "ValueError: Solver newton-cg supports only 'l2' or None penalties, got elasticnet penalty.\n",
      "\n",
      "--------------------------------------------------------------------------------\n",
      "35 fits failed with the following error:\n",
      "Traceback (most recent call last):\n",
      "  File \"I:\\anaconda3\\envs\\test01\\lib\\site-packages\\sklearn\\model_selection\\_validation.py\", line 895, in _fit_and_score\n",
      "    estimator.fit(X_train, y_train, **fit_params)\n",
      "  File \"I:\\anaconda3\\envs\\test01\\lib\\site-packages\\sklearn\\base.py\", line 1474, in wrapper\n",
      "    return fit_method(estimator, *args, **kwargs)\n",
      "  File \"I:\\anaconda3\\envs\\test01\\lib\\site-packages\\sklearn\\linear_model\\_logistic.py\", line 1172, in fit\n",
      "    solver = _check_solver(self.solver, self.penalty, self.dual)\n",
      "  File \"I:\\anaconda3\\envs\\test01\\lib\\site-packages\\sklearn\\linear_model\\_logistic.py\", line 67, in _check_solver\n",
      "    raise ValueError(\n",
      "ValueError: Solver newton-cg supports only 'l2' or None penalties, got l1 penalty.\n",
      "\n",
      "--------------------------------------------------------------------------------\n",
      "5 fits failed with the following error:\n",
      "Traceback (most recent call last):\n",
      "  File \"I:\\anaconda3\\envs\\test01\\lib\\site-packages\\sklearn\\model_selection\\_validation.py\", line 895, in _fit_and_score\n",
      "    estimator.fit(X_train, y_train, **fit_params)\n",
      "  File \"I:\\anaconda3\\envs\\test01\\lib\\site-packages\\sklearn\\base.py\", line 1467, in wrapper\n",
      "    estimator._validate_params()\n",
      "  File \"I:\\anaconda3\\envs\\test01\\lib\\site-packages\\sklearn\\base.py\", line 666, in _validate_params\n",
      "    validate_parameter_constraints(\n",
      "  File \"I:\\anaconda3\\envs\\test01\\lib\\site-packages\\sklearn\\utils\\_param_validation.py\", line 95, in validate_parameter_constraints\n",
      "    raise InvalidParameterError(\n",
      "sklearn.utils._param_validation.InvalidParameterError: The 'penalty' parameter of LogisticRegression must be a str among {'l2', 'l1', 'elasticnet'} or None. Got 'None' instead.\n",
      "\n",
      "--------------------------------------------------------------------------------\n",
      "17 fits failed with the following error:\n",
      "Traceback (most recent call last):\n",
      "  File \"I:\\anaconda3\\envs\\test01\\lib\\site-packages\\sklearn\\model_selection\\_validation.py\", line 895, in _fit_and_score\n",
      "    estimator.fit(X_train, y_train, **fit_params)\n",
      "  File \"I:\\anaconda3\\envs\\test01\\lib\\site-packages\\sklearn\\base.py\", line 1467, in wrapper\n",
      "    estimator._validate_params()\n",
      "  File \"I:\\anaconda3\\envs\\test01\\lib\\site-packages\\sklearn\\base.py\", line 666, in _validate_params\n",
      "    validate_parameter_constraints(\n",
      "  File \"I:\\anaconda3\\envs\\test01\\lib\\site-packages\\sklearn\\utils\\_param_validation.py\", line 95, in validate_parameter_constraints\n",
      "    raise InvalidParameterError(\n",
      "sklearn.utils._param_validation.InvalidParameterError: The 'penalty' parameter of LogisticRegression must be a str among {'l2', 'elasticnet', 'l1'} or None. Got 'None' instead.\n",
      "\n",
      "--------------------------------------------------------------------------------\n",
      "28 fits failed with the following error:\n",
      "Traceback (most recent call last):\n",
      "  File \"I:\\anaconda3\\envs\\test01\\lib\\site-packages\\sklearn\\model_selection\\_validation.py\", line 895, in _fit_and_score\n",
      "    estimator.fit(X_train, y_train, **fit_params)\n",
      "  File \"I:\\anaconda3\\envs\\test01\\lib\\site-packages\\sklearn\\base.py\", line 1467, in wrapper\n",
      "    estimator._validate_params()\n",
      "  File \"I:\\anaconda3\\envs\\test01\\lib\\site-packages\\sklearn\\base.py\", line 666, in _validate_params\n",
      "    validate_parameter_constraints(\n",
      "  File \"I:\\anaconda3\\envs\\test01\\lib\\site-packages\\sklearn\\utils\\_param_validation.py\", line 95, in validate_parameter_constraints\n",
      "    raise InvalidParameterError(\n",
      "sklearn.utils._param_validation.InvalidParameterError: The 'penalty' parameter of LogisticRegression must be a str among {'elasticnet', 'l2', 'l1'} or None. Got 'None' instead.\n",
      "\n",
      "--------------------------------------------------------------------------------\n",
      "2 fits failed with the following error:\n",
      "Traceback (most recent call last):\n",
      "  File \"I:\\anaconda3\\envs\\test01\\lib\\site-packages\\sklearn\\model_selection\\_validation.py\", line 895, in _fit_and_score\n",
      "    estimator.fit(X_train, y_train, **fit_params)\n",
      "  File \"I:\\anaconda3\\envs\\test01\\lib\\site-packages\\sklearn\\base.py\", line 1467, in wrapper\n",
      "    estimator._validate_params()\n",
      "  File \"I:\\anaconda3\\envs\\test01\\lib\\site-packages\\sklearn\\base.py\", line 666, in _validate_params\n",
      "    validate_parameter_constraints(\n",
      "  File \"I:\\anaconda3\\envs\\test01\\lib\\site-packages\\sklearn\\utils\\_param_validation.py\", line 95, in validate_parameter_constraints\n",
      "    raise InvalidParameterError(\n",
      "sklearn.utils._param_validation.InvalidParameterError: The 'penalty' parameter of LogisticRegression must be a str among {'elasticnet', 'l1', 'l2'} or None. Got 'None' instead.\n",
      "\n",
      "--------------------------------------------------------------------------------\n",
      "20 fits failed with the following error:\n",
      "Traceback (most recent call last):\n",
      "  File \"I:\\anaconda3\\envs\\test01\\lib\\site-packages\\sklearn\\model_selection\\_validation.py\", line 895, in _fit_and_score\n",
      "    estimator.fit(X_train, y_train, **fit_params)\n",
      "  File \"I:\\anaconda3\\envs\\test01\\lib\\site-packages\\sklearn\\base.py\", line 1474, in wrapper\n",
      "    return fit_method(estimator, *args, **kwargs)\n",
      "  File \"I:\\anaconda3\\envs\\test01\\lib\\site-packages\\sklearn\\linear_model\\_logistic.py\", line 1172, in fit\n",
      "    solver = _check_solver(self.solver, self.penalty, self.dual)\n",
      "  File \"I:\\anaconda3\\envs\\test01\\lib\\site-packages\\sklearn\\linear_model\\_logistic.py\", line 67, in _check_solver\n",
      "    raise ValueError(\n",
      "ValueError: Solver lbfgs supports only 'l2' or None penalties, got l1 penalty.\n",
      "\n",
      "--------------------------------------------------------------------------------\n",
      "18 fits failed with the following error:\n",
      "Traceback (most recent call last):\n",
      "  File \"I:\\anaconda3\\envs\\test01\\lib\\site-packages\\sklearn\\model_selection\\_validation.py\", line 895, in _fit_and_score\n",
      "    estimator.fit(X_train, y_train, **fit_params)\n",
      "  File \"I:\\anaconda3\\envs\\test01\\lib\\site-packages\\sklearn\\base.py\", line 1467, in wrapper\n",
      "    estimator._validate_params()\n",
      "  File \"I:\\anaconda3\\envs\\test01\\lib\\site-packages\\sklearn\\base.py\", line 666, in _validate_params\n",
      "    validate_parameter_constraints(\n",
      "  File \"I:\\anaconda3\\envs\\test01\\lib\\site-packages\\sklearn\\utils\\_param_validation.py\", line 95, in validate_parameter_constraints\n",
      "    raise InvalidParameterError(\n",
      "sklearn.utils._param_validation.InvalidParameterError: The 'penalty' parameter of LogisticRegression must be a str among {'l1', 'elasticnet', 'l2'} or None. Got 'None' instead.\n",
      "\n",
      "  warnings.warn(some_fits_failed_message, FitFailedWarning)\n",
      "I:\\anaconda3\\envs\\test01\\lib\\site-packages\\sklearn\\model_selection\\_search.py:1051: UserWarning: One or more of the test scores are non-finite: [       nan        nan        nan 0.69056046 0.69079008        nan\n",
      "        nan        nan        nan        nan        nan 0.68987133\n",
      "        nan 0.69010095        nan 0.69056046 0.68826267        nan\n",
      " 0.68964013 0.68918168        nan 0.68872217        nan        nan\n",
      "        nan        nan        nan        nan 0.69010095        nan\n",
      "        nan        nan 0.68941156        nan        nan        nan\n",
      "        nan        nan        nan        nan        nan        nan\n",
      "        nan        nan 0.68872217        nan        nan        nan\n",
      "        nan 0.68987081]\n",
      "  warnings.warn(\n"
     ]
    }
   ],
   "source": [
    "from sklearn.model_selection import RandomizedSearchCV\n",
    "from sklearn.linear_model import LogisticRegression\n",
    "from scipy.stats import uniform\n",
    "\n",
    "# 1. 하이퍼파라미터 범위 설정\n",
    "param_dist = {\n",
    "    'C': uniform(0.1, 10),  # C 값을 0.1부터 10까지 랜덤으로 선택\n",
    "    'penalty': ['l1', 'l2', 'elasticnet', 'None'],  # 규제 종류\n",
    "    'solver': ['newton-cg', 'lbfgs', 'saga'],  # 최적화 방법 선택 (l1과 elasticnet은 saga만 가능)\n",
    "    'max_iter': [100, 200, 300, 400, 500]  # 최대 반복 횟수 설정\n",
    "}\n",
    "\n",
    "# 2. RandomizedSearchCV 설정\n",
    "clf_lr = LogisticRegression(random_state=32)\n",
    "random_search = RandomizedSearchCV(estimator=clf_lr, param_distributions=param_dist, n_iter=50, cv=5, scoring='accuracy', n_jobs=-1, verbose=2, random_state=42)\n",
    "\n",
    "# 모델 학습 및 랜덤 서치 수행\n",
    "random_search.fit(train_scaled, y_train_resampled)\n",
    "\n",
    "# 최적의 하이퍼파라미터 출력\n",
    "print(\"최적의 하이퍼파라미터: \", random_search.best_params_)\n",
    "\n",
    "# 최적의 하이퍼파라미터로 평가된 평균 정확도 출력\n",
    "print(\"최적의 정확도: \", random_search.best_score_)"
   ]
  },
  {
   "cell_type": "code",
   "execution_count": 55,
   "id": "f37ebf08-f9cf-46cb-aaa2-5e0e7a4f3684",
   "metadata": {},
   "outputs": [
    {
     "name": "stdout",
     "output_type": "stream",
     "text": [
      "교차 검증 성능 (각 폴드): [0.68427095 0.67853042 0.70034443 0.69425287 0.69655172]\n",
      "평균 성능: 0.690790081423123\n"
     ]
    }
   ],
   "source": [
    "from sklearn.model_selection import cross_val_score\n",
    "\n",
    "# 3. 최적의 하이퍼파라미터로 모델 평가\n",
    "best_clf_lr = random_search.best_estimator_\n",
    "\n",
    "# K-Fold 교차 검증 (K=5)\n",
    "scores = cross_val_score(best_clf_lr, train_scaled, y_train_resampled, cv=5)\n",
    "\n",
    "# 각 폴드에서의 성능 및 평균 성능 출력\n",
    "print(\"교차 검증 성능 (각 폴드):\", scores)\n",
    "print(\"평균 성능:\", scores.mean())"
   ]
  },
  {
   "cell_type": "code",
   "execution_count": 56,
   "id": "fc123f54-3e64-44d4-b1ba-aef0413791cf",
   "metadata": {},
   "outputs": [
    {
     "data": {
      "image/png": "[encoded data removed]",
      "text/plain": [
       "<Figure size 640x480 with 1 Axes>"
      ]
     },
     "metadata": {},
     "output_type": "display_data"
    },
    {
     "name": "stdout",
     "output_type": "stream",
     "text": [
      "Mean accuracy across folds: 0.690790081423123\n"
     ]
    }
   ],
   "source": [
    "# 교차 검증 결과 시각화\n",
    "plt.plot(range(1, 6), scores, marker='o', linestyle='--')\n",
    "plt.title('LogisticRegression Cross-Validation Accuracy')\n",
    "plt.xlabel('Fold')\n",
    "plt.ylabel('Accuracy')\n",
    "plt.ylim([0.5, 1.0])\n",
    "plt.show()\n",
    "\n",
    "# 평균 정확도 출력\n",
    "print(f\"Mean accuracy across folds: {scores.mean()}\")"
   ]
  },
  {
   "cell_type": "code",
   "execution_count": 57,
   "id": "51abb411-bf12-4f62-b6df-b93f8caaae92",
   "metadata": {},
   "outputs": [
    {
     "data": {
      "image/png": "[encoded data removed]",
      "text/plain": [
       "<Figure size 800x600 with 2 Axes>"
      ]
     },
     "metadata": {},
     "output_type": "display_data"
    },
    {
     "name": "stdout",
     "output_type": "stream",
     "text": [
      "\n",
      "--- LogisticRegression Classifier ---\n",
      "Test Accuracy: 0.6634730538922156\n",
      "Macro F1 Score: 0.6610324795505275\n",
      "\n",
      "Classification Report:\n",
      "              precision    recall  f1-score   support\n",
      "\n",
      "       Young       0.66      0.57      0.61       359\n",
      " Middle-aged       0.60      0.63      0.62       199\n",
      "         Old       0.71      0.81      0.76       277\n",
      "\n",
      "    accuracy                           0.66       835\n",
      "   macro avg       0.66      0.67      0.66       835\n",
      "weighted avg       0.66      0.66      0.66       835\n",
      "\n"
     ]
    }
   ],
   "source": [
    "# 혼동 행렬 계산 및 시각화\n",
    "y_pred_lr = best_clf_lr.predict(test_scaled)\n",
    "cm = confusion_matrix(y_test, y_pred_lr)\n",
    "\n",
    "# 클래스 레이블 정의 (필요 시 클래스 레이블을 지정하세요)\n",
    "LABELS = ['Young', 'Middle-aged', 'Old']\n",
    "\n",
    "# 혼돈 행렬 히트맵 시각화\n",
    "plt.figure(figsize=(8,6))\n",
    "sns.heatmap(cm, annot=True, fmt='d', cmap=\"YlGnBu\", xticklabels=LABELS, yticklabels=LABELS)\n",
    "plt.title('LogisticRegression Confusion Matrix')\n",
    "plt.xlabel('Predicted Label')\n",
    "plt.ylabel('True Label')\n",
    "plt.show()\n",
    "\n",
    "# 테스트 세트 정확도 출력\n",
    "print(\"\\n--- LogisticRegression Classifier ---\")\n",
    "print(f\"Test Accuracy: {accuracy_score(y_test, y_pred_lr)}\")\n",
    "\n",
    "# F1 스코어 계산 및 출력\n",
    "f1 = f1_score(y_test, y_pred_lr, average='macro')  # 'macro'는 각 클래스에 대한 평균을 의미함\n",
    "print(f\"Macro F1 Score: {f1}\")\n",
    "\n",
    "# 각 클래스별 정밀도, 재현율, F1 스코어를 보고 싶다면 classification_report 사용\n",
    "print(\"\\nClassification Report:\")\n",
    "print(classification_report(y_test, y_pred_lr, target_names=LABELS))"
   ]
  },
  {
   "cell_type": "code",
   "execution_count": 58,
   "id": "eb886d28-c530-477e-b897-f8545b105281",
   "metadata": {},
   "outputs": [
    {
     "name": "stdout",
     "output_type": "stream",
     "text": [
      "Fitting 5 folds for each of 50 candidates, totalling 250 fits\n",
      "최적의 하이퍼파라미터:  {'max_depth': 10, 'min_samples_leaf': 10, 'min_samples_split': 10}\n",
      "최적의 교차 검증 정확도:  0.6669036778969871\n"
     ]
    }
   ],
   "source": [
    "from sklearn.metrics import accuracy_score, confusion_matrix, ConfusionMatrixDisplay\n",
    "from sklearn.model_selection import RandomizedSearchCV, cross_val_score\n",
    "from sklearn.tree import DecisionTreeClassifier\n",
    "from scipy.stats import randint\n",
    "import matplotlib.pyplot as plt\n",
    "import seaborn as sns\n",
    "\n",
    "# 1. 하이퍼파라미터 범위 설정\n",
    "param_dist = {\n",
    "    'max_depth': randint(3, 11),           # 트리 최대 깊이를 3부터 10까지 랜덤으로 선택\n",
    "    'min_samples_split': randint(2, 11),   # 노드를 분할하는 데 필요한 최소 샘플 수 (2부터 10까지)\n",
    "    'min_samples_leaf': randint(1, 11)     # 리프 노드에 필요한 최소 샘플 수 (1부터 10까지)\n",
    "}\n",
    "\n",
    "# 2. RandomizedSearchCV 설정\n",
    "clf_dt = DecisionTreeClassifier(random_state=32)\n",
    "random_search = RandomizedSearchCV(estimator=clf_dt, param_distributions=param_dist, n_iter=50, cv=5, scoring='accuracy', n_jobs=-1, verbose=2, random_state=42)\n",
    "\n",
    "# 3. 모델 학습 및 랜덤 서치 수행\n",
    "random_search.fit(train_scaled, y_train_resampled)\n",
    "\n",
    "# 최적의 하이퍼파라미터 출력\n",
    "print(\"최적의 하이퍼파라미터: \", random_search.best_params_)\n",
    "\n",
    "# 최적의 하이퍼파라미터로 평가된 평균 정확도 출력\n",
    "print(\"최적의 교차 검증 정확도: \", random_search.best_score_)"
   ]
  },
  {
   "cell_type": "code",
   "execution_count": 59,
   "id": "461fa303-3f96-42e8-b9f1-86d47b1a0884",
   "metadata": {},
   "outputs": [
    {
     "name": "stdout",
     "output_type": "stream",
     "text": [
      "교차 검증 성능 (각 폴드): [0.6532721  0.63030999 0.68541906 0.67011494 0.6954023 ]\n",
      "평균 교차 검증 성능: 0.6669036778969871\n"
     ]
    }
   ],
   "source": [
    "# 4. 최적의 모델을 best_clf_dt로 저장하고 K-Fold 교차 검증 (K=5)\n",
    "best_clf_dt = random_search.best_estimator_\n",
    "\n",
    "scores = cross_val_score(best_clf_dt, train_scaled, y_train_resampled, cv=5)\n",
    "\n",
    "# 각 폴드에서의 성능 및 평균 성능\n",
    "print(\"교차 검증 성능 (각 폴드):\", scores)\n",
    "print(\"평균 교차 검증 성능:\", scores.mean())"
   ]
  },
  {
   "cell_type": "code",
   "execution_count": 60,
   "id": "28cfe365-23e2-41b1-8786-a84ed381b895",
   "metadata": {},
   "outputs": [
    {
     "data": {
      "image/png": "[encoded data removed]",
      "text/plain": [
       "<Figure size 640x480 with 1 Axes>"
      ]
     },
     "metadata": {},
     "output_type": "display_data"
    }
   ],
   "source": [
    "# 교차 검증 결과 시각화\n",
    "plt.plot(range(1, 6), scores, marker='o', linestyle='--')\n",
    "plt.title('Decision Tree Cross-Validation Accuracy')\n",
    "plt.xlabel('Fold')\n",
    "plt.ylabel('Accuracy')\n",
    "plt.ylim([0.5, 1.0])\n",
    "plt.show()"
   ]
  },
  {
   "cell_type": "code",
   "execution_count": 61,
   "id": "6c04acf3-bd66-43bf-8a55-3117b87bea49",
   "metadata": {},
   "outputs": [
    {
     "data": {
      "image/png": "[encoded data removed]",
      "text/plain": [
       "<Figure size 800x600 with 2 Axes>"
      ]
     },
     "metadata": {},
     "output_type": "display_data"
    },
    {
     "name": "stdout",
     "output_type": "stream",
     "text": [
      "\n",
      "--- Decision Tree Classifier ---\n",
      "Test Accuracy: 0.6467065868263473\n",
      "Macro F1 Score: 0.6437345523027531\n",
      "\n",
      "Classification Report:\n",
      "              precision    recall  f1-score   support\n",
      "\n",
      "       Young       0.62      0.63      0.63       359\n",
      " Middle-aged       0.58      0.59      0.59       199\n",
      "         Old       0.73      0.71      0.72       277\n",
      "\n",
      "    accuracy                           0.65       835\n",
      "   macro avg       0.64      0.64      0.64       835\n",
      "weighted avg       0.65      0.65      0.65       835\n",
      "\n"
     ]
    }
   ],
   "source": [
    "# 테스트 데이터에 대한 예측\n",
    "y_pred_dt = best_clf_dt.predict(test_scaled)\n",
    "\n",
    "# 혼돈 행렬 계산 및 시각화\n",
    "cm = confusion_matrix(y_test, y_pred_dt)\n",
    "\n",
    "# 클래스 레이블 정의 \n",
    "LABELS = ['Young', 'Middle-aged', 'Old']\n",
    "\n",
    "# 혼돈 행렬 히트맵 시각화\n",
    "plt.figure(figsize=(8,6))\n",
    "sns.heatmap(cm, annot=True, fmt='d', cmap=\"YlGnBu\", xticklabels=LABELS, yticklabels=LABELS)\n",
    "plt.title('Decision Tree Confusion Matrix')\n",
    "plt.xlabel('Predicted Label')\n",
    "plt.ylabel('True Label')\n",
    "plt.show()\n",
    "\n",
    "# 테스트 세트 정확도 출력\n",
    "print(\"\\n--- Decision Tree Classifier ---\")\n",
    "print(f\"Test Accuracy: {accuracy_score(y_test, y_pred_dt)}\")\n",
    "\n",
    "# F1 스코어 계산 및 출력\n",
    "f1 = f1_score(y_test, y_pred_dt, average='macro')  # 'macro'는 각 클래스에 대한 평균을 의미함\n",
    "print(f\"Macro F1 Score: {f1}\")\n",
    "\n",
    "# 각 클래스별 정밀도, 재현율, F1 스코어를 보고 싶다면 classification_report 사용\n",
    "print(\"\\nClassification Report:\")\n",
    "print(classification_report(y_test, y_pred_dt, target_names=LABELS))"
   ]
  },
  {
   "cell_type": "code",
   "execution_count": 62,
   "id": "52c17616-2879-4af3-a5a3-2a5b9d364c18",
   "metadata": {},
   "outputs": [
    {
     "name": "stdout",
     "output_type": "stream",
     "text": [
      "Fitting 5 folds for each of 50 candidates, totalling 250 fits\n",
      "최적의 하이퍼파라미터:  {'bootstrap': False, 'max_depth': 18, 'min_samples_leaf': 3, 'min_samples_split': 5, 'n_estimators': 103}\n",
      "최적의 교차 검증 정확도:  0.7413444712775645\n"
     ]
    }
   ],
   "source": [
    "from sklearn.metrics import accuracy_score, confusion_matrix, ConfusionMatrixDisplay\n",
    "from sklearn.model_selection import RandomizedSearchCV, cross_val_score\n",
    "from sklearn.ensemble import RandomForestClassifier\n",
    "from scipy.stats import randint\n",
    "import matplotlib.pyplot as plt\n",
    "import seaborn as sns\n",
    "\n",
    "# 1. 하이퍼파라미터 범위 설정\n",
    "param_dist = {\n",
    "    'n_estimators': randint(50, 200),              # 트리 개수를 50부터 200까지 랜덤으로 선택\n",
    "    'max_depth': randint(3, 20),                   # 트리의 최대 깊이를 3부터 20까지 랜덤으로 선택\n",
    "    'min_samples_split': randint(2, 11),           # 노드를 분할하는 데 필요한 최소 샘플 수 (2부터 10까지)\n",
    "    'min_samples_leaf': randint(1, 11),            # 리프 노드에 필요한 최소 샘플 수 (1부터 10까지)\n",
    "    'bootstrap': [True, False]                     # 부트스트랩 방법 사용 여부\n",
    "}\n",
    "\n",
    "# 2. RandomizedSearchCV 설정\n",
    "clf_rf = RandomForestClassifier(random_state=32)\n",
    "random_search = RandomizedSearchCV(estimator=clf_rf, param_distributions=param_dist, n_iter=50, cv=5, scoring='accuracy', n_jobs=-1, verbose=2, random_state=42)\n",
    "\n",
    "# 3. 모델 학습 및 랜덤 서치 수행\n",
    "random_search.fit(train_scaled, y_train_resampled)\n",
    "\n",
    "# 최적의 하이퍼파라미터 출력\n",
    "print(\"최적의 하이퍼파라미터: \", random_search.best_params_)\n",
    "\n",
    "# 최적의 하이퍼파라미터로 평가된 평균 정확도 출력\n",
    "print(\"최적의 교차 검증 정확도: \", random_search.best_score_)"
   ]
  },
  {
   "cell_type": "code",
   "execution_count": 63,
   "id": "c92a1e9b-f803-49e8-87f5-c3486eff289c",
   "metadata": {},
   "outputs": [
    {
     "name": "stdout",
     "output_type": "stream",
     "text": [
      "교차 검증 성능 (각 폴드): [0.70952928 0.70723307 0.7347876  0.75057471 0.8045977 ]\n",
      "평균 교차 검증 성능: 0.7413444712775645\n"
     ]
    }
   ],
   "source": [
    "# 4. 최적의 모델을 best_clf_rf로 저장하고 K-Fold 교차 검증 (K=5)\n",
    "best_clf_rf = random_search.best_estimator_\n",
    "scores = cross_val_score(best_clf_rf, train_scaled, y_train_resampled, cv=5)\n",
    "\n",
    "# 각 폴드에서의 성능 및 평균 성능\n",
    "print(\"교차 검증 성능 (각 폴드):\", scores)\n",
    "print(\"평균 교차 검증 성능:\", scores.mean())"
   ]
  },
  {
   "cell_type": "code",
   "execution_count": 64,
   "id": "927661ba-8c09-42d4-b5e3-414af8be8983",
   "metadata": {},
   "outputs": [
    {
     "data": {
      "image/png": "[encoded data removed]",
      "text/plain": [
       "<Figure size 640x480 with 1 Axes>"
      ]
     },
     "metadata": {},
     "output_type": "display_data"
    }
   ],
   "source": [
    "# 교차 검증 결과 시각화\n",
    "plt.plot(range(1, 6), scores, marker='o', linestyle='--')\n",
    "plt.title('Random Forest Cross-Validation Accuracy')\n",
    "plt.xlabel('Fold')\n",
    "plt.ylabel('Accuracy')\n",
    "plt.ylim([0.5, 1.0])\n",
    "plt.show()"
   ]
  },
  {
   "cell_type": "code",
   "execution_count": 65,
   "id": "31827324-19a2-4f0d-ae53-b502c43c2596",
   "metadata": {},
   "outputs": [
    {
     "data": {
      "image/png": "[encoded data removed]",
      "text/plain": [
       "<Figure size 800x600 with 2 Axes>"
      ]
     },
     "metadata": {},
     "output_type": "display_data"
    },
    {
     "name": "stdout",
     "output_type": "stream",
     "text": [
      "\n",
      "--- Random Forest Classifier ---\n",
      "Test Accuracy: 0.6586826347305389\n",
      "Macro F1 Score: 0.6568922580700309\n",
      "\n",
      "Classification Report:\n",
      "              precision    recall  f1-score   support\n",
      "\n",
      "       Young       0.62      0.63      0.63       359\n",
      " Middle-aged       0.62      0.60      0.61       199\n",
      "         Old       0.74      0.74      0.74       277\n",
      "\n",
      "    accuracy                           0.66       835\n",
      "   macro avg       0.66      0.66      0.66       835\n",
      "weighted avg       0.66      0.66      0.66       835\n",
      "\n"
     ]
    }
   ],
   "source": [
    "# 테스트 데이터에 대한 예측\n",
    "y_pred_rf = best_clf_rf.predict(test_scaled)\n",
    "\n",
    "# 혼돈 행렬 계산 및 시각화\n",
    "cm = confusion_matrix(y_test, y_pred_rf)\n",
    "\n",
    "# 클래스 레이블 정의\n",
    "LABELS = ['Young', 'Middle-aged', 'Old']\n",
    "\n",
    "# 혼돈 행렬 히트맵 시각화\n",
    "plt.figure(figsize=(8,6))\n",
    "sns.heatmap(cm, annot=True, fmt='d', cmap=\"YlGnBu\", xticklabels=LABELS, yticklabels=LABELS)\n",
    "plt.title('Random Forest Confusion Matrix')\n",
    "plt.xlabel('Predicted Label')\n",
    "plt.ylabel('True Label')\n",
    "plt.show()\n",
    "\n",
    "# 테스트 세트 정확도 출력\n",
    "print(\"\\n--- Random Forest Classifier ---\")\n",
    "print(f\"Test Accuracy: {accuracy_score(y_test, y_pred_rf)}\")\n",
    "\n",
    "# F1 스코어 계산 및 출력\n",
    "f1 = f1_score(y_test, y_pred_rf, average='macro')  # 'macro'는 각 클래스에 대한 평균을 의미함\n",
    "print(f\"Macro F1 Score: {f1}\")\n",
    "\n",
    "# 각 클래스별 정밀도, 재현율, F1 스코어를 보고 싶다면 classification_report 사용\n",
    "print(\"\\nClassification Report:\")\n",
    "print(classification_report(y_test, y_pred_rf, target_names=LABELS))"
   ]
  },
  {
   "cell_type": "markdown",
   "id": "06054479-c205-420d-9918-8bf1e9817d66",
   "metadata": {},
   "source": [
    "## 결과 F1 score(macro avg) 변화\n",
    "- SVM: 0.67 > 0.66\n",
    "- LogisticRegression: 0.66 > 0.66\n",
    "- Decision Tree: 0.64 > 0.64\n",
    "- Random Forest: 0.65 > 0.66"
   ]
  }
 ],
 "metadata": {
  "kernelspec": {
   "display_name": "Python 3 (ipykernel)",
   "language": "python",
   "name": "python3"
  },
  "language_info": {
   "codemirror_mode": {
    "name": "ipython",
    "version": 3
   },
   "file_extension": ".py",
   "mimetype": "text/x-python",
   "name": "python",
   "nbconvert_exporter": "python",
   "pygments_lexer": "ipython3",
   "version": "3.10.13"
  }
 },
 "nbformat": 4,
 "nbformat_minor": 5
}
